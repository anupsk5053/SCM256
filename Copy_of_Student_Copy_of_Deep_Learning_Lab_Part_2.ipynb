{
  "cells": [
    {
      "cell_type": "markdown",
      "metadata": {
        "id": "9817aeda"
      },
      "source": [
        "# Introduction to Deep Learning Lab - Part II\n",
        "\n",
        "In the lab exercises today, you will:\n",
        "\n",
        "1.   Interpret learning curves and apply two key strategies (capacity and callbacks) to correct for **underfitting and overfitting**\n",
        "2.   Experiment with two kinds of special layers, not containing any neurons themselves, but instead adding functionality that can assist with model training: **dropout and batch normalization** \n",
        "3.   Apply a special loss function (cross-entropy), evaluation metric (accuracy) and activation function (sigmoid) for **binary classification**.\n",
        "\n",
        "When you are ready, run the code cells below to set everything up!\n"
      ],
      "id": "9817aeda"
    },
    {
      "cell_type": "markdown",
      "metadata": {
        "id": "hP7PyLxwf_Li"
      },
      "source": [
        "## Setting Up the Workspace"
      ],
      "id": "hP7PyLxwf_Li"
    },
    {
      "cell_type": "code",
      "execution_count": 18,
      "metadata": {
        "id": "BfFZSA5Hgsd-",
        "colab": {
          "base_uri": "https://localhost:8080/",
          "height": 36
        },
        "outputId": "c781d318-5e65-47e5-ec7b-435c686e1730"
      },
      "outputs": [
        {
          "output_type": "execute_result",
          "data": {
            "text/plain": [
              "'1.2.2'"
            ],
            "application/vnd.google.colaboratory.intrinsic+json": {
              "type": "string"
            }
          },
          "metadata": {},
          "execution_count": 18
        }
      ],
      "source": [
        "#!pip install sklearn\n",
        "import sklearn\n",
        "sklearn.__version__"
      ],
      "id": "BfFZSA5Hgsd-"
    },
    {
      "cell_type": "code",
      "execution_count": 19,
      "metadata": {
        "id": "trausIwpgPa2"
      },
      "outputs": [],
      "source": [
        "import pandas as pd\n",
        "import numpy as np\n",
        "\n",
        "from sklearn.preprocessing import MinMaxScaler, StandardScaler, OneHotEncoder, OrdinalEncoder\n",
        "from sklearn.impute import SimpleImputer\n",
        "from sklearn.pipeline import Pipeline, make_pipeline\n",
        "from sklearn.compose import make_column_transformer, make_column_selector\n",
        "from sklearn.model_selection import train_test_split\n",
        "from sklearn import set_config\n",
        "from IPython.display import display\n",
        "\n",
        "from sklearn.linear_model import LinearRegression\n",
        "import tensorflow as tf\n",
        "\n",
        "from tensorflow import keras\n",
        "from tensorflow.keras import layers\n",
        "from tensorflow.keras import callbacks\n",
        "\n",
        "import matplotlib as mpl\n",
        "import matplotlib.pyplot as plt\n",
        "from matplotlib import animation\n",
        "\n"
      ],
      "id": "trausIwpgPa2"
    },
    {
      "cell_type": "code",
      "execution_count": 20,
      "metadata": {
        "id": "9ef1a758",
        "colab": {
          "base_uri": "https://localhost:8080/"
        },
        "outputId": "703de5ab-fc90-4a3d-ceec-56d218f78e85"
      },
      "outputs": [
        {
          "output_type": "stream",
          "name": "stderr",
          "text": [
            "<ipython-input-20-e8fedecc2a49>:2: MatplotlibDeprecationWarning: The seaborn styles shipped by Matplotlib are deprecated since 3.6, as they no longer correspond to the styles shipped by seaborn. However, they will remain available as 'seaborn-v0_8-<style>'. Alternatively, directly use the seaborn API instead.\n",
            "  plt.style.use('seaborn-whitegrid')\n"
          ]
        }
      ],
      "source": [
        "# Setup plotting\n",
        "plt.style.use('seaborn-whitegrid')\n",
        "\n",
        "# Set Matplotlib defaults\n",
        "plt.rc('figure', autolayout=True)\n",
        "plt.rc('axes', labelweight='bold', labelsize='large',\n",
        "       titleweight='bold', titlesize=18, titlepad=10)"
      ],
      "id": "9ef1a758"
    },
    {
      "cell_type": "markdown",
      "metadata": {
        "id": "84daac70"
      },
      "source": [
        "## Loading the Data\n",
        "\n",
        "We will use the *BigMart* data again with the sales per SKU and per store. In the next few cells we will load the data and use the pipeline to preprocess the data. Just like we did in class before."
      ],
      "id": "84daac70"
    },
    {
      "cell_type": "code",
      "execution_count": 21,
      "metadata": {
        "id": "035fc9ba",
        "colab": {
          "base_uri": "https://localhost:8080/"
        },
        "outputId": "51a95feb-747b-4f07-d848-79d5ded25e49"
      },
      "outputs": [
        {
          "output_type": "execute_result",
          "data": {
            "text/plain": [
              "0    5517\n",
              "1    3006\n",
              "Name: Item_Fat_Content, dtype: int64"
            ]
          },
          "metadata": {},
          "execution_count": 21
        }
      ],
      "source": [
        "#import pandas as pd\n",
        "#import numpy as np\n",
        "\n",
        "df_sales = pd.read_csv('https://www.dropbox.com/s/yqaymhdf7bvvair/bigmart_sales_predictions.csv?dl=1')\n",
        "df_sales.head(5)\n",
        "\n",
        "#Remove columns we will not use today\n",
        "df_sales = df_sales.drop(columns=['Item_Identifier', 'Outlet_Identifier', 'Outlet_Establishment_Year'])\n",
        "\n",
        "#Normalize ItemFatContent\n",
        "df_sales['Item_Fat_Content'] = df_sales['Item_Fat_Content'].replace(\n",
        "    {'Low Fat': 0,\n",
        "     'LF': 0,\n",
        "     'low fat': 0,\n",
        "     'Regular': 1,\n",
        "     'reg': 1})\n",
        "df_sales['Item_Fat_Content'].value_counts()"
      ],
      "id": "035fc9ba"
    },
    {
      "cell_type": "markdown",
      "metadata": {
        "id": "rjPtrcn_htBQ"
      },
      "source": [
        "## Pre-processing Pipeline"
      ],
      "id": "rjPtrcn_htBQ"
    },
    {
      "cell_type": "code",
      "execution_count": 22,
      "metadata": {
        "id": "576515e7",
        "colab": {
          "base_uri": "https://localhost:8080/",
          "height": 151
        },
        "outputId": "82f2da7f-77ab-4201-a899-263ab8ba20a8"
      },
      "outputs": [
        {
          "output_type": "execute_result",
          "data": {
            "text/plain": [
              "ColumnTransformer(transformers=[('pipeline-1',\n",
              "                                 Pipeline(steps=[('simpleimputer',\n",
              "                                                  SimpleImputer(strategy='most_frequent')),\n",
              "                                                 ('onehotencoder',\n",
              "                                                  OneHotEncoder(handle_unknown='ignore',\n",
              "                                                                sparse_output=False))]),\n",
              "                                 ['Item_Type', 'Outlet_Location_Type',\n",
              "                                  'Outlet_Type']),\n",
              "                                ('pipeline-2',\n",
              "                                 Pipeline(steps=[('simpleimputer',\n",
              "                                                  SimpleImputer(fill_value='Missing',\n",
              "                                                                strategy='constant')),\n",
              "                                                 ('onehotencoder',\n",
              "                                                  OrdinalEncoder(categories=[['Missing',\n",
              "                                                                              'Small',\n",
              "                                                                              'Medium',\n",
              "                                                                              'High']]))]),\n",
              "                                 ['Outlet_Size']),\n",
              "                                ('pipeline-3',\n",
              "                                 Pipeline(steps=[('simpleimputer',\n",
              "                                                  SimpleImputer()),\n",
              "                                                 ('standardscaler',\n",
              "                                                  MinMaxScaler())]),\n",
              "                                 ['Item_Weight', 'Item_Fat_Content',\n",
              "                                  'Item_MRP'])],\n",
              "                  verbose_feature_names_out=False)"
            ],
            "text/html": [
              "<style>#sk-container-id-3 {color: black;background-color: white;}#sk-container-id-3 pre{padding: 0;}#sk-container-id-3 div.sk-toggleable {background-color: white;}#sk-container-id-3 label.sk-toggleable__label {cursor: pointer;display: block;width: 100%;margin-bottom: 0;padding: 0.3em;box-sizing: border-box;text-align: center;}#sk-container-id-3 label.sk-toggleable__label-arrow:before {content: \"▸\";float: left;margin-right: 0.25em;color: #696969;}#sk-container-id-3 label.sk-toggleable__label-arrow:hover:before {color: black;}#sk-container-id-3 div.sk-estimator:hover label.sk-toggleable__label-arrow:before {color: black;}#sk-container-id-3 div.sk-toggleable__content {max-height: 0;max-width: 0;overflow: hidden;text-align: left;background-color: #f0f8ff;}#sk-container-id-3 div.sk-toggleable__content pre {margin: 0.2em;color: black;border-radius: 0.25em;background-color: #f0f8ff;}#sk-container-id-3 input.sk-toggleable__control:checked~div.sk-toggleable__content {max-height: 200px;max-width: 100%;overflow: auto;}#sk-container-id-3 input.sk-toggleable__control:checked~label.sk-toggleable__label-arrow:before {content: \"▾\";}#sk-container-id-3 div.sk-estimator input.sk-toggleable__control:checked~label.sk-toggleable__label {background-color: #d4ebff;}#sk-container-id-3 div.sk-label input.sk-toggleable__control:checked~label.sk-toggleable__label {background-color: #d4ebff;}#sk-container-id-3 input.sk-hidden--visually {border: 0;clip: rect(1px 1px 1px 1px);clip: rect(1px, 1px, 1px, 1px);height: 1px;margin: -1px;overflow: hidden;padding: 0;position: absolute;width: 1px;}#sk-container-id-3 div.sk-estimator {font-family: monospace;background-color: #f0f8ff;border: 1px dotted black;border-radius: 0.25em;box-sizing: border-box;margin-bottom: 0.5em;}#sk-container-id-3 div.sk-estimator:hover {background-color: #d4ebff;}#sk-container-id-3 div.sk-parallel-item::after {content: \"\";width: 100%;border-bottom: 1px solid gray;flex-grow: 1;}#sk-container-id-3 div.sk-label:hover label.sk-toggleable__label {background-color: #d4ebff;}#sk-container-id-3 div.sk-serial::before {content: \"\";position: absolute;border-left: 1px solid gray;box-sizing: border-box;top: 0;bottom: 0;left: 50%;z-index: 0;}#sk-container-id-3 div.sk-serial {display: flex;flex-direction: column;align-items: center;background-color: white;padding-right: 0.2em;padding-left: 0.2em;position: relative;}#sk-container-id-3 div.sk-item {position: relative;z-index: 1;}#sk-container-id-3 div.sk-parallel {display: flex;align-items: stretch;justify-content: center;background-color: white;position: relative;}#sk-container-id-3 div.sk-item::before, #sk-container-id-3 div.sk-parallel-item::before {content: \"\";position: absolute;border-left: 1px solid gray;box-sizing: border-box;top: 0;bottom: 0;left: 50%;z-index: -1;}#sk-container-id-3 div.sk-parallel-item {display: flex;flex-direction: column;z-index: 1;position: relative;background-color: white;}#sk-container-id-3 div.sk-parallel-item:first-child::after {align-self: flex-end;width: 50%;}#sk-container-id-3 div.sk-parallel-item:last-child::after {align-self: flex-start;width: 50%;}#sk-container-id-3 div.sk-parallel-item:only-child::after {width: 0;}#sk-container-id-3 div.sk-dashed-wrapped {border: 1px dashed gray;margin: 0 0.4em 0.5em 0.4em;box-sizing: border-box;padding-bottom: 0.4em;background-color: white;}#sk-container-id-3 div.sk-label label {font-family: monospace;font-weight: bold;display: inline-block;line-height: 1.2em;}#sk-container-id-3 div.sk-label-container {text-align: center;}#sk-container-id-3 div.sk-container {/* jupyter's `normalize.less` sets `[hidden] { display: none; }` but bootstrap.min.css set `[hidden] { display: none !important; }` so we also need the `!important` here to be able to override the default hidden behavior on the sphinx rendered scikit-learn.org. See: https://github.com/scikit-learn/scikit-learn/issues/21755 */display: inline-block !important;position: relative;}#sk-container-id-3 div.sk-text-repr-fallback {display: none;}</style><div id=\"sk-container-id-3\" class=\"sk-top-container\"><div class=\"sk-text-repr-fallback\"><pre>ColumnTransformer(transformers=[(&#x27;pipeline-1&#x27;,\n",
              "                                 Pipeline(steps=[(&#x27;simpleimputer&#x27;,\n",
              "                                                  SimpleImputer(strategy=&#x27;most_frequent&#x27;)),\n",
              "                                                 (&#x27;onehotencoder&#x27;,\n",
              "                                                  OneHotEncoder(handle_unknown=&#x27;ignore&#x27;,\n",
              "                                                                sparse_output=False))]),\n",
              "                                 [&#x27;Item_Type&#x27;, &#x27;Outlet_Location_Type&#x27;,\n",
              "                                  &#x27;Outlet_Type&#x27;]),\n",
              "                                (&#x27;pipeline-2&#x27;,\n",
              "                                 Pipeline(steps=[(&#x27;simpleimputer&#x27;,\n",
              "                                                  SimpleImputer(fill_value=&#x27;Missing&#x27;,\n",
              "                                                                strategy=&#x27;constant&#x27;)),\n",
              "                                                 (&#x27;onehotencoder&#x27;,\n",
              "                                                  OrdinalEncoder(categories=[[&#x27;Missing&#x27;,\n",
              "                                                                              &#x27;Small&#x27;,\n",
              "                                                                              &#x27;Medium&#x27;,\n",
              "                                                                              &#x27;High&#x27;]]))]),\n",
              "                                 [&#x27;Outlet_Size&#x27;]),\n",
              "                                (&#x27;pipeline-3&#x27;,\n",
              "                                 Pipeline(steps=[(&#x27;simpleimputer&#x27;,\n",
              "                                                  SimpleImputer()),\n",
              "                                                 (&#x27;standardscaler&#x27;,\n",
              "                                                  MinMaxScaler())]),\n",
              "                                 [&#x27;Item_Weight&#x27;, &#x27;Item_Fat_Content&#x27;,\n",
              "                                  &#x27;Item_MRP&#x27;])],\n",
              "                  verbose_feature_names_out=False)</pre><b>In a Jupyter environment, please rerun this cell to show the HTML representation or trust the notebook. <br />On GitHub, the HTML representation is unable to render, please try loading this page with nbviewer.org.</b></div><div class=\"sk-container\" hidden><div class=\"sk-item sk-dashed-wrapped\"><div class=\"sk-label-container\"><div class=\"sk-label sk-toggleable\"><input class=\"sk-toggleable__control sk-hidden--visually\" id=\"sk-estimator-id-21\" type=\"checkbox\" ><label for=\"sk-estimator-id-21\" class=\"sk-toggleable__label sk-toggleable__label-arrow\">ColumnTransformer</label><div class=\"sk-toggleable__content\"><pre>ColumnTransformer(transformers=[(&#x27;pipeline-1&#x27;,\n",
              "                                 Pipeline(steps=[(&#x27;simpleimputer&#x27;,\n",
              "                                                  SimpleImputer(strategy=&#x27;most_frequent&#x27;)),\n",
              "                                                 (&#x27;onehotencoder&#x27;,\n",
              "                                                  OneHotEncoder(handle_unknown=&#x27;ignore&#x27;,\n",
              "                                                                sparse_output=False))]),\n",
              "                                 [&#x27;Item_Type&#x27;, &#x27;Outlet_Location_Type&#x27;,\n",
              "                                  &#x27;Outlet_Type&#x27;]),\n",
              "                                (&#x27;pipeline-2&#x27;,\n",
              "                                 Pipeline(steps=[(&#x27;simpleimputer&#x27;,\n",
              "                                                  SimpleImputer(fill_value=&#x27;Missing&#x27;,\n",
              "                                                                strategy=&#x27;constant&#x27;)),\n",
              "                                                 (&#x27;onehotencoder&#x27;,\n",
              "                                                  OrdinalEncoder(categories=[[&#x27;Missing&#x27;,\n",
              "                                                                              &#x27;Small&#x27;,\n",
              "                                                                              &#x27;Medium&#x27;,\n",
              "                                                                              &#x27;High&#x27;]]))]),\n",
              "                                 [&#x27;Outlet_Size&#x27;]),\n",
              "                                (&#x27;pipeline-3&#x27;,\n",
              "                                 Pipeline(steps=[(&#x27;simpleimputer&#x27;,\n",
              "                                                  SimpleImputer()),\n",
              "                                                 (&#x27;standardscaler&#x27;,\n",
              "                                                  MinMaxScaler())]),\n",
              "                                 [&#x27;Item_Weight&#x27;, &#x27;Item_Fat_Content&#x27;,\n",
              "                                  &#x27;Item_MRP&#x27;])],\n",
              "                  verbose_feature_names_out=False)</pre></div></div></div><div class=\"sk-parallel\"><div class=\"sk-parallel-item\"><div class=\"sk-item\"><div class=\"sk-label-container\"><div class=\"sk-label sk-toggleable\"><input class=\"sk-toggleable__control sk-hidden--visually\" id=\"sk-estimator-id-22\" type=\"checkbox\" ><label for=\"sk-estimator-id-22\" class=\"sk-toggleable__label sk-toggleable__label-arrow\">pipeline-1</label><div class=\"sk-toggleable__content\"><pre>[&#x27;Item_Type&#x27;, &#x27;Outlet_Location_Type&#x27;, &#x27;Outlet_Type&#x27;]</pre></div></div></div><div class=\"sk-serial\"><div class=\"sk-item\"><div class=\"sk-serial\"><div class=\"sk-item\"><div class=\"sk-estimator sk-toggleable\"><input class=\"sk-toggleable__control sk-hidden--visually\" id=\"sk-estimator-id-23\" type=\"checkbox\" ><label for=\"sk-estimator-id-23\" class=\"sk-toggleable__label sk-toggleable__label-arrow\">SimpleImputer</label><div class=\"sk-toggleable__content\"><pre>SimpleImputer(strategy=&#x27;most_frequent&#x27;)</pre></div></div></div><div class=\"sk-item\"><div class=\"sk-estimator sk-toggleable\"><input class=\"sk-toggleable__control sk-hidden--visually\" id=\"sk-estimator-id-24\" type=\"checkbox\" ><label for=\"sk-estimator-id-24\" class=\"sk-toggleable__label sk-toggleable__label-arrow\">OneHotEncoder</label><div class=\"sk-toggleable__content\"><pre>OneHotEncoder(handle_unknown=&#x27;ignore&#x27;, sparse_output=False)</pre></div></div></div></div></div></div></div></div><div class=\"sk-parallel-item\"><div class=\"sk-item\"><div class=\"sk-label-container\"><div class=\"sk-label sk-toggleable\"><input class=\"sk-toggleable__control sk-hidden--visually\" id=\"sk-estimator-id-25\" type=\"checkbox\" ><label for=\"sk-estimator-id-25\" class=\"sk-toggleable__label sk-toggleable__label-arrow\">pipeline-2</label><div class=\"sk-toggleable__content\"><pre>[&#x27;Outlet_Size&#x27;]</pre></div></div></div><div class=\"sk-serial\"><div class=\"sk-item\"><div class=\"sk-serial\"><div class=\"sk-item\"><div class=\"sk-estimator sk-toggleable\"><input class=\"sk-toggleable__control sk-hidden--visually\" id=\"sk-estimator-id-26\" type=\"checkbox\" ><label for=\"sk-estimator-id-26\" class=\"sk-toggleable__label sk-toggleable__label-arrow\">SimpleImputer</label><div class=\"sk-toggleable__content\"><pre>SimpleImputer(fill_value=&#x27;Missing&#x27;, strategy=&#x27;constant&#x27;)</pre></div></div></div><div class=\"sk-item\"><div class=\"sk-estimator sk-toggleable\"><input class=\"sk-toggleable__control sk-hidden--visually\" id=\"sk-estimator-id-27\" type=\"checkbox\" ><label for=\"sk-estimator-id-27\" class=\"sk-toggleable__label sk-toggleable__label-arrow\">OrdinalEncoder</label><div class=\"sk-toggleable__content\"><pre>OrdinalEncoder(categories=[[&#x27;Missing&#x27;, &#x27;Small&#x27;, &#x27;Medium&#x27;, &#x27;High&#x27;]])</pre></div></div></div></div></div></div></div></div><div class=\"sk-parallel-item\"><div class=\"sk-item\"><div class=\"sk-label-container\"><div class=\"sk-label sk-toggleable\"><input class=\"sk-toggleable__control sk-hidden--visually\" id=\"sk-estimator-id-28\" type=\"checkbox\" ><label for=\"sk-estimator-id-28\" class=\"sk-toggleable__label sk-toggleable__label-arrow\">pipeline-3</label><div class=\"sk-toggleable__content\"><pre>[&#x27;Item_Weight&#x27;, &#x27;Item_Fat_Content&#x27;, &#x27;Item_MRP&#x27;]</pre></div></div></div><div class=\"sk-serial\"><div class=\"sk-item\"><div class=\"sk-serial\"><div class=\"sk-item\"><div class=\"sk-estimator sk-toggleable\"><input class=\"sk-toggleable__control sk-hidden--visually\" id=\"sk-estimator-id-29\" type=\"checkbox\" ><label for=\"sk-estimator-id-29\" class=\"sk-toggleable__label sk-toggleable__label-arrow\">SimpleImputer</label><div class=\"sk-toggleable__content\"><pre>SimpleImputer()</pre></div></div></div><div class=\"sk-item\"><div class=\"sk-estimator sk-toggleable\"><input class=\"sk-toggleable__control sk-hidden--visually\" id=\"sk-estimator-id-30\" type=\"checkbox\" ><label for=\"sk-estimator-id-30\" class=\"sk-toggleable__label sk-toggleable__label-arrow\">MinMaxScaler</label><div class=\"sk-toggleable__content\"><pre>MinMaxScaler()</pre></div></div></div></div></div></div></div></div></div></div></div></div>"
            ]
          },
          "metadata": {},
          "execution_count": 22
        }
      ],
      "source": [
        "#from sklearn.preprocessing import MinMaxScaler, OneHotEncoder, OrdinalEncoder\n",
        "#from sklearn.compose import make_column_transformer, make_column_selector\n",
        "#from sklearn.pipeline import make_pipeline\n",
        "#from sklearn.model_selection import train_test_split\n",
        "#from sklearn.impute import SimpleImputer\n",
        "#from sklearn import set_config\n",
        "#from sklearn.pipeline import Pipeline\n",
        "\n",
        "#Establish each pipeline for differente feature types\n",
        "categorical_features = ['Item_Type','Outlet_Location_Type','Outlet_Type']\n",
        "cat_pipe = Pipeline(steps=[\n",
        "    ('simpleimputer', SimpleImputer(strategy='most_frequent')),\n",
        "    ('onehotencoder', OneHotEncoder(handle_unknown='ignore', sparse_output=False))])\n",
        "\n",
        "categorical_ordinal_features = ['Outlet_Size']\n",
        "cat_ord_pipe = Pipeline(steps=[\n",
        "    ('simpleimputer', SimpleImputer(strategy='constant', fill_value='Missing')),\n",
        "    ('onehotencoder', OrdinalEncoder(handle_unknown='error',\n",
        "                                     categories=[['Missing','Small','Medium','High']]))])\n",
        "\n",
        "num_features = ['Item_Weight','Item_Fat_Content','Item_MRP']\n",
        "num_pipe = Pipeline(steps=[\n",
        "    ('simpleimputer', SimpleImputer()),\n",
        "    ('standardscaler', MinMaxScaler())])\n",
        "\n",
        "#Create rail switch to correctly route each column to the correct pipel\n",
        "preprocessor = make_column_transformer(\n",
        "    (cat_pipe, categorical_features),\n",
        "    (cat_ord_pipe, categorical_ordinal_features),\n",
        "    (num_pipe, num_features), verbose_feature_names_out=False)\n",
        "preprocessor"
      ],
      "id": "576515e7"
    },
    {
      "cell_type": "markdown",
      "metadata": {
        "id": "CfQEYrAxjIOU"
      },
      "source": [
        "## Define Target, Features and Train-test Split"
      ],
      "id": "CfQEYrAxjIOU"
    },
    {
      "cell_type": "code",
      "execution_count": 23,
      "metadata": {
        "id": "eddeb6a6",
        "colab": {
          "base_uri": "https://localhost:8080/",
          "height": 143
        },
        "outputId": "802d403e-729c-4963-dfac-80d8d736e6f5"
      },
      "outputs": [
        {
          "output_type": "execute_result",
          "data": {
            "text/plain": [
              "      Item_Weight  Item_Fat_Content  Item_Visibility              Item_Type  \\\n",
              "7477        8.365                 0         0.120256            Hard Drinks   \n",
              "5089       13.650                 0         0.015944                 Breads   \n",
              "6992       14.300                 1         0.000000  Fruits and Vegetables   \n",
              "\n",
              "      Item_MRP Outlet_Size Outlet_Location_Type        Outlet_Type  \n",
              "7477   39.2506         NaN               Tier 3      Grocery Store  \n",
              "5089  231.9668         NaN               Tier 2  Supermarket Type1  \n",
              "6992   89.8856      Medium               Tier 3  Supermarket Type2  "
            ],
            "text/html": [
              "\n",
              "  <div id=\"df-4d350cac-1edf-486c-91c1-155fbb01250d\">\n",
              "    <div class=\"colab-df-container\">\n",
              "      <div>\n",
              "<style scoped>\n",
              "    .dataframe tbody tr th:only-of-type {\n",
              "        vertical-align: middle;\n",
              "    }\n",
              "\n",
              "    .dataframe tbody tr th {\n",
              "        vertical-align: top;\n",
              "    }\n",
              "\n",
              "    .dataframe thead th {\n",
              "        text-align: right;\n",
              "    }\n",
              "</style>\n",
              "<table border=\"1\" class=\"dataframe\">\n",
              "  <thead>\n",
              "    <tr style=\"text-align: right;\">\n",
              "      <th></th>\n",
              "      <th>Item_Weight</th>\n",
              "      <th>Item_Fat_Content</th>\n",
              "      <th>Item_Visibility</th>\n",
              "      <th>Item_Type</th>\n",
              "      <th>Item_MRP</th>\n",
              "      <th>Outlet_Size</th>\n",
              "      <th>Outlet_Location_Type</th>\n",
              "      <th>Outlet_Type</th>\n",
              "    </tr>\n",
              "  </thead>\n",
              "  <tbody>\n",
              "    <tr>\n",
              "      <th>7477</th>\n",
              "      <td>8.365</td>\n",
              "      <td>0</td>\n",
              "      <td>0.120256</td>\n",
              "      <td>Hard Drinks</td>\n",
              "      <td>39.2506</td>\n",
              "      <td>NaN</td>\n",
              "      <td>Tier 3</td>\n",
              "      <td>Grocery Store</td>\n",
              "    </tr>\n",
              "    <tr>\n",
              "      <th>5089</th>\n",
              "      <td>13.650</td>\n",
              "      <td>0</td>\n",
              "      <td>0.015944</td>\n",
              "      <td>Breads</td>\n",
              "      <td>231.9668</td>\n",
              "      <td>NaN</td>\n",
              "      <td>Tier 2</td>\n",
              "      <td>Supermarket Type1</td>\n",
              "    </tr>\n",
              "    <tr>\n",
              "      <th>6992</th>\n",
              "      <td>14.300</td>\n",
              "      <td>1</td>\n",
              "      <td>0.000000</td>\n",
              "      <td>Fruits and Vegetables</td>\n",
              "      <td>89.8856</td>\n",
              "      <td>Medium</td>\n",
              "      <td>Tier 3</td>\n",
              "      <td>Supermarket Type2</td>\n",
              "    </tr>\n",
              "  </tbody>\n",
              "</table>\n",
              "</div>\n",
              "      <button class=\"colab-df-convert\" onclick=\"convertToInteractive('df-4d350cac-1edf-486c-91c1-155fbb01250d')\"\n",
              "              title=\"Convert this dataframe to an interactive table.\"\n",
              "              style=\"display:none;\">\n",
              "        \n",
              "  <svg xmlns=\"http://www.w3.org/2000/svg\" height=\"24px\"viewBox=\"0 0 24 24\"\n",
              "       width=\"24px\">\n",
              "    <path d=\"M0 0h24v24H0V0z\" fill=\"none\"/>\n",
              "    <path d=\"M18.56 5.44l.94 2.06.94-2.06 2.06-.94-2.06-.94-.94-2.06-.94 2.06-2.06.94zm-11 1L8.5 8.5l.94-2.06 2.06-.94-2.06-.94L8.5 2.5l-.94 2.06-2.06.94zm10 10l.94 2.06.94-2.06 2.06-.94-2.06-.94-.94-2.06-.94 2.06-2.06.94z\"/><path d=\"M17.41 7.96l-1.37-1.37c-.4-.4-.92-.59-1.43-.59-.52 0-1.04.2-1.43.59L10.3 9.45l-7.72 7.72c-.78.78-.78 2.05 0 2.83L4 21.41c.39.39.9.59 1.41.59.51 0 1.02-.2 1.41-.59l7.78-7.78 2.81-2.81c.8-.78.8-2.07 0-2.86zM5.41 20L4 18.59l7.72-7.72 1.47 1.35L5.41 20z\"/>\n",
              "  </svg>\n",
              "      </button>\n",
              "      \n",
              "  <style>\n",
              "    .colab-df-container {\n",
              "      display:flex;\n",
              "      flex-wrap:wrap;\n",
              "      gap: 12px;\n",
              "    }\n",
              "\n",
              "    .colab-df-convert {\n",
              "      background-color: #E8F0FE;\n",
              "      border: none;\n",
              "      border-radius: 50%;\n",
              "      cursor: pointer;\n",
              "      display: none;\n",
              "      fill: #1967D2;\n",
              "      height: 32px;\n",
              "      padding: 0 0 0 0;\n",
              "      width: 32px;\n",
              "    }\n",
              "\n",
              "    .colab-df-convert:hover {\n",
              "      background-color: #E2EBFA;\n",
              "      box-shadow: 0px 1px 2px rgba(60, 64, 67, 0.3), 0px 1px 3px 1px rgba(60, 64, 67, 0.15);\n",
              "      fill: #174EA6;\n",
              "    }\n",
              "\n",
              "    [theme=dark] .colab-df-convert {\n",
              "      background-color: #3B4455;\n",
              "      fill: #D2E3FC;\n",
              "    }\n",
              "\n",
              "    [theme=dark] .colab-df-convert:hover {\n",
              "      background-color: #434B5C;\n",
              "      box-shadow: 0px 1px 3px 1px rgba(0, 0, 0, 0.15);\n",
              "      filter: drop-shadow(0px 1px 2px rgba(0, 0, 0, 0.3));\n",
              "      fill: #FFFFFF;\n",
              "    }\n",
              "  </style>\n",
              "\n",
              "      <script>\n",
              "        const buttonEl =\n",
              "          document.querySelector('#df-4d350cac-1edf-486c-91c1-155fbb01250d button.colab-df-convert');\n",
              "        buttonEl.style.display =\n",
              "          google.colab.kernel.accessAllowed ? 'block' : 'none';\n",
              "\n",
              "        async function convertToInteractive(key) {\n",
              "          const element = document.querySelector('#df-4d350cac-1edf-486c-91c1-155fbb01250d');\n",
              "          const dataTable =\n",
              "            await google.colab.kernel.invokeFunction('convertToInteractive',\n",
              "                                                     [key], {});\n",
              "          if (!dataTable) return;\n",
              "\n",
              "          const docLinkHtml = 'Like what you see? Visit the ' +\n",
              "            '<a target=\"_blank\" href=https://colab.research.google.com/notebooks/data_table.ipynb>data table notebook</a>'\n",
              "            + ' to learn more about interactive tables.';\n",
              "          element.innerHTML = '';\n",
              "          dataTable['output_type'] = 'display_data';\n",
              "          await google.colab.output.renderOutput(dataTable, element);\n",
              "          const docLink = document.createElement('div');\n",
              "          docLink.innerHTML = docLinkHtml;\n",
              "          element.appendChild(docLink);\n",
              "        }\n",
              "      </script>\n",
              "    </div>\n",
              "  </div>\n",
              "  "
            ]
          },
          "metadata": {},
          "execution_count": 23
        }
      ],
      "source": [
        "target = \"Item_Outlet_Sales\"\n",
        "y = df_sales[target].copy()\n",
        "X = df_sales.drop(columns=[target]).copy()\n",
        "\n",
        "X_train, X_test, y_train, y_test = train_test_split(X, y, random_state=123) #default is 80/20\n",
        "X_train.head(3)"
      ],
      "id": "eddeb6a6"
    },
    {
      "cell_type": "code",
      "execution_count": 24,
      "metadata": {
        "id": "f5012ed4",
        "colab": {
          "base_uri": "https://localhost:8080/",
          "height": 505
        },
        "outputId": "ce3a92bb-7924-4eed-8014-95cf58535d31"
      },
      "outputs": [
        {
          "output_type": "display_data",
          "data": {
            "text/plain": [
              "      Item_Type_Baking Goods  Item_Type_Breads  Item_Type_Breakfast  \\\n",
              "7477                     0.0               0.0                  0.0   \n",
              "5089                     0.0               1.0                  0.0   \n",
              "6992                     0.0               0.0                  0.0   \n",
              "6264                     0.0               0.0                  0.0   \n",
              "4374                     0.0               0.0                  0.0   \n",
              "...                      ...               ...                  ...   \n",
              "7382                     0.0               0.0                  0.0   \n",
              "7763                     0.0               0.0                  0.0   \n",
              "5218                     0.0               0.0                  0.0   \n",
              "1346                     1.0               0.0                  0.0   \n",
              "3582                     0.0               0.0                  0.0   \n",
              "\n",
              "      Item_Type_Canned  Item_Type_Dairy  Item_Type_Frozen Foods  \\\n",
              "7477               0.0              0.0                     0.0   \n",
              "5089               0.0              0.0                     0.0   \n",
              "6992               0.0              0.0                     0.0   \n",
              "6264               0.0              0.0                     0.0   \n",
              "4374               0.0              1.0                     0.0   \n",
              "...                ...              ...                     ...   \n",
              "7382               0.0              0.0                     0.0   \n",
              "7763               0.0              0.0                     0.0   \n",
              "5218               0.0              0.0                     0.0   \n",
              "1346               0.0              0.0                     0.0   \n",
              "3582               0.0              0.0                     0.0   \n",
              "\n",
              "      Item_Type_Fruits and Vegetables  Item_Type_Hard Drinks  \\\n",
              "7477                              0.0                    1.0   \n",
              "5089                              0.0                    0.0   \n",
              "6992                              1.0                    0.0   \n",
              "6264                              0.0                    0.0   \n",
              "4374                              0.0                    0.0   \n",
              "...                               ...                    ...   \n",
              "7382                              0.0                    0.0   \n",
              "7763                              0.0                    0.0   \n",
              "5218                              0.0                    0.0   \n",
              "1346                              0.0                    0.0   \n",
              "3582                              1.0                    0.0   \n",
              "\n",
              "      Item_Type_Health and Hygiene  Item_Type_Household  ...  \\\n",
              "7477                           0.0                  0.0  ...   \n",
              "5089                           0.0                  0.0  ...   \n",
              "6992                           0.0                  0.0  ...   \n",
              "6264                           1.0                  0.0  ...   \n",
              "4374                           0.0                  0.0  ...   \n",
              "...                            ...                  ...  ...   \n",
              "7382                           0.0                  0.0  ...   \n",
              "7763                           0.0                  0.0  ...   \n",
              "5218                           0.0                  0.0  ...   \n",
              "1346                           0.0                  0.0  ...   \n",
              "3582                           0.0                  0.0  ...   \n",
              "\n",
              "      Outlet_Location_Type_Tier 2  Outlet_Location_Type_Tier 3  \\\n",
              "7477                          0.0                          1.0   \n",
              "5089                          1.0                          0.0   \n",
              "6992                          0.0                          1.0   \n",
              "6264                          0.0                          0.0   \n",
              "4374                          1.0                          0.0   \n",
              "...                           ...                          ...   \n",
              "7382                          0.0                          1.0   \n",
              "7763                          0.0                          0.0   \n",
              "5218                          0.0                          1.0   \n",
              "1346                          0.0                          1.0   \n",
              "3582                          0.0                          1.0   \n",
              "\n",
              "      Outlet_Type_Grocery Store  Outlet_Type_Supermarket Type1  \\\n",
              "7477                        1.0                            0.0   \n",
              "5089                        0.0                            1.0   \n",
              "6992                        0.0                            0.0   \n",
              "6264                        0.0                            1.0   \n",
              "4374                        0.0                            1.0   \n",
              "...                         ...                            ...   \n",
              "7382                        0.0                            0.0   \n",
              "7763                        1.0                            0.0   \n",
              "5218                        0.0                            1.0   \n",
              "1346                        0.0                            0.0   \n",
              "3582                        0.0                            0.0   \n",
              "\n",
              "      Outlet_Type_Supermarket Type2  Outlet_Type_Supermarket Type3  \\\n",
              "7477                            0.0                            0.0   \n",
              "5089                            0.0                            0.0   \n",
              "6992                            1.0                            0.0   \n",
              "6264                            0.0                            0.0   \n",
              "4374                            0.0                            0.0   \n",
              "...                             ...                            ...   \n",
              "7382                            1.0                            0.0   \n",
              "7763                            0.0                            0.0   \n",
              "5218                            0.0                            0.0   \n",
              "1346                            1.0                            0.0   \n",
              "3582                            1.0                            0.0   \n",
              "\n",
              "      Outlet_Size  Item_Weight  Item_Fat_Content  Item_MRP  \n",
              "7477          0.0     0.226853               0.0  0.033789  \n",
              "5089          0.0     0.541530               0.0  0.851775  \n",
              "6992          2.0     0.580232               1.0  0.248710  \n",
              "6264          2.0     0.464126               0.0  0.014990  \n",
              "4374          0.0     0.108663               0.0  0.622858  \n",
              "...           ...          ...               ...       ...  \n",
              "7382          2.0     0.836261               0.0  0.548958  \n",
              "7763          1.0     0.494984               0.0  0.020072  \n",
              "5218          3.0     0.081274               1.0  0.080982  \n",
              "1346          2.0     0.657636               0.0  0.341956  \n",
              "3582          2.0     0.520691               1.0  0.120814  \n",
              "\n",
              "[6392 rows x 27 columns]"
            ],
            "text/html": [
              "\n",
              "  <div id=\"df-165a409f-bca2-492b-b25f-1c2953c33703\">\n",
              "    <div class=\"colab-df-container\">\n",
              "      <div>\n",
              "<style scoped>\n",
              "    .dataframe tbody tr th:only-of-type {\n",
              "        vertical-align: middle;\n",
              "    }\n",
              "\n",
              "    .dataframe tbody tr th {\n",
              "        vertical-align: top;\n",
              "    }\n",
              "\n",
              "    .dataframe thead th {\n",
              "        text-align: right;\n",
              "    }\n",
              "</style>\n",
              "<table border=\"1\" class=\"dataframe\">\n",
              "  <thead>\n",
              "    <tr style=\"text-align: right;\">\n",
              "      <th></th>\n",
              "      <th>Item_Type_Baking Goods</th>\n",
              "      <th>Item_Type_Breads</th>\n",
              "      <th>Item_Type_Breakfast</th>\n",
              "      <th>Item_Type_Canned</th>\n",
              "      <th>Item_Type_Dairy</th>\n",
              "      <th>Item_Type_Frozen Foods</th>\n",
              "      <th>Item_Type_Fruits and Vegetables</th>\n",
              "      <th>Item_Type_Hard Drinks</th>\n",
              "      <th>Item_Type_Health and Hygiene</th>\n",
              "      <th>Item_Type_Household</th>\n",
              "      <th>...</th>\n",
              "      <th>Outlet_Location_Type_Tier 2</th>\n",
              "      <th>Outlet_Location_Type_Tier 3</th>\n",
              "      <th>Outlet_Type_Grocery Store</th>\n",
              "      <th>Outlet_Type_Supermarket Type1</th>\n",
              "      <th>Outlet_Type_Supermarket Type2</th>\n",
              "      <th>Outlet_Type_Supermarket Type3</th>\n",
              "      <th>Outlet_Size</th>\n",
              "      <th>Item_Weight</th>\n",
              "      <th>Item_Fat_Content</th>\n",
              "      <th>Item_MRP</th>\n",
              "    </tr>\n",
              "  </thead>\n",
              "  <tbody>\n",
              "    <tr>\n",
              "      <th>7477</th>\n",
              "      <td>0.0</td>\n",
              "      <td>0.0</td>\n",
              "      <td>0.0</td>\n",
              "      <td>0.0</td>\n",
              "      <td>0.0</td>\n",
              "      <td>0.0</td>\n",
              "      <td>0.0</td>\n",
              "      <td>1.0</td>\n",
              "      <td>0.0</td>\n",
              "      <td>0.0</td>\n",
              "      <td>...</td>\n",
              "      <td>0.0</td>\n",
              "      <td>1.0</td>\n",
              "      <td>1.0</td>\n",
              "      <td>0.0</td>\n",
              "      <td>0.0</td>\n",
              "      <td>0.0</td>\n",
              "      <td>0.0</td>\n",
              "      <td>0.226853</td>\n",
              "      <td>0.0</td>\n",
              "      <td>0.033789</td>\n",
              "    </tr>\n",
              "    <tr>\n",
              "      <th>5089</th>\n",
              "      <td>0.0</td>\n",
              "      <td>1.0</td>\n",
              "      <td>0.0</td>\n",
              "      <td>0.0</td>\n",
              "      <td>0.0</td>\n",
              "      <td>0.0</td>\n",
              "      <td>0.0</td>\n",
              "      <td>0.0</td>\n",
              "      <td>0.0</td>\n",
              "      <td>0.0</td>\n",
              "      <td>...</td>\n",
              "      <td>1.0</td>\n",
              "      <td>0.0</td>\n",
              "      <td>0.0</td>\n",
              "      <td>1.0</td>\n",
              "      <td>0.0</td>\n",
              "      <td>0.0</td>\n",
              "      <td>0.0</td>\n",
              "      <td>0.541530</td>\n",
              "      <td>0.0</td>\n",
              "      <td>0.851775</td>\n",
              "    </tr>\n",
              "    <tr>\n",
              "      <th>6992</th>\n",
              "      <td>0.0</td>\n",
              "      <td>0.0</td>\n",
              "      <td>0.0</td>\n",
              "      <td>0.0</td>\n",
              "      <td>0.0</td>\n",
              "      <td>0.0</td>\n",
              "      <td>1.0</td>\n",
              "      <td>0.0</td>\n",
              "      <td>0.0</td>\n",
              "      <td>0.0</td>\n",
              "      <td>...</td>\n",
              "      <td>0.0</td>\n",
              "      <td>1.0</td>\n",
              "      <td>0.0</td>\n",
              "      <td>0.0</td>\n",
              "      <td>1.0</td>\n",
              "      <td>0.0</td>\n",
              "      <td>2.0</td>\n",
              "      <td>0.580232</td>\n",
              "      <td>1.0</td>\n",
              "      <td>0.248710</td>\n",
              "    </tr>\n",
              "    <tr>\n",
              "      <th>6264</th>\n",
              "      <td>0.0</td>\n",
              "      <td>0.0</td>\n",
              "      <td>0.0</td>\n",
              "      <td>0.0</td>\n",
              "      <td>0.0</td>\n",
              "      <td>0.0</td>\n",
              "      <td>0.0</td>\n",
              "      <td>0.0</td>\n",
              "      <td>1.0</td>\n",
              "      <td>0.0</td>\n",
              "      <td>...</td>\n",
              "      <td>0.0</td>\n",
              "      <td>0.0</td>\n",
              "      <td>0.0</td>\n",
              "      <td>1.0</td>\n",
              "      <td>0.0</td>\n",
              "      <td>0.0</td>\n",
              "      <td>2.0</td>\n",
              "      <td>0.464126</td>\n",
              "      <td>0.0</td>\n",
              "      <td>0.014990</td>\n",
              "    </tr>\n",
              "    <tr>\n",
              "      <th>4374</th>\n",
              "      <td>0.0</td>\n",
              "      <td>0.0</td>\n",
              "      <td>0.0</td>\n",
              "      <td>0.0</td>\n",
              "      <td>1.0</td>\n",
              "      <td>0.0</td>\n",
              "      <td>0.0</td>\n",
              "      <td>0.0</td>\n",
              "      <td>0.0</td>\n",
              "      <td>0.0</td>\n",
              "      <td>...</td>\n",
              "      <td>1.0</td>\n",
              "      <td>0.0</td>\n",
              "      <td>0.0</td>\n",
              "      <td>1.0</td>\n",
              "      <td>0.0</td>\n",
              "      <td>0.0</td>\n",
              "      <td>0.0</td>\n",
              "      <td>0.108663</td>\n",
              "      <td>0.0</td>\n",
              "      <td>0.622858</td>\n",
              "    </tr>\n",
              "    <tr>\n",
              "      <th>...</th>\n",
              "      <td>...</td>\n",
              "      <td>...</td>\n",
              "      <td>...</td>\n",
              "      <td>...</td>\n",
              "      <td>...</td>\n",
              "      <td>...</td>\n",
              "      <td>...</td>\n",
              "      <td>...</td>\n",
              "      <td>...</td>\n",
              "      <td>...</td>\n",
              "      <td>...</td>\n",
              "      <td>...</td>\n",
              "      <td>...</td>\n",
              "      <td>...</td>\n",
              "      <td>...</td>\n",
              "      <td>...</td>\n",
              "      <td>...</td>\n",
              "      <td>...</td>\n",
              "      <td>...</td>\n",
              "      <td>...</td>\n",
              "      <td>...</td>\n",
              "    </tr>\n",
              "    <tr>\n",
              "      <th>7382</th>\n",
              "      <td>0.0</td>\n",
              "      <td>0.0</td>\n",
              "      <td>0.0</td>\n",
              "      <td>0.0</td>\n",
              "      <td>0.0</td>\n",
              "      <td>0.0</td>\n",
              "      <td>0.0</td>\n",
              "      <td>0.0</td>\n",
              "      <td>0.0</td>\n",
              "      <td>0.0</td>\n",
              "      <td>...</td>\n",
              "      <td>0.0</td>\n",
              "      <td>1.0</td>\n",
              "      <td>0.0</td>\n",
              "      <td>0.0</td>\n",
              "      <td>1.0</td>\n",
              "      <td>0.0</td>\n",
              "      <td>2.0</td>\n",
              "      <td>0.836261</td>\n",
              "      <td>0.0</td>\n",
              "      <td>0.548958</td>\n",
              "    </tr>\n",
              "    <tr>\n",
              "      <th>7763</th>\n",
              "      <td>0.0</td>\n",
              "      <td>0.0</td>\n",
              "      <td>0.0</td>\n",
              "      <td>0.0</td>\n",
              "      <td>0.0</td>\n",
              "      <td>0.0</td>\n",
              "      <td>0.0</td>\n",
              "      <td>0.0</td>\n",
              "      <td>0.0</td>\n",
              "      <td>0.0</td>\n",
              "      <td>...</td>\n",
              "      <td>0.0</td>\n",
              "      <td>0.0</td>\n",
              "      <td>1.0</td>\n",
              "      <td>0.0</td>\n",
              "      <td>0.0</td>\n",
              "      <td>0.0</td>\n",
              "      <td>1.0</td>\n",
              "      <td>0.494984</td>\n",
              "      <td>0.0</td>\n",
              "      <td>0.020072</td>\n",
              "    </tr>\n",
              "    <tr>\n",
              "      <th>5218</th>\n",
              "      <td>0.0</td>\n",
              "      <td>0.0</td>\n",
              "      <td>0.0</td>\n",
              "      <td>0.0</td>\n",
              "      <td>0.0</td>\n",
              "      <td>0.0</td>\n",
              "      <td>0.0</td>\n",
              "      <td>0.0</td>\n",
              "      <td>0.0</td>\n",
              "      <td>0.0</td>\n",
              "      <td>...</td>\n",
              "      <td>0.0</td>\n",
              "      <td>1.0</td>\n",
              "      <td>0.0</td>\n",
              "      <td>1.0</td>\n",
              "      <td>0.0</td>\n",
              "      <td>0.0</td>\n",
              "      <td>3.0</td>\n",
              "      <td>0.081274</td>\n",
              "      <td>1.0</td>\n",
              "      <td>0.080982</td>\n",
              "    </tr>\n",
              "    <tr>\n",
              "      <th>1346</th>\n",
              "      <td>1.0</td>\n",
              "      <td>0.0</td>\n",
              "      <td>0.0</td>\n",
              "      <td>0.0</td>\n",
              "      <td>0.0</td>\n",
              "      <td>0.0</td>\n",
              "      <td>0.0</td>\n",
              "      <td>0.0</td>\n",
              "      <td>0.0</td>\n",
              "      <td>0.0</td>\n",
              "      <td>...</td>\n",
              "      <td>0.0</td>\n",
              "      <td>1.0</td>\n",
              "      <td>0.0</td>\n",
              "      <td>0.0</td>\n",
              "      <td>1.0</td>\n",
              "      <td>0.0</td>\n",
              "      <td>2.0</td>\n",
              "      <td>0.657636</td>\n",
              "      <td>0.0</td>\n",
              "      <td>0.341956</td>\n",
              "    </tr>\n",
              "    <tr>\n",
              "      <th>3582</th>\n",
              "      <td>0.0</td>\n",
              "      <td>0.0</td>\n",
              "      <td>0.0</td>\n",
              "      <td>0.0</td>\n",
              "      <td>0.0</td>\n",
              "      <td>0.0</td>\n",
              "      <td>1.0</td>\n",
              "      <td>0.0</td>\n",
              "      <td>0.0</td>\n",
              "      <td>0.0</td>\n",
              "      <td>...</td>\n",
              "      <td>0.0</td>\n",
              "      <td>1.0</td>\n",
              "      <td>0.0</td>\n",
              "      <td>0.0</td>\n",
              "      <td>1.0</td>\n",
              "      <td>0.0</td>\n",
              "      <td>2.0</td>\n",
              "      <td>0.520691</td>\n",
              "      <td>1.0</td>\n",
              "      <td>0.120814</td>\n",
              "    </tr>\n",
              "  </tbody>\n",
              "</table>\n",
              "<p>6392 rows × 27 columns</p>\n",
              "</div>\n",
              "      <button class=\"colab-df-convert\" onclick=\"convertToInteractive('df-165a409f-bca2-492b-b25f-1c2953c33703')\"\n",
              "              title=\"Convert this dataframe to an interactive table.\"\n",
              "              style=\"display:none;\">\n",
              "        \n",
              "  <svg xmlns=\"http://www.w3.org/2000/svg\" height=\"24px\"viewBox=\"0 0 24 24\"\n",
              "       width=\"24px\">\n",
              "    <path d=\"M0 0h24v24H0V0z\" fill=\"none\"/>\n",
              "    <path d=\"M18.56 5.44l.94 2.06.94-2.06 2.06-.94-2.06-.94-.94-2.06-.94 2.06-2.06.94zm-11 1L8.5 8.5l.94-2.06 2.06-.94-2.06-.94L8.5 2.5l-.94 2.06-2.06.94zm10 10l.94 2.06.94-2.06 2.06-.94-2.06-.94-.94-2.06-.94 2.06-2.06.94z\"/><path d=\"M17.41 7.96l-1.37-1.37c-.4-.4-.92-.59-1.43-.59-.52 0-1.04.2-1.43.59L10.3 9.45l-7.72 7.72c-.78.78-.78 2.05 0 2.83L4 21.41c.39.39.9.59 1.41.59.51 0 1.02-.2 1.41-.59l7.78-7.78 2.81-2.81c.8-.78.8-2.07 0-2.86zM5.41 20L4 18.59l7.72-7.72 1.47 1.35L5.41 20z\"/>\n",
              "  </svg>\n",
              "      </button>\n",
              "      \n",
              "  <style>\n",
              "    .colab-df-container {\n",
              "      display:flex;\n",
              "      flex-wrap:wrap;\n",
              "      gap: 12px;\n",
              "    }\n",
              "\n",
              "    .colab-df-convert {\n",
              "      background-color: #E8F0FE;\n",
              "      border: none;\n",
              "      border-radius: 50%;\n",
              "      cursor: pointer;\n",
              "      display: none;\n",
              "      fill: #1967D2;\n",
              "      height: 32px;\n",
              "      padding: 0 0 0 0;\n",
              "      width: 32px;\n",
              "    }\n",
              "\n",
              "    .colab-df-convert:hover {\n",
              "      background-color: #E2EBFA;\n",
              "      box-shadow: 0px 1px 2px rgba(60, 64, 67, 0.3), 0px 1px 3px 1px rgba(60, 64, 67, 0.15);\n",
              "      fill: #174EA6;\n",
              "    }\n",
              "\n",
              "    [theme=dark] .colab-df-convert {\n",
              "      background-color: #3B4455;\n",
              "      fill: #D2E3FC;\n",
              "    }\n",
              "\n",
              "    [theme=dark] .colab-df-convert:hover {\n",
              "      background-color: #434B5C;\n",
              "      box-shadow: 0px 1px 3px 1px rgba(0, 0, 0, 0.15);\n",
              "      filter: drop-shadow(0px 1px 2px rgba(0, 0, 0, 0.3));\n",
              "      fill: #FFFFFF;\n",
              "    }\n",
              "  </style>\n",
              "\n",
              "      <script>\n",
              "        const buttonEl =\n",
              "          document.querySelector('#df-165a409f-bca2-492b-b25f-1c2953c33703 button.colab-df-convert');\n",
              "        buttonEl.style.display =\n",
              "          google.colab.kernel.accessAllowed ? 'block' : 'none';\n",
              "\n",
              "        async function convertToInteractive(key) {\n",
              "          const element = document.querySelector('#df-165a409f-bca2-492b-b25f-1c2953c33703');\n",
              "          const dataTable =\n",
              "            await google.colab.kernel.invokeFunction('convertToInteractive',\n",
              "                                                     [key], {});\n",
              "          if (!dataTable) return;\n",
              "\n",
              "          const docLinkHtml = 'Like what you see? Visit the ' +\n",
              "            '<a target=\"_blank\" href=https://colab.research.google.com/notebooks/data_table.ipynb>data table notebook</a>'\n",
              "            + ' to learn more about interactive tables.';\n",
              "          element.innerHTML = '';\n",
              "          dataTable['output_type'] = 'display_data';\n",
              "          await google.colab.output.renderOutput(dataTable, element);\n",
              "          const docLink = document.createElement('div');\n",
              "          docLink.innerHTML = docLinkHtml;\n",
              "          element.appendChild(docLink);\n",
              "        }\n",
              "      </script>\n",
              "    </div>\n",
              "  </div>\n",
              "  "
            ]
          },
          "metadata": {}
        }
      ],
      "source": [
        "#We first need to fit each step in our pipeline to the training data.\n",
        "preprocessor.fit(X_train)\n",
        "\n",
        "#Now we can transform our data, with the steps specified in the pipeline\n",
        "Xprocessed_train_df = pd.DataFrame(preprocessor.transform(X_train),\n",
        "                          columns=preprocessor.get_feature_names_out(),\n",
        "                          index=X_train.index)\n",
        "Xprocessed_test_df = pd.DataFrame(preprocessor.transform(X_test),\n",
        "                                  columns=preprocessor.get_feature_names_out(),\n",
        "                                  index=X_test.index)\n",
        "display(Xprocessed_train_df)"
      ],
      "id": "f5012ed4"
    },
    {
      "cell_type": "code",
      "execution_count": 25,
      "metadata": {
        "id": "9ced1357",
        "colab": {
          "base_uri": "https://localhost:8080/"
        },
        "outputId": "f075b4e1-16aa-494a-8946-a30b650baf3b"
      },
      "outputs": [
        {
          "output_type": "stream",
          "name": "stdout",
          "text": [
            "Input shape: [27]\n"
          ]
        }
      ],
      "source": [
        "# make back-up copy of original train target and validation\n",
        "y_train_orig = y_train \n",
        "y_test_orig = y_test \n",
        "\n",
        "#Log transform target instead of standardizing\n",
        "y_train = np.log(y_train) \n",
        "y_test = np.log(y_test) \n",
        "\n",
        "input_shape = [Xprocessed_train_df.shape[1]] # number of columns\n",
        "print(\"Input shape: {}\".format(input_shape))"
      ],
      "id": "9ced1357"
    },
    {
      "cell_type": "markdown",
      "metadata": {
        "id": "hhzkvkxbn_h0"
      },
      "source": [
        "---\n",
        "# Lab Exercise 1. *Underfitting and Overfitting*\n"
      ],
      "id": "hhzkvkxbn_h0"
    },
    {
      "cell_type": "markdown",
      "metadata": {
        "id": "gbZZT610oVLV"
      },
      "source": [
        "Now, you’ll learn how to improve training outcomes: by adding capacity to prevent underfitting, and by including early stopping callbacks to prevent overfitting.\n"
      ],
      "id": "gbZZT610oVLV"
    },
    {
      "cell_type": "markdown",
      "source": [
        "## 1) Evaluate Baseline\n",
        "\n",
        "Let's get back to the simplest network, the linear model. This model has low capacity. \n",
        "\n",
        "Run the following cell without any changes to train a linear model on the *Big Mart* dataset."
      ],
      "metadata": {
        "id": "jZG8nd6Ln42p"
      },
      "id": "jZG8nd6Ln42p"
    },
    {
      "cell_type": "code",
      "execution_count": 26,
      "metadata": {
        "id": "We2DlJUEoYRN",
        "colab": {
          "base_uri": "https://localhost:8080/",
          "height": 504
        },
        "outputId": "0f5125b7-d5f4-4c75-f2a2-895f1c132e1a"
      },
      "outputs": [
        {
          "output_type": "stream",
          "name": "stdout",
          "text": [
            "Minimum Validation Loss: 0.4131\n"
          ]
        },
        {
          "output_type": "display_data",
          "data": {
            "text/plain": [
              "<Figure size 640x480 with 1 Axes>"
            ],
            "image/png": "[encoded data removed]"
          },
          "metadata": {}
        }
      ],
      "source": [
        "model = keras.Sequential([\n",
        "    layers.Dense(1, input_shape=input_shape),\n",
        "])\n",
        "model.compile(\n",
        "    optimizer='adam',\n",
        "    loss='mae',\n",
        ")\n",
        "\n",
        "\n",
        "history = model.fit(\n",
        "    Xprocessed_train_df, y_train,\n",
        "    validation_data=(Xprocessed_test_df, y_test), #Validation_data adds valdiation to each of the epoch\n",
        "    batch_size=16,\n",
        "    epochs=50,\n",
        "    verbose=0, # suppress output since we'll plot the curves\n",
        ")\n",
        "\n",
        "history_df = pd.DataFrame(history.history)\n",
        "history_df.loc[0:, ['loss', 'val_loss']].plot()\n",
        "print(\"Minimum Validation Loss: {:0.4f}\".format(history_df['val_loss'].min()));"
      ],
      "id": "We2DlJUEoYRN"
    },
    {
      "cell_type": "markdown",
      "source": [
        "It's not uncommon for the curves to follow a \"hockey stick\" pattern like you see here. This makes the final part of the training hard to see, so let's start at epoch 10 instead. "
      ],
      "metadata": {
        "id": "eoWV4pO3oHfy"
      },
      "id": "eoWV4pO3oHfy"
    },
    {
      "cell_type": "code",
      "execution_count": 27,
      "metadata": {
        "id": "bY78gMayn_Ju",
        "colab": {
          "base_uri": "https://localhost:8080/",
          "height": 504
        },
        "outputId": "bed9bf95-30d7-436a-fc5c-5ffaefbd6586"
      },
      "outputs": [
        {
          "output_type": "stream",
          "name": "stdout",
          "text": [
            "Minimum Validation Loss: 0.4131\n"
          ]
        },
        {
          "output_type": "display_data",
          "data": {
            "text/plain": [
              "<Figure size 640x480 with 1 Axes>"
            ],
            "image/png": "[encoded data removed]"
          },
          "metadata": {}
        }
      ],
      "source": [
        "# Start the plot at epoch 10\n",
        "history_df.loc[10:, ['loss', 'val_loss']].plot()\n",
        "print(\"Minimum Validation Loss: {:0.4f}\".format(history_df['val_loss'].min()));"
      ],
      "id": "bY78gMayn_Ju"
    },
    {
      "cell_type": "markdown",
      "metadata": {
        "id": "9VTqHC-NpfxX"
      },
      "source": [
        "### Q: *Would you say this model is underfitting, overfitting, or just right?*\n",
        "\n",
        "Please explain your answer in the empty cell below."
      ],
      "id": "9VTqHC-NpfxX"
    },
    {
      "cell_type": "markdown",
      "source": [
        "Answer:  The blue line of training loss seems like the error rate is lowering and also the validation loss is reducing. however usually after some more epochs we should be able to see taht the validaiton score should go up as the training error keeps dropping. So as per the data shown it is still not underfitting. we need to see the orange line how it goes ahead.\n"
      ],
      "metadata": {
        "id": "Stur1jL90MXI"
      },
      "id": "Stur1jL90MXI"
    },
    {
      "cell_type": "markdown",
      "metadata": {
        "id": "04in_CD1piMC"
      },
      "source": [
        "## 2) Add Capacity\n",
        "\n",
        "Now let's add some capacity to our network. We'll add two hidden layers, one with 128 units and one 64 units.\n",
        "Run the next cell to train the network and see the learning curves."
      ],
      "id": "04in_CD1piMC"
    },
    {
      "cell_type": "code",
      "execution_count": 28,
      "metadata": {
        "id": "OA-ljDzBoPId",
        "colab": {
          "base_uri": "https://localhost:8080/",
          "height": 1000
        },
        "outputId": "f84c73c1-954d-4479-a496-d716a33c5ef9"
      },
      "outputs": [
        {
          "output_type": "stream",
          "name": "stdout",
          "text": [
            "Epoch 1/50\n",
            "400/400 [==============================] - 1s 2ms/step - loss: 0.9004 - val_loss: 0.4410\n",
            "Epoch 2/50\n",
            "400/400 [==============================] - 1s 2ms/step - loss: 0.4463 - val_loss: 0.4463\n",
            "Epoch 3/50\n",
            "400/400 [==============================] - 1s 2ms/step - loss: 0.4377 - val_loss: 0.4245\n",
            "Epoch 4/50\n",
            "400/400 [==============================] - 1s 2ms/step - loss: 0.4336 - val_loss: 0.4219\n",
            "Epoch 5/50\n",
            "400/400 [==============================] - 1s 2ms/step - loss: 0.4279 - val_loss: 0.4172\n",
            "Epoch 6/50\n",
            "400/400 [==============================] - 1s 2ms/step - loss: 0.4304 - val_loss: 0.4224\n",
            "Epoch 7/50\n",
            "400/400 [==============================] - 1s 2ms/step - loss: 0.4203 - val_loss: 0.4254\n",
            "Epoch 8/50\n",
            "400/400 [==============================] - 1s 2ms/step - loss: 0.4188 - val_loss: 0.4274\n",
            "Epoch 9/50\n",
            "400/400 [==============================] - 1s 2ms/step - loss: 0.4155 - val_loss: 0.4984\n",
            "Epoch 10/50\n",
            "400/400 [==============================] - 1s 2ms/step - loss: 0.4118 - val_loss: 0.4167\n",
            "Epoch 11/50\n",
            "400/400 [==============================] - 1s 2ms/step - loss: 0.4177 - val_loss: 0.4199\n",
            "Epoch 12/50\n",
            "400/400 [==============================] - 1s 2ms/step - loss: 0.4103 - val_loss: 0.4124\n",
            "Epoch 13/50\n",
            "400/400 [==============================] - 1s 2ms/step - loss: 0.4135 - val_loss: 0.4251\n",
            "Epoch 14/50\n",
            "400/400 [==============================] - 1s 2ms/step - loss: 0.4100 - val_loss: 0.4169\n",
            "Epoch 15/50\n",
            "400/400 [==============================] - 1s 2ms/step - loss: 0.4063 - val_loss: 0.4341\n",
            "Epoch 16/50\n",
            "400/400 [==============================] - 1s 2ms/step - loss: 0.4064 - val_loss: 0.4315\n",
            "Epoch 17/50\n",
            "400/400 [==============================] - 1s 2ms/step - loss: 0.4089 - val_loss: 0.5132\n",
            "Epoch 18/50\n",
            "400/400 [==============================] - 1s 2ms/step - loss: 0.4074 - val_loss: 0.4199\n",
            "Epoch 19/50\n",
            "400/400 [==============================] - 1s 2ms/step - loss: 0.4066 - val_loss: 0.4122\n",
            "Epoch 20/50\n",
            "400/400 [==============================] - 1s 2ms/step - loss: 0.4053 - val_loss: 0.4404\n",
            "Epoch 21/50\n",
            "400/400 [==============================] - 1s 2ms/step - loss: 0.4041 - val_loss: 0.4151\n",
            "Epoch 22/50\n",
            "400/400 [==============================] - 1s 2ms/step - loss: 0.4061 - val_loss: 0.4315\n",
            "Epoch 23/50\n",
            "400/400 [==============================] - 1s 2ms/step - loss: 0.4039 - val_loss: 0.4230\n",
            "Epoch 24/50\n",
            "400/400 [==============================] - 1s 2ms/step - loss: 0.4030 - val_loss: 0.4141\n",
            "Epoch 25/50\n",
            "400/400 [==============================] - 1s 2ms/step - loss: 0.4018 - val_loss: 0.4176\n",
            "Epoch 26/50\n",
            "400/400 [==============================] - 1s 2ms/step - loss: 0.4043 - val_loss: 0.4606\n",
            "Epoch 27/50\n",
            "400/400 [==============================] - 1s 1ms/step - loss: 0.4050 - val_loss: 0.4217\n",
            "Epoch 28/50\n",
            "400/400 [==============================] - 1s 2ms/step - loss: 0.4076 - val_loss: 0.4157\n",
            "Epoch 29/50\n",
            "400/400 [==============================] - 1s 2ms/step - loss: 0.4011 - val_loss: 0.4243\n",
            "Epoch 30/50\n",
            "400/400 [==============================] - 1s 2ms/step - loss: 0.4014 - val_loss: 0.4159\n",
            "Epoch 31/50\n",
            "400/400 [==============================] - 1s 2ms/step - loss: 0.3992 - val_loss: 0.4174\n",
            "Epoch 32/50\n",
            "400/400 [==============================] - 1s 2ms/step - loss: 0.3989 - val_loss: 0.4211\n",
            "Epoch 33/50\n",
            "400/400 [==============================] - 1s 1ms/step - loss: 0.3994 - val_loss: 0.4250\n",
            "Epoch 34/50\n",
            "400/400 [==============================] - 1s 2ms/step - loss: 0.4028 - val_loss: 0.4168\n",
            "Epoch 35/50\n",
            "400/400 [==============================] - 1s 2ms/step - loss: 0.4006 - val_loss: 0.4230\n",
            "Epoch 36/50\n",
            "400/400 [==============================] - 1s 2ms/step - loss: 0.3970 - val_loss: 0.4307\n",
            "Epoch 37/50\n",
            "400/400 [==============================] - 1s 2ms/step - loss: 0.3959 - val_loss: 0.4241\n",
            "Epoch 38/50\n",
            "400/400 [==============================] - 1s 2ms/step - loss: 0.3995 - val_loss: 0.4202\n",
            "Epoch 39/50\n",
            "400/400 [==============================] - 1s 2ms/step - loss: 0.4029 - val_loss: 0.4138\n",
            "Epoch 40/50\n",
            "400/400 [==============================] - 1s 2ms/step - loss: 0.3968 - val_loss: 0.4134\n",
            "Epoch 41/50\n",
            "400/400 [==============================] - 1s 2ms/step - loss: 0.3985 - val_loss: 0.4196\n",
            "Epoch 42/50\n",
            "400/400 [==============================] - 1s 2ms/step - loss: 0.3936 - val_loss: 0.4193\n",
            "Epoch 43/50\n",
            "400/400 [==============================] - 1s 2ms/step - loss: 0.3942 - val_loss: 0.4233\n",
            "Epoch 44/50\n",
            "400/400 [==============================] - 1s 1ms/step - loss: 0.3994 - val_loss: 0.4195\n",
            "Epoch 45/50\n",
            "400/400 [==============================] - 1s 2ms/step - loss: 0.3968 - val_loss: 0.4221\n",
            "Epoch 46/50\n",
            "400/400 [==============================] - 1s 2ms/step - loss: 0.3985 - val_loss: 0.4223\n",
            "Epoch 47/50\n",
            "400/400 [==============================] - 1s 2ms/step - loss: 0.3953 - val_loss: 0.4165\n",
            "Epoch 48/50\n",
            "400/400 [==============================] - 1s 2ms/step - loss: 0.3939 - val_loss: 0.4284\n",
            "Epoch 49/50\n",
            "400/400 [==============================] - 1s 2ms/step - loss: 0.3903 - val_loss: 0.4189\n",
            "Epoch 50/50\n",
            "400/400 [==============================] - 1s 2ms/step - loss: 0.3957 - val_loss: 0.4172\n",
            "Minimum Validation Loss: 0.4122\n"
          ]
        },
        {
          "output_type": "display_data",
          "data": {
            "text/plain": [
              "<Figure size 640x480 with 1 Axes>"
            ],
            "image/png": "[encoded data removed]"
          },
          "metadata": {}
        }
      ],
      "source": [
        "model = keras.Sequential([\n",
        "    layers.Dense(128, activation='relu', input_shape=input_shape),\n",
        "    layers.Dense(64, activation='relu'),\n",
        "    layers.Dense(1)\n",
        "])\n",
        "model.compile(\n",
        "    optimizer='adam',\n",
        "    loss='mae',\n",
        ")\n",
        "history = model.fit(\n",
        "    Xprocessed_train_df, y_train,\n",
        "    validation_data=(Xprocessed_test_df, y_test),\n",
        "    batch_size=16,\n",
        "    epochs=50,\n",
        "    verbose=1, # suppress output since we'll plot the curves\n",
        ")\n",
        "\n",
        "history_df = pd.DataFrame(history.history)\n",
        "history_df.loc[:, ['loss', 'val_loss']].plot()\n",
        "print(\"Minimum Validation Loss: {:0.4f}\".format(history_df['val_loss'].min()));"
      ],
      "id": "OA-ljDzBoPId"
    },
    {
      "cell_type": "markdown",
      "metadata": {
        "id": "GIH0hcI5pl8g"
      },
      "source": [
        "### Q: *What is your evaluation of these curves: underfitting, overfitting, or just right?*\n",
        "\n",
        "Please explain your answer in the empty cell below."
      ],
      "id": "GIH0hcI5pl8g"
    },
    {
      "cell_type": "markdown",
      "source": [
        "Answer: Its overfitting as the the orange line is going up so there is some level of overfitting happening. "
      ],
      "metadata": {
        "id": "PnZ1ZkuH0YaN"
      },
      "id": "PnZ1ZkuH0YaN"
    },
    {
      "cell_type": "markdown",
      "metadata": {
        "id": "YVgKQ-h_pnx0"
      },
      "source": [
        "## 3) Define Early Stopping Callback\n",
        "\n",
        "Now define early stopping callbacks that wait 5 epochs (`patience`) for a change in validation loss of at least `0.001` (`min_delta`) and keeps the weights with the best loss (`restore_best_weights`)."
      ],
      "id": "YVgKQ-h_pnx0"
    },
    {
      "cell_type": "code",
      "execution_count": 31,
      "metadata": {
        "id": "50e1keFSpoZ0"
      },
      "outputs": [],
      "source": [
        "# YOUR CODE HERE: Define early stopping callbacks\n",
        "#from tensorflow.keras import callbacks\n",
        "\n",
        "early_stopping = callbacks.EarlyStopping(\n",
        "    min_delta=0.001, # number of epochs to wain\n",
        "    patience=5, # minimun change in loss function\n",
        "    restore_best_weights=True, # restore the weights with the best loss\n",
        ")"
      ],
      "id": "50e1keFSpoZ0"
    },
    {
      "cell_type": "markdown",
      "source": [
        "## 4) Train and Interpret\n",
        "\n",
        "Now run the following cell to train the model and get the learning curves. Notice the `callbacks` argument in `model.fit`."
      ],
      "metadata": {
        "id": "aCAgwP7CqVCu"
      },
      "id": "aCAgwP7CqVCu"
    },
    {
      "cell_type": "code",
      "execution_count": 32,
      "metadata": {
        "id": "VXMiwvXvps8M",
        "colab": {
          "base_uri": "https://localhost:8080/",
          "height": 503
        },
        "outputId": "826aa2aa-ace2-45d0-ba0f-705a50c2243c"
      },
      "outputs": [
        {
          "output_type": "stream",
          "name": "stdout",
          "text": [
            "Minimum Validation Loss: 0.4090\n"
          ]
        },
        {
          "output_type": "display_data",
          "data": {
            "text/plain": [
              "<Figure size 640x480 with 1 Axes>"
            ],
            "image/png": "[encoded data removed]"
          },
          "metadata": {}
        }
      ],
      "source": [
        "model = keras.Sequential([\n",
        "    layers.Dense(128, activation='relu', input_shape=input_shape),\n",
        "    layers.Dense(64, activation='relu'),\n",
        "    layers.Dense(1)\n",
        "])\n",
        "model.compile(\n",
        "    optimizer='adam',\n",
        "    loss='mae',\n",
        ")\n",
        "history = model.fit(\n",
        "    Xprocessed_train_df, y_train,\n",
        "    validation_data=(Xprocessed_test_df, y_test),\n",
        "    batch_size=16,\n",
        "    epochs=50,\n",
        "    callbacks=[early_stopping],\n",
        "    verbose=0, # suppress output since we'll plot the curves\n",
        ")\n",
        "\n",
        "history_df = pd.DataFrame(history.history)\n",
        "history_df.loc[:, ['loss', 'val_loss']].plot()\n",
        "print(\"Minimum Validation Loss: {:0.4f}\".format(history_df['val_loss'].min()));"
      ],
      "id": "VXMiwvXvps8M"
    },
    {
      "cell_type": "markdown",
      "metadata": {
        "id": "1kIasZ1OpvZS"
      },
      "source": [
        "### Q: *Was adding early stopping* `callbacks` *an improvement compared to training without early stopping?*\n",
        "\n",
        "Please explain your answer in the empty cell below."
      ],
      "id": "1kIasZ1OpvZS"
    },
    {
      "cell_type": "markdown",
      "source": [
        "\n",
        "Answer: It stops early and we can see that the validation losses are not increasing and stops where it sees validation losses increasing as training losses increases. "
      ],
      "metadata": {
        "id": "lfnW_GzH0nuw"
      },
      "id": "lfnW_GzH0nuw"
    },
    {
      "cell_type": "markdown",
      "source": [
        "### BONUS: *Try experimenting with* `patience` *and* `min_delta`. *What effect do these parameters have?*\n",
        "\n",
        "Please explain your answer in the empty cell below."
      ],
      "metadata": {
        "id": "z17cSGJrrI2R"
      },
      "id": "z17cSGJrrI2R"
    },
    {
      "cell_type": "code",
      "source": [
        "# YOUR CODE HERE: Define early stopping callbacks\n",
        "#from tensorflow.keras import callbacks\n",
        "\n",
        "early_stopping = callbacks.EarlyStopping(\n",
        "    min_delta=0.01, # number of epochs to wain\n",
        "    patience=35, # minimun change in loss function\n",
        "    restore_best_weights=True, # restore the weights with the best loss\n",
        ")"
      ],
      "metadata": {
        "id": "00KJmoVqrCsj"
      },
      "id": "00KJmoVqrCsj",
      "execution_count": 33,
      "outputs": []
    },
    {
      "cell_type": "code",
      "source": [
        "model = keras.Sequential([\n",
        "    layers.Dense(128, activation='relu', input_shape=input_shape),\n",
        "    layers.Dense(64, activation='relu'),\n",
        "    layers.Dense(1)\n",
        "])\n",
        "model.compile(\n",
        "    optimizer='adam',\n",
        "    loss='mae',\n",
        ")\n",
        "history = model.fit(\n",
        "    Xprocessed_train_df, y_train,\n",
        "    validation_data=(Xprocessed_test_df, y_test),\n",
        "    batch_size=16,\n",
        "    epochs=50,\n",
        "    callbacks=[early_stopping],\n",
        "    verbose=0, # suppress output since we'll plot the curves\n",
        ")\n",
        "\n",
        "history_df = pd.DataFrame(history.history)\n",
        "history_df.loc[:, ['loss', 'val_loss']].plot()\n",
        "print(\"Minimum Validation Loss: {:0.4f}\".format(history_df['val_loss'].min()));"
      ],
      "metadata": {
        "colab": {
          "base_uri": "https://localhost:8080/",
          "height": 504
        },
        "id": "xqg2SIcdbnGI",
        "outputId": "17320853-3a62-49ed-8be5-0bc632186598"
      },
      "id": "xqg2SIcdbnGI",
      "execution_count": 34,
      "outputs": [
        {
          "output_type": "stream",
          "name": "stdout",
          "text": [
            "Minimum Validation Loss: 0.4068\n"
          ]
        },
        {
          "output_type": "display_data",
          "data": {
            "text/plain": [
              "<Figure size 640x480 with 1 Axes>"
            ],
            "image/png": "[encoded data removed]"
          },
          "metadata": {}
        }
      ]
    },
    {
      "cell_type": "markdown",
      "source": [
        "Answer:: With min stop to be higher, the epochs will be more as there can be situations where the error rates can be different across those min epochs. The graph also shows taht. Changing the min drop affects. Increase that allows the early stoppage much earlier. "
      ],
      "metadata": {
        "id": "oJMQXt0O0zA0"
      },
      "id": "oJMQXt0O0zA0"
    },
    {
      "cell_type": "markdown",
      "source": [
        "---\n",
        "# Lab Execise 2. *Dropout and Batch Normalization*"
      ],
      "metadata": {
        "id": "yTzPdan3jIIb"
      },
      "id": "yTzPdan3jIIb"
    },
    {
      "cell_type": "markdown",
      "metadata": {
        "id": "R3CnmLjip1iU"
      },
      "source": [
        "## 1) Add Dropout to our last Model\n",
        "\n",
        "**Add two dropout layers** to the last model (copied below for convenience), inserting one dropout layer after the `Dense` layer with 128 units, and one dropout layer after the `Dense` layer with 64 units. \n",
        "\n",
        "```\n",
        "model = keras.Sequential([\n",
        "    layers.Dense(128, activation='relu', input_shape=input_shape),\n",
        "    layers.Dense(64, activation='relu'),\n",
        "    layers.Dense(1)\n",
        "])\n",
        "```\n",
        "\n",
        "Set the dropout rate on both dropout layers to `0.3`."
      ],
      "id": "R3CnmLjip1iU"
    },
    {
      "cell_type": "code",
      "execution_count": 36,
      "metadata": {
        "id": "j-LlmTIGp5As"
      },
      "outputs": [],
      "source": [
        "# YOUR CODE HERE: Add two 30% dropout layers, one after the Dense layer with 128 units, and one after the Dense layer iwth 64 units \n",
        "#model = keras.Sequential([\n",
        "#    layers.Dense(128, activation='relu', input_shape=input_shape),\n",
        "#    layers.Dense(64, activation='relu'),\n",
        "#    layers.Dense(1)\n",
        "#])\n",
        "\n",
        "model = keras.Sequential([\n",
        "    layers.Dense(128, activation='relu', input_shape=input_shape), # Dense layer with ReLU and input shape\n",
        "    layers.Dropout(rate=0.3), # Dropout layer 0.3\n",
        "    layers.Dense(64, activation='relu'), # Dense layer with ReLU\n",
        "    layers.Dropout(rate=0.3), # Dropout layer 0.3\n",
        "    layers.Dense(1), # Dense output layer \n",
        "])"
      ],
      "id": "j-LlmTIGp5As"
    },
    {
      "cell_type": "markdown",
      "metadata": {
        "id": "7jfxtDfDp9YQ"
      },
      "source": [
        "## 2) Evaluate Dropout\n",
        "\n",
        "Now run this next cell to train the model see the effect of adding dropout."
      ],
      "id": "7jfxtDfDp9YQ"
    },
    {
      "cell_type": "code",
      "execution_count": 37,
      "metadata": {
        "id": "MzqPBxV9p7wF",
        "colab": {
          "base_uri": "https://localhost:8080/",
          "height": 504
        },
        "outputId": "38363432-71a3-4cdf-e148-fb7138380fd1"
      },
      "outputs": [
        {
          "output_type": "stream",
          "name": "stdout",
          "text": [
            "Minimum Validation Loss: 0.4059\n"
          ]
        },
        {
          "output_type": "display_data",
          "data": {
            "text/plain": [
              "<Figure size 640x480 with 1 Axes>"
            ],
            "image/png": "[encoded data removed]"
          },
          "metadata": {}
        }
      ],
      "source": [
        "model.compile(\n",
        "    optimizer='adam',\n",
        "    loss='mae',\n",
        ")\n",
        "history = model.fit(\n",
        "    Xprocessed_train_df, y_train,\n",
        "    validation_data=(Xprocessed_test_df, y_test),\n",
        "    batch_size=16,\n",
        "    epochs=50,\n",
        "    verbose=0,\n",
        ")\n",
        "history_df = pd.DataFrame(history.history)\n",
        "history_df.loc[:, ['loss', 'val_loss']].plot()\n",
        "print(\"Minimum Validation Loss: {:0.4f}\".format(history_df['val_loss'].min()))"
      ],
      "id": "MzqPBxV9p7wF"
    },
    {
      "cell_type": "markdown",
      "metadata": {
        "id": "HM8r_ljcp_xl"
      },
      "source": [
        "### Q: *Recall that this model tended to overfit the data early in the training. Did adding dropout seem to help prevent overfitting this time?*\n",
        "\n",
        "Please explain your answer in the empty cell below.\n"
      ],
      "id": "HM8r_ljcp_xl"
    },
    {
      "cell_type": "markdown",
      "source": [
        "\n",
        "Answer: I think it did. we can see that there is a drop in the training loss and the validation data is almost constant. The dropout helps in reducing the increase in validation losses, and thus avoid overfitting"
      ],
      "metadata": {
        "id": "o7-MCQnZ3yog"
      },
      "id": "o7-MCQnZ3yog"
    },
    {
      "cell_type": "markdown",
      "metadata": {
        "id": "_jPzauL0qCR_"
      },
      "source": [
        "## 3) Explore Effect of Normalization \n",
        "\n",
        "Now, we'll switch topics to explore how batch normalization can fix problems in training neural networks. Initially we won't do any standardization of input data. This will make the effect of batch normalization much more apparent."
      ],
      "id": "_jPzauL0qCR_"
    },
    {
      "cell_type": "code",
      "execution_count": 38,
      "metadata": {
        "id": "XnHfFYpNqBXi",
        "colab": {
          "base_uri": "https://localhost:8080/",
          "height": 505
        },
        "outputId": "f9ac9ab1-adc6-456d-96b0-e55c442a166e"
      },
      "outputs": [
        {
          "output_type": "display_data",
          "data": {
            "text/plain": [
              "      Item_Type_Baking Goods  Item_Type_Breads  Item_Type_Breakfast  \\\n",
              "7477                     0.0               0.0                  0.0   \n",
              "5089                     0.0               1.0                  0.0   \n",
              "6992                     0.0               0.0                  0.0   \n",
              "6264                     0.0               0.0                  0.0   \n",
              "4374                     0.0               0.0                  0.0   \n",
              "...                      ...               ...                  ...   \n",
              "7382                     0.0               0.0                  0.0   \n",
              "7763                     0.0               0.0                  0.0   \n",
              "5218                     0.0               0.0                  0.0   \n",
              "1346                     1.0               0.0                  0.0   \n",
              "3582                     0.0               0.0                  0.0   \n",
              "\n",
              "      Item_Type_Canned  Item_Type_Dairy  Item_Type_Frozen Foods  \\\n",
              "7477               0.0              0.0                     0.0   \n",
              "5089               0.0              0.0                     0.0   \n",
              "6992               0.0              0.0                     0.0   \n",
              "6264               0.0              0.0                     0.0   \n",
              "4374               0.0              1.0                     0.0   \n",
              "...                ...              ...                     ...   \n",
              "7382               0.0              0.0                     0.0   \n",
              "7763               0.0              0.0                     0.0   \n",
              "5218               0.0              0.0                     0.0   \n",
              "1346               0.0              0.0                     0.0   \n",
              "3582               0.0              0.0                     0.0   \n",
              "\n",
              "      Item_Type_Fruits and Vegetables  Item_Type_Hard Drinks  \\\n",
              "7477                              0.0                    1.0   \n",
              "5089                              0.0                    0.0   \n",
              "6992                              1.0                    0.0   \n",
              "6264                              0.0                    0.0   \n",
              "4374                              0.0                    0.0   \n",
              "...                               ...                    ...   \n",
              "7382                              0.0                    0.0   \n",
              "7763                              0.0                    0.0   \n",
              "5218                              0.0                    0.0   \n",
              "1346                              0.0                    0.0   \n",
              "3582                              1.0                    0.0   \n",
              "\n",
              "      Item_Type_Health and Hygiene  Item_Type_Household  ...  \\\n",
              "7477                           0.0                  0.0  ...   \n",
              "5089                           0.0                  0.0  ...   \n",
              "6992                           0.0                  0.0  ...   \n",
              "6264                           1.0                  0.0  ...   \n",
              "4374                           0.0                  0.0  ...   \n",
              "...                            ...                  ...  ...   \n",
              "7382                           0.0                  0.0  ...   \n",
              "7763                           0.0                  0.0  ...   \n",
              "5218                           0.0                  0.0  ...   \n",
              "1346                           0.0                  0.0  ...   \n",
              "3582                           0.0                  0.0  ...   \n",
              "\n",
              "      Outlet_Location_Type_Tier 2  Outlet_Location_Type_Tier 3  \\\n",
              "7477                          0.0                          1.0   \n",
              "5089                          1.0                          0.0   \n",
              "6992                          0.0                          1.0   \n",
              "6264                          0.0                          0.0   \n",
              "4374                          1.0                          0.0   \n",
              "...                           ...                          ...   \n",
              "7382                          0.0                          1.0   \n",
              "7763                          0.0                          0.0   \n",
              "5218                          0.0                          1.0   \n",
              "1346                          0.0                          1.0   \n",
              "3582                          0.0                          1.0   \n",
              "\n",
              "      Outlet_Type_Grocery Store  Outlet_Type_Supermarket Type1  \\\n",
              "7477                        1.0                            0.0   \n",
              "5089                        0.0                            1.0   \n",
              "6992                        0.0                            0.0   \n",
              "6264                        0.0                            1.0   \n",
              "4374                        0.0                            1.0   \n",
              "...                         ...                            ...   \n",
              "7382                        0.0                            0.0   \n",
              "7763                        1.0                            0.0   \n",
              "5218                        0.0                            1.0   \n",
              "1346                        0.0                            0.0   \n",
              "3582                        0.0                            0.0   \n",
              "\n",
              "      Outlet_Type_Supermarket Type2  Outlet_Type_Supermarket Type3  \\\n",
              "7477                            0.0                            0.0   \n",
              "5089                            0.0                            0.0   \n",
              "6992                            1.0                            0.0   \n",
              "6264                            0.0                            0.0   \n",
              "4374                            0.0                            0.0   \n",
              "...                             ...                            ...   \n",
              "7382                            1.0                            0.0   \n",
              "7763                            0.0                            0.0   \n",
              "5218                            0.0                            0.0   \n",
              "1346                            1.0                            0.0   \n",
              "3582                            1.0                            0.0   \n",
              "\n",
              "      Outlet_Size  Item_Weight  Item_Fat_Content  Item_MRP  \n",
              "7477          0.0      8.36500               0.0   39.2506  \n",
              "5089          0.0     13.65000               0.0  231.9668  \n",
              "6992          2.0     14.30000               1.0   89.8856  \n",
              "6264          2.0     12.35000               0.0   34.8216  \n",
              "4374          0.0      6.38000               0.0  178.0344  \n",
              "...           ...          ...               ...       ...  \n",
              "7382          2.0     18.60000               0.0  160.6236  \n",
              "7763          1.0     12.86826               0.0   36.0190  \n",
              "5218          3.0      5.92000               1.0   50.3692  \n",
              "1346          2.0     15.60000               0.0  111.8544  \n",
              "3582          2.0     13.30000               1.0   59.7536  \n",
              "\n",
              "[6392 rows x 27 columns]"
            ],
            "text/html": [
              "\n",
              "  <div id=\"df-380032f9-16fb-4536-8cc7-1f59025de177\">\n",
              "    <div class=\"colab-df-container\">\n",
              "      <div>\n",
              "<style scoped>\n",
              "    .dataframe tbody tr th:only-of-type {\n",
              "        vertical-align: middle;\n",
              "    }\n",
              "\n",
              "    .dataframe tbody tr th {\n",
              "        vertical-align: top;\n",
              "    }\n",
              "\n",
              "    .dataframe thead th {\n",
              "        text-align: right;\n",
              "    }\n",
              "</style>\n",
              "<table border=\"1\" class=\"dataframe\">\n",
              "  <thead>\n",
              "    <tr style=\"text-align: right;\">\n",
              "      <th></th>\n",
              "      <th>Item_Type_Baking Goods</th>\n",
              "      <th>Item_Type_Breads</th>\n",
              "      <th>Item_Type_Breakfast</th>\n",
              "      <th>Item_Type_Canned</th>\n",
              "      <th>Item_Type_Dairy</th>\n",
              "      <th>Item_Type_Frozen Foods</th>\n",
              "      <th>Item_Type_Fruits and Vegetables</th>\n",
              "      <th>Item_Type_Hard Drinks</th>\n",
              "      <th>Item_Type_Health and Hygiene</th>\n",
              "      <th>Item_Type_Household</th>\n",
              "      <th>...</th>\n",
              "      <th>Outlet_Location_Type_Tier 2</th>\n",
              "      <th>Outlet_Location_Type_Tier 3</th>\n",
              "      <th>Outlet_Type_Grocery Store</th>\n",
              "      <th>Outlet_Type_Supermarket Type1</th>\n",
              "      <th>Outlet_Type_Supermarket Type2</th>\n",
              "      <th>Outlet_Type_Supermarket Type3</th>\n",
              "      <th>Outlet_Size</th>\n",
              "      <th>Item_Weight</th>\n",
              "      <th>Item_Fat_Content</th>\n",
              "      <th>Item_MRP</th>\n",
              "    </tr>\n",
              "  </thead>\n",
              "  <tbody>\n",
              "    <tr>\n",
              "      <th>7477</th>\n",
              "      <td>0.0</td>\n",
              "      <td>0.0</td>\n",
              "      <td>0.0</td>\n",
              "      <td>0.0</td>\n",
              "      <td>0.0</td>\n",
              "      <td>0.0</td>\n",
              "      <td>0.0</td>\n",
              "      <td>1.0</td>\n",
              "      <td>0.0</td>\n",
              "      <td>0.0</td>\n",
              "      <td>...</td>\n",
              "      <td>0.0</td>\n",
              "      <td>1.0</td>\n",
              "      <td>1.0</td>\n",
              "      <td>0.0</td>\n",
              "      <td>0.0</td>\n",
              "      <td>0.0</td>\n",
              "      <td>0.0</td>\n",
              "      <td>8.36500</td>\n",
              "      <td>0.0</td>\n",
              "      <td>39.2506</td>\n",
              "    </tr>\n",
              "    <tr>\n",
              "      <th>5089</th>\n",
              "      <td>0.0</td>\n",
              "      <td>1.0</td>\n",
              "      <td>0.0</td>\n",
              "      <td>0.0</td>\n",
              "      <td>0.0</td>\n",
              "      <td>0.0</td>\n",
              "      <td>0.0</td>\n",
              "      <td>0.0</td>\n",
              "      <td>0.0</td>\n",
              "      <td>0.0</td>\n",
              "      <td>...</td>\n",
              "      <td>1.0</td>\n",
              "      <td>0.0</td>\n",
              "      <td>0.0</td>\n",
              "      <td>1.0</td>\n",
              "      <td>0.0</td>\n",
              "      <td>0.0</td>\n",
              "      <td>0.0</td>\n",
              "      <td>13.65000</td>\n",
              "      <td>0.0</td>\n",
              "      <td>231.9668</td>\n",
              "    </tr>\n",
              "    <tr>\n",
              "      <th>6992</th>\n",
              "      <td>0.0</td>\n",
              "      <td>0.0</td>\n",
              "      <td>0.0</td>\n",
              "      <td>0.0</td>\n",
              "      <td>0.0</td>\n",
              "      <td>0.0</td>\n",
              "      <td>1.0</td>\n",
              "      <td>0.0</td>\n",
              "      <td>0.0</td>\n",
              "      <td>0.0</td>\n",
              "      <td>...</td>\n",
              "      <td>0.0</td>\n",
              "      <td>1.0</td>\n",
              "      <td>0.0</td>\n",
              "      <td>0.0</td>\n",
              "      <td>1.0</td>\n",
              "      <td>0.0</td>\n",
              "      <td>2.0</td>\n",
              "      <td>14.30000</td>\n",
              "      <td>1.0</td>\n",
              "      <td>89.8856</td>\n",
              "    </tr>\n",
              "    <tr>\n",
              "      <th>6264</th>\n",
              "      <td>0.0</td>\n",
              "      <td>0.0</td>\n",
              "      <td>0.0</td>\n",
              "      <td>0.0</td>\n",
              "      <td>0.0</td>\n",
              "      <td>0.0</td>\n",
              "      <td>0.0</td>\n",
              "      <td>0.0</td>\n",
              "      <td>1.0</td>\n",
              "      <td>0.0</td>\n",
              "      <td>...</td>\n",
              "      <td>0.0</td>\n",
              "      <td>0.0</td>\n",
              "      <td>0.0</td>\n",
              "      <td>1.0</td>\n",
              "      <td>0.0</td>\n",
              "      <td>0.0</td>\n",
              "      <td>2.0</td>\n",
              "      <td>12.35000</td>\n",
              "      <td>0.0</td>\n",
              "      <td>34.8216</td>\n",
              "    </tr>\n",
              "    <tr>\n",
              "      <th>4374</th>\n",
              "      <td>0.0</td>\n",
              "      <td>0.0</td>\n",
              "      <td>0.0</td>\n",
              "      <td>0.0</td>\n",
              "      <td>1.0</td>\n",
              "      <td>0.0</td>\n",
              "      <td>0.0</td>\n",
              "      <td>0.0</td>\n",
              "      <td>0.0</td>\n",
              "      <td>0.0</td>\n",
              "      <td>...</td>\n",
              "      <td>1.0</td>\n",
              "      <td>0.0</td>\n",
              "      <td>0.0</td>\n",
              "      <td>1.0</td>\n",
              "      <td>0.0</td>\n",
              "      <td>0.0</td>\n",
              "      <td>0.0</td>\n",
              "      <td>6.38000</td>\n",
              "      <td>0.0</td>\n",
              "      <td>178.0344</td>\n",
              "    </tr>\n",
              "    <tr>\n",
              "      <th>...</th>\n",
              "      <td>...</td>\n",
              "      <td>...</td>\n",
              "      <td>...</td>\n",
              "      <td>...</td>\n",
              "      <td>...</td>\n",
              "      <td>...</td>\n",
              "      <td>...</td>\n",
              "      <td>...</td>\n",
              "      <td>...</td>\n",
              "      <td>...</td>\n",
              "      <td>...</td>\n",
              "      <td>...</td>\n",
              "      <td>...</td>\n",
              "      <td>...</td>\n",
              "      <td>...</td>\n",
              "      <td>...</td>\n",
              "      <td>...</td>\n",
              "      <td>...</td>\n",
              "      <td>...</td>\n",
              "      <td>...</td>\n",
              "      <td>...</td>\n",
              "    </tr>\n",
              "    <tr>\n",
              "      <th>7382</th>\n",
              "      <td>0.0</td>\n",
              "      <td>0.0</td>\n",
              "      <td>0.0</td>\n",
              "      <td>0.0</td>\n",
              "      <td>0.0</td>\n",
              "      <td>0.0</td>\n",
              "      <td>0.0</td>\n",
              "      <td>0.0</td>\n",
              "      <td>0.0</td>\n",
              "      <td>0.0</td>\n",
              "      <td>...</td>\n",
              "      <td>0.0</td>\n",
              "      <td>1.0</td>\n",
              "      <td>0.0</td>\n",
              "      <td>0.0</td>\n",
              "      <td>1.0</td>\n",
              "      <td>0.0</td>\n",
              "      <td>2.0</td>\n",
              "      <td>18.60000</td>\n",
              "      <td>0.0</td>\n",
              "      <td>160.6236</td>\n",
              "    </tr>\n",
              "    <tr>\n",
              "      <th>7763</th>\n",
              "      <td>0.0</td>\n",
              "      <td>0.0</td>\n",
              "      <td>0.0</td>\n",
              "      <td>0.0</td>\n",
              "      <td>0.0</td>\n",
              "      <td>0.0</td>\n",
              "      <td>0.0</td>\n",
              "      <td>0.0</td>\n",
              "      <td>0.0</td>\n",
              "      <td>0.0</td>\n",
              "      <td>...</td>\n",
              "      <td>0.0</td>\n",
              "      <td>0.0</td>\n",
              "      <td>1.0</td>\n",
              "      <td>0.0</td>\n",
              "      <td>0.0</td>\n",
              "      <td>0.0</td>\n",
              "      <td>1.0</td>\n",
              "      <td>12.86826</td>\n",
              "      <td>0.0</td>\n",
              "      <td>36.0190</td>\n",
              "    </tr>\n",
              "    <tr>\n",
              "      <th>5218</th>\n",
              "      <td>0.0</td>\n",
              "      <td>0.0</td>\n",
              "      <td>0.0</td>\n",
              "      <td>0.0</td>\n",
              "      <td>0.0</td>\n",
              "      <td>0.0</td>\n",
              "      <td>0.0</td>\n",
              "      <td>0.0</td>\n",
              "      <td>0.0</td>\n",
              "      <td>0.0</td>\n",
              "      <td>...</td>\n",
              "      <td>0.0</td>\n",
              "      <td>1.0</td>\n",
              "      <td>0.0</td>\n",
              "      <td>1.0</td>\n",
              "      <td>0.0</td>\n",
              "      <td>0.0</td>\n",
              "      <td>3.0</td>\n",
              "      <td>5.92000</td>\n",
              "      <td>1.0</td>\n",
              "      <td>50.3692</td>\n",
              "    </tr>\n",
              "    <tr>\n",
              "      <th>1346</th>\n",
              "      <td>1.0</td>\n",
              "      <td>0.0</td>\n",
              "      <td>0.0</td>\n",
              "      <td>0.0</td>\n",
              "      <td>0.0</td>\n",
              "      <td>0.0</td>\n",
              "      <td>0.0</td>\n",
              "      <td>0.0</td>\n",
              "      <td>0.0</td>\n",
              "      <td>0.0</td>\n",
              "      <td>...</td>\n",
              "      <td>0.0</td>\n",
              "      <td>1.0</td>\n",
              "      <td>0.0</td>\n",
              "      <td>0.0</td>\n",
              "      <td>1.0</td>\n",
              "      <td>0.0</td>\n",
              "      <td>2.0</td>\n",
              "      <td>15.60000</td>\n",
              "      <td>0.0</td>\n",
              "      <td>111.8544</td>\n",
              "    </tr>\n",
              "    <tr>\n",
              "      <th>3582</th>\n",
              "      <td>0.0</td>\n",
              "      <td>0.0</td>\n",
              "      <td>0.0</td>\n",
              "      <td>0.0</td>\n",
              "      <td>0.0</td>\n",
              "      <td>0.0</td>\n",
              "      <td>1.0</td>\n",
              "      <td>0.0</td>\n",
              "      <td>0.0</td>\n",
              "      <td>0.0</td>\n",
              "      <td>...</td>\n",
              "      <td>0.0</td>\n",
              "      <td>1.0</td>\n",
              "      <td>0.0</td>\n",
              "      <td>0.0</td>\n",
              "      <td>1.0</td>\n",
              "      <td>0.0</td>\n",
              "      <td>2.0</td>\n",
              "      <td>13.30000</td>\n",
              "      <td>1.0</td>\n",
              "      <td>59.7536</td>\n",
              "    </tr>\n",
              "  </tbody>\n",
              "</table>\n",
              "<p>6392 rows × 27 columns</p>\n",
              "</div>\n",
              "      <button class=\"colab-df-convert\" onclick=\"convertToInteractive('df-380032f9-16fb-4536-8cc7-1f59025de177')\"\n",
              "              title=\"Convert this dataframe to an interactive table.\"\n",
              "              style=\"display:none;\">\n",
              "        \n",
              "  <svg xmlns=\"http://www.w3.org/2000/svg\" height=\"24px\"viewBox=\"0 0 24 24\"\n",
              "       width=\"24px\">\n",
              "    <path d=\"M0 0h24v24H0V0z\" fill=\"none\"/>\n",
              "    <path d=\"M18.56 5.44l.94 2.06.94-2.06 2.06-.94-2.06-.94-.94-2.06-.94 2.06-2.06.94zm-11 1L8.5 8.5l.94-2.06 2.06-.94-2.06-.94L8.5 2.5l-.94 2.06-2.06.94zm10 10l.94 2.06.94-2.06 2.06-.94-2.06-.94-.94-2.06-.94 2.06-2.06.94z\"/><path d=\"M17.41 7.96l-1.37-1.37c-.4-.4-.92-.59-1.43-.59-.52 0-1.04.2-1.43.59L10.3 9.45l-7.72 7.72c-.78.78-.78 2.05 0 2.83L4 21.41c.39.39.9.59 1.41.59.51 0 1.02-.2 1.41-.59l7.78-7.78 2.81-2.81c.8-.78.8-2.07 0-2.86zM5.41 20L4 18.59l7.72-7.72 1.47 1.35L5.41 20z\"/>\n",
              "  </svg>\n",
              "      </button>\n",
              "      \n",
              "  <style>\n",
              "    .colab-df-container {\n",
              "      display:flex;\n",
              "      flex-wrap:wrap;\n",
              "      gap: 12px;\n",
              "    }\n",
              "\n",
              "    .colab-df-convert {\n",
              "      background-color: #E8F0FE;\n",
              "      border: none;\n",
              "      border-radius: 50%;\n",
              "      cursor: pointer;\n",
              "      display: none;\n",
              "      fill: #1967D2;\n",
              "      height: 32px;\n",
              "      padding: 0 0 0 0;\n",
              "      width: 32px;\n",
              "    }\n",
              "\n",
              "    .colab-df-convert:hover {\n",
              "      background-color: #E2EBFA;\n",
              "      box-shadow: 0px 1px 2px rgba(60, 64, 67, 0.3), 0px 1px 3px 1px rgba(60, 64, 67, 0.15);\n",
              "      fill: #174EA6;\n",
              "    }\n",
              "\n",
              "    [theme=dark] .colab-df-convert {\n",
              "      background-color: #3B4455;\n",
              "      fill: #D2E3FC;\n",
              "    }\n",
              "\n",
              "    [theme=dark] .colab-df-convert:hover {\n",
              "      background-color: #434B5C;\n",
              "      box-shadow: 0px 1px 3px 1px rgba(0, 0, 0, 0.15);\n",
              "      filter: drop-shadow(0px 1px 2px rgba(0, 0, 0, 0.3));\n",
              "      fill: #FFFFFF;\n",
              "    }\n",
              "  </style>\n",
              "\n",
              "      <script>\n",
              "        const buttonEl =\n",
              "          document.querySelector('#df-380032f9-16fb-4536-8cc7-1f59025de177 button.colab-df-convert');\n",
              "        buttonEl.style.display =\n",
              "          google.colab.kernel.accessAllowed ? 'block' : 'none';\n",
              "\n",
              "        async function convertToInteractive(key) {\n",
              "          const element = document.querySelector('#df-380032f9-16fb-4536-8cc7-1f59025de177');\n",
              "          const dataTable =\n",
              "            await google.colab.kernel.invokeFunction('convertToInteractive',\n",
              "                                                     [key], {});\n",
              "          if (!dataTable) return;\n",
              "\n",
              "          const docLinkHtml = 'Like what you see? Visit the ' +\n",
              "            '<a target=\"_blank\" href=https://colab.research.google.com/notebooks/data_table.ipynb>data table notebook</a>'\n",
              "            + ' to learn more about interactive tables.';\n",
              "          element.innerHTML = '';\n",
              "          dataTable['output_type'] = 'display_data';\n",
              "          await google.colab.output.renderOutput(dataTable, element);\n",
              "          const docLink = document.createElement('div');\n",
              "          docLink.innerHTML = docLinkHtml;\n",
              "          element.appendChild(docLink);\n",
              "        }\n",
              "      </script>\n",
              "    </div>\n",
              "  </div>\n",
              "  "
            ]
          },
          "metadata": {}
        }
      ],
      "source": [
        "#Establish each pipeline for different feature types\n",
        "categorical_features = ['Item_Type','Outlet_Location_Type','Outlet_Type']\n",
        "cat_pipe = Pipeline(steps=[\n",
        "    ('simpleimputer', SimpleImputer(strategy='most_frequent')),\n",
        "    ('onehotencoder', OneHotEncoder(handle_unknown='ignore', sparse_output=False))])\n",
        "\n",
        "categorical_ordinal_features = ['Outlet_Size']\n",
        "cat_ord_pipe = Pipeline(steps=[\n",
        "    ('simpleimputer', SimpleImputer(strategy='constant', fill_value='Missing')),\n",
        "    ('onehotencoder', OrdinalEncoder(handle_unknown='error',\n",
        "                                     categories=[['Missing','Small','Medium','High']]))])\n",
        "\n",
        "#REMOVED SCALER BELOW!\n",
        "num_features = ['Item_Weight','Item_Fat_Content','Item_MRP']\n",
        "num_pipe = Pipeline(steps=[\n",
        "    ('simpleimputer', SimpleImputer())])\n",
        "\n",
        "#Create rail switch to correctly route each column to the correct pipel\n",
        "preprocessor = make_column_transformer(\n",
        "    (cat_pipe, categorical_features),\n",
        "    (cat_ord_pipe, categorical_ordinal_features),\n",
        "    (num_pipe, num_features), verbose_feature_names_out=False)\n",
        "preprocessor\n",
        "\n",
        "#We first need to fit each step in our pipeline to the training data.\n",
        "preprocessor.fit(X_train)\n",
        "#Now we can transform our data, with the steps specified in the pipeline\n",
        "Xprocessed_train_unscaled_df = pd.DataFrame(preprocessor.transform(X_train),\n",
        "                          columns=preprocessor.get_feature_names_out(),\n",
        "                          index=X_train.index)\n",
        "Xprocessed_test_unscaled_df = pd.DataFrame(preprocessor.transform(X_test),\n",
        "                                  columns=preprocessor.get_feature_names_out(),\n",
        "                                  index=X_test.index)\n",
        "display(Xprocessed_train_unscaled_df)"
      ],
      "id": "XnHfFYpNqBXi"
    },
    {
      "cell_type": "markdown",
      "source": [
        "Run the following cell to train the network on **unstandardized** *Big Mart* data."
      ],
      "metadata": {
        "id": "jyFxqXz_wcy1"
      },
      "id": "jyFxqXz_wcy1"
    },
    {
      "cell_type": "code",
      "execution_count": 39,
      "metadata": {
        "id": "SDr1N---qGBt",
        "colab": {
          "base_uri": "https://localhost:8080/",
          "height": 504
        },
        "outputId": "5fcb7c29-3e37-46ab-fd50-27cd84cb6fb8"
      },
      "outputs": [
        {
          "output_type": "stream",
          "name": "stdout",
          "text": [
            "Minimum Validation Loss: 2122.3262\n"
          ]
        },
        {
          "output_type": "display_data",
          "data": {
            "text/plain": [
              "<Figure size 640x480 with 1 Axes>"
            ],
            "image/png": "[encoded data removed]"
          },
          "metadata": {}
        }
      ],
      "source": [
        "model = keras.Sequential([\n",
        "    layers.Dense(512, activation='relu', input_shape=input_shape),\n",
        "    layers.Dense(512, activation='relu'),\n",
        "    layers.Dense(512, activation='relu'),\n",
        "    layers.Dense(1),\n",
        "])\n",
        "\n",
        "model.compile(\n",
        "    optimizer='sgd', # SGD is more sensitive to differences of scale\n",
        "    loss='mae',\n",
        "    metrics=['mae'],\n",
        ")\n",
        "\n",
        "history = model.fit(\n",
        "    Xprocessed_train_unscaled_df, y_train_orig,\n",
        "    validation_data=(Xprocessed_test_unscaled_df, y_test_orig),\n",
        "    batch_size=64,\n",
        "    epochs=50,\n",
        "    verbose=0,\n",
        ")\n",
        "\n",
        "history_df = pd.DataFrame(history.history)\n",
        "history_df.loc[2:, ['loss', 'val_loss']].plot()\n",
        "print(\"Minimum Validation Loss: {:0.4f}\".format(history_df['val_loss'].min()))"
      ],
      "id": "SDr1N---qGBt"
    },
    {
      "cell_type": "markdown",
      "source": [
        "### Q: *Trying to train this network on the dataset without scaling of input features may fail. Did you end up with a blank graph? If you did indeed get a graph of the training and validation loss curves, what do you notice about the value of loss at convergence?*\n",
        "\n",
        "Please explain your answer in the empty cell below."
      ],
      "metadata": {
        "id": "_iI3n1w-w0LI"
      },
      "id": "_iI3n1w-w0LI"
    },
    {
      "cell_type": "markdown",
      "metadata": {
        "id": "yMBEU5A_qIzI"
      },
      "source": [
        "Answer:  The graph is very weird as the error is flat for validation and the training loss has a spike but then goes flat. The error is constant which means there is some limiting factor that causes it to max out or peak out. "
      ],
      "id": "yMBEU5A_qIzI"
    },
    {
      "cell_type": "markdown",
      "source": [
        "Batch normalization can help correct problems like this!"
      ],
      "metadata": {
        "id": "UkJLNmRjzjGH"
      },
      "id": "UkJLNmRjzjGH"
    },
    {
      "cell_type": "markdown",
      "source": [
        "## 4) Add Batch Normalization Layers\n",
        "\n",
        "Add four `BatchNormalization` layers, one before each of the dense layers. (Remember to move the `input_shape` argument to the new first layer.)"
      ],
      "metadata": {
        "id": "Uap4MpWTu5U3"
      },
      "id": "Uap4MpWTu5U3"
    },
    {
      "cell_type": "code",
      "execution_count": 40,
      "metadata": {
        "id": "aOV2prLTqIJz"
      },
      "outputs": [],
      "source": [
        "# YOUR CODE HERE: Add a BatchNormalization layer before each Dense layer\n",
        "\n",
        "model = keras.Sequential([\n",
        "    layers.BatchNormalization(input_shape=[Xprocessed_train_unscaled_df.shape[1]]), # Batch Normalization including input shape\n",
        "    layers.Dense(512, activation='relu'), # Dense layer with ReLU\n",
        "    layers.BatchNormalization(), # Batch Normalization\n",
        "    layers.Dense(512, activation='relu'), # Dense layer with ReLU\n",
        "    layers.BatchNormalization(), # Batch Normalization\n",
        "    layers.Dense(512, activation='relu'), # Dense layer with ReLU\n",
        "    layers.BatchNormalization(), # Batch Normalization\n",
        "    layers.Dense(1), # Dense output layer \n",
        "])"
      ],
      "id": "aOV2prLTqIJz"
    },
    {
      "cell_type": "markdown",
      "source": [
        "## 5) Evaluate Batch Normalization\n",
        "\n",
        "Run the next cell to see if batch normalization will improve training of the model."
      ],
      "metadata": {
        "id": "ttgSdqceyRE6"
      },
      "id": "ttgSdqceyRE6"
    },
    {
      "cell_type": "code",
      "execution_count": 41,
      "metadata": {
        "id": "kGcNCHvMqLve",
        "colab": {
          "base_uri": "https://localhost:8080/",
          "height": 504
        },
        "outputId": "b9f30f06-3595-4a7b-f51e-9e11d140cc4b"
      },
      "outputs": [
        {
          "output_type": "stream",
          "name": "stdout",
          "text": [
            "Minimum Validation Loss: 749.0551\n"
          ]
        },
        {
          "output_type": "display_data",
          "data": {
            "text/plain": [
              "<Figure size 640x480 with 1 Axes>"
            ],
            "image/png": "[encoded data removed]"
          },
          "metadata": {}
        }
      ],
      "source": [
        "model.compile(\n",
        "    optimizer='sgd', # SGD is more sensitive to differences of scale\n",
        "    loss='mae',\n",
        "    metrics=['mae'],\n",
        ")\n",
        "\n",
        "history = model.fit(\n",
        "    Xprocessed_train_df, y_train_orig,\n",
        "    validation_data=(Xprocessed_test_df, y_test_orig),\n",
        "    batch_size=16,\n",
        "    epochs=50,\n",
        "    verbose=0,\n",
        ")\n",
        "\n",
        "history_df = pd.DataFrame(history.history)\n",
        "history_df.loc[:, ['loss', 'val_loss']].plot()\n",
        "print(\"Minimum Validation Loss: {:0.4f}\".format(history_df['val_loss'].min()))"
      ],
      "id": "kGcNCHvMqLve"
    },
    {
      "cell_type": "markdown",
      "source": [
        "### Q: *Did adding bach normalization help?*\n",
        "\n",
        "Please explain your answer in the empty cell below."
      ],
      "metadata": {
        "id": "yE1KprLiynPs"
      },
      "id": "yE1KprLiynPs"
    },
    {
      "cell_type": "markdown",
      "source": [
        "Answer:  Seems like it. it stopped at orange layer became flat and not going up. Thus it helps to some extend."
      ],
      "metadata": {
        "id": "lAZV3Cu6yvQQ"
      },
      "id": "lAZV3Cu6yvQQ"
    },
    {
      "cell_type": "markdown",
      "source": [
        "By adaptively scaling the data as it passes through the network, batch normalization can let you train models on difficult datasets."
      ],
      "metadata": {
        "id": "oo3D3X9KzPjY"
      },
      "id": "oo3D3X9KzPjY"
    },
    {
      "cell_type": "markdown",
      "metadata": {
        "id": "b8bP8xA5sr-H"
      },
      "source": [
        "---\n",
        "# Lab Exercise 3. *Binary classification*\n",
        "\n"
      ],
      "id": "b8bP8xA5sr-H"
    },
    {
      "cell_type": "markdown",
      "source": [
        "## Loading the Data"
      ],
      "metadata": {
        "id": "iwOY8MExkIs9"
      },
      "id": "iwOY8MExkIs9"
    },
    {
      "cell_type": "code",
      "execution_count": 47,
      "metadata": {
        "id": "9t9BGJl2sqFR"
      },
      "outputs": [],
      "source": [
        "target = \"Item_Outlet_Sales\"\n",
        "y = df_sales[target].copy()\n",
        "y_median = y.median()\n",
        "X = df_sales.drop(columns=[target]).copy()\n",
        "\n",
        "X_train, X_test, y_train, y_test = train_test_split(X, y, random_state=42) #default is 80/20\n",
        "X_train.head(3)\n",
        "\n",
        "Xprocessed_train_unscaled_df = pd.DataFrame(preprocessor.transform(X_train),\n",
        "                          columns=preprocessor.get_feature_names_out(),\n",
        "                          index=X_train.index)\n",
        "Xprocessed_test_unscaled_df = pd.DataFrame(preprocessor.transform(X_test),\n",
        "                                  columns=preprocessor.get_feature_names_out(),\n",
        "                                  index=X_test.index)\n",
        "\n",
        "y_train_class = (y_train > y_median).astype('int')\n",
        "y_test_class = (y_test > y_median).astype('int')"
      ],
      "id": "9t9BGJl2sqFR"
    },
    {
      "cell_type": "code",
      "execution_count": 48,
      "metadata": {
        "id": "gnnEDOmdtE8d",
        "colab": {
          "base_uri": "https://localhost:8080/"
        },
        "outputId": "d81bf994-5ac3-49f7-aa21-0eb73ae47682"
      },
      "outputs": [
        {
          "output_type": "execute_result",
          "data": {
            "text/plain": [
              "0    1090\n",
              "1    1041\n",
              "Name: Item_Outlet_Sales, dtype: int64"
            ]
          },
          "metadata": {},
          "execution_count": 48
        }
      ],
      "source": [
        "y_test_class.value_counts()"
      ],
      "id": "gnnEDOmdtE8d"
    },
    {
      "cell_type": "markdown",
      "metadata": {
        "id": "47fsAKPSqyXu"
      },
      "source": [
        "\n",
        "## 1) Define Model \n",
        "\n",
        "The model we'll use this time will have both batch normalization and dropout layers. To ease reading we've broken the diagram into blocks, but you can define it layer by layer as usual.\n",
        "\n",
        "Define a model with an architecture given by this diagram:\n",
        "\n",
        "<figure style=\"padding: 1em;\">\n",
        "<img src=\"https://i.ibb.co/1nhLzZ9/data-schema.png\" width=\"400\" alt=\"Diagram of network architecture: BatchNorm, Dense, BatchNorm, Dropout, Dense, BatchNorm, Dropout, Dense.\">\n",
        "<figcaption style=\"textalign: center; font-style: italic\"><center>Diagram of a binary classifier.</center></figcaption>\n",
        "</figure>\n"
      ],
      "id": "47fsAKPSqyXu"
    },
    {
      "cell_type": "code",
      "execution_count": 49,
      "metadata": {
        "id": "z6y-kJdgsFyj"
      },
      "outputs": [],
      "source": [
        "# YOUR CODE HERE: Define the model given in the diagram\n",
        "\n",
        "model = keras.Sequential([\n",
        "    layers.BatchNormalization(input_shape=[Xprocessed_train_unscaled_df.shape[1]]), # Batch Normalization with input shape\n",
        "    layers.Dense(64, activation='relu'), # Dense layer with ReLU\n",
        "    layers.BatchNormalization(), # Batch Normalization\n",
        "    layers.Dropout(rate=0.1), # Dropout layer 0.1\n",
        "    layers.Dense(64, activation='relu'), # Dense layer with ReLU\n",
        "    layers.BatchNormalization(), # Batch Normalization\n",
        "    layers.Dropout(rate=0.1), # Dropout layer 0.1\n",
        "    layers.Dense(1, activation='sigmoid'), # Dense output layer with sigmoid\n",
        "])\n"
      ],
      "id": "z6y-kJdgsFyj"
    },
    {
      "cell_type": "markdown",
      "metadata": {
        "id": "Spoaus36sMKW"
      },
      "source": [
        "## 2) Add Optimizer, Loss Function and Evaluation Metric\n",
        "\n",
        "Now compile the model with the Adam optimizer and binary versions of the cross-entropy loss and accuracy metric."
      ],
      "id": "Spoaus36sMKW"
    },
    {
      "cell_type": "code",
      "execution_count": 50,
      "metadata": {
        "id": "_GweYKpTsQO9"
      },
      "outputs": [],
      "source": [
        "# YOUR CODE HERE: Compile the model with the Adam optimizer and binary versions of the cross-entropy loss and accuracy metric\n",
        "\n",
        "model.compile(\n",
        "    optimizer = 'adam', # optimizer\n",
        "    loss = 'binary_crossentropy' , # loss function for binary classification\n",
        "    metrics = ['binary_accuracy'] # metric for binary classification\n",
        ")"
      ],
      "id": "_GweYKpTsQO9"
    },
    {
      "cell_type": "markdown",
      "source": [
        "## 3) Train and Evaluate\n",
        "\n",
        "Run the cell below to train the model and view the learning curves. It could take a minute or two. "
      ],
      "metadata": {
        "id": "r-3Uz78z2KlQ"
      },
      "id": "r-3Uz78z2KlQ"
    },
    {
      "cell_type": "code",
      "execution_count": 51,
      "metadata": {
        "id": "x8-H0--TsXBl",
        "colab": {
          "base_uri": "https://localhost:8080/",
          "height": 972
        },
        "outputId": "5d0a0e65-5579-4dfc-a90d-676019364839"
      },
      "outputs": [
        {
          "output_type": "execute_result",
          "data": {
            "text/plain": [
              "<Axes: title={'center': 'Accuracy'}>"
            ]
          },
          "metadata": {},
          "execution_count": 51
        },
        {
          "output_type": "display_data",
          "data": {
            "text/plain": [
              "<Figure size 640x480 with 1 Axes>"
            ],
            "image/png": "[encoded data removed]"
          },
          "metadata": {}
        },
        {
          "output_type": "display_data",
          "data": {
            "text/plain": [
              "<Figure size 640x480 with 1 Axes>"
            ],
            "image/png": "[encoded data removed]"
          },
          "metadata": {}
        }
      ],
      "source": [
        "early_stopping = keras.callbacks.EarlyStopping(\n",
        "    patience=15,\n",
        "    min_delta=0.0001,\n",
        "    restore_best_weights=True,\n",
        ")\n",
        "history = model.fit(\n",
        "    Xprocessed_train_unscaled_df, y_train_class,\n",
        "    validation_data=(Xprocessed_test_unscaled_df, y_test_class),\n",
        "    batch_size=16,\n",
        "    verbose=0,\n",
        "    epochs=200,\n",
        "    callbacks=[early_stopping],\n",
        ")\n",
        "\n",
        "history_df = pd.DataFrame(history.history)\n",
        "history_df.loc[:, ['loss', 'val_loss']].plot(title=\"Cross-entropy\")\n",
        "history_df.loc[:, ['binary_accuracy', 'val_binary_accuracy']].plot(title=\"Accuracy\")"
      ],
      "id": "x8-H0--TsXBl"
    },
    {
      "cell_type": "markdown",
      "metadata": {
        "id": "bu5M11TRscum"
      },
      "source": [
        "### Q: *What do you think about the learning curves? Does it look like the model underfit or overfit? Was the cross-entropy loss a good stand-in for accuracy?*\n",
        "\n",
        "Please explain your answer in the empty cell below.\n",
        "\n"
      ],
      "id": "bu5M11TRscum"
    },
    {
      "cell_type": "markdown",
      "source": [
        "Answer: In both we can see that the training loss keeps improving over time or eopchs. the validation loss improves then starts decreasing suggesting that the model is trying to overfit the data . Even with the early stop and drop out and batch normalization we can see that the its not helping as the validation loss starts to go up. \n",
        "Cross entropy seems like a good measure and cn be used for accuracy. The accuracy seems to be have some more variations as compared to the the cross entropy. I think it might be due to the converting the predictions into labels and then calculating errors while the cross entropy takes the value directly."
      ],
      "metadata": {
        "id": "6d2Zz4xv1XMj"
      },
      "id": "6d2Zz4xv1XMj"
    },
    {
      "cell_type": "code",
      "source": [],
      "metadata": {
        "id": "NgA6HTgNvD6l"
      },
      "id": "NgA6HTgNvD6l",
      "execution_count": null,
      "outputs": []
    }
  ],
  "metadata": {
    "colab": {
      "provenance": [],
      "toc_visible": true
    },
    "kernelspec": {
      "display_name": "Python 3 (ipykernel)",
      "language": "python",
      "name": "python3"
    },
    "language_info": {
      "codemirror_mode": {
        "name": "ipython",
        "version": 3
      },
      "file_extension": ".py",
      "mimetype": "text/x-python",
      "name": "python",
      "nbconvert_exporter": "python",
      "pygments_lexer": "ipython3",
      "version": "3.11.2"
    }
  },
  "nbformat": 4,
  "nbformat_minor": 5
}