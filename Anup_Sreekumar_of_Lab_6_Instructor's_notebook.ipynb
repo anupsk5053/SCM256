{
  "cells": [
    {
      "cell_type": "markdown",
      "metadata": {
        "id": "79yFdN0aujRA"
      },
      "source": [
        "**Lab 5** \\\\\n",
        "Explainable AI and Shap"
      ]
    },
    {
      "cell_type": "code",
      "source": [
        "!pip install shap"
      ],
      "metadata": {
        "id": "y07W7wOn6ogv",
        "outputId": "aaccf28d-9b30-4acf-f52f-8ef797a4f21a",
        "colab": {
          "base_uri": "https://localhost:8080/"
        }
      },
      "execution_count": null,
      "outputs": [
        {
          "output_type": "stream",
          "name": "stdout",
          "text": [
            "Looking in indexes: https://pypi.org/simple, https://us-python.pkg.dev/colab-wheels/public/simple/\n",
            "Collecting shap\n",
            "  Downloading shap-0.41.0-cp39-cp39-manylinux_2_12_x86_64.manylinux2010_x86_64.whl (572 kB)\n",
            "\u001b[2K     \u001b[90m━━━━━━━━━━━━━━━━━━━━━━━━━━━━━━━━━━━━━━━\u001b[0m \u001b[32m572.4/572.4 KB\u001b[0m \u001b[31m9.2 MB/s\u001b[0m eta \u001b[36m0:00:00\u001b[0m\n",
            "\u001b[?25hRequirement already satisfied: packaging>20.9 in /usr/local/lib/python3.9/dist-packages (from shap) (23.0)\n",
            "Collecting slicer==0.0.7\n",
            "  Downloading slicer-0.0.7-py3-none-any.whl (14 kB)\n",
            "Requirement already satisfied: scikit-learn in /usr/local/lib/python3.9/dist-packages (from shap) (1.2.2)\n",
            "Requirement already satisfied: scipy in /usr/local/lib/python3.9/dist-packages (from shap) (1.10.1)\n",
            "Requirement already satisfied: numba in /usr/local/lib/python3.9/dist-packages (from shap) (0.56.4)\n",
            "Requirement already satisfied: tqdm>4.25.0 in /usr/local/lib/python3.9/dist-packages (from shap) (4.65.0)\n",
            "Requirement already satisfied: pandas in /usr/local/lib/python3.9/dist-packages (from shap) (1.4.4)\n",
            "Requirement already satisfied: numpy in /usr/local/lib/python3.9/dist-packages (from shap) (1.22.4)\n",
            "Requirement already satisfied: cloudpickle in /usr/local/lib/python3.9/dist-packages (from shap) (2.2.1)\n",
            "Requirement already satisfied: setuptools in /usr/local/lib/python3.9/dist-packages (from numba->shap) (63.4.3)\n",
            "Requirement already satisfied: llvmlite<0.40,>=0.39.0dev0 in /usr/local/lib/python3.9/dist-packages (from numba->shap) (0.39.1)\n",
            "Requirement already satisfied: pytz>=2020.1 in /usr/local/lib/python3.9/dist-packages (from pandas->shap) (2022.7.1)\n",
            "Requirement already satisfied: python-dateutil>=2.8.1 in /usr/local/lib/python3.9/dist-packages (from pandas->shap) (2.8.2)\n",
            "Requirement already satisfied: threadpoolctl>=2.0.0 in /usr/local/lib/python3.9/dist-packages (from scikit-learn->shap) (3.1.0)\n",
            "Requirement already satisfied: joblib>=1.1.1 in /usr/local/lib/python3.9/dist-packages (from scikit-learn->shap) (1.1.1)\n",
            "Requirement already satisfied: six>=1.5 in /usr/local/lib/python3.9/dist-packages (from python-dateutil>=2.8.1->pandas->shap) (1.15.0)\n",
            "Installing collected packages: slicer, shap\n",
            "Successfully installed shap-0.41.0 slicer-0.0.7\n"
          ]
        }
      ]
    },
    {
      "cell_type": "code",
      "execution_count": null,
      "metadata": {
        "id": "OKl22cMkuVBH"
      },
      "outputs": [],
      "source": [
        "import pandas as pd \n",
        "import numpy as np\n",
        "import matplotlib.pyplot as plt \n",
        "import seaborn as sns\n",
        "from sklearn.model_selection import train_test_split\n",
        "from sklearn.metrics import mean_squared_error, mean_absolute_error, mean_absolute_percentage_error\n",
        "import xgboost\n",
        "import shap\n",
        "\n",
        "# Create pipelines\n",
        "from sklearn.pipeline import Pipeline \n",
        "\n",
        "# Import the preprocessing class\n",
        "from sklearn.preprocessing import OrdinalEncoder\n",
        "from sklearn.preprocessing import OneHotEncoder"
      ]
    },
    {
      "cell_type": "code",
      "execution_count": null,
      "metadata": {
        "id": "R0QmPxgkytpR"
      },
      "outputs": [],
      "source": [
        "X = pd.read_parquet('X.parquet')\n",
        "y = pd.read_parquet('y.parquet')\n",
        "base = pd.read_parquet('base_data.parquet')"
      ]
    },
    {
      "cell_type": "code",
      "source": [
        "my_featuers = X[['matched_carriers_count', 'weight', 'direct_mileage', 'team_driver']]"
      ],
      "metadata": {
        "id": "aYqdh7eF7TdN"
      },
      "execution_count": null,
      "outputs": []
    },
    {
      "cell_type": "code",
      "source": [
        "mask = np.triu(np.ones_like(my_featuers.corr(), dtype=np.bool))\n",
        "heatmap = sns.heatmap(my_featuers.corr(), mask=mask, vmin=-1, vmax=1, annot=True, cmap='BrBG')\n",
        "fig = plt.gcf()\n",
        "fig.set_size_inches(12, 8)"
      ],
      "metadata": {
        "colab": {
          "base_uri": "https://localhost:8080/",
          "height": 652
        },
        "id": "F0b1Ml8iPBg1",
        "outputId": "593c7334-b0eb-4645-a748-53fce07c98fc"
      },
      "execution_count": null,
      "outputs": [
        {
          "output_type": "stream",
          "name": "stderr",
          "text": [
            "`np.bool` is a deprecated alias for the builtin `bool`. To silence this warning, use `bool` by itself. Doing this will not modify any behavior and is safe. If you specifically wanted the numpy scalar type, use `np.bool_` here.\n",
            "Deprecated in NumPy 1.20; for more details and guidance: https://numpy.org/devdocs/release/1.20.0-notes.html#deprecations\n"
          ]
        },
        {
          "output_type": "display_data",
          "data": {
            "text/plain": [
              "<Figure size 864x576 with 2 Axes>"
            ],
            "image/png": "[encoded data removed]"
          },
          "metadata": {
            "needs_background": "light"
          }
        }
      ]
    },
    {
      "cell_type": "code",
      "source": [
        "model = xgboost.XGBRegressor(random_state=0).fit(my_featuers, y)\n",
        "explainer = shap.Explainer(model)\n",
        "shap_values = explainer(my_featuers)\n",
        "shap.plots.bar(shap_values, max_display=20)"
      ],
      "metadata": {
        "colab": {
          "base_uri": "https://localhost:8080/",
          "height": 272
        },
        "id": "M1FDskfe_dsQ",
        "outputId": "63652251-ac9c-4baa-85fc-fbea639b729c"
      },
      "execution_count": null,
      "outputs": [
        {
          "output_type": "stream",
          "name": "stderr",
          "text": [
            "ntree_limit is deprecated, use `iteration_range` or model slicing instead.\n"
          ]
        },
        {
          "output_type": "display_data",
          "data": {
            "text/plain": [
              "<Figure size 576x252 with 1 Axes>"
            ],
            "image/png": "[encoded data removed]"
          },
          "metadata": {}
        }
      ]
    },
    {
      "cell_type": "markdown",
      "source": [
        "If there is a perfect correlation between 2 column names, then you can drop one of them. Be strategic with time as it may taken . You can take smaller sample of data and then take it for shap. \n",
        "Team driver does not contribute much to price. "
      ],
      "metadata": {
        "id": "MHIddcC4FXTJ"
      }
    },
    {
      "cell_type": "code",
      "source": [
        "model = xgboost.XGBRFRegressor(random_state=0)\n",
        "X_train, X_test, y_train, y_test = train_test_split(my_featuers[['matched_carriers_count', 'weight', 'direct_mileage','team_driver']], y, random_state=0, shuffle=True)\n",
        "model.fit(X_train, y_train)\n",
        "print('R2', model.score(X_test, y_test))\n",
        "print('MAPE', mean_absolute_percentage_error(model.predict(X_test), y_test))"
      ],
      "metadata": {
        "id": "KezH_IxHFrLv",
        "outputId": "1aed729e-6322-4f93-aee2-6db2064b3d4b",
        "colab": {
          "base_uri": "https://localhost:8080/"
        }
      },
      "execution_count": null,
      "outputs": [
        {
          "output_type": "stream",
          "name": "stdout",
          "text": [
            "R2 0.7746348917245071\n",
            "MAPE 0.24156375125859492\n"
          ]
        }
      ]
    },
    {
      "cell_type": "code",
      "source": [
        "model = xgboost.XGBRFRegressor(random_state=0)\n",
        "X_train, X_test, y_train, y_test = train_test_split(my_featuers[['matched_carriers_count', 'weight', 'direct_mileage']], y, random_state=0, shuffle=True)\n",
        "model.fit(X_train, y_train)\n",
        "print('R2', model.score(X_test, y_test))\n",
        "print('MAPE', mean_absolute_percentage_error(model.predict(X_test), y_test))"
      ],
      "metadata": {
        "colab": {
          "base_uri": "https://localhost:8080/"
        },
        "id": "IKMljV9-RxbT",
        "outputId": "011cd382-d360-4057-bcb3-092a14a4ca17"
      },
      "execution_count": null,
      "outputs": [
        {
          "output_type": "stream",
          "name": "stdout",
          "text": [
            "R2 0.7744743949742138\n",
            "MAPE 0.2421522178540748\n"
          ]
        }
      ]
    },
    {
      "cell_type": "code",
      "source": [
        "x_col = list(X.columns)\n",
        "base_col = list(base.columns)\n",
        "duplicated_columns = [col for col in base_col if col in x_col]\n",
        "base.drop(columns=duplicated_columns, inplace=True)\n",
        "all_data=pd.concat([X, base, y], axis=1)"
      ],
      "metadata": {
        "id": "8jhvDmsY7LKn"
      },
      "execution_count": null,
      "outputs": []
    },
    {
      "cell_type": "code",
      "source": [
        "#this dataframe will be handy for in-class activity\n",
        "all_data"
      ],
      "metadata": {
        "colab": {
          "base_uri": "https://localhost:8080/",
          "height": 661
        },
        "id": "exqm0zgyVhuD",
        "outputId": "9290db35-fcb5-442b-8168-076a14bf6ddd"
      },
      "execution_count": null,
      "outputs": [
        {
          "output_type": "execute_result",
          "data": {
            "text/plain": [
              "       equipment_type  origin_latitude  origin_longitude  dest_latitude  \\\n",
              "0                   R            41.50            -87.31          34.04   \n",
              "1                   V            39.10            -84.51          40.75   \n",
              "2                   V            40.62           -105.01          38.75   \n",
              "3                   V            47.23           -122.24          34.02   \n",
              "4                   V            34.20           -118.50          37.66   \n",
              "...               ...              ...               ...            ...   \n",
              "251384              V            30.54            -91.13          30.17   \n",
              "251385              F            31.11            -83.42          27.77   \n",
              "251386              V            34.05           -117.46          32.96   \n",
              "251387              V            37.73           -121.52          37.91   \n",
              "251388              V            35.97            -84.14          33.75   \n",
              "\n",
              "        dest_longitude  matched_carriers_count  last_30_days  origin_hq_count  \\\n",
              "0              -117.36                     903          11.0            139.0   \n",
              "1               -84.07                    5900          43.0           1899.0   \n",
              "2               -90.14                    2606        1620.0            550.0   \n",
              "3              -117.55                    2774          41.0            138.0   \n",
              "4              -120.88                    4327        2321.0          15108.0   \n",
              "...                ...                     ...           ...              ...   \n",
              "251384          -94.18                    5084          46.0            838.0   \n",
              "251385          -82.39                     926           0.0            103.0   \n",
              "251386          -96.91                    2814           0.0           3181.0   \n",
              "251387         -121.25                    4327           5.0            881.0   \n",
              "251388          -84.59                    5663          49.0           1053.0   \n",
              "\n",
              "        dest_hq_count origin_kma  ... origin_country       dest_city  \\\n",
              "0               497.0     IN_GRY  ...            USA          colton   \n",
              "1               147.0     OH_CIN  ...            USA            lima   \n",
              "2               128.0     CO_DEN  ...            USA    granite city   \n",
              "3               100.0     WA_SEA  ...            USA   jurupa valley   \n",
              "4              1506.0     CA_LAX  ...            USA         modesto   \n",
              "...               ...        ...  ...            ...             ...   \n",
              "251384          510.0     LA_NEW  ...            USA        beaumont   \n",
              "251385           44.0     GA_TIF  ...            USA    apollo beach   \n",
              "251386          422.0     CA_ONT  ...            USA      carrollton   \n",
              "251387         2457.0     CA_STK  ...            USA        stockton   \n",
              "251388          213.0     TN_KNO  ...            USA  lithia springs   \n",
              "\n",
              "        dest_state  dest_zipcode  dest_country               pickup_date  \\\n",
              "0               ca         92324           USA 2019-04-11 07:00:00+00:00   \n",
              "1               oh         45804           USA 2020-06-15 12:00:00+00:00   \n",
              "2               il         62040           USA 2020-04-24 02:00:00+00:00   \n",
              "3               ca         91752           USA 2019-05-03 18:00:00+00:00   \n",
              "4               ca         95357           USA 2020-01-24 02:00:00+00:00   \n",
              "...            ...           ...           ...                       ...   \n",
              "251384          tx         77708           USA 2022-08-08 18:00:00+00:00   \n",
              "251385          fl         33572           USA 2022-08-18 11:00:00+00:00   \n",
              "251386          tx         75006           USA 2022-08-12 21:00:00+00:00   \n",
              "251387          ca         95206           USA 2022-08-15 18:00:00+00:00   \n",
              "251388          ga         30122           USA 2022-08-24 13:00:00+00:00   \n",
              "\n",
              "                             quote_date  origin_drop_trailer  \\\n",
              "0      2019-04-05 17:58:32.112000+00:00                False   \n",
              "1      2020-06-12 17:54:26.392000+00:00                False   \n",
              "2      2020-04-20 11:12:39.830000+00:00                False   \n",
              "3      2019-04-29 11:00:26.697000+00:00                False   \n",
              "4      2020-01-17 18:41:49.245000+00:00                False   \n",
              "...                                 ...                  ...   \n",
              "251384 2022-08-05 15:03:10.250000+00:00                False   \n",
              "251385 2022-08-04 12:22:42.311000+00:00                False   \n",
              "251386 2022-08-09 15:00:33.177000+00:00                False   \n",
              "251387 2022-08-10 14:25:04.723000+00:00                False   \n",
              "251388 2022-08-17 20:55:03.462000+00:00                False   \n",
              "\n",
              "        dest_drop_trailer  source_price  \n",
              "0                   False        3000.0  \n",
              "1                   False         450.0  \n",
              "2                   False         821.0  \n",
              "3                   False        1300.0  \n",
              "4                   False         815.0  \n",
              "...                   ...           ...  \n",
              "251384              False         800.0  \n",
              "251385              False        1300.0  \n",
              "251386              False        3900.0  \n",
              "251387              False         440.0  \n",
              "251388              False         850.0  \n",
              "\n",
              "[251389 rows x 34 columns]"
            ],
            "text/html": [
              "\n",
              "  <div id=\"df-c5faac5e-e8f2-4846-a568-c17c82f4dd94\">\n",
              "    <div class=\"colab-df-container\">\n",
              "      <div>\n",
              "<style scoped>\n",
              "    .dataframe tbody tr th:only-of-type {\n",
              "        vertical-align: middle;\n",
              "    }\n",
              "\n",
              "    .dataframe tbody tr th {\n",
              "        vertical-align: top;\n",
              "    }\n",
              "\n",
              "    .dataframe thead th {\n",
              "        text-align: right;\n",
              "    }\n",
              "</style>\n",
              "<table border=\"1\" class=\"dataframe\">\n",
              "  <thead>\n",
              "    <tr style=\"text-align: right;\">\n",
              "      <th></th>\n",
              "      <th>equipment_type</th>\n",
              "      <th>origin_latitude</th>\n",
              "      <th>origin_longitude</th>\n",
              "      <th>dest_latitude</th>\n",
              "      <th>dest_longitude</th>\n",
              "      <th>matched_carriers_count</th>\n",
              "      <th>last_30_days</th>\n",
              "      <th>origin_hq_count</th>\n",
              "      <th>dest_hq_count</th>\n",
              "      <th>origin_kma</th>\n",
              "      <th>...</th>\n",
              "      <th>origin_country</th>\n",
              "      <th>dest_city</th>\n",
              "      <th>dest_state</th>\n",
              "      <th>dest_zipcode</th>\n",
              "      <th>dest_country</th>\n",
              "      <th>pickup_date</th>\n",
              "      <th>quote_date</th>\n",
              "      <th>origin_drop_trailer</th>\n",
              "      <th>dest_drop_trailer</th>\n",
              "      <th>source_price</th>\n",
              "    </tr>\n",
              "  </thead>\n",
              "  <tbody>\n",
              "    <tr>\n",
              "      <th>0</th>\n",
              "      <td>R</td>\n",
              "      <td>41.50</td>\n",
              "      <td>-87.31</td>\n",
              "      <td>34.04</td>\n",
              "      <td>-117.36</td>\n",
              "      <td>903</td>\n",
              "      <td>11.0</td>\n",
              "      <td>139.0</td>\n",
              "      <td>497.0</td>\n",
              "      <td>IN_GRY</td>\n",
              "      <td>...</td>\n",
              "      <td>USA</td>\n",
              "      <td>colton</td>\n",
              "      <td>ca</td>\n",
              "      <td>92324</td>\n",
              "      <td>USA</td>\n",
              "      <td>2019-04-11 07:00:00+00:00</td>\n",
              "      <td>2019-04-05 17:58:32.112000+00:00</td>\n",
              "      <td>False</td>\n",
              "      <td>False</td>\n",
              "      <td>3000.0</td>\n",
              "    </tr>\n",
              "    <tr>\n",
              "      <th>1</th>\n",
              "      <td>V</td>\n",
              "      <td>39.10</td>\n",
              "      <td>-84.51</td>\n",
              "      <td>40.75</td>\n",
              "      <td>-84.07</td>\n",
              "      <td>5900</td>\n",
              "      <td>43.0</td>\n",
              "      <td>1899.0</td>\n",
              "      <td>147.0</td>\n",
              "      <td>OH_CIN</td>\n",
              "      <td>...</td>\n",
              "      <td>USA</td>\n",
              "      <td>lima</td>\n",
              "      <td>oh</td>\n",
              "      <td>45804</td>\n",
              "      <td>USA</td>\n",
              "      <td>2020-06-15 12:00:00+00:00</td>\n",
              "      <td>2020-06-12 17:54:26.392000+00:00</td>\n",
              "      <td>False</td>\n",
              "      <td>False</td>\n",
              "      <td>450.0</td>\n",
              "    </tr>\n",
              "    <tr>\n",
              "      <th>2</th>\n",
              "      <td>V</td>\n",
              "      <td>40.62</td>\n",
              "      <td>-105.01</td>\n",
              "      <td>38.75</td>\n",
              "      <td>-90.14</td>\n",
              "      <td>2606</td>\n",
              "      <td>1620.0</td>\n",
              "      <td>550.0</td>\n",
              "      <td>128.0</td>\n",
              "      <td>CO_DEN</td>\n",
              "      <td>...</td>\n",
              "      <td>USA</td>\n",
              "      <td>granite city</td>\n",
              "      <td>il</td>\n",
              "      <td>62040</td>\n",
              "      <td>USA</td>\n",
              "      <td>2020-04-24 02:00:00+00:00</td>\n",
              "      <td>2020-04-20 11:12:39.830000+00:00</td>\n",
              "      <td>False</td>\n",
              "      <td>False</td>\n",
              "      <td>821.0</td>\n",
              "    </tr>\n",
              "    <tr>\n",
              "      <th>3</th>\n",
              "      <td>V</td>\n",
              "      <td>47.23</td>\n",
              "      <td>-122.24</td>\n",
              "      <td>34.02</td>\n",
              "      <td>-117.55</td>\n",
              "      <td>2774</td>\n",
              "      <td>41.0</td>\n",
              "      <td>138.0</td>\n",
              "      <td>100.0</td>\n",
              "      <td>WA_SEA</td>\n",
              "      <td>...</td>\n",
              "      <td>USA</td>\n",
              "      <td>jurupa valley</td>\n",
              "      <td>ca</td>\n",
              "      <td>91752</td>\n",
              "      <td>USA</td>\n",
              "      <td>2019-05-03 18:00:00+00:00</td>\n",
              "      <td>2019-04-29 11:00:26.697000+00:00</td>\n",
              "      <td>False</td>\n",
              "      <td>False</td>\n",
              "      <td>1300.0</td>\n",
              "    </tr>\n",
              "    <tr>\n",
              "      <th>4</th>\n",
              "      <td>V</td>\n",
              "      <td>34.20</td>\n",
              "      <td>-118.50</td>\n",
              "      <td>37.66</td>\n",
              "      <td>-120.88</td>\n",
              "      <td>4327</td>\n",
              "      <td>2321.0</td>\n",
              "      <td>15108.0</td>\n",
              "      <td>1506.0</td>\n",
              "      <td>CA_LAX</td>\n",
              "      <td>...</td>\n",
              "      <td>USA</td>\n",
              "      <td>modesto</td>\n",
              "      <td>ca</td>\n",
              "      <td>95357</td>\n",
              "      <td>USA</td>\n",
              "      <td>2020-01-24 02:00:00+00:00</td>\n",
              "      <td>2020-01-17 18:41:49.245000+00:00</td>\n",
              "      <td>False</td>\n",
              "      <td>False</td>\n",
              "      <td>815.0</td>\n",
              "    </tr>\n",
              "    <tr>\n",
              "      <th>...</th>\n",
              "      <td>...</td>\n",
              "      <td>...</td>\n",
              "      <td>...</td>\n",
              "      <td>...</td>\n",
              "      <td>...</td>\n",
              "      <td>...</td>\n",
              "      <td>...</td>\n",
              "      <td>...</td>\n",
              "      <td>...</td>\n",
              "      <td>...</td>\n",
              "      <td>...</td>\n",
              "      <td>...</td>\n",
              "      <td>...</td>\n",
              "      <td>...</td>\n",
              "      <td>...</td>\n",
              "      <td>...</td>\n",
              "      <td>...</td>\n",
              "      <td>...</td>\n",
              "      <td>...</td>\n",
              "      <td>...</td>\n",
              "      <td>...</td>\n",
              "    </tr>\n",
              "    <tr>\n",
              "      <th>251384</th>\n",
              "      <td>V</td>\n",
              "      <td>30.54</td>\n",
              "      <td>-91.13</td>\n",
              "      <td>30.17</td>\n",
              "      <td>-94.18</td>\n",
              "      <td>5084</td>\n",
              "      <td>46.0</td>\n",
              "      <td>838.0</td>\n",
              "      <td>510.0</td>\n",
              "      <td>LA_NEW</td>\n",
              "      <td>...</td>\n",
              "      <td>USA</td>\n",
              "      <td>beaumont</td>\n",
              "      <td>tx</td>\n",
              "      <td>77708</td>\n",
              "      <td>USA</td>\n",
              "      <td>2022-08-08 18:00:00+00:00</td>\n",
              "      <td>2022-08-05 15:03:10.250000+00:00</td>\n",
              "      <td>False</td>\n",
              "      <td>False</td>\n",
              "      <td>800.0</td>\n",
              "    </tr>\n",
              "    <tr>\n",
              "      <th>251385</th>\n",
              "      <td>F</td>\n",
              "      <td>31.11</td>\n",
              "      <td>-83.42</td>\n",
              "      <td>27.77</td>\n",
              "      <td>-82.39</td>\n",
              "      <td>926</td>\n",
              "      <td>0.0</td>\n",
              "      <td>103.0</td>\n",
              "      <td>44.0</td>\n",
              "      <td>GA_TIF</td>\n",
              "      <td>...</td>\n",
              "      <td>USA</td>\n",
              "      <td>apollo beach</td>\n",
              "      <td>fl</td>\n",
              "      <td>33572</td>\n",
              "      <td>USA</td>\n",
              "      <td>2022-08-18 11:00:00+00:00</td>\n",
              "      <td>2022-08-04 12:22:42.311000+00:00</td>\n",
              "      <td>False</td>\n",
              "      <td>False</td>\n",
              "      <td>1300.0</td>\n",
              "    </tr>\n",
              "    <tr>\n",
              "      <th>251386</th>\n",
              "      <td>V</td>\n",
              "      <td>34.05</td>\n",
              "      <td>-117.46</td>\n",
              "      <td>32.96</td>\n",
              "      <td>-96.91</td>\n",
              "      <td>2814</td>\n",
              "      <td>0.0</td>\n",
              "      <td>3181.0</td>\n",
              "      <td>422.0</td>\n",
              "      <td>CA_ONT</td>\n",
              "      <td>...</td>\n",
              "      <td>USA</td>\n",
              "      <td>carrollton</td>\n",
              "      <td>tx</td>\n",
              "      <td>75006</td>\n",
              "      <td>USA</td>\n",
              "      <td>2022-08-12 21:00:00+00:00</td>\n",
              "      <td>2022-08-09 15:00:33.177000+00:00</td>\n",
              "      <td>False</td>\n",
              "      <td>False</td>\n",
              "      <td>3900.0</td>\n",
              "    </tr>\n",
              "    <tr>\n",
              "      <th>251387</th>\n",
              "      <td>V</td>\n",
              "      <td>37.73</td>\n",
              "      <td>-121.52</td>\n",
              "      <td>37.91</td>\n",
              "      <td>-121.25</td>\n",
              "      <td>4327</td>\n",
              "      <td>5.0</td>\n",
              "      <td>881.0</td>\n",
              "      <td>2457.0</td>\n",
              "      <td>CA_STK</td>\n",
              "      <td>...</td>\n",
              "      <td>USA</td>\n",
              "      <td>stockton</td>\n",
              "      <td>ca</td>\n",
              "      <td>95206</td>\n",
              "      <td>USA</td>\n",
              "      <td>2022-08-15 18:00:00+00:00</td>\n",
              "      <td>2022-08-10 14:25:04.723000+00:00</td>\n",
              "      <td>False</td>\n",
              "      <td>False</td>\n",
              "      <td>440.0</td>\n",
              "    </tr>\n",
              "    <tr>\n",
              "      <th>251388</th>\n",
              "      <td>V</td>\n",
              "      <td>35.97</td>\n",
              "      <td>-84.14</td>\n",
              "      <td>33.75</td>\n",
              "      <td>-84.59</td>\n",
              "      <td>5663</td>\n",
              "      <td>49.0</td>\n",
              "      <td>1053.0</td>\n",
              "      <td>213.0</td>\n",
              "      <td>TN_KNO</td>\n",
              "      <td>...</td>\n",
              "      <td>USA</td>\n",
              "      <td>lithia springs</td>\n",
              "      <td>ga</td>\n",
              "      <td>30122</td>\n",
              "      <td>USA</td>\n",
              "      <td>2022-08-24 13:00:00+00:00</td>\n",
              "      <td>2022-08-17 20:55:03.462000+00:00</td>\n",
              "      <td>False</td>\n",
              "      <td>False</td>\n",
              "      <td>850.0</td>\n",
              "    </tr>\n",
              "  </tbody>\n",
              "</table>\n",
              "<p>251389 rows × 34 columns</p>\n",
              "</div>\n",
              "      <button class=\"colab-df-convert\" onclick=\"convertToInteractive('df-c5faac5e-e8f2-4846-a568-c17c82f4dd94')\"\n",
              "              title=\"Convert this dataframe to an interactive table.\"\n",
              "              style=\"display:none;\">\n",
              "        \n",
              "  <svg xmlns=\"http://www.w3.org/2000/svg\" height=\"24px\"viewBox=\"0 0 24 24\"\n",
              "       width=\"24px\">\n",
              "    <path d=\"M0 0h24v24H0V0z\" fill=\"none\"/>\n",
              "    <path d=\"M18.56 5.44l.94 2.06.94-2.06 2.06-.94-2.06-.94-.94-2.06-.94 2.06-2.06.94zm-11 1L8.5 8.5l.94-2.06 2.06-.94-2.06-.94L8.5 2.5l-.94 2.06-2.06.94zm10 10l.94 2.06.94-2.06 2.06-.94-2.06-.94-.94-2.06-.94 2.06-2.06.94z\"/><path d=\"M17.41 7.96l-1.37-1.37c-.4-.4-.92-.59-1.43-.59-.52 0-1.04.2-1.43.59L10.3 9.45l-7.72 7.72c-.78.78-.78 2.05 0 2.83L4 21.41c.39.39.9.59 1.41.59.51 0 1.02-.2 1.41-.59l7.78-7.78 2.81-2.81c.8-.78.8-2.07 0-2.86zM5.41 20L4 18.59l7.72-7.72 1.47 1.35L5.41 20z\"/>\n",
              "  </svg>\n",
              "      </button>\n",
              "      \n",
              "  <style>\n",
              "    .colab-df-container {\n",
              "      display:flex;\n",
              "      flex-wrap:wrap;\n",
              "      gap: 12px;\n",
              "    }\n",
              "\n",
              "    .colab-df-convert {\n",
              "      background-color: #E8F0FE;\n",
              "      border: none;\n",
              "      border-radius: 50%;\n",
              "      cursor: pointer;\n",
              "      display: none;\n",
              "      fill: #1967D2;\n",
              "      height: 32px;\n",
              "      padding: 0 0 0 0;\n",
              "      width: 32px;\n",
              "    }\n",
              "\n",
              "    .colab-df-convert:hover {\n",
              "      background-color: #E2EBFA;\n",
              "      box-shadow: 0px 1px 2px rgba(60, 64, 67, 0.3), 0px 1px 3px 1px rgba(60, 64, 67, 0.15);\n",
              "      fill: #174EA6;\n",
              "    }\n",
              "\n",
              "    [theme=dark] .colab-df-convert {\n",
              "      background-color: #3B4455;\n",
              "      fill: #D2E3FC;\n",
              "    }\n",
              "\n",
              "    [theme=dark] .colab-df-convert:hover {\n",
              "      background-color: #434B5C;\n",
              "      box-shadow: 0px 1px 3px 1px rgba(0, 0, 0, 0.15);\n",
              "      filter: drop-shadow(0px 1px 2px rgba(0, 0, 0, 0.3));\n",
              "      fill: #FFFFFF;\n",
              "    }\n",
              "  </style>\n",
              "\n",
              "      <script>\n",
              "        const buttonEl =\n",
              "          document.querySelector('#df-c5faac5e-e8f2-4846-a568-c17c82f4dd94 button.colab-df-convert');\n",
              "        buttonEl.style.display =\n",
              "          google.colab.kernel.accessAllowed ? 'block' : 'none';\n",
              "\n",
              "        async function convertToInteractive(key) {\n",
              "          const element = document.querySelector('#df-c5faac5e-e8f2-4846-a568-c17c82f4dd94');\n",
              "          const dataTable =\n",
              "            await google.colab.kernel.invokeFunction('convertToInteractive',\n",
              "                                                     [key], {});\n",
              "          if (!dataTable) return;\n",
              "\n",
              "          const docLinkHtml = 'Like what you see? Visit the ' +\n",
              "            '<a target=\"_blank\" href=https://colab.research.google.com/notebooks/data_table.ipynb>data table notebook</a>'\n",
              "            + ' to learn more about interactive tables.';\n",
              "          element.innerHTML = '';\n",
              "          dataTable['output_type'] = 'display_data';\n",
              "          await google.colab.output.renderOutput(dataTable, element);\n",
              "          const docLink = document.createElement('div');\n",
              "          docLink.innerHTML = docLinkHtml;\n",
              "          element.appendChild(docLink);\n",
              "        }\n",
              "      </script>\n",
              "    </div>\n",
              "  </div>\n",
              "  "
            ]
          },
          "metadata": {},
          "execution_count": 42
        }
      ]
    },
    {
      "cell_type": "markdown",
      "metadata": {
        "id": "kOnrCniC3-SS"
      },
      "source": [
        "**In-class activity**  \\\\\n",
        "I used only a few features in my dummy example, but you have way more! \\\\\n",
        "I want you to do the following. Below there are 4 tasks, which is the minimal to make me happy :)\n",
        "1. Consider only numeric features that don't require any additional preprocessing and encoding. Run shap.Explainer to estimate the impact of these features. Keep only top 5 discovered features and estimate the accuracy of the model.\n",
        "2. Add at least one categorical feature (for example, equipment type) using one-hot or ordinal encoding.\n",
        "3. Add at least one time related feature (for example, weekend)\n",
        "4. Did your list of top 5 features change? Provide the rationale (a paragraph long or so) to explain why these features may act as cost drivers. \n",
        " \n",
        "Three more tasks for those who are unstoppable!\n",
        "\n",
        "1. Can exogenous variables (like macroeconomics of fuel prices) help? \n",
        "2. Is there a creative way to incorporate lanes?\n",
        "3. Using the best features discovered with Shap, build a linear regression model. Is the model still accurate? Are coefficients interpretable and make sense? What do they tell you? \n",
        " \n",
        " \\\\\n",
        "P.S. \\\\\n",
        "Keep in mind that it may take more than 5 minutes to run a cell with XGBoost and Shap explainer. So, you have to be strategic and double-check the validity of syntax before you run the cell. \\\\\n",
        "\n",
        "The official Shap documentation is your best friend for this onn-class activity https://github.com/slundberg/shap \\\\\n",
        "If you have time, I will recommed an official Shap paper published in 2022 in Nature (it is a bit technical but not too much) https://www.nature.com/articles/s41467-022-31384-3 \n"
      ]
    },
    {
      "cell_type": "code",
      "source": [
        "all_data.info()"
      ],
      "metadata": {
        "id": "8In2jvzeF_Gz",
        "outputId": "db24a200-29f2-4d84-f8e0-5ce88384b7d8",
        "colab": {
          "base_uri": "https://localhost:8080/"
        }
      },
      "execution_count": null,
      "outputs": [
        {
          "output_type": "stream",
          "name": "stdout",
          "text": [
            "<class 'pandas.core.frame.DataFrame'>\n",
            "Int64Index: 251389 entries, 0 to 251388\n",
            "Data columns (total 34 columns):\n",
            " #   Column                  Non-Null Count   Dtype              \n",
            "---  ------                  --------------   -----              \n",
            " 0   equipment_type          251389 non-null  category           \n",
            " 1   origin_latitude         251389 non-null  float64            \n",
            " 2   origin_longitude        251389 non-null  float64            \n",
            " 3   dest_latitude           251389 non-null  float64            \n",
            " 4   dest_longitude          251389 non-null  float64            \n",
            " 5   matched_carriers_count  251389 non-null  int64              \n",
            " 6   last_30_days            251389 non-null  float64            \n",
            " 7   origin_hq_count         251389 non-null  float64            \n",
            " 8   dest_hq_count           251389 non-null  float64            \n",
            " 9   origin_kma              251389 non-null  category           \n",
            " 10  dest_kma                251389 non-null  category           \n",
            " 11  urbanicity              251389 non-null  float64            \n",
            " 12  hour_of_day             251389 non-null  int64              \n",
            " 13  effective_hours         251389 non-null  float64            \n",
            " 14  lead_time_hours         251389 non-null  float64            \n",
            " 15  weight                  251389 non-null  int64              \n",
            " 16  direct_mileage          251389 non-null  float64            \n",
            " 17  drop_trailer            251389 non-null  int64              \n",
            " 18  rolling                 251389 non-null  bool               \n",
            " 19  team_driver             251389 non-null  bool               \n",
            " 20  commodity               235651 non-null  object             \n",
            " 21  origin_city             251389 non-null  object             \n",
            " 22  origin_state            251389 non-null  object             \n",
            " 23  origin_zipcode          251389 non-null  object             \n",
            " 24  origin_country          251389 non-null  object             \n",
            " 25  dest_city               251389 non-null  object             \n",
            " 26  dest_state              251389 non-null  object             \n",
            " 27  dest_zipcode            251389 non-null  object             \n",
            " 28  dest_country            251389 non-null  object             \n",
            " 29  pickup_date             251389 non-null  datetime64[ns, UTC]\n",
            " 30  quote_date              251389 non-null  datetime64[ns, UTC]\n",
            " 31  origin_drop_trailer     251389 non-null  bool               \n",
            " 32  dest_drop_trailer       251389 non-null  bool               \n",
            " 33  source_price            251389 non-null  float64            \n",
            "dtypes: bool(4), category(3), datetime64[ns, UTC](2), float64(12), int64(4), object(9)\n",
            "memory usage: 55.9+ MB\n"
          ]
        }
      ]
    },
    {
      "cell_type": "code",
      "source": [
        "num_data = all_data.select_dtypes(exclude=['object','category','datetime64[ns, UTC]','bool'])"
      ],
      "metadata": {
        "id": "HFDfYjySGBkR"
      },
      "execution_count": null,
      "outputs": []
    },
    {
      "cell_type": "code",
      "source": [
        "num_data = num_data.drop('source_price',axis = 1)"
      ],
      "metadata": {
        "id": "_XYZD_MzIYOS"
      },
      "execution_count": null,
      "outputs": []
    },
    {
      "cell_type": "code",
      "source": [
        "num_data.info()"
      ],
      "metadata": {
        "id": "6_X_1TGDG0c3",
        "outputId": "49286fb4-32af-4e74-b6c1-c64eb54123e4",
        "colab": {
          "base_uri": "https://localhost:8080/"
        }
      },
      "execution_count": null,
      "outputs": [
        {
          "output_type": "stream",
          "name": "stdout",
          "text": [
            "<class 'pandas.core.frame.DataFrame'>\n",
            "Int64Index: 251389 entries, 0 to 251388\n",
            "Data columns (total 15 columns):\n",
            " #   Column                  Non-Null Count   Dtype  \n",
            "---  ------                  --------------   -----  \n",
            " 0   origin_latitude         251389 non-null  float64\n",
            " 1   origin_longitude        251389 non-null  float64\n",
            " 2   dest_latitude           251389 non-null  float64\n",
            " 3   dest_longitude          251389 non-null  float64\n",
            " 4   matched_carriers_count  251389 non-null  int64  \n",
            " 5   last_30_days            251389 non-null  float64\n",
            " 6   origin_hq_count         251389 non-null  float64\n",
            " 7   dest_hq_count           251389 non-null  float64\n",
            " 8   urbanicity              251389 non-null  float64\n",
            " 9   hour_of_day             251389 non-null  int64  \n",
            " 10  effective_hours         251389 non-null  float64\n",
            " 11  lead_time_hours         251389 non-null  float64\n",
            " 12  weight                  251389 non-null  int64  \n",
            " 13  direct_mileage          251389 non-null  float64\n",
            " 14  drop_trailer            251389 non-null  int64  \n",
            "dtypes: float64(11), int64(4)\n",
            "memory usage: 30.7 MB\n"
          ]
        }
      ]
    },
    {
      "cell_type": "code",
      "source": [
        "num_data = num_data[:100000]\n",
        "y=y[:100000]\n",
        "num_data.shape"
      ],
      "metadata": {
        "id": "TzJ4y8JMHV2W",
        "outputId": "49cba19b-5fa9-4220-cd73-2ad1e9012ce7",
        "colab": {
          "base_uri": "https://localhost:8080/"
        }
      },
      "execution_count": null,
      "outputs": [
        {
          "output_type": "execute_result",
          "data": {
            "text/plain": [
              "(100000, 15)"
            ]
          },
          "metadata": {},
          "execution_count": 47
        }
      ]
    },
    {
      "cell_type": "code",
      "source": [
        "y.shape"
      ],
      "metadata": {
        "id": "iW5ztZfHHojU",
        "outputId": "39b1363a-8591-4494-861b-44e7a6439779",
        "colab": {
          "base_uri": "https://localhost:8080/"
        }
      },
      "execution_count": null,
      "outputs": [
        {
          "output_type": "execute_result",
          "data": {
            "text/plain": [
              "(100000, 1)"
            ]
          },
          "metadata": {},
          "execution_count": 48
        }
      ]
    },
    {
      "cell_type": "code",
      "source": [],
      "metadata": {
        "id": "jppY5skfI2S_"
      },
      "execution_count": null,
      "outputs": []
    },
    {
      "cell_type": "code",
      "source": [
        "model = xgboost.XGBRegressor(random_state=0).fit(num_data, y)\n",
        "explainer = shap.Explainer(model)\n",
        "shap_values = explainer(num_data)\n",
        "shap.plots.bar(shap_values, max_display=20)"
      ],
      "metadata": {
        "id": "BZNFEuTSHDO3",
        "outputId": "e363063a-1d69-4d06-da1e-3832a419d2cf",
        "colab": {
          "base_uri": "https://localhost:8080/",
          "height": 571
        }
      },
      "execution_count": null,
      "outputs": [
        {
          "output_type": "stream",
          "name": "stderr",
          "text": [
            "ntree_limit is deprecated, use `iteration_range` or model slicing instead.\n"
          ]
        },
        {
          "output_type": "display_data",
          "data": {
            "text/plain": [
              "<Figure size 576x648 with 1 Axes>"
            ],
            "image/png": "[encoded data removed]"
          },
          "metadata": {}
        }
      ]
    },
    {
      "cell_type": "code",
      "source": [
        "model = xgboost.XGBRFRegressor(random_state=0)\n",
        "X_train, X_test, y_train, y_test = train_test_split(num_data[['direct_mileage','matched_carriers_count', 'weight', 'origin_hq_count','last_30_days']], y, random_state=0, shuffle=True)\n",
        "model.fit(X_train, y_train)\n",
        "print('R2', model.score(X_test, y_test))\n",
        "print('MAPE', mean_absolute_percentage_error(model.predict(X_test), y_test))"
      ],
      "metadata": {
        "id": "Go7TdnikJU58",
        "outputId": "24664f19-553a-4433-92ad-0674be7e84f7",
        "colab": {
          "base_uri": "https://localhost:8080/"
        }
      },
      "execution_count": null,
      "outputs": [
        {
          "output_type": "stream",
          "name": "stdout",
          "text": [
            "R2 0.7675168577422038\n",
            "MAPE 0.24912891041878651\n"
          ]
        }
      ]
    },
    {
      "cell_type": "code",
      "source": [
        "num_data = all_data.select_dtypes(exclude=['object','datetime64[ns, UTC]','bool'])\n",
        "num_data = num_data.drop('source_price',axis = 1)\n",
        "num_data = num_data.drop('origin_kma',axis=1)\n",
        "num_data = num_data.drop('dest_kma',axis=1)\n",
        "num_data.info()\n"
      ],
      "metadata": {
        "id": "IM8TXvZ5J4F3",
        "outputId": "dc80b778-3b12-46fc-b086-f45a9a6d1d33",
        "colab": {
          "base_uri": "https://localhost:8080/"
        }
      },
      "execution_count": null,
      "outputs": [
        {
          "output_type": "stream",
          "name": "stdout",
          "text": [
            "<class 'pandas.core.frame.DataFrame'>\n",
            "Int64Index: 251389 entries, 0 to 251388\n",
            "Data columns (total 16 columns):\n",
            " #   Column                  Non-Null Count   Dtype   \n",
            "---  ------                  --------------   -----   \n",
            " 0   equipment_type          251389 non-null  category\n",
            " 1   origin_latitude         251389 non-null  float64 \n",
            " 2   origin_longitude        251389 non-null  float64 \n",
            " 3   dest_latitude           251389 non-null  float64 \n",
            " 4   dest_longitude          251389 non-null  float64 \n",
            " 5   matched_carriers_count  251389 non-null  int64   \n",
            " 6   last_30_days            251389 non-null  float64 \n",
            " 7   origin_hq_count         251389 non-null  float64 \n",
            " 8   dest_hq_count           251389 non-null  float64 \n",
            " 9   urbanicity              251389 non-null  float64 \n",
            " 10  hour_of_day             251389 non-null  int64   \n",
            " 11  effective_hours         251389 non-null  float64 \n",
            " 12  lead_time_hours         251389 non-null  float64 \n",
            " 13  weight                  251389 non-null  int64   \n",
            " 14  direct_mileage          251389 non-null  float64 \n",
            " 15  drop_trailer            251389 non-null  int64   \n",
            "dtypes: category(1), float64(11), int64(4)\n",
            "memory usage: 30.9 MB\n"
          ]
        }
      ]
    },
    {
      "cell_type": "code",
      "source": [
        "OH_encoder = OneHotEncoder(handle_unknown='error', sparse=False)\n",
        "categorical_cols = [cname for cname in num_data.select_dtypes('category')]\n",
        "num_data_cat = pd.DataFrame(OH_encoder.fit_transform(num_data[categorical_cols]))"
      ],
      "metadata": {
        "id": "B6MsEa_FJm8b",
        "outputId": "a322c527-e57d-453a-af08-3c70d4d148dc",
        "colab": {
          "base_uri": "https://localhost:8080/"
        }
      },
      "execution_count": null,
      "outputs": [
        {
          "output_type": "stream",
          "name": "stderr",
          "text": [
            "`sparse` was renamed to `sparse_output` in version 1.2 and will be removed in 1.4. `sparse_output` is ignored unless you leave `sparse` to its default value.\n"
          ]
        }
      ]
    },
    {
      "cell_type": "code",
      "source": [
        "\n",
        "num_data_cat.columns = [ 'type0','type1','type2']\n",
        "num_data_cat"
      ],
      "metadata": {
        "id": "MO18mNrCKORO",
        "outputId": "6fcdfa2a-6da1-4cd5-b464-8f097b48c9ae",
        "colab": {
          "base_uri": "https://localhost:8080/",
          "height": 424
        }
      },
      "execution_count": null,
      "outputs": [
        {
          "output_type": "execute_result",
          "data": {
            "text/plain": [
              "        type0  type1  type2\n",
              "0         0.0    1.0    0.0\n",
              "1         0.0    0.0    1.0\n",
              "2         0.0    0.0    1.0\n",
              "3         0.0    0.0    1.0\n",
              "4         0.0    0.0    1.0\n",
              "...       ...    ...    ...\n",
              "251384    0.0    0.0    1.0\n",
              "251385    1.0    0.0    0.0\n",
              "251386    0.0    0.0    1.0\n",
              "251387    0.0    0.0    1.0\n",
              "251388    0.0    0.0    1.0\n",
              "\n",
              "[251389 rows x 3 columns]"
            ],
            "text/html": [
              "\n",
              "  <div id=\"df-e4380f86-9818-4f29-847c-a64032a3a0c9\">\n",
              "    <div class=\"colab-df-container\">\n",
              "      <div>\n",
              "<style scoped>\n",
              "    .dataframe tbody tr th:only-of-type {\n",
              "        vertical-align: middle;\n",
              "    }\n",
              "\n",
              "    .dataframe tbody tr th {\n",
              "        vertical-align: top;\n",
              "    }\n",
              "\n",
              "    .dataframe thead th {\n",
              "        text-align: right;\n",
              "    }\n",
              "</style>\n",
              "<table border=\"1\" class=\"dataframe\">\n",
              "  <thead>\n",
              "    <tr style=\"text-align: right;\">\n",
              "      <th></th>\n",
              "      <th>type0</th>\n",
              "      <th>type1</th>\n",
              "      <th>type2</th>\n",
              "    </tr>\n",
              "  </thead>\n",
              "  <tbody>\n",
              "    <tr>\n",
              "      <th>0</th>\n",
              "      <td>0.0</td>\n",
              "      <td>1.0</td>\n",
              "      <td>0.0</td>\n",
              "    </tr>\n",
              "    <tr>\n",
              "      <th>1</th>\n",
              "      <td>0.0</td>\n",
              "      <td>0.0</td>\n",
              "      <td>1.0</td>\n",
              "    </tr>\n",
              "    <tr>\n",
              "      <th>2</th>\n",
              "      <td>0.0</td>\n",
              "      <td>0.0</td>\n",
              "      <td>1.0</td>\n",
              "    </tr>\n",
              "    <tr>\n",
              "      <th>3</th>\n",
              "      <td>0.0</td>\n",
              "      <td>0.0</td>\n",
              "      <td>1.0</td>\n",
              "    </tr>\n",
              "    <tr>\n",
              "      <th>4</th>\n",
              "      <td>0.0</td>\n",
              "      <td>0.0</td>\n",
              "      <td>1.0</td>\n",
              "    </tr>\n",
              "    <tr>\n",
              "      <th>...</th>\n",
              "      <td>...</td>\n",
              "      <td>...</td>\n",
              "      <td>...</td>\n",
              "    </tr>\n",
              "    <tr>\n",
              "      <th>251384</th>\n",
              "      <td>0.0</td>\n",
              "      <td>0.0</td>\n",
              "      <td>1.0</td>\n",
              "    </tr>\n",
              "    <tr>\n",
              "      <th>251385</th>\n",
              "      <td>1.0</td>\n",
              "      <td>0.0</td>\n",
              "      <td>0.0</td>\n",
              "    </tr>\n",
              "    <tr>\n",
              "      <th>251386</th>\n",
              "      <td>0.0</td>\n",
              "      <td>0.0</td>\n",
              "      <td>1.0</td>\n",
              "    </tr>\n",
              "    <tr>\n",
              "      <th>251387</th>\n",
              "      <td>0.0</td>\n",
              "      <td>0.0</td>\n",
              "      <td>1.0</td>\n",
              "    </tr>\n",
              "    <tr>\n",
              "      <th>251388</th>\n",
              "      <td>0.0</td>\n",
              "      <td>0.0</td>\n",
              "      <td>1.0</td>\n",
              "    </tr>\n",
              "  </tbody>\n",
              "</table>\n",
              "<p>251389 rows × 3 columns</p>\n",
              "</div>\n",
              "      <button class=\"colab-df-convert\" onclick=\"convertToInteractive('df-e4380f86-9818-4f29-847c-a64032a3a0c9')\"\n",
              "              title=\"Convert this dataframe to an interactive table.\"\n",
              "              style=\"display:none;\">\n",
              "        \n",
              "  <svg xmlns=\"http://www.w3.org/2000/svg\" height=\"24px\"viewBox=\"0 0 24 24\"\n",
              "       width=\"24px\">\n",
              "    <path d=\"M0 0h24v24H0V0z\" fill=\"none\"/>\n",
              "    <path d=\"M18.56 5.44l.94 2.06.94-2.06 2.06-.94-2.06-.94-.94-2.06-.94 2.06-2.06.94zm-11 1L8.5 8.5l.94-2.06 2.06-.94-2.06-.94L8.5 2.5l-.94 2.06-2.06.94zm10 10l.94 2.06.94-2.06 2.06-.94-2.06-.94-.94-2.06-.94 2.06-2.06.94z\"/><path d=\"M17.41 7.96l-1.37-1.37c-.4-.4-.92-.59-1.43-.59-.52 0-1.04.2-1.43.59L10.3 9.45l-7.72 7.72c-.78.78-.78 2.05 0 2.83L4 21.41c.39.39.9.59 1.41.59.51 0 1.02-.2 1.41-.59l7.78-7.78 2.81-2.81c.8-.78.8-2.07 0-2.86zM5.41 20L4 18.59l7.72-7.72 1.47 1.35L5.41 20z\"/>\n",
              "  </svg>\n",
              "      </button>\n",
              "      \n",
              "  <style>\n",
              "    .colab-df-container {\n",
              "      display:flex;\n",
              "      flex-wrap:wrap;\n",
              "      gap: 12px;\n",
              "    }\n",
              "\n",
              "    .colab-df-convert {\n",
              "      background-color: #E8F0FE;\n",
              "      border: none;\n",
              "      border-radius: 50%;\n",
              "      cursor: pointer;\n",
              "      display: none;\n",
              "      fill: #1967D2;\n",
              "      height: 32px;\n",
              "      padding: 0 0 0 0;\n",
              "      width: 32px;\n",
              "    }\n",
              "\n",
              "    .colab-df-convert:hover {\n",
              "      background-color: #E2EBFA;\n",
              "      box-shadow: 0px 1px 2px rgba(60, 64, 67, 0.3), 0px 1px 3px 1px rgba(60, 64, 67, 0.15);\n",
              "      fill: #174EA6;\n",
              "    }\n",
              "\n",
              "    [theme=dark] .colab-df-convert {\n",
              "      background-color: #3B4455;\n",
              "      fill: #D2E3FC;\n",
              "    }\n",
              "\n",
              "    [theme=dark] .colab-df-convert:hover {\n",
              "      background-color: #434B5C;\n",
              "      box-shadow: 0px 1px 3px 1px rgba(0, 0, 0, 0.15);\n",
              "      filter: drop-shadow(0px 1px 2px rgba(0, 0, 0, 0.3));\n",
              "      fill: #FFFFFF;\n",
              "    }\n",
              "  </style>\n",
              "\n",
              "      <script>\n",
              "        const buttonEl =\n",
              "          document.querySelector('#df-e4380f86-9818-4f29-847c-a64032a3a0c9 button.colab-df-convert');\n",
              "        buttonEl.style.display =\n",
              "          google.colab.kernel.accessAllowed ? 'block' : 'none';\n",
              "\n",
              "        async function convertToInteractive(key) {\n",
              "          const element = document.querySelector('#df-e4380f86-9818-4f29-847c-a64032a3a0c9');\n",
              "          const dataTable =\n",
              "            await google.colab.kernel.invokeFunction('convertToInteractive',\n",
              "                                                     [key], {});\n",
              "          if (!dataTable) return;\n",
              "\n",
              "          const docLinkHtml = 'Like what you see? Visit the ' +\n",
              "            '<a target=\"_blank\" href=https://colab.research.google.com/notebooks/data_table.ipynb>data table notebook</a>'\n",
              "            + ' to learn more about interactive tables.';\n",
              "          element.innerHTML = '';\n",
              "          dataTable['output_type'] = 'display_data';\n",
              "          await google.colab.output.renderOutput(dataTable, element);\n",
              "          const docLink = document.createElement('div');\n",
              "          docLink.innerHTML = docLinkHtml;\n",
              "          element.appendChild(docLink);\n",
              "        }\n",
              "      </script>\n",
              "    </div>\n",
              "  </div>\n",
              "  "
            ]
          },
          "metadata": {},
          "execution_count": 112
        }
      ]
    },
    {
      "cell_type": "code",
      "source": [
        "num_data = num_data.drop(categorical_cols, axis=1)\n",
        "num_data.info()"
      ],
      "metadata": {
        "id": "Yk3axqMJLLn8",
        "outputId": "bc01599d-7040-466c-fe66-dec930f115b2",
        "colab": {
          "base_uri": "https://localhost:8080/"
        }
      },
      "execution_count": null,
      "outputs": [
        {
          "output_type": "stream",
          "name": "stdout",
          "text": [
            "<class 'pandas.core.frame.DataFrame'>\n",
            "Int64Index: 251389 entries, 0 to 251388\n",
            "Data columns (total 15 columns):\n",
            " #   Column                  Non-Null Count   Dtype  \n",
            "---  ------                  --------------   -----  \n",
            " 0   origin_latitude         251389 non-null  float64\n",
            " 1   origin_longitude        251389 non-null  float64\n",
            " 2   dest_latitude           251389 non-null  float64\n",
            " 3   dest_longitude          251389 non-null  float64\n",
            " 4   matched_carriers_count  251389 non-null  int64  \n",
            " 5   last_30_days            251389 non-null  float64\n",
            " 6   origin_hq_count         251389 non-null  float64\n",
            " 7   dest_hq_count           251389 non-null  float64\n",
            " 8   urbanicity              251389 non-null  float64\n",
            " 9   hour_of_day             251389 non-null  int64  \n",
            " 10  effective_hours         251389 non-null  float64\n",
            " 11  lead_time_hours         251389 non-null  float64\n",
            " 12  weight                  251389 non-null  int64  \n",
            " 13  direct_mileage          251389 non-null  float64\n",
            " 14  drop_trailer            251389 non-null  int64  \n",
            "dtypes: float64(11), int64(4)\n",
            "memory usage: 30.7 MB\n"
          ]
        }
      ]
    },
    {
      "cell_type": "code",
      "source": [
        "num_data_cat = pd.concat([num_data,num_data_cat],axis=1)"
      ],
      "metadata": {
        "id": "SwQi_2RBLjq1"
      },
      "execution_count": null,
      "outputs": []
    },
    {
      "cell_type": "code",
      "source": [
        "num_data_cat.info()"
      ],
      "metadata": {
        "id": "2iutYypGLyNT",
        "outputId": "7232735d-8913-4827-b2b4-e8ace75e6731",
        "colab": {
          "base_uri": "https://localhost:8080/"
        }
      },
      "execution_count": null,
      "outputs": [
        {
          "output_type": "stream",
          "name": "stdout",
          "text": [
            "<class 'pandas.core.frame.DataFrame'>\n",
            "Int64Index: 251389 entries, 0 to 251388\n",
            "Data columns (total 18 columns):\n",
            " #   Column                  Non-Null Count   Dtype  \n",
            "---  ------                  --------------   -----  \n",
            " 0   origin_latitude         251389 non-null  float64\n",
            " 1   origin_longitude        251389 non-null  float64\n",
            " 2   dest_latitude           251389 non-null  float64\n",
            " 3   dest_longitude          251389 non-null  float64\n",
            " 4   matched_carriers_count  251389 non-null  int64  \n",
            " 5   last_30_days            251389 non-null  float64\n",
            " 6   origin_hq_count         251389 non-null  float64\n",
            " 7   dest_hq_count           251389 non-null  float64\n",
            " 8   urbanicity              251389 non-null  float64\n",
            " 9   hour_of_day             251389 non-null  int64  \n",
            " 10  effective_hours         251389 non-null  float64\n",
            " 11  lead_time_hours         251389 non-null  float64\n",
            " 12  weight                  251389 non-null  int64  \n",
            " 13  direct_mileage          251389 non-null  float64\n",
            " 14  drop_trailer            251389 non-null  int64  \n",
            " 15  type0                   251389 non-null  float64\n",
            " 16  type1                   251389 non-null  float64\n",
            " 17  type2                   251389 non-null  float64\n",
            "dtypes: float64(14), int64(4)\n",
            "memory usage: 36.4 MB\n"
          ]
        }
      ]
    },
    {
      "cell_type": "code",
      "source": [
        "num_data_cat = num_data_cat[:100000]\n",
        "y=y[:100000]\n",
        "num_data_cat.shape\n"
      ],
      "metadata": {
        "id": "yHRETzjSLzv5",
        "outputId": "8f463d5a-3da2-4433-865f-5b0d7f9d4a32",
        "colab": {
          "base_uri": "https://localhost:8080/"
        }
      },
      "execution_count": null,
      "outputs": [
        {
          "output_type": "execute_result",
          "data": {
            "text/plain": [
              "(100000, 18)"
            ]
          },
          "metadata": {},
          "execution_count": 116
        }
      ]
    },
    {
      "cell_type": "code",
      "source": [
        "y.shape"
      ],
      "metadata": {
        "id": "e50Xm6PWMKCw",
        "outputId": "4beff78b-410f-4270-cfcc-803cb3ea3b46",
        "colab": {
          "base_uri": "https://localhost:8080/"
        }
      },
      "execution_count": null,
      "outputs": [
        {
          "output_type": "execute_result",
          "data": {
            "text/plain": [
              "(100000, 1)"
            ]
          },
          "metadata": {},
          "execution_count": 117
        }
      ]
    },
    {
      "cell_type": "code",
      "source": [
        "cols = ['direct_mileage','matched_carriers_count', 'weight', 'origin_hq_count','last_30_days','type0','type1','type2']"
      ],
      "metadata": {
        "id": "FfKrrczZNuKV"
      },
      "execution_count": null,
      "outputs": []
    },
    {
      "cell_type": "code",
      "source": [],
      "metadata": {
        "id": "azkQeks5Og42"
      },
      "execution_count": null,
      "outputs": []
    },
    {
      "cell_type": "code",
      "source": [
        "final_num_cat = num_data_cat[cols].copy()"
      ],
      "metadata": {
        "id": "K-imycjlNLRl"
      },
      "execution_count": null,
      "outputs": []
    },
    {
      "cell_type": "code",
      "source": [
        "final_num_cat.info()"
      ],
      "metadata": {
        "id": "NakLuzSpOhtQ",
        "outputId": "04d861e4-bd0e-4d18-c393-e1989d75222c",
        "colab": {
          "base_uri": "https://localhost:8080/"
        }
      },
      "execution_count": null,
      "outputs": [
        {
          "output_type": "stream",
          "name": "stdout",
          "text": [
            "<class 'pandas.core.frame.DataFrame'>\n",
            "Int64Index: 100000 entries, 0 to 99999\n",
            "Data columns (total 8 columns):\n",
            " #   Column                  Non-Null Count   Dtype  \n",
            "---  ------                  --------------   -----  \n",
            " 0   direct_mileage          100000 non-null  float64\n",
            " 1   matched_carriers_count  100000 non-null  int64  \n",
            " 2   weight                  100000 non-null  int64  \n",
            " 3   origin_hq_count         100000 non-null  float64\n",
            " 4   last_30_days            100000 non-null  float64\n",
            " 5   type0                   100000 non-null  float64\n",
            " 6   type1                   100000 non-null  float64\n",
            " 7   type2                   100000 non-null  float64\n",
            "dtypes: float64(6), int64(2)\n",
            "memory usage: 6.9 MB\n"
          ]
        }
      ]
    },
    {
      "cell_type": "code",
      "source": [
        "model = xgboost.XGBRegressor(random_state=0).fit(final_num_cat, y)\n",
        "explainer = shap.Explainer(model)\n",
        "shap_values = explainer(final_num_cat)\n",
        "shap.plots.bar(shap_values, max_display=20)"
      ],
      "metadata": {
        "id": "37tiXOyMMO9E",
        "outputId": "c2e30fec-2495-4be2-b80d-bc8a2ded7961",
        "colab": {
          "base_uri": "https://localhost:8080/",
          "height": 381
        }
      },
      "execution_count": null,
      "outputs": [
        {
          "output_type": "stream",
          "name": "stderr",
          "text": [
            "ntree_limit is deprecated, use `iteration_range` or model slicing instead.\n"
          ]
        },
        {
          "output_type": "display_data",
          "data": {
            "text/plain": [
              "<Figure size 576x396 with 1 Axes>"
            ],
            "image/png": "[encoded data removed]"
          },
          "metadata": {}
        }
      ]
    },
    {
      "cell_type": "code",
      "source": [
        "time = all_data.select_dtypes(exclude=['int','float','object','category','bool'])\n",
        "time = time.drop('quote_date',axis=1)\n",
        "time=time[:100000]\n",
        "time.info()"
      ],
      "metadata": {
        "id": "6wmq3BBuOBmT",
        "outputId": "2715f8c6-3bd7-49f8-a73e-87d10d29c270",
        "colab": {
          "base_uri": "https://localhost:8080/"
        }
      },
      "execution_count": null,
      "outputs": [
        {
          "output_type": "stream",
          "name": "stdout",
          "text": [
            "<class 'pandas.core.frame.DataFrame'>\n",
            "Int64Index: 100000 entries, 0 to 99999\n",
            "Data columns (total 1 columns):\n",
            " #   Column       Non-Null Count   Dtype              \n",
            "---  ------       --------------   -----              \n",
            " 0   pickup_date  100000 non-null  datetime64[ns, UTC]\n",
            "dtypes: datetime64[ns, UTC](1)\n",
            "memory usage: 1.5 MB\n"
          ]
        }
      ]
    },
    {
      "cell_type": "code",
      "source": [
        "final_num_cat_time = pd.concat([final_num_cat,time],axis=1)"
      ],
      "metadata": {
        "id": "iKbg_oq6QCz-"
      },
      "execution_count": null,
      "outputs": []
    },
    {
      "cell_type": "code",
      "source": [
        "final_num_cat_time.info()"
      ],
      "metadata": {
        "id": "bI_ZyHWcQguV",
        "outputId": "0148a784-902e-4d23-ddd2-565d41fbe91d",
        "colab": {
          "base_uri": "https://localhost:8080/"
        }
      },
      "execution_count": null,
      "outputs": [
        {
          "output_type": "stream",
          "name": "stdout",
          "text": [
            "<class 'pandas.core.frame.DataFrame'>\n",
            "Int64Index: 100000 entries, 0 to 99999\n",
            "Data columns (total 9 columns):\n",
            " #   Column                  Non-Null Count   Dtype              \n",
            "---  ------                  --------------   -----              \n",
            " 0   direct_mileage          100000 non-null  float64            \n",
            " 1   matched_carriers_count  100000 non-null  int64              \n",
            " 2   weight                  100000 non-null  int64              \n",
            " 3   origin_hq_count         100000 non-null  float64            \n",
            " 4   last_30_days            100000 non-null  float64            \n",
            " 5   type0                   100000 non-null  float64            \n",
            " 6   type1                   100000 non-null  float64            \n",
            " 7   type2                   100000 non-null  float64            \n",
            " 8   pickup_date             100000 non-null  datetime64[ns, UTC]\n",
            "dtypes: datetime64[ns, UTC](1), float64(6), int64(2)\n",
            "memory usage: 7.6 MB\n"
          ]
        }
      ]
    },
    {
      "cell_type": "code",
      "source": [
        "final_num_cat_time['weekend'] = final_num_cat_time['pickup_date'].dt.dayofweek > 4"
      ],
      "metadata": {
        "id": "EyuZvRYMRCVO"
      },
      "execution_count": null,
      "outputs": []
    },
    {
      "cell_type": "code",
      "source": [
        "final_num_cat_time.info()\n",
        "final_num_cat_time = final_num_cat_time.drop('pickup_date',axis=1)\n",
        "final_num_cat_time.info()"
      ],
      "metadata": {
        "id": "MtzUwpgSRZhi",
        "outputId": "4f199169-fc8f-416a-fc72-2b349dbc381c",
        "colab": {
          "base_uri": "https://localhost:8080/"
        }
      },
      "execution_count": null,
      "outputs": [
        {
          "output_type": "stream",
          "name": "stdout",
          "text": [
            "<class 'pandas.core.frame.DataFrame'>\n",
            "Int64Index: 100000 entries, 0 to 99999\n",
            "Data columns (total 10 columns):\n",
            " #   Column                  Non-Null Count   Dtype              \n",
            "---  ------                  --------------   -----              \n",
            " 0   direct_mileage          100000 non-null  float64            \n",
            " 1   matched_carriers_count  100000 non-null  int64              \n",
            " 2   weight                  100000 non-null  int64              \n",
            " 3   origin_hq_count         100000 non-null  float64            \n",
            " 4   last_30_days            100000 non-null  float64            \n",
            " 5   type0                   100000 non-null  float64            \n",
            " 6   type1                   100000 non-null  float64            \n",
            " 7   type2                   100000 non-null  float64            \n",
            " 8   pickup_date             100000 non-null  datetime64[ns, UTC]\n",
            " 9   weekend                 100000 non-null  bool               \n",
            "dtypes: bool(1), datetime64[ns, UTC](1), float64(6), int64(2)\n",
            "memory usage: 7.7 MB\n",
            "<class 'pandas.core.frame.DataFrame'>\n",
            "Int64Index: 100000 entries, 0 to 99999\n",
            "Data columns (total 9 columns):\n",
            " #   Column                  Non-Null Count   Dtype  \n",
            "---  ------                  --------------   -----  \n",
            " 0   direct_mileage          100000 non-null  float64\n",
            " 1   matched_carriers_count  100000 non-null  int64  \n",
            " 2   weight                  100000 non-null  int64  \n",
            " 3   origin_hq_count         100000 non-null  float64\n",
            " 4   last_30_days            100000 non-null  float64\n",
            " 5   type0                   100000 non-null  float64\n",
            " 6   type1                   100000 non-null  float64\n",
            " 7   type2                   100000 non-null  float64\n",
            " 8   weekend                 100000 non-null  bool   \n",
            "dtypes: bool(1), float64(6), int64(2)\n",
            "memory usage: 7.0 MB\n"
          ]
        }
      ]
    },
    {
      "cell_type": "code",
      "source": [
        "model = xgboost.XGBRegressor(random_state=0).fit(final_num_cat_time, y)\n",
        "explainer = shap.Explainer(model)\n",
        "shap_values = explainer(final_num_cat_time)\n",
        "shap.plots.bar(shap_values, max_display=20)"
      ],
      "metadata": {
        "id": "ksCea7fBQih3",
        "outputId": "36ec1b61-b4f5-435a-a784-3a94b6942fd3",
        "colab": {
          "base_uri": "https://localhost:8080/",
          "height": 408
        }
      },
      "execution_count": null,
      "outputs": [
        {
          "output_type": "stream",
          "name": "stderr",
          "text": [
            "ntree_limit is deprecated, use `iteration_range` or model slicing instead.\n"
          ]
        },
        {
          "output_type": "display_data",
          "data": {
            "text/plain": [
              "<Figure size 576x432 with 1 Axes>"
            ],
            "image/png": "[encoded data removed]"
          },
          "metadata": {}
        }
      ]
    },
    {
      "cell_type": "markdown",
      "source": [
        "I think the variables did not change as the impact from the top 5 int/float was very influential. The equipment type did not influence as much as the 5 int/float. As seen above we can see that there is some influence from the categorical variable and the weekend or not, but there is more influence from the top 5 int/float variables. This makes sense as the price is directly depending on the distance more, then matched carriers, , origin hq_Count ( as more trucks availabel can affect price or vice versa), weight as fuel costs can be more with heavier loads, and last 30 days. \n",
        "\n",
        "The exogenous factors defintely will help. We can add general cpi or similar industry performance industries to see how general market performance affects prices. \n",
        "\n",
        "I am submitting the base requirement now. I will work on this in weekend on the unstoppable ones today and resubmit by weekend on the additional requirement. Thanks for the awesome class. "
      ],
      "metadata": {
        "id": "GtW6hqkER7RS"
      }
    },
    {
      "cell_type": "code",
      "source": [],
      "metadata": {
        "id": "g41jSWeUQszh"
      },
      "execution_count": null,
      "outputs": []
    }
  ],
  "metadata": {
    "colab": {
      "provenance": []
    },
    "kernelspec": {
      "display_name": "Python 3",
      "name": "python3"
    },
    "language_info": {
      "name": "python"
    }
  },
  "nbformat": 4,
  "nbformat_minor": 0
}