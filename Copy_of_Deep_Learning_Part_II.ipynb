{
  "cells": [
    {
      "cell_type": "markdown",
      "id": "7966cc67",
      "metadata": {
        "id": "7966cc67"
      },
      "source": [
        "# Welcome to Deep Learning - Part II \n",
        "\n",
        "Some of the most impressive advances in artificial intelligence in recent years have been in the field of *deep learning*. Natural language translation, image recognition, and game playing are all tasks where deep learning models have neared or even exceeded human-level performance.\n",
        "\n",
        "So what is deep learning? **Deep learning** is an approach to machine learning characterized by deep stacks of computations. This depth of computation is what has enabled deep learning models to disentangle the kinds of complex and hierarchical patterns found in the most challenging real-world datasets.\n",
        "\n",
        "Through their power and scalability **neural networks** have become the defining model of deep learning.  Neural networks are composed of neurons, where each neuron individually performs only a simple computation. The power of a neural network comes instead from the complexity of the connections these neurons can form.\n"
      ]
    },
    {
      "cell_type": "markdown",
      "source": [
        "\n",
        "# 0. RECAP"
      ],
      "metadata": {
        "id": "lZSKrVVsiXV3"
      },
      "id": "lZSKrVVsiXV3"
    },
    {
      "cell_type": "markdown",
      "id": "80d10fdf",
      "metadata": {
        "papermill": {
          "duration": 0.006244,
          "end_time": "2022-05-05T17:51:42.959708",
          "exception": false,
          "start_time": "2022-05-05T17:51:42.953464",
          "status": "completed"
        },
        "tags": [],
        "id": "80d10fdf"
      },
      "source": [
        "\n",
        "\n",
        "\n",
        "## The Linear Unit \n",
        "\n",
        "So let's begin with the fundamental component of a neural network: the individual neuron. As a diagram, a **neuron** (or **unit**) with one input looks like:\n",
        "\n",
        "<figure style=\"padding: 1em;\">\n",
        "<img src=\"https://i.imgur.com/mfOlDR6.png\" width=\"250\" alt=\"Diagram of a linear unit.\">\n",
        "<figcaption style=\"textalign: center; font-style: italic\"><center>The Linear Unit: y = w x + b\n",
        "</center></figcaption>\n",
        "</figure>\n",
        "\n"
      ]
    },
    {
      "cell_type": "markdown",
      "id": "e10a7c29",
      "metadata": {
        "id": "e10a7c29"
      },
      "source": [
        "## Multiple Inputs \n",
        "\n",
        "We can add more input connections to the neuron, one for each additional feature. To find the output, we would multiply each input to its connection weight and then add them all together.\n",
        "\n",
        "<figure style=\"padding: 1em;\">\n",
        "<img src=\"https://i.imgur.com/vyXSnlZ.png\" width=\"300\" alt=\"Three input connections: x0, x1, and x2, along with the bias.\">\n",
        "<figcaption style=\"textalign: center; font-style: italic\"><center>A linear unit with three inputs.\n",
        "</center></figcaption>\n",
        "</figure>\n",
        "\n",
        "The formula for this neuron would be $y = w_0 x_0 + w_1 x_1 + w_2 x_2 + b$. A linear unit with two inputs will fit a plane, and a unit with more inputs than that will fit a hyperplane."
      ]
    },
    {
      "cell_type": "markdown",
      "id": "61455f0c",
      "metadata": {
        "papermill": {
          "duration": 0.005178,
          "end_time": "2022-05-05T17:51:14.787015",
          "exception": false,
          "start_time": "2022-05-05T17:51:14.781837",
          "status": "completed"
        },
        "tags": [],
        "id": "61455f0c"
      },
      "source": [
        "\n",
        "## Layers\n",
        "\n",
        "Neural networks typically organize their neurons into **layers**. When we collect together linear units having a common set of inputs we get a **dense** layer.\n",
        "\n",
        "<figure style=\"padding: 1em;\">\n",
        "<img src=\"https://i.imgur.com/2MA4iMV.png\" width=\"300\" alt=\"A stack of three circles in an input layer connected to two circles in a dense layer.\">\n",
        "<figcaption style=\"textalign: center; font-style: italic\"><center>A dense layer of two linear units receiving two inputs and a bias.\n",
        "</center></figcaption>\n",
        "</figure>\n"
      ]
    },
    {
      "cell_type": "markdown",
      "id": "ab2ba700",
      "metadata": {
        "id": "ab2ba700"
      },
      "source": [
        "\n",
        "## The Activation Function \n",
        "\n",
        "It turns out, however, that two dense layers with nothing in between are no better than a single dense layer by itself. Dense layers by themselves can never move us out of the world of lines and planes. What we need is something *nonlinear*. What we need are activation functions.\n",
        "\n",
        "\n",
        "An **activation function** is simply some function we apply to each of a layer's outputs (its *activations*). The most common is the *rectifier* function $max(0, x)$.\n",
        "\n",
        "<figure style=\"padding: 1em;\">\n",
        "<img src=\"https://i.imgur.com/aeIyAlF.png\" width=\"400\" alt=\"A graph of the rectifier function. The line y=x when x>0 and y=0 when x<0, making a 'hinge' shape like '_/'.\">\n",
        "<figcaption style=\"textalign: center; font-style: italic\"><center>\n",
        "</center></figcaption>\n",
        "</figure>\n",
        "\n",
        "The rectifier function has a graph that's a line with the negative part \"rectified\" to zero. Applying the function to the outputs of a neuron will put a *bend* in the data, moving us away from simple lines.\n",
        "\n",
        "When we attach the rectifier to a linear unit, we get a **rectified linear unit** or **ReLU**. (For this reason, it's common to call the rectifier function the \"ReLU function\".)  Applying a ReLU activation to a linear unit means the output becomes `max(0, w * x + b)`, which we might draw in a diagram like:\n",
        "\n",
        "<figure style=\"padding: 1em;\">\n",
        "<img src=\"https://i.imgur.com/eFry7Yu.png\" width=\"250\" alt=\"Diagram of a single ReLU. Like a linear unit, but instead of a '+' symbol we now have a hinge '_/'. \">\n",
        "<figcaption style=\"textalign: center; font-style: italic\"><center>A rectified linear unit.\n",
        "</center></figcaption>\n",
        "</figure>"
      ]
    },
    {
      "cell_type": "markdown",
      "id": "3b116abd",
      "metadata": {
        "papermill": {
          "duration": 0.003773,
          "end_time": "2022-05-05T17:51:14.795064",
          "exception": false,
          "start_time": "2022-05-05T17:51:14.791291",
          "status": "completed"
        },
        "tags": [],
        "id": "3b116abd"
      },
      "source": [
        "## Stacking Dense Layers\n",
        "\n",
        "Now that we have some nonlinearity, let's see how we can stack layers to get complex data transformations.\n",
        "\n",
        "<figure style=\"padding: 1em;\">\n",
        "<img src=\"https://i.imgur.com/Y5iwFQZ.png\" width=\"450\" alt=\"An input layer, two hidden layers, and a final linear layer.\">\n",
        "<figcaption style=\"textalign: center; font-style: italic\"><center>A stack of dense layers makes a \"fully-connected\" network.\n",
        "</center></figcaption>\n",
        "</figure>\n",
        "\n",
        "The layers before the output layer are sometimes called **hidden** since we never see their outputs directly.\n",
        "\n",
        "Now, notice that the final (output) layer is a linear unit (meaning, no activation function). That makes this network appropriate to a regression task, where we are trying to predict some arbitrary numeric value. Other tasks (like classification) might require an activation function on the output.\n"
      ]
    },
    {
      "cell_type": "markdown",
      "id": "626e4e23",
      "metadata": {
        "id": "626e4e23"
      },
      "source": [
        "## Building Sequential Models \n",
        "\n",
        "The `Sequential` model we've been using will connect together a list of layers in order from first to last: the first layer gets the input, the last layer produces the output. This creates the model in the figure above:\n",
        "```\n",
        "model = keras.Sequential([\n",
        "    # the hidden ReLU layers\n",
        "    layers.Dense(units=4, activation='relu', input_shape=[2]),\n",
        "    layers.Dense(units=3, activation='relu'),\n",
        "    # the linear output layer \n",
        "    layers.Dense(units=1),\n",
        "])\n",
        "```"
      ]
    },
    {
      "cell_type": "markdown",
      "id": "c09c2d89",
      "metadata": {
        "id": "c09c2d89"
      },
      "source": [
        "## Alternatives to ReLU\n",
        "\n",
        "There is a whole family of variants of the `'relu'` activation -- `'elu'`, `'selu'`, and `'swish'`, among others -- all of which you can use in Keras. Sometimes one activation will perform better than another on a given task, so you could consider experimenting with activations as you develop a model. The ReLU activation tends to do well on most problems, so it's a good one to start with.\n"
      ]
    },
    {
      "cell_type": "markdown",
      "id": "024025db",
      "metadata": {
        "id": "024025db"
      },
      "source": [
        "## The Loss Function\n",
        "\n",
        "The **loss function** measures the disparity between the the target's true value and the value the model predicts. \n",
        "\n",
        "A common loss function for regression problems is the **mean absolute error** or **MAE**. For each prediction `y_pred`, MAE measures the disparity from the true target `y_true` by an absolute difference `abs(y_true - y_pred)`.\n",
        "\n",
        "The total MAE loss on a dataset is the mean of all these absolute differences.\n",
        "\n",
        "<figure style=\"padding: 1em;\">\n",
        "<img src=\"https://i.imgur.com/VDcvkZN.png\" width=\"500\" alt=\"A graph depicting error bars from data points to the fitted line..\">\n",
        "<figcaption style=\"textalign: center; font-style: italic\"><center>The mean absolute error is the average length between the fitted curve and the data points.\n",
        "</center></figcaption>\n",
        "</figure>\n",
        "\n",
        "Besides MAE, other loss functions you might see for regression problems are the mean-squared error (MSE) or the Huber loss (both available in Keras). The Huber loss is less sensitive to outliers in data than the squared error loss.\n",
        "\n",
        "During training, the model will use the loss function as a guide for finding the correct values of its weights (lower loss is better). In other words, the loss function tells the network its objective."
      ]
    },
    {
      "cell_type": "markdown",
      "id": "db70ecc2",
      "metadata": {
        "id": "db70ecc2"
      },
      "source": [
        "## The Optimizer - Stochastic Gradient Descent\n",
        "\n",
        "The **optimizer** is an algorithm that adjusts the weights to minimize the loss.\n",
        "\n",
        "Virtually all of the optimization algorithms used in deep learning belong to a family called **stochastic gradient descent**. They are iterative algorithms that train a network in steps. One **step** of training goes like this:\n",
        "1. Sample some training data and run it through the network to make predictions.\n",
        "2. Measure the loss between the predictions and the true values.\n",
        "3. Finally, adjust the weights in a direction that makes the loss smaller.\n",
        "\n",
        "Then just do this over and over until the loss is as small as you like (or until it won't decrease any further.)\n",
        "\n",
        "<figure style=\"padding: 1em;\">\n",
        "<img src=\"https://i.imgur.com/rFI1tIk.gif\" width=\"1600\" alt=\"Fitting a line batch by batch. The loss decreases and the weights approach their true values.\">\n",
        "<figcaption style=\"textalign: center; font-style: italic\"><center>Training a neural network with Stochastic Gradient Descent.\n",
        "</center></figcaption>\n",
        "</figure>\n",
        "\n",
        "Each iteration's sample of training data is called a **minibatch** (or often just \"batch\"), while a complete round of the training data is called an **epoch**. The number of epochs you train for is how many times the network will see each training example.\n"
      ]
    },
    {
      "cell_type": "markdown",
      "id": "6465e3c1",
      "metadata": {
        "id": "6465e3c1"
      },
      "source": [
        "## Learning Rate and Batch Size\n",
        "\n",
        "Notice that the line in the animation only makes a small shift in the direction of each batch (instead of moving all the way). The size of these shifts is determined by the **learning rate**. A smaller learning rate means the network needs to see more minibatches before its weights converge to their best values.\n",
        "\n",
        "The learning rate and the size of the minibatches are the two parameters that have the largest effect on how the SGD training proceeds. Their interaction is often subtle and the right choice for these parameters isn't always obvious. (We'll explore these effects in the exercise.)\n",
        "\n",
        "**Adam** is an SGD algorithm that has an adaptive learning rate that makes it suitable for most problems without any parameter tuning (it is \"self tuning\", in a sense). Adam is a great general-purpose optimizer."
      ]
    },
    {
      "cell_type": "markdown",
      "id": "651b38ab",
      "metadata": {
        "id": "651b38ab"
      },
      "source": [
        "## Adding the Loss and Optimizer\n",
        "\n",
        "After defining a model, you can add a loss function and optimizer with the model's `compile` method:\n",
        "```\n",
        "model.compile(\n",
        "    optimizer=\"adam\",\n",
        "    loss=\"mae\",\n",
        ")\n",
        "```"
      ]
    },
    {
      "cell_type": "markdown",
      "id": "851c4a25",
      "metadata": {
        "papermill": {
          "duration": 0.010151,
          "end_time": "2022-05-05T17:51:08.752265",
          "exception": false,
          "start_time": "2022-05-05T17:51:08.742114",
          "status": "completed"
        },
        "tags": [],
        "id": "851c4a25"
      },
      "source": [
        "# Example - Big Mart Sales Prediction\n",
        "\n",
        "We've rescaled each feature with sklean's `StandardScaler`. As we'll see today, neural networks tend to perform best when their inputs are on a common scale."
      ]
    },
    {
      "cell_type": "markdown",
      "source": [
        "## Setting Up the Workspace"
      ],
      "metadata": {
        "id": "Wk0dFha0vxWb"
      },
      "id": "Wk0dFha0vxWb"
    },
    {
      "cell_type": "code",
      "source": [
        "import pandas as pd\n",
        "import numpy as np\n",
        "import sklearn\n",
        "sklearn.__version__"
      ],
      "metadata": {
        "colab": {
          "base_uri": "https://localhost:8080/",
          "height": 36
        },
        "id": "mLW4IYHFu2yF",
        "outputId": "96497e03-0ff6-4d5b-d0a2-fc819a60ebdc"
      },
      "id": "mLW4IYHFu2yF",
      "execution_count": 1,
      "outputs": [
        {
          "output_type": "execute_result",
          "data": {
            "text/plain": [
              "'1.2.2'"
            ],
            "application/vnd.google.colaboratory.intrinsic+json": {
              "type": "string"
            }
          },
          "metadata": {},
          "execution_count": 1
        }
      ]
    },
    {
      "cell_type": "code",
      "source": [
        "from sklearn.preprocessing import MinMaxScaler, StandardScaler, OneHotEncoder, OrdinalEncoder\n",
        "from sklearn.impute import SimpleImputer\n",
        "from sklearn.pipeline import Pipeline, make_pipeline\n",
        "from sklearn.compose import make_column_transformer\n",
        "from sklearn.model_selection import train_test_split\n",
        "from sklearn import set_config\n",
        "\n",
        "import tensorflow as tf\n",
        "from tensorflow import keras\n",
        "from tensorflow.keras import layers\n",
        "\n",
        "from IPython.display import display\n",
        "\n",
        "# Setup plotting\n",
        "import matplotlib.pyplot as plt\n",
        "plt.style.use('seaborn-whitegrid')\n",
        "\n",
        "# Set Matplotlib defaults\n",
        "plt.rc('figure', autolayout=True)\n",
        "plt.rc('axes', labelweight='bold', labelsize='large',\n",
        "       titleweight='bold', titlesize=18, titlepad=10)"
      ],
      "metadata": {
        "colab": {
          "base_uri": "https://localhost:8080/"
        },
        "id": "EBCYYAPRvE94",
        "outputId": "620e5106-df7f-4e45-9a1a-e58505d79877"
      },
      "id": "EBCYYAPRvE94",
      "execution_count": 2,
      "outputs": [
        {
          "output_type": "stream",
          "name": "stderr",
          "text": [
            "<ipython-input-2-8f154f658bfe>:16: MatplotlibDeprecationWarning: The seaborn styles shipped by Matplotlib are deprecated since 3.6, as they no longer correspond to the styles shipped by seaborn. However, they will remain available as 'seaborn-v0_8-<style>'. Alternatively, directly use the seaborn API instead.\n",
            "  plt.style.use('seaborn-whitegrid')\n"
          ]
        }
      ]
    },
    {
      "cell_type": "markdown",
      "source": [
        "## Loading the Data\n",
        "\n",
        "The *Big Mart Sales Prediction* dataset consists of sales data for 1559 products across 10 stores in different cities. Also, certain attributes of each product and store have been defined. The aim is to build a model to predict the sales of each product at a particular outlet.\n",
        "\n",
        "Using this model, BigMart will try to understand the properties of products and outlets which play a key role in increasing sales.\n",
        "\n",
        "Since we already explored the Big Mart data extensively before Study Trek and Spring Break, we simply run the next cell to display the first few rows of the columns of data that we want to use."
      ],
      "metadata": {
        "id": "iGdweZojuJzD"
      },
      "id": "iGdweZojuJzD"
    },
    {
      "cell_type": "code",
      "execution_count": 3,
      "id": "71524c4c",
      "metadata": {
        "id": "71524c4c",
        "colab": {
          "base_uri": "https://localhost:8080/",
          "height": 206
        },
        "outputId": "a9c1b50b-4ad7-4859-b5f3-d75a1f722547"
      },
      "outputs": [
        {
          "output_type": "execute_result",
          "data": {
            "text/plain": [
              "   Item_Visibility  Item_MRP  Item_Weight  Item_Outlet_Sales\n",
              "0         0.016047  249.8092         9.30          3735.1380\n",
              "1         0.019278   48.2692         5.92           443.4228\n",
              "2         0.016760  141.6180        17.50          2097.2700\n",
              "3         0.000000  182.0950        19.20           732.3800\n",
              "4         0.000000   53.8614         8.93           994.7052"
            ],
            "text/html": [
              "\n",
              "  <div id=\"df-2403f233-27d5-4989-b126-03d2f6bb1c38\">\n",
              "    <div class=\"colab-df-container\">\n",
              "      <div>\n",
              "<style scoped>\n",
              "    .dataframe tbody tr th:only-of-type {\n",
              "        vertical-align: middle;\n",
              "    }\n",
              "\n",
              "    .dataframe tbody tr th {\n",
              "        vertical-align: top;\n",
              "    }\n",
              "\n",
              "    .dataframe thead th {\n",
              "        text-align: right;\n",
              "    }\n",
              "</style>\n",
              "<table border=\"1\" class=\"dataframe\">\n",
              "  <thead>\n",
              "    <tr style=\"text-align: right;\">\n",
              "      <th></th>\n",
              "      <th>Item_Visibility</th>\n",
              "      <th>Item_MRP</th>\n",
              "      <th>Item_Weight</th>\n",
              "      <th>Item_Outlet_Sales</th>\n",
              "    </tr>\n",
              "  </thead>\n",
              "  <tbody>\n",
              "    <tr>\n",
              "      <th>0</th>\n",
              "      <td>0.016047</td>\n",
              "      <td>249.8092</td>\n",
              "      <td>9.30</td>\n",
              "      <td>3735.1380</td>\n",
              "    </tr>\n",
              "    <tr>\n",
              "      <th>1</th>\n",
              "      <td>0.019278</td>\n",
              "      <td>48.2692</td>\n",
              "      <td>5.92</td>\n",
              "      <td>443.4228</td>\n",
              "    </tr>\n",
              "    <tr>\n",
              "      <th>2</th>\n",
              "      <td>0.016760</td>\n",
              "      <td>141.6180</td>\n",
              "      <td>17.50</td>\n",
              "      <td>2097.2700</td>\n",
              "    </tr>\n",
              "    <tr>\n",
              "      <th>3</th>\n",
              "      <td>0.000000</td>\n",
              "      <td>182.0950</td>\n",
              "      <td>19.20</td>\n",
              "      <td>732.3800</td>\n",
              "    </tr>\n",
              "    <tr>\n",
              "      <th>4</th>\n",
              "      <td>0.000000</td>\n",
              "      <td>53.8614</td>\n",
              "      <td>8.93</td>\n",
              "      <td>994.7052</td>\n",
              "    </tr>\n",
              "  </tbody>\n",
              "</table>\n",
              "</div>\n",
              "      <button class=\"colab-df-convert\" onclick=\"convertToInteractive('df-2403f233-27d5-4989-b126-03d2f6bb1c38')\"\n",
              "              title=\"Convert this dataframe to an interactive table.\"\n",
              "              style=\"display:none;\">\n",
              "        \n",
              "  <svg xmlns=\"http://www.w3.org/2000/svg\" height=\"24px\"viewBox=\"0 0 24 24\"\n",
              "       width=\"24px\">\n",
              "    <path d=\"M0 0h24v24H0V0z\" fill=\"none\"/>\n",
              "    <path d=\"M18.56 5.44l.94 2.06.94-2.06 2.06-.94-2.06-.94-.94-2.06-.94 2.06-2.06.94zm-11 1L8.5 8.5l.94-2.06 2.06-.94-2.06-.94L8.5 2.5l-.94 2.06-2.06.94zm10 10l.94 2.06.94-2.06 2.06-.94-2.06-.94-.94-2.06-.94 2.06-2.06.94z\"/><path d=\"M17.41 7.96l-1.37-1.37c-.4-.4-.92-.59-1.43-.59-.52 0-1.04.2-1.43.59L10.3 9.45l-7.72 7.72c-.78.78-.78 2.05 0 2.83L4 21.41c.39.39.9.59 1.41.59.51 0 1.02-.2 1.41-.59l7.78-7.78 2.81-2.81c.8-.78.8-2.07 0-2.86zM5.41 20L4 18.59l7.72-7.72 1.47 1.35L5.41 20z\"/>\n",
              "  </svg>\n",
              "      </button>\n",
              "      \n",
              "  <style>\n",
              "    .colab-df-container {\n",
              "      display:flex;\n",
              "      flex-wrap:wrap;\n",
              "      gap: 12px;\n",
              "    }\n",
              "\n",
              "    .colab-df-convert {\n",
              "      background-color: #E8F0FE;\n",
              "      border: none;\n",
              "      border-radius: 50%;\n",
              "      cursor: pointer;\n",
              "      display: none;\n",
              "      fill: #1967D2;\n",
              "      height: 32px;\n",
              "      padding: 0 0 0 0;\n",
              "      width: 32px;\n",
              "    }\n",
              "\n",
              "    .colab-df-convert:hover {\n",
              "      background-color: #E2EBFA;\n",
              "      box-shadow: 0px 1px 2px rgba(60, 64, 67, 0.3), 0px 1px 3px 1px rgba(60, 64, 67, 0.15);\n",
              "      fill: #174EA6;\n",
              "    }\n",
              "\n",
              "    [theme=dark] .colab-df-convert {\n",
              "      background-color: #3B4455;\n",
              "      fill: #D2E3FC;\n",
              "    }\n",
              "\n",
              "    [theme=dark] .colab-df-convert:hover {\n",
              "      background-color: #434B5C;\n",
              "      box-shadow: 0px 1px 3px 1px rgba(0, 0, 0, 0.15);\n",
              "      filter: drop-shadow(0px 1px 2px rgba(0, 0, 0, 0.3));\n",
              "      fill: #FFFFFF;\n",
              "    }\n",
              "  </style>\n",
              "\n",
              "      <script>\n",
              "        const buttonEl =\n",
              "          document.querySelector('#df-2403f233-27d5-4989-b126-03d2f6bb1c38 button.colab-df-convert');\n",
              "        buttonEl.style.display =\n",
              "          google.colab.kernel.accessAllowed ? 'block' : 'none';\n",
              "\n",
              "        async function convertToInteractive(key) {\n",
              "          const element = document.querySelector('#df-2403f233-27d5-4989-b126-03d2f6bb1c38');\n",
              "          const dataTable =\n",
              "            await google.colab.kernel.invokeFunction('convertToInteractive',\n",
              "                                                     [key], {});\n",
              "          if (!dataTable) return;\n",
              "\n",
              "          const docLinkHtml = 'Like what you see? Visit the ' +\n",
              "            '<a target=\"_blank\" href=https://colab.research.google.com/notebooks/data_table.ipynb>data table notebook</a>'\n",
              "            + ' to learn more about interactive tables.';\n",
              "          element.innerHTML = '';\n",
              "          dataTable['output_type'] = 'display_data';\n",
              "          await google.colab.output.renderOutput(dataTable, element);\n",
              "          const docLink = document.createElement('div');\n",
              "          docLink.innerHTML = docLinkHtml;\n",
              "          element.appendChild(docLink);\n",
              "        }\n",
              "      </script>\n",
              "    </div>\n",
              "  </div>\n",
              "  "
            ]
          },
          "metadata": {},
          "execution_count": 3
        }
      ],
      "source": [
        "#import pandas as pd\n",
        "df_sales = pd.read_csv('https://www.dropbox.com/s/yqaymhdf7bvvair/bigmart_sales_predictions.csv?dl=1')\n",
        "\n",
        "#Keep only columns that we use as features\n",
        "df_sales = df_sales[['Item_Visibility','Item_MRP','Item_Weight','Item_Outlet_Sales']]\n",
        "df_sales.head(5)"
      ]
    },
    {
      "cell_type": "code",
      "execution_count": 4,
      "id": "340d11c6",
      "metadata": {
        "colab": {
          "base_uri": "https://localhost:8080/"
        },
        "id": "340d11c6",
        "outputId": "ed0ad1be-7a8e-4650-f5ec-2aa049815be7"
      },
      "outputs": [
        {
          "output_type": "execute_result",
          "data": {
            "text/plain": [
              "(8523, 4)"
            ]
          },
          "metadata": {},
          "execution_count": 4
        }
      ],
      "source": [
        "df_sales.shape # (rows, columns)"
      ]
    },
    {
      "cell_type": "code",
      "execution_count": 5,
      "id": "c3cd36e2",
      "metadata": {
        "colab": {
          "base_uri": "https://localhost:8080/",
          "height": 531
        },
        "id": "c3cd36e2",
        "outputId": "d3325258-acaf-475d-baee-4a2fa9fa3d67"
      },
      "outputs": [
        {
          "output_type": "display_data",
          "data": {
            "text/plain": [
              "      Item_Visibility  Item_MRP  Item_Weight\n",
              "7477         0.120256   39.2506        8.365\n",
              "5089         0.015944  231.9668       13.650\n",
              "6992         0.000000   89.8856       14.300\n",
              "6264         0.041803   34.8216       12.350\n",
              "4374         0.031963  178.0344        6.380"
            ],
            "text/html": [
              "\n",
              "  <div id=\"df-a4dbe950-057d-4767-bfa9-c376aa10eb8a\">\n",
              "    <div class=\"colab-df-container\">\n",
              "      <div>\n",
              "<style scoped>\n",
              "    .dataframe tbody tr th:only-of-type {\n",
              "        vertical-align: middle;\n",
              "    }\n",
              "\n",
              "    .dataframe tbody tr th {\n",
              "        vertical-align: top;\n",
              "    }\n",
              "\n",
              "    .dataframe thead th {\n",
              "        text-align: right;\n",
              "    }\n",
              "</style>\n",
              "<table border=\"1\" class=\"dataframe\">\n",
              "  <thead>\n",
              "    <tr style=\"text-align: right;\">\n",
              "      <th></th>\n",
              "      <th>Item_Visibility</th>\n",
              "      <th>Item_MRP</th>\n",
              "      <th>Item_Weight</th>\n",
              "    </tr>\n",
              "  </thead>\n",
              "  <tbody>\n",
              "    <tr>\n",
              "      <th>7477</th>\n",
              "      <td>0.120256</td>\n",
              "      <td>39.2506</td>\n",
              "      <td>8.365</td>\n",
              "    </tr>\n",
              "    <tr>\n",
              "      <th>5089</th>\n",
              "      <td>0.015944</td>\n",
              "      <td>231.9668</td>\n",
              "      <td>13.650</td>\n",
              "    </tr>\n",
              "    <tr>\n",
              "      <th>6992</th>\n",
              "      <td>0.000000</td>\n",
              "      <td>89.8856</td>\n",
              "      <td>14.300</td>\n",
              "    </tr>\n",
              "    <tr>\n",
              "      <th>6264</th>\n",
              "      <td>0.041803</td>\n",
              "      <td>34.8216</td>\n",
              "      <td>12.350</td>\n",
              "    </tr>\n",
              "    <tr>\n",
              "      <th>4374</th>\n",
              "      <td>0.031963</td>\n",
              "      <td>178.0344</td>\n",
              "      <td>6.380</td>\n",
              "    </tr>\n",
              "  </tbody>\n",
              "</table>\n",
              "</div>\n",
              "      <button class=\"colab-df-convert\" onclick=\"convertToInteractive('df-a4dbe950-057d-4767-bfa9-c376aa10eb8a')\"\n",
              "              title=\"Convert this dataframe to an interactive table.\"\n",
              "              style=\"display:none;\">\n",
              "        \n",
              "  <svg xmlns=\"http://www.w3.org/2000/svg\" height=\"24px\"viewBox=\"0 0 24 24\"\n",
              "       width=\"24px\">\n",
              "    <path d=\"M0 0h24v24H0V0z\" fill=\"none\"/>\n",
              "    <path d=\"M18.56 5.44l.94 2.06.94-2.06 2.06-.94-2.06-.94-.94-2.06-.94 2.06-2.06.94zm-11 1L8.5 8.5l.94-2.06 2.06-.94-2.06-.94L8.5 2.5l-.94 2.06-2.06.94zm10 10l.94 2.06.94-2.06 2.06-.94-2.06-.94-.94-2.06-.94 2.06-2.06.94z\"/><path d=\"M17.41 7.96l-1.37-1.37c-.4-.4-.92-.59-1.43-.59-.52 0-1.04.2-1.43.59L10.3 9.45l-7.72 7.72c-.78.78-.78 2.05 0 2.83L4 21.41c.39.39.9.59 1.41.59.51 0 1.02-.2 1.41-.59l7.78-7.78 2.81-2.81c.8-.78.8-2.07 0-2.86zM5.41 20L4 18.59l7.72-7.72 1.47 1.35L5.41 20z\"/>\n",
              "  </svg>\n",
              "      </button>\n",
              "      \n",
              "  <style>\n",
              "    .colab-df-container {\n",
              "      display:flex;\n",
              "      flex-wrap:wrap;\n",
              "      gap: 12px;\n",
              "    }\n",
              "\n",
              "    .colab-df-convert {\n",
              "      background-color: #E8F0FE;\n",
              "      border: none;\n",
              "      border-radius: 50%;\n",
              "      cursor: pointer;\n",
              "      display: none;\n",
              "      fill: #1967D2;\n",
              "      height: 32px;\n",
              "      padding: 0 0 0 0;\n",
              "      width: 32px;\n",
              "    }\n",
              "\n",
              "    .colab-df-convert:hover {\n",
              "      background-color: #E2EBFA;\n",
              "      box-shadow: 0px 1px 2px rgba(60, 64, 67, 0.3), 0px 1px 3px 1px rgba(60, 64, 67, 0.15);\n",
              "      fill: #174EA6;\n",
              "    }\n",
              "\n",
              "    [theme=dark] .colab-df-convert {\n",
              "      background-color: #3B4455;\n",
              "      fill: #D2E3FC;\n",
              "    }\n",
              "\n",
              "    [theme=dark] .colab-df-convert:hover {\n",
              "      background-color: #434B5C;\n",
              "      box-shadow: 0px 1px 3px 1px rgba(0, 0, 0, 0.15);\n",
              "      filter: drop-shadow(0px 1px 2px rgba(0, 0, 0, 0.3));\n",
              "      fill: #FFFFFF;\n",
              "    }\n",
              "  </style>\n",
              "\n",
              "      <script>\n",
              "        const buttonEl =\n",
              "          document.querySelector('#df-a4dbe950-057d-4767-bfa9-c376aa10eb8a button.colab-df-convert');\n",
              "        buttonEl.style.display =\n",
              "          google.colab.kernel.accessAllowed ? 'block' : 'none';\n",
              "\n",
              "        async function convertToInteractive(key) {\n",
              "          const element = document.querySelector('#df-a4dbe950-057d-4767-bfa9-c376aa10eb8a');\n",
              "          const dataTable =\n",
              "            await google.colab.kernel.invokeFunction('convertToInteractive',\n",
              "                                                     [key], {});\n",
              "          if (!dataTable) return;\n",
              "\n",
              "          const docLinkHtml = 'Like what you see? Visit the ' +\n",
              "            '<a target=\"_blank\" href=https://colab.research.google.com/notebooks/data_table.ipynb>data table notebook</a>'\n",
              "            + ' to learn more about interactive tables.';\n",
              "          element.innerHTML = '';\n",
              "          dataTable['output_type'] = 'display_data';\n",
              "          await google.colab.output.renderOutput(dataTable, element);\n",
              "          const docLink = document.createElement('div');\n",
              "          docLink.innerHTML = docLinkHtml;\n",
              "          element.appendChild(docLink);\n",
              "        }\n",
              "      </script>\n",
              "    </div>\n",
              "  </div>\n",
              "  "
            ]
          },
          "metadata": {}
        },
        {
          "output_type": "display_data",
          "data": {
            "text/plain": [
              "ColumnTransformer(transformers=[('pipeline',\n",
              "                                 Pipeline(steps=[('simpleimputer',\n",
              "                                                  SimpleImputer()),\n",
              "                                                 ('standardscaler',\n",
              "                                                  StandardScaler())]),\n",
              "                                 ['Item_Weight', 'Item_Visibility',\n",
              "                                  'Item_MRP'])],\n",
              "                  verbose_feature_names_out=False)"
            ],
            "text/html": [
              "<style>#sk-container-id-1 {color: black;background-color: white;}#sk-container-id-1 pre{padding: 0;}#sk-container-id-1 div.sk-toggleable {background-color: white;}#sk-container-id-1 label.sk-toggleable__label {cursor: pointer;display: block;width: 100%;margin-bottom: 0;padding: 0.3em;box-sizing: border-box;text-align: center;}#sk-container-id-1 label.sk-toggleable__label-arrow:before {content: \"▸\";float: left;margin-right: 0.25em;color: #696969;}#sk-container-id-1 label.sk-toggleable__label-arrow:hover:before {color: black;}#sk-container-id-1 div.sk-estimator:hover label.sk-toggleable__label-arrow:before {color: black;}#sk-container-id-1 div.sk-toggleable__content {max-height: 0;max-width: 0;overflow: hidden;text-align: left;background-color: #f0f8ff;}#sk-container-id-1 div.sk-toggleable__content pre {margin: 0.2em;color: black;border-radius: 0.25em;background-color: #f0f8ff;}#sk-container-id-1 input.sk-toggleable__control:checked~div.sk-toggleable__content {max-height: 200px;max-width: 100%;overflow: auto;}#sk-container-id-1 input.sk-toggleable__control:checked~label.sk-toggleable__label-arrow:before {content: \"▾\";}#sk-container-id-1 div.sk-estimator input.sk-toggleable__control:checked~label.sk-toggleable__label {background-color: #d4ebff;}#sk-container-id-1 div.sk-label input.sk-toggleable__control:checked~label.sk-toggleable__label {background-color: #d4ebff;}#sk-container-id-1 input.sk-hidden--visually {border: 0;clip: rect(1px 1px 1px 1px);clip: rect(1px, 1px, 1px, 1px);height: 1px;margin: -1px;overflow: hidden;padding: 0;position: absolute;width: 1px;}#sk-container-id-1 div.sk-estimator {font-family: monospace;background-color: #f0f8ff;border: 1px dotted black;border-radius: 0.25em;box-sizing: border-box;margin-bottom: 0.5em;}#sk-container-id-1 div.sk-estimator:hover {background-color: #d4ebff;}#sk-container-id-1 div.sk-parallel-item::after {content: \"\";width: 100%;border-bottom: 1px solid gray;flex-grow: 1;}#sk-container-id-1 div.sk-label:hover label.sk-toggleable__label {background-color: #d4ebff;}#sk-container-id-1 div.sk-serial::before {content: \"\";position: absolute;border-left: 1px solid gray;box-sizing: border-box;top: 0;bottom: 0;left: 50%;z-index: 0;}#sk-container-id-1 div.sk-serial {display: flex;flex-direction: column;align-items: center;background-color: white;padding-right: 0.2em;padding-left: 0.2em;position: relative;}#sk-container-id-1 div.sk-item {position: relative;z-index: 1;}#sk-container-id-1 div.sk-parallel {display: flex;align-items: stretch;justify-content: center;background-color: white;position: relative;}#sk-container-id-1 div.sk-item::before, #sk-container-id-1 div.sk-parallel-item::before {content: \"\";position: absolute;border-left: 1px solid gray;box-sizing: border-box;top: 0;bottom: 0;left: 50%;z-index: -1;}#sk-container-id-1 div.sk-parallel-item {display: flex;flex-direction: column;z-index: 1;position: relative;background-color: white;}#sk-container-id-1 div.sk-parallel-item:first-child::after {align-self: flex-end;width: 50%;}#sk-container-id-1 div.sk-parallel-item:last-child::after {align-self: flex-start;width: 50%;}#sk-container-id-1 div.sk-parallel-item:only-child::after {width: 0;}#sk-container-id-1 div.sk-dashed-wrapped {border: 1px dashed gray;margin: 0 0.4em 0.5em 0.4em;box-sizing: border-box;padding-bottom: 0.4em;background-color: white;}#sk-container-id-1 div.sk-label label {font-family: monospace;font-weight: bold;display: inline-block;line-height: 1.2em;}#sk-container-id-1 div.sk-label-container {text-align: center;}#sk-container-id-1 div.sk-container {/* jupyter's `normalize.less` sets `[hidden] { display: none; }` but bootstrap.min.css set `[hidden] { display: none !important; }` so we also need the `!important` here to be able to override the default hidden behavior on the sphinx rendered scikit-learn.org. See: https://github.com/scikit-learn/scikit-learn/issues/21755 */display: inline-block !important;position: relative;}#sk-container-id-1 div.sk-text-repr-fallback {display: none;}</style><div id=\"sk-container-id-1\" class=\"sk-top-container\"><div class=\"sk-text-repr-fallback\"><pre>ColumnTransformer(transformers=[(&#x27;pipeline&#x27;,\n",
              "                                 Pipeline(steps=[(&#x27;simpleimputer&#x27;,\n",
              "                                                  SimpleImputer()),\n",
              "                                                 (&#x27;standardscaler&#x27;,\n",
              "                                                  StandardScaler())]),\n",
              "                                 [&#x27;Item_Weight&#x27;, &#x27;Item_Visibility&#x27;,\n",
              "                                  &#x27;Item_MRP&#x27;])],\n",
              "                  verbose_feature_names_out=False)</pre><b>In a Jupyter environment, please rerun this cell to show the HTML representation or trust the notebook. <br />On GitHub, the HTML representation is unable to render, please try loading this page with nbviewer.org.</b></div><div class=\"sk-container\" hidden><div class=\"sk-item sk-dashed-wrapped\"><div class=\"sk-label-container\"><div class=\"sk-label sk-toggleable\"><input class=\"sk-toggleable__control sk-hidden--visually\" id=\"sk-estimator-id-1\" type=\"checkbox\" ><label for=\"sk-estimator-id-1\" class=\"sk-toggleable__label sk-toggleable__label-arrow\">ColumnTransformer</label><div class=\"sk-toggleable__content\"><pre>ColumnTransformer(transformers=[(&#x27;pipeline&#x27;,\n",
              "                                 Pipeline(steps=[(&#x27;simpleimputer&#x27;,\n",
              "                                                  SimpleImputer()),\n",
              "                                                 (&#x27;standardscaler&#x27;,\n",
              "                                                  StandardScaler())]),\n",
              "                                 [&#x27;Item_Weight&#x27;, &#x27;Item_Visibility&#x27;,\n",
              "                                  &#x27;Item_MRP&#x27;])],\n",
              "                  verbose_feature_names_out=False)</pre></div></div></div><div class=\"sk-parallel\"><div class=\"sk-parallel-item\"><div class=\"sk-item\"><div class=\"sk-label-container\"><div class=\"sk-label sk-toggleable\"><input class=\"sk-toggleable__control sk-hidden--visually\" id=\"sk-estimator-id-2\" type=\"checkbox\" ><label for=\"sk-estimator-id-2\" class=\"sk-toggleable__label sk-toggleable__label-arrow\">pipeline</label><div class=\"sk-toggleable__content\"><pre>[&#x27;Item_Weight&#x27;, &#x27;Item_Visibility&#x27;, &#x27;Item_MRP&#x27;]</pre></div></div></div><div class=\"sk-serial\"><div class=\"sk-item\"><div class=\"sk-serial\"><div class=\"sk-item\"><div class=\"sk-estimator sk-toggleable\"><input class=\"sk-toggleable__control sk-hidden--visually\" id=\"sk-estimator-id-3\" type=\"checkbox\" ><label for=\"sk-estimator-id-3\" class=\"sk-toggleable__label sk-toggleable__label-arrow\">SimpleImputer</label><div class=\"sk-toggleable__content\"><pre>SimpleImputer()</pre></div></div></div><div class=\"sk-item\"><div class=\"sk-estimator sk-toggleable\"><input class=\"sk-toggleable__control sk-hidden--visually\" id=\"sk-estimator-id-4\" type=\"checkbox\" ><label for=\"sk-estimator-id-4\" class=\"sk-toggleable__label sk-toggleable__label-arrow\">StandardScaler</label><div class=\"sk-toggleable__content\"><pre>StandardScaler()</pre></div></div></div></div></div></div></div></div></div></div></div></div>"
            ]
          },
          "metadata": {}
        },
        {
          "output_type": "display_data",
          "data": {
            "text/plain": [
              "      Item_Weight  Item_Visibility  Item_MRP\n",
              "7477    -1.065209         1.058290 -1.629769\n",
              "5089     0.184914        -0.971558  1.461938\n",
              "6992     0.338666        -1.281811 -0.817442\n",
              "6264    -0.122590        -0.468364 -1.700823\n",
              "4374    -1.534745        -0.659836  0.596711"
            ],
            "text/html": [
              "\n",
              "  <div id=\"df-e6ebdd31-4799-416c-90b9-d075bd4ac5b6\">\n",
              "    <div class=\"colab-df-container\">\n",
              "      <div>\n",
              "<style scoped>\n",
              "    .dataframe tbody tr th:only-of-type {\n",
              "        vertical-align: middle;\n",
              "    }\n",
              "\n",
              "    .dataframe tbody tr th {\n",
              "        vertical-align: top;\n",
              "    }\n",
              "\n",
              "    .dataframe thead th {\n",
              "        text-align: right;\n",
              "    }\n",
              "</style>\n",
              "<table border=\"1\" class=\"dataframe\">\n",
              "  <thead>\n",
              "    <tr style=\"text-align: right;\">\n",
              "      <th></th>\n",
              "      <th>Item_Weight</th>\n",
              "      <th>Item_Visibility</th>\n",
              "      <th>Item_MRP</th>\n",
              "    </tr>\n",
              "  </thead>\n",
              "  <tbody>\n",
              "    <tr>\n",
              "      <th>7477</th>\n",
              "      <td>-1.065209</td>\n",
              "      <td>1.058290</td>\n",
              "      <td>-1.629769</td>\n",
              "    </tr>\n",
              "    <tr>\n",
              "      <th>5089</th>\n",
              "      <td>0.184914</td>\n",
              "      <td>-0.971558</td>\n",
              "      <td>1.461938</td>\n",
              "    </tr>\n",
              "    <tr>\n",
              "      <th>6992</th>\n",
              "      <td>0.338666</td>\n",
              "      <td>-1.281811</td>\n",
              "      <td>-0.817442</td>\n",
              "    </tr>\n",
              "    <tr>\n",
              "      <th>6264</th>\n",
              "      <td>-0.122590</td>\n",
              "      <td>-0.468364</td>\n",
              "      <td>-1.700823</td>\n",
              "    </tr>\n",
              "    <tr>\n",
              "      <th>4374</th>\n",
              "      <td>-1.534745</td>\n",
              "      <td>-0.659836</td>\n",
              "      <td>0.596711</td>\n",
              "    </tr>\n",
              "  </tbody>\n",
              "</table>\n",
              "</div>\n",
              "      <button class=\"colab-df-convert\" onclick=\"convertToInteractive('df-e6ebdd31-4799-416c-90b9-d075bd4ac5b6')\"\n",
              "              title=\"Convert this dataframe to an interactive table.\"\n",
              "              style=\"display:none;\">\n",
              "        \n",
              "  <svg xmlns=\"http://www.w3.org/2000/svg\" height=\"24px\"viewBox=\"0 0 24 24\"\n",
              "       width=\"24px\">\n",
              "    <path d=\"M0 0h24v24H0V0z\" fill=\"none\"/>\n",
              "    <path d=\"M18.56 5.44l.94 2.06.94-2.06 2.06-.94-2.06-.94-.94-2.06-.94 2.06-2.06.94zm-11 1L8.5 8.5l.94-2.06 2.06-.94-2.06-.94L8.5 2.5l-.94 2.06-2.06.94zm10 10l.94 2.06.94-2.06 2.06-.94-2.06-.94-.94-2.06-.94 2.06-2.06.94z\"/><path d=\"M17.41 7.96l-1.37-1.37c-.4-.4-.92-.59-1.43-.59-.52 0-1.04.2-1.43.59L10.3 9.45l-7.72 7.72c-.78.78-.78 2.05 0 2.83L4 21.41c.39.39.9.59 1.41.59.51 0 1.02-.2 1.41-.59l7.78-7.78 2.81-2.81c.8-.78.8-2.07 0-2.86zM5.41 20L4 18.59l7.72-7.72 1.47 1.35L5.41 20z\"/>\n",
              "  </svg>\n",
              "      </button>\n",
              "      \n",
              "  <style>\n",
              "    .colab-df-container {\n",
              "      display:flex;\n",
              "      flex-wrap:wrap;\n",
              "      gap: 12px;\n",
              "    }\n",
              "\n",
              "    .colab-df-convert {\n",
              "      background-color: #E8F0FE;\n",
              "      border: none;\n",
              "      border-radius: 50%;\n",
              "      cursor: pointer;\n",
              "      display: none;\n",
              "      fill: #1967D2;\n",
              "      height: 32px;\n",
              "      padding: 0 0 0 0;\n",
              "      width: 32px;\n",
              "    }\n",
              "\n",
              "    .colab-df-convert:hover {\n",
              "      background-color: #E2EBFA;\n",
              "      box-shadow: 0px 1px 2px rgba(60, 64, 67, 0.3), 0px 1px 3px 1px rgba(60, 64, 67, 0.15);\n",
              "      fill: #174EA6;\n",
              "    }\n",
              "\n",
              "    [theme=dark] .colab-df-convert {\n",
              "      background-color: #3B4455;\n",
              "      fill: #D2E3FC;\n",
              "    }\n",
              "\n",
              "    [theme=dark] .colab-df-convert:hover {\n",
              "      background-color: #434B5C;\n",
              "      box-shadow: 0px 1px 3px 1px rgba(0, 0, 0, 0.15);\n",
              "      filter: drop-shadow(0px 1px 2px rgba(0, 0, 0, 0.3));\n",
              "      fill: #FFFFFF;\n",
              "    }\n",
              "  </style>\n",
              "\n",
              "      <script>\n",
              "        const buttonEl =\n",
              "          document.querySelector('#df-e6ebdd31-4799-416c-90b9-d075bd4ac5b6 button.colab-df-convert');\n",
              "        buttonEl.style.display =\n",
              "          google.colab.kernel.accessAllowed ? 'block' : 'none';\n",
              "\n",
              "        async function convertToInteractive(key) {\n",
              "          const element = document.querySelector('#df-e6ebdd31-4799-416c-90b9-d075bd4ac5b6');\n",
              "          const dataTable =\n",
              "            await google.colab.kernel.invokeFunction('convertToInteractive',\n",
              "                                                     [key], {});\n",
              "          if (!dataTable) return;\n",
              "\n",
              "          const docLinkHtml = 'Like what you see? Visit the ' +\n",
              "            '<a target=\"_blank\" href=https://colab.research.google.com/notebooks/data_table.ipynb>data table notebook</a>'\n",
              "            + ' to learn more about interactive tables.';\n",
              "          element.innerHTML = '';\n",
              "          dataTable['output_type'] = 'display_data';\n",
              "          await google.colab.output.renderOutput(dataTable, element);\n",
              "          const docLink = document.createElement('div');\n",
              "          docLink.innerHTML = docLinkHtml;\n",
              "          element.appendChild(docLink);\n",
              "        }\n",
              "      </script>\n",
              "    </div>\n",
              "  </div>\n",
              "  "
            ]
          },
          "metadata": {}
        }
      ],
      "source": [
        "# Define target and features\n",
        "target = \"Item_Outlet_Sales\"\n",
        "y = df_sales[target].copy()\n",
        "X = df_sales.drop(columns=[target]).copy()\n",
        "\n",
        "# Create training and validation splits\n",
        "X_train, X_test, y_train, y_test = train_test_split(X, y, random_state=123)\n",
        "display(X_train.head())\n",
        "\n",
        "#Establish a pipeline for numerical features\n",
        "num_features = ['Item_Weight','Item_Visibility','Item_MRP']\n",
        "num_pipe = Pipeline(steps=[\n",
        "    ('simpleimputer', SimpleImputer()),\n",
        "    ('standardscaler', StandardScaler())])\n",
        "\n",
        "#Create switch to correctly route each column to the correct pipeline\n",
        "preprocessor = make_column_transformer(\n",
        "    (num_pipe, num_features), verbose_feature_names_out=False)\n",
        "display(preprocessor)\n",
        "\n",
        "#Fit each step in our pipeline to the training data\n",
        "preprocessor.fit(X_train)\n",
        "\n",
        "#Now we can transform our features, with the steps specified in the pipeline\n",
        "Xprocessed_train_df = pd.DataFrame(preprocessor.transform(X_train),\n",
        "                          columns=preprocessor.get_feature_names_out(),\n",
        "                          index=X_train.index)\n",
        "Xprocessed_test_df = pd.DataFrame(preprocessor.transform(X_test),\n",
        "                                  columns=preprocessor.get_feature_names_out(),\n",
        "                                  index=X_test.index)\n",
        "display(Xprocessed_train_df.head())\n",
        "\n",
        "# make back-up copy of original train target and validation target\n",
        "y_train_orig = y_train \n",
        "y_test_orig = y_test \n",
        "\n",
        "#Log transform target instead of standardizing\n",
        "y_train = np.log(y_train)\n",
        "y_test = np.log(y_test)"
      ]
    },
    {
      "cell_type": "markdown",
      "id": "d9113833",
      "metadata": {
        "papermill": {
          "duration": 0.010785,
          "end_time": "2022-05-05T17:51:08.870188",
          "exception": false,
          "start_time": "2022-05-05T17:51:08.859403",
          "status": "completed"
        },
        "tags": [],
        "id": "d9113833"
      },
      "source": [
        "How many inputs should this network have? We can discover this by looking at the number of columns in the data matrix. Be sure not to include the target (`'Item_Outlet_Sales'`) here -- only the input features."
      ]
    },
    {
      "cell_type": "code",
      "execution_count": 6,
      "id": "9ef4df3f",
      "metadata": {
        "execution": {
          "iopub.execute_input": "2022-05-05T17:51:08.894606Z",
          "iopub.status.busy": "2022-05-05T17:51:08.894218Z",
          "iopub.status.idle": "2022-05-05T17:51:08.899338Z",
          "shell.execute_reply": "2022-05-05T17:51:08.898198Z"
        },
        "lines_to_next_cell": 2,
        "papermill": {
          "duration": 0.019742,
          "end_time": "2022-05-05T17:51:08.900932",
          "exception": false,
          "start_time": "2022-05-05T17:51:08.881190",
          "status": "completed"
        },
        "tags": [],
        "colab": {
          "base_uri": "https://localhost:8080/"
        },
        "id": "9ef4df3f",
        "outputId": "bbd031c0-e03a-4a37-808b-e0f43461143a"
      },
      "outputs": [
        {
          "output_type": "stream",
          "name": "stdout",
          "text": [
            "(6392, 3)\n"
          ]
        }
      ],
      "source": [
        "print(Xprocessed_train_df.shape)"
      ]
    },
    {
      "cell_type": "code",
      "execution_count": 7,
      "id": "c2907669",
      "metadata": {
        "colab": {
          "base_uri": "https://localhost:8080/"
        },
        "id": "c2907669",
        "outputId": "c14579b7-6ed1-430c-de17-35ecc1c335ab"
      },
      "outputs": [
        {
          "output_type": "stream",
          "name": "stdout",
          "text": [
            "Input shape: [3]\n"
          ]
        }
      ],
      "source": [
        "input_shape = [Xprocessed_train_df.shape[1]]\n",
        "print(\"Input shape: {}\".format(input_shape))"
      ]
    },
    {
      "cell_type": "code",
      "source": [
        "from sklearn.linear_model import LinearRegression\n",
        "\n",
        "model = LinearRegression()\n",
        "model.fit(Xprocessed_train_df[['Item_MRP']], y_train)\n",
        "model.coef_"
      ],
      "metadata": {
        "colab": {
          "base_uri": "https://localhost:8080/"
        },
        "id": "UG8npyaLlHx5",
        "outputId": "f04fe88f-d873-49b6-e67e-472e9242be39"
      },
      "id": "UG8npyaLlHx5",
      "execution_count": 8,
      "outputs": [
        {
          "output_type": "execute_result",
          "data": {
            "text/plain": [
              "array([0.52011878])"
            ]
          },
          "metadata": {},
          "execution_count": 8
        }
      ]
    },
    {
      "cell_type": "code",
      "source": [
        "model.intercept_"
      ],
      "metadata": {
        "id": "pXZiNF0OnGQs",
        "outputId": "0e5a5c44-278d-4bad-f23a-60490796bc4c",
        "colab": {
          "base_uri": "https://localhost:8080/"
        }
      },
      "id": "pXZiNF0OnGQs",
      "execution_count": 9,
      "outputs": [
        {
          "output_type": "execute_result",
          "data": {
            "text/plain": [
              "7.298927200339228"
            ]
          },
          "metadata": {},
          "execution_count": 9
        }
      ]
    },
    {
      "cell_type": "markdown",
      "id": "f1f4685c",
      "metadata": {
        "papermill": {
          "duration": 0.011457,
          "end_time": "2022-05-05T17:51:08.924283",
          "exception": false,
          "start_time": "2022-05-05T17:51:08.912826",
          "status": "completed"
        },
        "tags": [],
        "id": "f1f4685c"
      },
      "source": [
        "Three columns means three inputs.\n",
        "\n",
        "We've chosen a three-layer network with 320 neurons. This network should be capable of learning fairly complex relationships in the data."
      ]
    },
    {
      "cell_type": "code",
      "execution_count": 10,
      "id": "e4a96768",
      "metadata": {
        "execution": {
          "iopub.execute_input": "2022-05-05T17:51:08.949955Z",
          "iopub.status.busy": "2022-05-05T17:51:08.949534Z",
          "iopub.status.idle": "2022-05-05T17:51:14.571233Z",
          "shell.execute_reply": "2022-05-05T17:51:14.570223Z"
        },
        "papermill": {
          "duration": 5.636819,
          "end_time": "2022-05-05T17:51:14.573031",
          "exception": false,
          "start_time": "2022-05-05T17:51:08.936212",
          "status": "completed"
        },
        "tags": [],
        "id": "e4a96768"
      },
      "outputs": [],
      "source": [
        "#from tensorflow import keras\n",
        "#from tensorflow.keras import layers\n",
        "\n",
        "model = keras.Sequential([\n",
        "    layers.Dense(64, activation='relu', input_shape=input_shape),\n",
        "    layers.Dense(64, activation='relu'),\n",
        "    layers.Dense(64, activation='relu'),\n",
        "    layers.Dense(1),\n",
        "])"
      ]
    },
    {
      "cell_type": "markdown",
      "id": "51116cd6",
      "metadata": {
        "papermill": {
          "duration": 0.013131,
          "end_time": "2022-05-05T17:51:14.599721",
          "exception": false,
          "start_time": "2022-05-05T17:51:14.586590",
          "status": "completed"
        },
        "tags": [],
        "id": "51116cd6"
      },
      "source": [
        "Deciding the architecture of your model should be part of a process. Start simple and use the validation loss as your guide. You'll learn more about model development in the exercises.\n",
        "\n",
        "After defining the model, we compile in the optimizer and loss function."
      ]
    },
    {
      "cell_type": "code",
      "execution_count": 11,
      "id": "bc991c75",
      "metadata": {
        "execution": {
          "iopub.execute_input": "2022-05-05T17:51:14.626399Z",
          "iopub.status.busy": "2022-05-05T17:51:14.626146Z",
          "iopub.status.idle": "2022-05-05T17:51:14.638882Z",
          "shell.execute_reply": "2022-05-05T17:51:14.638090Z"
        },
        "papermill": {
          "duration": 0.027452,
          "end_time": "2022-05-05T17:51:14.640479",
          "exception": false,
          "start_time": "2022-05-05T17:51:14.613027",
          "status": "completed"
        },
        "tags": [],
        "id": "bc991c75"
      },
      "outputs": [],
      "source": [
        "model.compile(\n",
        "    optimizer='adam',\n",
        "    loss='mae',\n",
        ")"
      ]
    },
    {
      "cell_type": "markdown",
      "id": "0b519d2c",
      "metadata": {
        "papermill": {
          "duration": 0.011486,
          "end_time": "2022-05-05T17:51:14.664076",
          "exception": false,
          "start_time": "2022-05-05T17:51:14.652590",
          "status": "completed"
        },
        "tags": [],
        "id": "0b519d2c"
      },
      "source": [
        "Now we're ready to start the training! We've told Keras to feed the optimizer 128 rows of the training data at a time (the `batch_size`) and to do that 200 times all the way through the dataset (the `epochs`)."
      ]
    },
    {
      "cell_type": "code",
      "execution_count": 12,
      "id": "201c9910",
      "metadata": {
        "execution": {
          "iopub.execute_input": "2022-05-05T17:51:14.689035Z",
          "iopub.status.busy": "2022-05-05T17:51:14.688785Z",
          "iopub.status.idle": "2022-05-05T17:51:17.800254Z",
          "shell.execute_reply": "2022-05-05T17:51:17.799259Z"
        },
        "papermill": {
          "duration": 3.126783,
          "end_time": "2022-05-05T17:51:17.802722",
          "exception": false,
          "start_time": "2022-05-05T17:51:14.675939",
          "status": "completed"
        },
        "tags": [],
        "id": "201c9910"
      },
      "outputs": [],
      "source": [
        "history = model.fit(\n",
        "    Xprocessed_train_df, y_train,\n",
        "    batch_size=128,\n",
        "    epochs=200,\n",
        "    verbose=0, #suppress output since we'll plot the curves\n",
        ")"
      ]
    },
    {
      "cell_type": "markdown",
      "id": "b2f2cb27",
      "metadata": {
        "papermill": {
          "duration": 0.020275,
          "end_time": "2022-05-05T17:51:17.843301",
          "exception": false,
          "start_time": "2022-05-05T17:51:17.823026",
          "status": "completed"
        },
        "tags": [],
        "id": "b2f2cb27"
      },
      "source": [
        "You can see that Keras will keep you updated on the loss as the model trains.\n",
        "\n",
        "Often, a better way to view the loss though is to plot it. The `fit` method in fact keeps a record of the loss produced during training in a `History` object. We'll convert the data to a Pandas dataframe, which makes the plotting easy."
      ]
    },
    {
      "cell_type": "code",
      "execution_count": 13,
      "id": "90d01429",
      "metadata": {
        "execution": {
          "iopub.execute_input": "2022-05-05T17:51:17.884506Z",
          "iopub.status.busy": "2022-05-05T17:51:17.884122Z",
          "iopub.status.idle": "2022-05-05T17:51:18.091248Z",
          "shell.execute_reply": "2022-05-05T17:51:18.090377Z"
        },
        "lines_to_next_cell": 2,
        "papermill": {
          "duration": 0.230129,
          "end_time": "2022-05-05T17:51:18.093226",
          "exception": false,
          "start_time": "2022-05-05T17:51:17.863097",
          "status": "completed"
        },
        "tags": [],
        "colab": {
          "base_uri": "https://localhost:8080/",
          "height": 487
        },
        "id": "90d01429",
        "outputId": "2f18494d-4a36-4e6d-c48f-2455f16d8b91"
      },
      "outputs": [
        {
          "output_type": "display_data",
          "data": {
            "text/plain": [
              "<Figure size 640x480 with 1 Axes>"
            ],
            "image/png": "[encoded data removed]"
          },
          "metadata": {}
        }
      ],
      "source": [
        "#import pandas as pd\n",
        "\n",
        "# convert the training history to a dataframe\n",
        "history_df = pd.DataFrame(history.history)\n",
        "\n",
        "# use Pandas native plot method\n",
        "# start the plot at epoch 5 (you can change this to get a different view)\n",
        "history_df.loc[5:,['loss']].plot();"
      ]
    },
    {
      "cell_type": "markdown",
      "id": "7545fb3a",
      "metadata": {
        "papermill": {
          "duration": 0.031308,
          "end_time": "2022-05-05T17:51:18.156210",
          "exception": false,
          "start_time": "2022-05-05T17:51:18.124902",
          "status": "completed"
        },
        "tags": [],
        "id": "7545fb3a"
      },
      "source": [
        "Notice how the loss levels off as the epochs go by. When the loss curve becomes horizontal, it means the model has learned all it can and there would be no reason continue for additional epochs."
      ]
    },
    {
      "cell_type": "markdown",
      "id": "eb1c3ef1",
      "metadata": {
        "id": "eb1c3ef1"
      },
      "source": [
        "---\n",
        "# 1. Underfitting and Overfitting\n",
        "\n",
        "Recall from the example in the previous lesson that Keras will keep a history of the training and validation loss over the epochs that it is training the model. In this lesson, we're going to learn how to interpret these learning curves and how we can use them to guide model development. In particular, we'll examine at the learning curves for evidence of *underfitting* and *overfitting* and look at a couple of strategies for correcting it."
      ]
    },
    {
      "cell_type": "markdown",
      "id": "56331f78",
      "metadata": {
        "papermill": {
          "duration": 0.007754,
          "end_time": "2022-05-05T17:51:04.227425",
          "exception": false,
          "start_time": "2022-05-05T17:51:04.219671",
          "status": "completed"
        },
        "tags": [],
        "id": "56331f78"
      },
      "source": [
        "## Interpreting the Learning Curves\n",
        "\n",
        "You might think about the information in the training data as being of two kinds: *signal* and *noise*. The signal is the part that generalizes, the part that can help our model make predictions from new data. The noise is that part that is *only* true of the training data; the noise is all of the random fluctuation that comes from data in the real-world or all of the incidental, non-informative patterns that can't actually help the model make predictions. The noise is the part might look useful but really isn't.\n",
        "\n",
        "We train a model by choosing weights or parameters that minimize the loss on a training set. You might know, however, that to accurately assess a model's performance, we need to evaluate it on a new set of data, the *validation* data. (You could see our lesson on [model validation](https://www.kaggle.com/dansbecker/model-validation) in *Introduction to Machine Learning* for a review.)\n",
        "\n",
        "When we train a model we've been plotting the loss on the training set epoch by epoch. To this we'll add a plot the validation data too. These plots we call the **learning curves**. To train deep learning models effectively, we need to be able to interpret them.\n",
        "\n",
        "<figure style=\"padding: 1em;\">\n",
        "<img src=\"https://i.imgur.com/tHiVFnM.png\" width=\"500\" alt=\"A graph of training and validation loss.\">\n",
        "<figcaption style=\"textalign: center; font-style: italic\"><center>The validation loss gives an estimate of the expected error on unseen data.\n",
        "</center></figcaption>\n",
        "</figure>"
      ]
    },
    {
      "cell_type": "markdown",
      "source": [
        "# to underfit - reduce layers. \n",
        "more complex behavior add more layers (heght)\n",
        "more linear behaviron add more dense"
      ],
      "metadata": {
        "id": "XLDx_J6Q80aP"
      },
      "id": "XLDx_J6Q80aP"
    },
    {
      "cell_type": "markdown",
      "id": "6f511131",
      "metadata": {
        "id": "6f511131"
      },
      "source": [
        "Now, the training loss will go down either when the model learns signal or when it learns noise. But the validation loss will go down only when the model learns signal. (Whatever noise the model learned from the training set won't generalize to new data.) So, when a model learns signal both curves go down, but when it learns noise a *gap* is created in the curves. The size of the gap tells you how much noise the model has learned.\n",
        "\n",
        "Ideally, we would create models that learn all of the signal and none of the noise. This will practically never happen. Instead we make a trade. We can get the model to learn more signal at the cost of learning more noise. So long as the trade is in our favor, the validation loss will continue to decrease. After a certain point, however, the trade can turn against us, the cost exceeds the benefit, and the validation loss begins to rise.\n",
        "\n",
        "<figure style=\"padding: 1em;\">\n",
        "<img src=\"https://i.imgur.com/eUF6mfo.png\" width=\"600\" alt=\"Two graphs. On the left, a line through a few data points with the true fit a parabola. On the right, a curve running through each datapoint with the true fit a parabola.\">\n",
        "<figcaption style=\"textalign: center; font-style: italic\"><center>Underfitting and overfitting.\n",
        "</center></figcaption>\n",
        "</figure>"
      ]
    },
    {
      "cell_type": "markdown",
      "id": "b201aa44",
      "metadata": {
        "id": "b201aa44"
      },
      "source": [
        "This trade-off indicates that there can be two problems that occur when training a model: not enough signal or too much noise. **Underfitting** the training set is when the loss is not as low as it could be because the model hasn't learned enough *signal*. **Overfitting** the training set is when the loss is not as low as it could be because the model learned too much *noise*. The trick to training deep learning models is finding the best balance between the two.\n",
        "\n",
        "We'll look at a couple ways of getting more signal out of the training data while reducing the amount of noise."
      ]
    },
    {
      "cell_type": "markdown",
      "id": "70f73115",
      "metadata": {
        "id": "70f73115"
      },
      "source": [
        "## Capacity\n",
        "\n",
        "A model's **capacity** refers to the size and complexity of the patterns it is able to learn. For neural networks, this will largely be determined by how many neurons it has and how they are connected together. If it appears that your network is underfitting the data, you should try increasing its capacity.\n",
        "\n",
        "You can increase the capacity of a network either by making it *wider* (more units to existing layers) or by making it *deeper* (adding more layers). Wider networks have an easier time learning more linear relationships, while deeper networks prefer more nonlinear ones. Which is better just depends on the dataset.\n"
      ]
    },
    {
      "cell_type": "code",
      "execution_count": 14,
      "id": "f6a3d5e6",
      "metadata": {
        "id": "f6a3d5e6"
      },
      "outputs": [],
      "source": [
        "model = keras.Sequential([\n",
        "    layers.Dense(16, activation='relu'),\n",
        "    layers.Dense(1),\n",
        "])\n",
        "\n",
        "wider = keras.Sequential([\n",
        "    layers.Dense(32, activation='relu'),\n",
        "    layers.Dense(1),\n",
        "])\n",
        "\n",
        "deeper = keras.Sequential([\n",
        "    layers.Dense(16, activation='relu'),\n",
        "    layers.Dense(16, activation='relu'),\n",
        "    layers.Dense(1),\n",
        "])"
      ]
    },
    {
      "cell_type": "markdown",
      "id": "aea8eda5",
      "metadata": {
        "id": "aea8eda5"
      },
      "source": [
        "You'll explore how the capacity of a network can affect its performance in the Lab."
      ]
    },
    {
      "cell_type": "markdown",
      "id": "dab94490",
      "metadata": {
        "id": "dab94490"
      },
      "source": [
        "## Early Stopping\n",
        "\n",
        "We mentioned that when a model is too eagerly learning noise, the validation loss may start to increase during training. To prevent this, we can simply stop the training whenever it seems the validation loss isn't decreasing anymore. Interrupting the training this way is called **early stopping**.\n",
        "\n",
        "<figure style=\"padding: 1em;\">\n",
        "<img src=\"https://i.imgur.com/eP0gppr.png\" width=500 alt=\"A graph of the learning curves with early stopping at the minimum validation loss, underfitting to the left of it and overfitting to the right.\">\n",
        "<figcaption style=\"textalign: center; font-style: italic\"><center>We keep the model where the validation loss is at a minimum.\n",
        "</center></figcaption>\n",
        "</figure>\n",
        "\n",
        "Once we detect that the validation loss is starting to rise again, we can reset the weights back to where the minimum occured. This ensures that the model won't continue to learn noise and overfit the data.\n",
        "\n",
        "Training with early stopping also means we're in less danger of stopping the training too early, before the network has finished learning signal. So besides preventing overfitting from training too long, early stopping can also prevent *underfitting* from not training long enough. Just set your training epochs to some large number (more than you'll need), and early stopping will take care of the rest."
      ]
    },
    {
      "cell_type": "markdown",
      "id": "4a44d08e",
      "metadata": {
        "id": "4a44d08e"
      },
      "source": [
        "## Adding Early Stopping\n",
        "\n",
        "In Keras, we include early stopping in our training through a callback. A **callback** is just a function you want run every so often while the network trains. The early stopping callback will run after every epoch. (Keras has [a variety of useful callbacks](https://www.tensorflow.org/api_docs/python/tf/keras/callbacks) pre-defined, but you can [define your own](https://www.tensorflow.org/api_docs/python/tf/keras/callbacks/LambdaCallback), too.)"
      ]
    },
    {
      "cell_type": "code",
      "execution_count": 15,
      "id": "4da673c8",
      "metadata": {
        "execution": {
          "iopub.execute_input": "2022-05-05T17:51:04.243564Z",
          "iopub.status.busy": "2022-05-05T17:51:04.242384Z",
          "iopub.status.idle": "2022-05-05T17:51:10.619925Z",
          "shell.execute_reply": "2022-05-05T17:51:10.619159Z"
        },
        "papermill": {
          "duration": 6.388361,
          "end_time": "2022-05-05T17:51:10.622594",
          "exception": false,
          "start_time": "2022-05-05T17:51:04.234233",
          "status": "completed"
        },
        "tags": [],
        "id": "4da673c8"
      },
      "outputs": [],
      "source": [
        "from tensorflow.keras.callbacks import EarlyStopping\n",
        "\n",
        "early_stopping = EarlyStopping(\n",
        "    min_delta=0.001, # minimium amount of change to count as an improvement\n",
        "    patience=20, # how many epochs to wait before stopping\n",
        "    restore_best_weights=True,\n",
        ")"
      ]
    },
    {
      "cell_type": "markdown",
      "id": "2aa1bd80",
      "metadata": {
        "papermill": {
          "duration": 0.006731,
          "end_time": "2022-05-05T17:51:10.636362",
          "exception": false,
          "start_time": "2022-05-05T17:51:10.629631",
          "status": "completed"
        },
        "tags": [],
        "id": "2aa1bd80"
      },
      "source": [
        "These parameters say: \"If there hasn't been at least an improvement of 0.001 in the validation loss over the previous 20 epochs, then stop the training and keep the best model you found.\" It can sometimes be hard to tell if the validation loss is rising due to overfitting or just due to random batch variation. The parameters allow us to set some allowances around when to stop.\n",
        "\n",
        "As we'll see in our example, we'll pass this callback to the `fit` method along with the loss and optimizer.\n",
        "\n"
      ]
    },
    {
      "cell_type": "markdown",
      "id": "3be6396a",
      "metadata": {
        "id": "3be6396a"
      },
      "source": [
        "## Example - Train a Model with Early Stopping\n",
        "\n",
        "Let's continue developing the model from the example in the last tutorial. We'll increase the capacity of that network but also add an early-stopping callback to prevent overfitting.\n",
        "\n",
        "Here's the data prep again."
      ]
    },
    {
      "cell_type": "markdown",
      "id": "aef05d0d",
      "metadata": {
        "papermill": {
          "duration": 0.007644,
          "end_time": "2022-05-05T17:51:10.724994",
          "exception": false,
          "start_time": "2022-05-05T17:51:10.717350",
          "status": "completed"
        },
        "tags": [],
        "id": "aef05d0d"
      },
      "source": [
        "Now let's increase the capacity of the network. We'll go for a fairly large network, but rely on the callback to halt the training once the validation loss shows signs of increasing."
      ]
    },
    {
      "cell_type": "code",
      "execution_count": 16,
      "id": "5879eb27",
      "metadata": {
        "execution": {
          "iopub.execute_input": "2022-05-05T17:51:10.742350Z",
          "iopub.status.busy": "2022-05-05T17:51:10.742044Z",
          "iopub.status.idle": "2022-05-05T17:51:10.883862Z",
          "shell.execute_reply": "2022-05-05T17:51:10.883187Z"
        },
        "papermill": {
          "duration": 0.152829,
          "end_time": "2022-05-05T17:51:10.885742",
          "exception": false,
          "start_time": "2022-05-05T17:51:10.732913",
          "status": "completed"
        },
        "tags": [],
        "id": "5879eb27"
      },
      "outputs": [],
      "source": [
        "from tensorflow import keras\n",
        "from tensorflow.keras import layers, callbacks\n",
        "\n",
        "early_stopping = callbacks.EarlyStopping(\n",
        "    min_delta=0.001, # minimium amount of change to count as an improvement\n",
        "    patience=10, # how many epochs to wait before stopping\n",
        "    restore_best_weights=True,\n",
        ")\n",
        "\n",
        "model = keras.Sequential([\n",
        "    layers.Dense(128, activation='relu', input_shape=input_shape),\n",
        "    layers.Dense(64, activation='relu'),\n",
        "    layers.Dense(1)\n",
        "])\n",
        "\n",
        "model.compile(\n",
        "    optimizer='adam',\n",
        "    loss='mae',\n",
        ")"
      ]
    },
    {
      "cell_type": "markdown",
      "id": "572cf81e",
      "metadata": {
        "papermill": {
          "duration": 0.008112,
          "end_time": "2022-05-05T17:51:10.902009",
          "exception": false,
          "start_time": "2022-05-05T17:51:10.893897",
          "status": "completed"
        },
        "tags": [],
        "id": "572cf81e"
      },
      "source": [
        "After defining the callback, add it as an argument in `fit` (you can have several, so put it in a list). Choose a large number of epochs when using early stopping, more than you'll need."
      ]
    },
    {
      "cell_type": "code",
      "execution_count": 17,
      "id": "d06bc09c",
      "metadata": {
        "execution": {
          "iopub.execute_input": "2022-05-05T17:51:10.920382Z",
          "iopub.status.busy": "2022-05-05T17:51:10.919891Z",
          "iopub.status.idle": "2022-05-05T17:51:18.101965Z",
          "shell.execute_reply": "2022-05-05T17:51:18.101037Z"
        },
        "papermill": {
          "duration": 7.193677,
          "end_time": "2022-05-05T17:51:18.103906",
          "exception": false,
          "start_time": "2022-05-05T17:51:10.910229",
          "status": "completed"
        },
        "tags": [],
        "id": "d06bc09c",
        "colab": {
          "base_uri": "https://localhost:8080/",
          "height": 505
        },
        "outputId": "d81afdc2-37df-49f4-d5e1-31ae324bc6c1"
      },
      "outputs": [
        {
          "output_type": "stream",
          "name": "stdout",
          "text": [
            "Minimum validation loss: 0.6063138842582703\n"
          ]
        },
        {
          "output_type": "display_data",
          "data": {
            "text/plain": [
              "<Figure size 640x480 with 1 Axes>"
            ],
            "image/png": "[encoded data removed]"
          },
          "metadata": {}
        }
      ],
      "source": [
        "history = model.fit(\n",
        "    Xprocessed_train_df, y_train,\n",
        "    validation_data=(Xprocessed_test_df, y_test),\n",
        "    batch_size=16,\n",
        "    epochs=200,\n",
        "    callbacks=[early_stopping],\n",
        "    verbose=0, # suppress output since we'll plot the curves\n",
        ")\n",
        "\n",
        "\n",
        "history_df = pd.DataFrame(history.history)\n",
        "history_df.loc[:, ['loss', 'val_loss']].plot();\n",
        "print(\"Minimum validation loss: {}\".format(history_df['val_loss'].min()))"
      ]
    },
    {
      "cell_type": "markdown",
      "id": "004f7a4b",
      "metadata": {
        "papermill": {
          "duration": 0.00932,
          "end_time": "2022-05-05T17:51:18.122899",
          "exception": false,
          "start_time": "2022-05-05T17:51:18.113579",
          "status": "completed"
        },
        "tags": [],
        "id": "004f7a4b"
      },
      "source": [
        "And sure enough, Keras stopped the training well before the full 200 epochs!"
      ]
    },
    {
      "cell_type": "markdown",
      "source": [
        "### In Lab: *Correct for Underfitting and Overfitting*\n",
        "\n",
        "1.   Evaluate Baseline\n",
        "2.   Add Capacity\n",
        "3.   Define Early Stopping Callback\n",
        "4.   Train and Interpret\n",
        "\n"
      ],
      "metadata": {
        "id": "sbr0Us2Ce46c"
      },
      "id": "sbr0Us2Ce46c"
    },
    {
      "cell_type": "markdown",
      "id": "1d6a9efe",
      "metadata": {
        "id": "1d6a9efe"
      },
      "source": [
        "---\n",
        "# 2. Dropout and Batch Normalization\n",
        "\n",
        "There's more to the world of deep learning than just dense layers. There are dozens of kinds of layers you might add to a model. (Try browsing through the [Keras docs](https://www.tensorflow.org/api_docs/python/tf/keras/layers/) for a sample!) Some are like dense layers and define connections between neurons, and others can do preprocessing or transformations of other sorts.\n",
        "\n",
        "In this lesson, we'll learn about a two kinds of special layers, not containing any neurons themselves, but that add some functionality that can sometimes benefit a model in various ways. Both are commonly used in modern architectures."
      ]
    },
    {
      "cell_type": "markdown",
      "id": "d98b1226",
      "metadata": {
        "papermill": {
          "duration": 0.008322,
          "end_time": "2022-05-05T17:51:18.977696",
          "exception": false,
          "start_time": "2022-05-05T17:51:18.969374",
          "status": "completed"
        },
        "tags": [],
        "id": "d98b1226"
      },
      "source": [
        "## Dropout\n",
        "\n",
        "The first of these is the \"dropout layer\", which can help correct overfitting.\n",
        "\n",
        "In the last lesson we talked about how overfitting is caused by the network learning spurious patterns in the training data. To recognize these spurious patterns a network will often rely on very a specific combinations of weight, a kind of \"conspiracy\" of weights. Being so specific, they tend to be fragile: remove one and the conspiracy falls apart.\n",
        "\n",
        "This is the idea behind **dropout**. To break up these conspiracies, we randomly *drop out* some fraction of a layer's input units every step of training, making it much harder for the network to learn those spurious patterns in the training data. Instead, it has to search for broad, general patterns, whose weight patterns tend to be more robust.\n",
        "\n",
        "<figure style=\"padding: 1em;\">\n",
        "<img src=\"https://i.imgur.com/a86utxY.gif\" width=\"600\" alt=\"An animation of a network cycling through various random dropout configurations.\">\n",
        "<figcaption style=\"textalign: center; font-style: italic\"><center>Here, 50% dropout has been added between the two hidden layers.</center></figcaption>\n",
        "</figure>\n",
        "\n",
        "You could also think about dropout as creating a kind of *ensemble* of networks. The predictions will no longer be made by one big network, but instead by a committee of smaller networks. Individuals in the committee tend to make different kinds of mistakes, but be right at the same time, making the committee as a whole better than any individual. (Remember random forests as an ensemble of decision trees? It's the same idea.)\n",
        "\n"
      ]
    },
    {
      "cell_type": "markdown",
      "id": "27e4b00a",
      "metadata": {
        "id": "27e4b00a"
      },
      "source": [
        "## Adding Dropout\n",
        "\n",
        "In Keras, the dropout rate argument `rate` defines what percentage of the input units to shut off. Put the `Dropout` layer just before the layer you want the dropout applied to:\n",
        "\n",
        "```\n",
        "keras.Sequential([\n",
        "    # ...\n",
        "    layers.Dropout(rate=0.3), # apply 30% dropout to the next layer\n",
        "    layers.Dense(16),\n",
        "    # ...\n",
        "])\n",
        "```"
      ]
    },
    {
      "cell_type": "markdown",
      "id": "bf9c6abb",
      "metadata": {
        "id": "bf9c6abb"
      },
      "source": [
        "## Batch Normalization\n",
        "\n",
        "The next special layer we'll look at performs \"batch normalization\" (or \"batchnorm\"), which can help correct training that is slow or unstable.\n",
        "\n",
        "With neural networks, it's generally a good idea to put all of your data on a common scale, perhaps with something like scikit-learn's [StandardScaler](https://scikit-learn.org/stable/modules/generated/sklearn.preprocessing.StandardScaler.html) or [MinMaxScaler](https://scikit-learn.org/stable/modules/generated/sklearn.preprocessing.MinMaxScaler.html). The reason is that SGD will shift the network weights in proportion to how large an activation the data produces. Features that tend to produce activations of very different sizes can make for unstable training behavior.\n",
        "\n",
        "Now, if it's good to normalize the data before it goes into the network, maybe also normalizing inside the network would be better! In fact, we have a special kind of layer that can do this, the **batch normalization layer**. A batch normalization layer looks at each batch as it comes in, first normalizing the batch with its own mean and standard deviation, and then also putting the data on a new scale with two trainable rescaling parameters. Batchnorm, in effect, performs a kind of coordinated rescaling of its inputs.\n",
        "\n",
        "Most often, batchnorm is added as an aid to the optimization process (though it can sometimes also help prediction performance). Models with batchnorm tend to need fewer epochs to complete training. Moreover, batchnorm can also fix various problems that can cause the training to get \"stuck\". Consider adding batch normalization to your models, especially if you're having trouble during training."
      ]
    },
    {
      "cell_type": "markdown",
      "id": "7cc5530d",
      "metadata": {
        "id": "7cc5530d"
      },
      "source": [
        "## Adding Batch Normalization ##\n",
        "\n",
        "Batch normalization can be used at almost any point in a network. You can put it after a layer...\n",
        "\n",
        "```\n",
        "layers.Dense(16, activation='relu'),\n",
        "layers.BatchNormalization(),\n",
        "```\n",
        "\n",
        "... or between a layer and its activation function:\n",
        "\n",
        "```\n",
        "layers.Dense(16),\n",
        "layers.BatchNormalization(),\n",
        "layers.Activation('relu'),\n",
        "```\n",
        "\n",
        "And if you add it as the first layer of your network it can act as a kind of adaptive preprocessor, standing in for something like Sci-Kit Learn's `StandardScaler`."
      ]
    },
    {
      "cell_type": "markdown",
      "id": "45f2ded0",
      "metadata": {
        "id": "45f2ded0"
      },
      "source": [
        "## Example - Dropout and Batch Normalization\n",
        "\n",
        "Let's continue developing the *Big Mart Sales Prediction* model. Now we'll increase the capacity even more, but add dropout to control overfitting and batch normalization to speed up optimization. This time, we'll also leave off standardizing the data, to demonstrate how batch normalization can stabilize the training."
      ]
    },
    {
      "cell_type": "code",
      "execution_count": 18,
      "id": "c1d14f52",
      "metadata": {
        "_kg_hide-input": true,
        "execution": {
          "iopub.execute_input": "2022-05-05T17:51:18.994254Z",
          "iopub.status.busy": "2022-05-05T17:51:18.993861Z",
          "iopub.status.idle": "2022-05-05T17:51:19.044131Z",
          "shell.execute_reply": "2022-05-05T17:51:19.043379Z"
        },
        "papermill": {
          "duration": 0.061793,
          "end_time": "2022-05-05T17:51:19.046929",
          "exception": false,
          "start_time": "2022-05-05T17:51:18.985136",
          "status": "completed"
        },
        "tags": [],
        "id": "c1d14f52",
        "colab": {
          "base_uri": "https://localhost:8080/"
        },
        "outputId": "1f919b30-b535-46cd-a2c9-11b4563c757c"
      },
      "outputs": [
        {
          "output_type": "stream",
          "name": "stderr",
          "text": [
            "<ipython-input-18-24bab3894988>:4: MatplotlibDeprecationWarning: The seaborn styles shipped by Matplotlib are deprecated since 3.6, as they no longer correspond to the styles shipped by seaborn. However, they will remain available as 'seaborn-v0_8-<style>'. Alternatively, directly use the seaborn API instead.\n",
            "  plt.style.use('seaborn-whitegrid')\n"
          ]
        }
      ],
      "source": [
        "\n",
        "# Setup plotting\n",
        "import matplotlib.pyplot as plt\n",
        "\n",
        "plt.style.use('seaborn-whitegrid')\n",
        "# Set Matplotlib defaults\n",
        "plt.rc('figure', autolayout=True)\n",
        "plt.rc('axes', labelweight='bold', labelsize='large',\n",
        "       titleweight='bold', titlesize=18, titlepad=10)\n"
      ]
    },
    {
      "cell_type": "code",
      "source": [
        "# Define target and features\n",
        "\n",
        "df_sales = pd.read_csv('https://www.dropbox.com/s/yqaymhdf7bvvair/bigmart_sales_predictions.csv?dl=1')\n",
        "#Normalize ItemFatContent\n",
        "df_sales['Item_Fat_Content'] = df_sales['Item_Fat_Content'].replace(\n",
        "    {'Low Fat': 0,\n",
        "     'LF': 0,\n",
        "     'low fat': 0,\n",
        "     'Regular': 1,\n",
        "     'reg': 1})\n",
        "\n",
        "target = \"Item_Outlet_Sales\"\n",
        "y = df_sales[target].copy()\n",
        "X = df_sales.drop(columns=[target]).copy()\n",
        "\n",
        "# Create training and validation splits\n",
        "X_train, X_test, y_train, y_test = train_test_split(X, y, random_state=123)\n",
        "\n",
        "\n",
        "#Establish each pipeline for different feature types\n",
        "categorical_features = ['Item_Type','Outlet_Location_Type','Outlet_Type']\n",
        "cat_pipe = Pipeline(steps=[\n",
        "    ('simpleimputer', SimpleImputer(strategy='most_frequent')),\n",
        "    ('onehotencoder', OneHotEncoder(handle_unknown='ignore', sparse_output=False))])\n",
        "\n",
        "categorical_ordinal_features = ['Outlet_Size']\n",
        "cat_ord_pipe = Pipeline(steps=[\n",
        "    ('simpleimputer', SimpleImputer(strategy='constant', fill_value='Missing')),\n",
        "    ('onehotencoder', OrdinalEncoder(handle_unknown='error',\n",
        "                                     categories=[['Missing','Small','Medium','High']]))])\n",
        "\n",
        "#REMOVED SCALER BELOW!\n",
        "num_features = ['Item_Weight','Item_Fat_Content','Item_MRP']\n",
        "num_pipe = Pipeline(steps=[\n",
        "    ('simpleimputer', SimpleImputer())])\n",
        "\n",
        "#Create rail switch to correctly route each column to the correct pipel\n",
        "preprocessor = make_column_transformer(\n",
        "    (cat_pipe, categorical_features),\n",
        "    (cat_ord_pipe, categorical_ordinal_features),\n",
        "    (num_pipe, num_features), verbose_feature_names_out=False)\n",
        "preprocessor\n",
        "\n",
        "#We first need to fit each step in our pipeline to the training data.\n",
        "preprocessor.fit(X_train)\n",
        "#Now we can transform our data, with the steps specified in the pipeline\n",
        "Xprocessed_train_unscaled_df = pd.DataFrame(preprocessor.transform(X_train),\n",
        "                          columns=preprocessor.get_feature_names_out(),\n",
        "                          index=X_train.index)\n",
        "Xprocessed_test_unscaled_df = pd.DataFrame(preprocessor.transform(X_test),\n",
        "                                  columns=preprocessor.get_feature_names_out(),\n",
        "                                  index=X_test.index)\n",
        "display(Xprocessed_train_unscaled_df)"
      ],
      "metadata": {
        "colab": {
          "base_uri": "https://localhost:8080/",
          "height": 505
        },
        "id": "iCGxdIYHyL1Q",
        "outputId": "472f0cbc-6a1d-4d88-9b4e-06e2b8df7661"
      },
      "id": "iCGxdIYHyL1Q",
      "execution_count": 19,
      "outputs": [
        {
          "output_type": "display_data",
          "data": {
            "text/plain": [
              "      Item_Type_Baking Goods  Item_Type_Breads  Item_Type_Breakfast  \\\n",
              "7477                     0.0               0.0                  0.0   \n",
              "5089                     0.0               1.0                  0.0   \n",
              "6992                     0.0               0.0                  0.0   \n",
              "6264                     0.0               0.0                  0.0   \n",
              "4374                     0.0               0.0                  0.0   \n",
              "...                      ...               ...                  ...   \n",
              "7382                     0.0               0.0                  0.0   \n",
              "7763                     0.0               0.0                  0.0   \n",
              "5218                     0.0               0.0                  0.0   \n",
              "1346                     1.0               0.0                  0.0   \n",
              "3582                     0.0               0.0                  0.0   \n",
              "\n",
              "      Item_Type_Canned  Item_Type_Dairy  Item_Type_Frozen Foods  \\\n",
              "7477               0.0              0.0                     0.0   \n",
              "5089               0.0              0.0                     0.0   \n",
              "6992               0.0              0.0                     0.0   \n",
              "6264               0.0              0.0                     0.0   \n",
              "4374               0.0              1.0                     0.0   \n",
              "...                ...              ...                     ...   \n",
              "7382               0.0              0.0                     0.0   \n",
              "7763               0.0              0.0                     0.0   \n",
              "5218               0.0              0.0                     0.0   \n",
              "1346               0.0              0.0                     0.0   \n",
              "3582               0.0              0.0                     0.0   \n",
              "\n",
              "      Item_Type_Fruits and Vegetables  Item_Type_Hard Drinks  \\\n",
              "7477                              0.0                    1.0   \n",
              "5089                              0.0                    0.0   \n",
              "6992                              1.0                    0.0   \n",
              "6264                              0.0                    0.0   \n",
              "4374                              0.0                    0.0   \n",
              "...                               ...                    ...   \n",
              "7382                              0.0                    0.0   \n",
              "7763                              0.0                    0.0   \n",
              "5218                              0.0                    0.0   \n",
              "1346                              0.0                    0.0   \n",
              "3582                              1.0                    0.0   \n",
              "\n",
              "      Item_Type_Health and Hygiene  Item_Type_Household  ...  \\\n",
              "7477                           0.0                  0.0  ...   \n",
              "5089                           0.0                  0.0  ...   \n",
              "6992                           0.0                  0.0  ...   \n",
              "6264                           1.0                  0.0  ...   \n",
              "4374                           0.0                  0.0  ...   \n",
              "...                            ...                  ...  ...   \n",
              "7382                           0.0                  0.0  ...   \n",
              "7763                           0.0                  0.0  ...   \n",
              "5218                           0.0                  0.0  ...   \n",
              "1346                           0.0                  0.0  ...   \n",
              "3582                           0.0                  0.0  ...   \n",
              "\n",
              "      Outlet_Location_Type_Tier 2  Outlet_Location_Type_Tier 3  \\\n",
              "7477                          0.0                          1.0   \n",
              "5089                          1.0                          0.0   \n",
              "6992                          0.0                          1.0   \n",
              "6264                          0.0                          0.0   \n",
              "4374                          1.0                          0.0   \n",
              "...                           ...                          ...   \n",
              "7382                          0.0                          1.0   \n",
              "7763                          0.0                          0.0   \n",
              "5218                          0.0                          1.0   \n",
              "1346                          0.0                          1.0   \n",
              "3582                          0.0                          1.0   \n",
              "\n",
              "      Outlet_Type_Grocery Store  Outlet_Type_Supermarket Type1  \\\n",
              "7477                        1.0                            0.0   \n",
              "5089                        0.0                            1.0   \n",
              "6992                        0.0                            0.0   \n",
              "6264                        0.0                            1.0   \n",
              "4374                        0.0                            1.0   \n",
              "...                         ...                            ...   \n",
              "7382                        0.0                            0.0   \n",
              "7763                        1.0                            0.0   \n",
              "5218                        0.0                            1.0   \n",
              "1346                        0.0                            0.0   \n",
              "3582                        0.0                            0.0   \n",
              "\n",
              "      Outlet_Type_Supermarket Type2  Outlet_Type_Supermarket Type3  \\\n",
              "7477                            0.0                            0.0   \n",
              "5089                            0.0                            0.0   \n",
              "6992                            1.0                            0.0   \n",
              "6264                            0.0                            0.0   \n",
              "4374                            0.0                            0.0   \n",
              "...                             ...                            ...   \n",
              "7382                            1.0                            0.0   \n",
              "7763                            0.0                            0.0   \n",
              "5218                            0.0                            0.0   \n",
              "1346                            1.0                            0.0   \n",
              "3582                            1.0                            0.0   \n",
              "\n",
              "      Outlet_Size  Item_Weight  Item_Fat_Content  Item_MRP  \n",
              "7477          0.0      8.36500               0.0   39.2506  \n",
              "5089          0.0     13.65000               0.0  231.9668  \n",
              "6992          2.0     14.30000               1.0   89.8856  \n",
              "6264          2.0     12.35000               0.0   34.8216  \n",
              "4374          0.0      6.38000               0.0  178.0344  \n",
              "...           ...          ...               ...       ...  \n",
              "7382          2.0     18.60000               0.0  160.6236  \n",
              "7763          1.0     12.86826               0.0   36.0190  \n",
              "5218          3.0      5.92000               1.0   50.3692  \n",
              "1346          2.0     15.60000               0.0  111.8544  \n",
              "3582          2.0     13.30000               1.0   59.7536  \n",
              "\n",
              "[6392 rows x 27 columns]"
            ],
            "text/html": [
              "\n",
              "  <div id=\"df-a5b62c37-67d3-48ac-befa-72638a5045d1\">\n",
              "    <div class=\"colab-df-container\">\n",
              "      <div>\n",
              "<style scoped>\n",
              "    .dataframe tbody tr th:only-of-type {\n",
              "        vertical-align: middle;\n",
              "    }\n",
              "\n",
              "    .dataframe tbody tr th {\n",
              "        vertical-align: top;\n",
              "    }\n",
              "\n",
              "    .dataframe thead th {\n",
              "        text-align: right;\n",
              "    }\n",
              "</style>\n",
              "<table border=\"1\" class=\"dataframe\">\n",
              "  <thead>\n",
              "    <tr style=\"text-align: right;\">\n",
              "      <th></th>\n",
              "      <th>Item_Type_Baking Goods</th>\n",
              "      <th>Item_Type_Breads</th>\n",
              "      <th>Item_Type_Breakfast</th>\n",
              "      <th>Item_Type_Canned</th>\n",
              "      <th>Item_Type_Dairy</th>\n",
              "      <th>Item_Type_Frozen Foods</th>\n",
              "      <th>Item_Type_Fruits and Vegetables</th>\n",
              "      <th>Item_Type_Hard Drinks</th>\n",
              "      <th>Item_Type_Health and Hygiene</th>\n",
              "      <th>Item_Type_Household</th>\n",
              "      <th>...</th>\n",
              "      <th>Outlet_Location_Type_Tier 2</th>\n",
              "      <th>Outlet_Location_Type_Tier 3</th>\n",
              "      <th>Outlet_Type_Grocery Store</th>\n",
              "      <th>Outlet_Type_Supermarket Type1</th>\n",
              "      <th>Outlet_Type_Supermarket Type2</th>\n",
              "      <th>Outlet_Type_Supermarket Type3</th>\n",
              "      <th>Outlet_Size</th>\n",
              "      <th>Item_Weight</th>\n",
              "      <th>Item_Fat_Content</th>\n",
              "      <th>Item_MRP</th>\n",
              "    </tr>\n",
              "  </thead>\n",
              "  <tbody>\n",
              "    <tr>\n",
              "      <th>7477</th>\n",
              "      <td>0.0</td>\n",
              "      <td>0.0</td>\n",
              "      <td>0.0</td>\n",
              "      <td>0.0</td>\n",
              "      <td>0.0</td>\n",
              "      <td>0.0</td>\n",
              "      <td>0.0</td>\n",
              "      <td>1.0</td>\n",
              "      <td>0.0</td>\n",
              "      <td>0.0</td>\n",
              "      <td>...</td>\n",
              "      <td>0.0</td>\n",
              "      <td>1.0</td>\n",
              "      <td>1.0</td>\n",
              "      <td>0.0</td>\n",
              "      <td>0.0</td>\n",
              "      <td>0.0</td>\n",
              "      <td>0.0</td>\n",
              "      <td>8.36500</td>\n",
              "      <td>0.0</td>\n",
              "      <td>39.2506</td>\n",
              "    </tr>\n",
              "    <tr>\n",
              "      <th>5089</th>\n",
              "      <td>0.0</td>\n",
              "      <td>1.0</td>\n",
              "      <td>0.0</td>\n",
              "      <td>0.0</td>\n",
              "      <td>0.0</td>\n",
              "      <td>0.0</td>\n",
              "      <td>0.0</td>\n",
              "      <td>0.0</td>\n",
              "      <td>0.0</td>\n",
              "      <td>0.0</td>\n",
              "      <td>...</td>\n",
              "      <td>1.0</td>\n",
              "      <td>0.0</td>\n",
              "      <td>0.0</td>\n",
              "      <td>1.0</td>\n",
              "      <td>0.0</td>\n",
              "      <td>0.0</td>\n",
              "      <td>0.0</td>\n",
              "      <td>13.65000</td>\n",
              "      <td>0.0</td>\n",
              "      <td>231.9668</td>\n",
              "    </tr>\n",
              "    <tr>\n",
              "      <th>6992</th>\n",
              "      <td>0.0</td>\n",
              "      <td>0.0</td>\n",
              "      <td>0.0</td>\n",
              "      <td>0.0</td>\n",
              "      <td>0.0</td>\n",
              "      <td>0.0</td>\n",
              "      <td>1.0</td>\n",
              "      <td>0.0</td>\n",
              "      <td>0.0</td>\n",
              "      <td>0.0</td>\n",
              "      <td>...</td>\n",
              "      <td>0.0</td>\n",
              "      <td>1.0</td>\n",
              "      <td>0.0</td>\n",
              "      <td>0.0</td>\n",
              "      <td>1.0</td>\n",
              "      <td>0.0</td>\n",
              "      <td>2.0</td>\n",
              "      <td>14.30000</td>\n",
              "      <td>1.0</td>\n",
              "      <td>89.8856</td>\n",
              "    </tr>\n",
              "    <tr>\n",
              "      <th>6264</th>\n",
              "      <td>0.0</td>\n",
              "      <td>0.0</td>\n",
              "      <td>0.0</td>\n",
              "      <td>0.0</td>\n",
              "      <td>0.0</td>\n",
              "      <td>0.0</td>\n",
              "      <td>0.0</td>\n",
              "      <td>0.0</td>\n",
              "      <td>1.0</td>\n",
              "      <td>0.0</td>\n",
              "      <td>...</td>\n",
              "      <td>0.0</td>\n",
              "      <td>0.0</td>\n",
              "      <td>0.0</td>\n",
              "      <td>1.0</td>\n",
              "      <td>0.0</td>\n",
              "      <td>0.0</td>\n",
              "      <td>2.0</td>\n",
              "      <td>12.35000</td>\n",
              "      <td>0.0</td>\n",
              "      <td>34.8216</td>\n",
              "    </tr>\n",
              "    <tr>\n",
              "      <th>4374</th>\n",
              "      <td>0.0</td>\n",
              "      <td>0.0</td>\n",
              "      <td>0.0</td>\n",
              "      <td>0.0</td>\n",
              "      <td>1.0</td>\n",
              "      <td>0.0</td>\n",
              "      <td>0.0</td>\n",
              "      <td>0.0</td>\n",
              "      <td>0.0</td>\n",
              "      <td>0.0</td>\n",
              "      <td>...</td>\n",
              "      <td>1.0</td>\n",
              "      <td>0.0</td>\n",
              "      <td>0.0</td>\n",
              "      <td>1.0</td>\n",
              "      <td>0.0</td>\n",
              "      <td>0.0</td>\n",
              "      <td>0.0</td>\n",
              "      <td>6.38000</td>\n",
              "      <td>0.0</td>\n",
              "      <td>178.0344</td>\n",
              "    </tr>\n",
              "    <tr>\n",
              "      <th>...</th>\n",
              "      <td>...</td>\n",
              "      <td>...</td>\n",
              "      <td>...</td>\n",
              "      <td>...</td>\n",
              "      <td>...</td>\n",
              "      <td>...</td>\n",
              "      <td>...</td>\n",
              "      <td>...</td>\n",
              "      <td>...</td>\n",
              "      <td>...</td>\n",
              "      <td>...</td>\n",
              "      <td>...</td>\n",
              "      <td>...</td>\n",
              "      <td>...</td>\n",
              "      <td>...</td>\n",
              "      <td>...</td>\n",
              "      <td>...</td>\n",
              "      <td>...</td>\n",
              "      <td>...</td>\n",
              "      <td>...</td>\n",
              "      <td>...</td>\n",
              "    </tr>\n",
              "    <tr>\n",
              "      <th>7382</th>\n",
              "      <td>0.0</td>\n",
              "      <td>0.0</td>\n",
              "      <td>0.0</td>\n",
              "      <td>0.0</td>\n",
              "      <td>0.0</td>\n",
              "      <td>0.0</td>\n",
              "      <td>0.0</td>\n",
              "      <td>0.0</td>\n",
              "      <td>0.0</td>\n",
              "      <td>0.0</td>\n",
              "      <td>...</td>\n",
              "      <td>0.0</td>\n",
              "      <td>1.0</td>\n",
              "      <td>0.0</td>\n",
              "      <td>0.0</td>\n",
              "      <td>1.0</td>\n",
              "      <td>0.0</td>\n",
              "      <td>2.0</td>\n",
              "      <td>18.60000</td>\n",
              "      <td>0.0</td>\n",
              "      <td>160.6236</td>\n",
              "    </tr>\n",
              "    <tr>\n",
              "      <th>7763</th>\n",
              "      <td>0.0</td>\n",
              "      <td>0.0</td>\n",
              "      <td>0.0</td>\n",
              "      <td>0.0</td>\n",
              "      <td>0.0</td>\n",
              "      <td>0.0</td>\n",
              "      <td>0.0</td>\n",
              "      <td>0.0</td>\n",
              "      <td>0.0</td>\n",
              "      <td>0.0</td>\n",
              "      <td>...</td>\n",
              "      <td>0.0</td>\n",
              "      <td>0.0</td>\n",
              "      <td>1.0</td>\n",
              "      <td>0.0</td>\n",
              "      <td>0.0</td>\n",
              "      <td>0.0</td>\n",
              "      <td>1.0</td>\n",
              "      <td>12.86826</td>\n",
              "      <td>0.0</td>\n",
              "      <td>36.0190</td>\n",
              "    </tr>\n",
              "    <tr>\n",
              "      <th>5218</th>\n",
              "      <td>0.0</td>\n",
              "      <td>0.0</td>\n",
              "      <td>0.0</td>\n",
              "      <td>0.0</td>\n",
              "      <td>0.0</td>\n",
              "      <td>0.0</td>\n",
              "      <td>0.0</td>\n",
              "      <td>0.0</td>\n",
              "      <td>0.0</td>\n",
              "      <td>0.0</td>\n",
              "      <td>...</td>\n",
              "      <td>0.0</td>\n",
              "      <td>1.0</td>\n",
              "      <td>0.0</td>\n",
              "      <td>1.0</td>\n",
              "      <td>0.0</td>\n",
              "      <td>0.0</td>\n",
              "      <td>3.0</td>\n",
              "      <td>5.92000</td>\n",
              "      <td>1.0</td>\n",
              "      <td>50.3692</td>\n",
              "    </tr>\n",
              "    <tr>\n",
              "      <th>1346</th>\n",
              "      <td>1.0</td>\n",
              "      <td>0.0</td>\n",
              "      <td>0.0</td>\n",
              "      <td>0.0</td>\n",
              "      <td>0.0</td>\n",
              "      <td>0.0</td>\n",
              "      <td>0.0</td>\n",
              "      <td>0.0</td>\n",
              "      <td>0.0</td>\n",
              "      <td>0.0</td>\n",
              "      <td>...</td>\n",
              "      <td>0.0</td>\n",
              "      <td>1.0</td>\n",
              "      <td>0.0</td>\n",
              "      <td>0.0</td>\n",
              "      <td>1.0</td>\n",
              "      <td>0.0</td>\n",
              "      <td>2.0</td>\n",
              "      <td>15.60000</td>\n",
              "      <td>0.0</td>\n",
              "      <td>111.8544</td>\n",
              "    </tr>\n",
              "    <tr>\n",
              "      <th>3582</th>\n",
              "      <td>0.0</td>\n",
              "      <td>0.0</td>\n",
              "      <td>0.0</td>\n",
              "      <td>0.0</td>\n",
              "      <td>0.0</td>\n",
              "      <td>0.0</td>\n",
              "      <td>1.0</td>\n",
              "      <td>0.0</td>\n",
              "      <td>0.0</td>\n",
              "      <td>0.0</td>\n",
              "      <td>...</td>\n",
              "      <td>0.0</td>\n",
              "      <td>1.0</td>\n",
              "      <td>0.0</td>\n",
              "      <td>0.0</td>\n",
              "      <td>1.0</td>\n",
              "      <td>0.0</td>\n",
              "      <td>2.0</td>\n",
              "      <td>13.30000</td>\n",
              "      <td>1.0</td>\n",
              "      <td>59.7536</td>\n",
              "    </tr>\n",
              "  </tbody>\n",
              "</table>\n",
              "<p>6392 rows × 27 columns</p>\n",
              "</div>\n",
              "      <button class=\"colab-df-convert\" onclick=\"convertToInteractive('df-a5b62c37-67d3-48ac-befa-72638a5045d1')\"\n",
              "              title=\"Convert this dataframe to an interactive table.\"\n",
              "              style=\"display:none;\">\n",
              "        \n",
              "  <svg xmlns=\"http://www.w3.org/2000/svg\" height=\"24px\"viewBox=\"0 0 24 24\"\n",
              "       width=\"24px\">\n",
              "    <path d=\"M0 0h24v24H0V0z\" fill=\"none\"/>\n",
              "    <path d=\"M18.56 5.44l.94 2.06.94-2.06 2.06-.94-2.06-.94-.94-2.06-.94 2.06-2.06.94zm-11 1L8.5 8.5l.94-2.06 2.06-.94-2.06-.94L8.5 2.5l-.94 2.06-2.06.94zm10 10l.94 2.06.94-2.06 2.06-.94-2.06-.94-.94-2.06-.94 2.06-2.06.94z\"/><path d=\"M17.41 7.96l-1.37-1.37c-.4-.4-.92-.59-1.43-.59-.52 0-1.04.2-1.43.59L10.3 9.45l-7.72 7.72c-.78.78-.78 2.05 0 2.83L4 21.41c.39.39.9.59 1.41.59.51 0 1.02-.2 1.41-.59l7.78-7.78 2.81-2.81c.8-.78.8-2.07 0-2.86zM5.41 20L4 18.59l7.72-7.72 1.47 1.35L5.41 20z\"/>\n",
              "  </svg>\n",
              "      </button>\n",
              "      \n",
              "  <style>\n",
              "    .colab-df-container {\n",
              "      display:flex;\n",
              "      flex-wrap:wrap;\n",
              "      gap: 12px;\n",
              "    }\n",
              "\n",
              "    .colab-df-convert {\n",
              "      background-color: #E8F0FE;\n",
              "      border: none;\n",
              "      border-radius: 50%;\n",
              "      cursor: pointer;\n",
              "      display: none;\n",
              "      fill: #1967D2;\n",
              "      height: 32px;\n",
              "      padding: 0 0 0 0;\n",
              "      width: 32px;\n",
              "    }\n",
              "\n",
              "    .colab-df-convert:hover {\n",
              "      background-color: #E2EBFA;\n",
              "      box-shadow: 0px 1px 2px rgba(60, 64, 67, 0.3), 0px 1px 3px 1px rgba(60, 64, 67, 0.15);\n",
              "      fill: #174EA6;\n",
              "    }\n",
              "\n",
              "    [theme=dark] .colab-df-convert {\n",
              "      background-color: #3B4455;\n",
              "      fill: #D2E3FC;\n",
              "    }\n",
              "\n",
              "    [theme=dark] .colab-df-convert:hover {\n",
              "      background-color: #434B5C;\n",
              "      box-shadow: 0px 1px 3px 1px rgba(0, 0, 0, 0.15);\n",
              "      filter: drop-shadow(0px 1px 2px rgba(0, 0, 0, 0.3));\n",
              "      fill: #FFFFFF;\n",
              "    }\n",
              "  </style>\n",
              "\n",
              "      <script>\n",
              "        const buttonEl =\n",
              "          document.querySelector('#df-a5b62c37-67d3-48ac-befa-72638a5045d1 button.colab-df-convert');\n",
              "        buttonEl.style.display =\n",
              "          google.colab.kernel.accessAllowed ? 'block' : 'none';\n",
              "\n",
              "        async function convertToInteractive(key) {\n",
              "          const element = document.querySelector('#df-a5b62c37-67d3-48ac-befa-72638a5045d1');\n",
              "          const dataTable =\n",
              "            await google.colab.kernel.invokeFunction('convertToInteractive',\n",
              "                                                     [key], {});\n",
              "          if (!dataTable) return;\n",
              "\n",
              "          const docLinkHtml = 'Like what you see? Visit the ' +\n",
              "            '<a target=\"_blank\" href=https://colab.research.google.com/notebooks/data_table.ipynb>data table notebook</a>'\n",
              "            + ' to learn more about interactive tables.';\n",
              "          element.innerHTML = '';\n",
              "          dataTable['output_type'] = 'display_data';\n",
              "          await google.colab.output.renderOutput(dataTable, element);\n",
              "          const docLink = document.createElement('div');\n",
              "          docLink.innerHTML = docLinkHtml;\n",
              "          element.appendChild(docLink);\n",
              "        }\n",
              "      </script>\n",
              "    </div>\n",
              "  </div>\n",
              "  "
            ]
          },
          "metadata": {}
        }
      ]
    },
    {
      "cell_type": "markdown",
      "id": "acd404fa",
      "metadata": {
        "papermill": {
          "duration": 0.007086,
          "end_time": "2022-05-05T17:51:19.061794",
          "exception": false,
          "start_time": "2022-05-05T17:51:19.054708",
          "status": "completed"
        },
        "tags": [],
        "id": "acd404fa"
      },
      "source": [
        "When adding dropout, you may need to increase the number of units in your `Dense` layers."
      ]
    },
    {
      "cell_type": "code",
      "execution_count": 20,
      "id": "26c396a1",
      "metadata": {
        "execution": {
          "iopub.execute_input": "2022-05-05T17:51:19.078264Z",
          "iopub.status.busy": "2022-05-05T17:51:19.077968Z",
          "iopub.status.idle": "2022-05-05T17:51:25.763527Z",
          "shell.execute_reply": "2022-05-05T17:51:25.762365Z"
        },
        "papermill": {
          "duration": 6.696835,
          "end_time": "2022-05-05T17:51:25.766053",
          "exception": false,
          "start_time": "2022-05-05T17:51:19.069218",
          "status": "completed"
        },
        "tags": [],
        "id": "26c396a1"
      },
      "outputs": [],
      "source": [
        "from tensorflow import keras\n",
        "from tensorflow.keras import layers\n",
        "\n",
        "model = keras.Sequential([\n",
        "    layers.BatchNormalization(input_shape=[Xprocessed_train_unscaled_df.shape[1]]),\n",
        "    layers.Dense(512, activation='relu'),\n",
        "    layers.BatchNormalization(),\n",
        "    layers.Dense(512, activation='relu'),\n",
        "    layers.BatchNormalization(),\n",
        "    layers.Dense(512, activation='relu'),\n",
        "    layers.BatchNormalization(),\n",
        "    layers.Dense(1),\n",
        "])"
      ]
    },
    {
      "cell_type": "markdown",
      "id": "48d16491",
      "metadata": {
        "papermill": {
          "duration": 0.00773,
          "end_time": "2022-05-05T17:51:25.782261",
          "exception": false,
          "start_time": "2022-05-05T17:51:25.774531",
          "status": "completed"
        },
        "tags": [],
        "id": "48d16491"
      },
      "source": [
        "There's nothing to change this time in how we set up the training."
      ]
    },
    {
      "cell_type": "code",
      "execution_count": 21,
      "id": "2bc64a6e",
      "metadata": {
        "execution": {
          "iopub.execute_input": "2022-05-05T17:51:25.800457Z",
          "iopub.status.busy": "2022-05-05T17:51:25.800150Z",
          "iopub.status.idle": "2022-05-05T17:51:59.838233Z",
          "shell.execute_reply": "2022-05-05T17:51:59.837115Z"
        },
        "papermill": {
          "duration": 34.059644,
          "end_time": "2022-05-05T17:51:59.850357",
          "exception": false,
          "start_time": "2022-05-05T17:51:25.790713",
          "status": "completed"
        },
        "tags": [],
        "id": "2bc64a6e",
        "colab": {
          "base_uri": "https://localhost:8080/",
          "height": 487
        },
        "outputId": "a18877bc-e8d4-4d42-eb54-7788ed1d62d1"
      },
      "outputs": [
        {
          "output_type": "display_data",
          "data": {
            "text/plain": [
              "<Figure size 640x480 with 1 Axes>"
            ],
            "image/png": "[encoded data removed]"
          },
          "metadata": {}
        }
      ],
      "source": [
        "model.compile(\n",
        "    optimizer='adam',\n",
        "    loss='mae',\n",
        ")\n",
        "\n",
        "history = model.fit(\n",
        "    Xprocessed_train_unscaled_df, y_train_orig,\n",
        "    validation_data=(Xprocessed_test_unscaled_df, y_test_orig),\n",
        "    batch_size=64,\n",
        "    epochs=50,\n",
        "    verbose=0,\n",
        ")\n",
        "\n",
        "# Show the learning curves\n",
        "history_df = pd.DataFrame(history.history)\n",
        "history_df.loc[:, ['loss', 'val_loss']].plot();"
      ]
    },
    {
      "cell_type": "markdown",
      "id": "4aeb6b8d",
      "metadata": {
        "papermill": {
          "duration": 0.009431,
          "end_time": "2022-05-05T17:51:59.869469",
          "exception": false,
          "start_time": "2022-05-05T17:51:59.860038",
          "status": "completed"
        },
        "tags": [],
        "id": "4aeb6b8d"
      },
      "source": [
        "You'll typically get better performance if you standardize your data before using it for training. That we were able to use the raw data at all, however, shows how effective batch normalization can be on more difficult datasets."
      ]
    },
    {
      "cell_type": "markdown",
      "id": "f243f89d",
      "metadata": {
        "id": "f243f89d"
      },
      "source": [
        "### In Lab: *Experiment with two kinds of special layers*\n",
        "\n",
        "1.   Add Dropout to our last model\n",
        "2.   Evaluate Dropout\n",
        "3.   Explore Effect of Normalization\n",
        "4.   Add Batch Normalization Layers\n",
        "5.   Evaluate Batch Normalization"
      ]
    },
    {
      "cell_type": "markdown",
      "id": "2ec1825c",
      "metadata": {
        "id": "2ec1825c"
      },
      "source": [
        "---\n",
        "# 3. Binary Classification\n",
        "\n",
        "So far in SCM.256 we've learned about how neural networks can solve regression problems. Now we're going to apply neural networks to another common machine learning problem: classification. \n",
        "\n",
        "Classification into one of two or more classes is a common machine learning problem. In January during SCM.254 we studied the example of classification of cargo incidents with an incident handling dataset from a global freight forwarder using logistic regression.\n",
        "\n",
        "Most everything we've learned up until now in SCM.256 regarding Deep Learning for regression problems still applies for classification problems. The main difference is in the *loss function* we use and in what kind of *outputs* we want the final layer to produce.\n",
        "\n",
        "In your raw data, the classes might be represented by strings. Before using this data we'll assign a **class label** using integers. In a binary classification problem, one class will be `0` and the other will be `1`. Assigning numeric labels puts the data in a form a neural network can use."
      ]
    },
    {
      "cell_type": "markdown",
      "id": "a01a0f66",
      "metadata": {
        "id": "a01a0f66"
      },
      "source": [
        "## Accuracy and Cross-Entropy\n",
        "\n",
        "**Accuracy** is one of the many metrics in use for measuring success on a classification problem. Accuracy is the ratio of correct predictions to total predictions: `accuracy = number_correct / total`. A model that always predicted correctly would have an accuracy score of `1.0`. All else being equal, accuracy is a reasonable metric to use whenever the classes in the dataset occur with about the same frequency.\n",
        "\n",
        "The problem with accuracy (and most other classification metrics) is that it can't be used as a loss function. SGD needs a loss function that changes smoothly, but accuracy, being a ratio of counts, changes in \"jumps\". So, we have to choose a substitute to act as the loss function. This substitute is the *cross-entropy* function.\n",
        "\n",
        "Now, recall that the loss function defines the *objective* of the network during training. With regression, our goal was to minimize the distance between the expected outcome and the predicted outcome. We chose MAE to measure this distance.\n",
        "\n",
        "For classification, what we want instead is a distance between *probabilities*, and this is what cross-entropy provides. **Cross-entropy** is a sort of measure for the distance from one probability distribution to another.\n",
        "\n",
        "<figure style=\"padding: 1em;\">\n",
        "<img src=\"https://i.imgur.com/DwVV9bR.png\" width=\"400\" alt=\"Graphs of accuracy and cross-entropy.\">\n",
        "<figcaption style=\"textalign: center; font-style: italic\"><center>Cross-entropy penalizes incorrect probability predictions.</center></figcaption>\n",
        "</figure>\n",
        "\n",
        "The idea is that we want our network to predict the correct class with probability `1.0`. The further away the predicted probability is from `1.0`, the greater will be the cross-entropy loss.\n",
        "\n",
        "The technical reasons we use cross-entropy are a bit subtle, but the main thing to take away from this section is just this: use cross-entropy for a classification loss; other metrics you might care about (like accuracy) will tend to improve along with it."
      ]
    },
    {
      "cell_type": "markdown",
      "id": "f03a60d1",
      "metadata": {
        "papermill": {
          "duration": 0.012641,
          "end_time": "2022-05-05T17:51:37.673131",
          "exception": false,
          "start_time": "2022-05-05T17:51:37.660490",
          "status": "completed"
        },
        "tags": [],
        "id": "f03a60d1"
      },
      "source": [
        "## Making Probabilities with the Sigmoid Function \n",
        "\n",
        "The cross-entropy and accuracy functions both require probabilities as inputs, meaning, numbers from 0 to 1. To covert the real-valued outputs produced by a dense layer into probabilities, we attach a new kind of activation function, the **sigmoid activation**.\n",
        "\n",
        "<figure style=\"padding: 1em;\">\n",
        "<img src=\"https://i.imgur.com/FYbRvJo.png\" width=\"400\" alt=\"The sigmoid graph is an 'S' shape with horizontal asymptotes at 0 to the left and 1 to the right. \">\n",
        "<figcaption style=\"textalign: center; font-style: italic\"><center>The sigmoid function maps real numbers into the interval $[0, 1]$.</center></figcaption>\n",
        "</figure>\n",
        "\n",
        "To get the final class prediction, we define a *threshold* probability. Typically this will be 0.5, so that rounding will give us the correct class: below 0.5 means the class with label 0 and 0.5 or above means the class with label 1. A 0.5 threshold is what Keras uses by default with its [accuracy metric](https://www.tensorflow.org/api_docs/python/tf/keras/metrics/BinaryAccuracy)."
      ]
    },
    {
      "cell_type": "markdown",
      "id": "d2e906e2",
      "metadata": {
        "id": "d2e906e2"
      },
      "source": [
        "## Example - Binary Classification\n",
        "\n",
        "Now let's try it out!\n",
        "\n",
        "The incident handling dataset contains features regarding cargo incidents recorded by a global freight forwarder. The task is predict which features of a given route are likely to result in a particular class of cargo incidents."
      ]
    },
    {
      "cell_type": "code",
      "execution_count": 24,
      "id": "41f4564e",
      "metadata": {
        "_kg_hide-input": true,
        "execution": {
          "iopub.execute_input": "2022-05-05T17:51:37.700741Z",
          "iopub.status.busy": "2022-05-05T17:51:37.699520Z",
          "iopub.status.idle": "2022-05-05T17:51:37.799711Z",
          "shell.execute_reply": "2022-05-05T17:51:37.798769Z"
        },
        "lines_to_next_cell": 0,
        "papermill": {
          "duration": 0.117612,
          "end_time": "2022-05-05T17:51:37.802143",
          "exception": false,
          "start_time": "2022-05-05T17:51:37.684531",
          "status": "completed"
        },
        "tags": [],
        "id": "41f4564e"
      },
      "outputs": [],
      "source": [
        "\n",
        "import pandas as pd\n",
        "from IPython.display import display\n",
        "\n",
        "df = pd.read_csv('https://www.dropbox.com/s/c2kn5xizrqjzw4s/cargo_incidents_cleaned.csv?dl=1')\n",
        "\n",
        "df = df.assign(CargoIssue = df.CAT.str.startswith('Cargo'))\n",
        "\n",
        "df = df[df.TrafficType.isin((df.TrafficType.value_counts().reset_index(name=\"count\").query(\"count > 50\")[\"index\"]))]\n",
        "\n",
        "feature_cols = ['TrafficType']\n",
        "X = pd.get_dummies(df[feature_cols], drop_first=True) # Features\n",
        "y = df.CargoIssue\n",
        "\n",
        "X_train, X_test, y_train, y_test = train_test_split(X, y, random_state=42) #default is 80/20"
      ]
    },
    {
      "cell_type": "markdown",
      "id": "c68c5021",
      "metadata": {
        "papermill": {
          "duration": 0.010477,
          "end_time": "2022-05-05T17:51:37.824025",
          "exception": false,
          "start_time": "2022-05-05T17:51:37.813548",
          "status": "completed"
        },
        "tags": [],
        "id": "c68c5021"
      },
      "source": [
        "We'll define our model just like we did for the regression tasks, with one exception. In the final layer include a `'sigmoid'` activation so that the model will produce class probabilities."
      ]
    },
    {
      "cell_type": "code",
      "execution_count": 25,
      "id": "f6fde980",
      "metadata": {
        "execution": {
          "iopub.execute_input": "2022-05-05T17:51:37.847261Z",
          "iopub.status.busy": "2022-05-05T17:51:37.846929Z",
          "iopub.status.idle": "2022-05-05T17:51:44.267041Z",
          "shell.execute_reply": "2022-05-05T17:51:44.265973Z"
        },
        "papermill": {
          "duration": 6.43411,
          "end_time": "2022-05-05T17:51:44.268949",
          "exception": false,
          "start_time": "2022-05-05T17:51:37.834839",
          "status": "completed"
        },
        "tags": [],
        "id": "f6fde980"
      },
      "outputs": [],
      "source": [
        "from tensorflow import keras\n",
        "from tensorflow.keras import layers\n",
        "\n",
        "model = keras.Sequential([\n",
        "    layers.Dense(128, activation='sigmoid'),\n",
        "    layers.Dropout(0.3),\n",
        "    layers.Dense(128, activation='sigmoid'),\n",
        "    layers.Dropout(0.3),\n",
        "    layers.Dense(1, activation='sigmoid'),\n",
        "])\n"
      ]
    },
    {
      "cell_type": "markdown",
      "id": "6589ad9c",
      "metadata": {
        "papermill": {
          "duration": 0.011413,
          "end_time": "2022-05-05T17:51:44.292372",
          "exception": false,
          "start_time": "2022-05-05T17:51:44.280959",
          "status": "completed"
        },
        "tags": [],
        "id": "6589ad9c"
      },
      "source": [
        "Add the cross-entropy loss and accuracy metric to the model with its `compile` method. For two-class problems, be sure to use `'binary'` versions. (Problems with more classes will be slightly different.) The Adam optimizer works great for classification too, so we'll stick with it."
      ]
    },
    {
      "cell_type": "code",
      "execution_count": 26,
      "id": "e21df474",
      "metadata": {
        "execution": {
          "iopub.execute_input": "2022-05-05T17:51:44.317995Z",
          "iopub.status.busy": "2022-05-05T17:51:44.317518Z",
          "iopub.status.idle": "2022-05-05T17:51:44.329581Z",
          "shell.execute_reply": "2022-05-05T17:51:44.328786Z"
        },
        "papermill": {
          "duration": 0.027298,
          "end_time": "2022-05-05T17:51:44.331864",
          "exception": false,
          "start_time": "2022-05-05T17:51:44.304566",
          "status": "completed"
        },
        "tags": [],
        "id": "e21df474"
      },
      "outputs": [],
      "source": [
        "model.compile(\n",
        "    optimizer='adam',\n",
        "    loss='binary_crossentropy',\n",
        "    metrics=['binary_accuracy'],\n",
        ")"
      ]
    },
    {
      "cell_type": "markdown",
      "id": "e3557739",
      "metadata": {
        "papermill": {
          "duration": 0.011413,
          "end_time": "2022-05-05T17:51:44.354965",
          "exception": false,
          "start_time": "2022-05-05T17:51:44.343552",
          "status": "completed"
        },
        "tags": [],
        "id": "e3557739"
      },
      "source": [
        "The model in this particular problem can take quite a few epochs to complete training, so we'll include an early stopping callback for convenience."
      ]
    },
    {
      "cell_type": "code",
      "execution_count": 27,
      "id": "7c7c3083",
      "metadata": {
        "execution": {
          "iopub.execute_input": "2022-05-05T17:51:44.379527Z",
          "iopub.status.busy": "2022-05-05T17:51:44.379235Z",
          "iopub.status.idle": "2022-05-05T17:51:45.866493Z",
          "shell.execute_reply": "2022-05-05T17:51:45.865689Z"
        },
        "papermill": {
          "duration": 1.502202,
          "end_time": "2022-05-05T17:51:45.868789",
          "exception": false,
          "start_time": "2022-05-05T17:51:44.366587",
          "status": "completed"
        },
        "tags": [],
        "id": "7c7c3083",
        "colab": {
          "base_uri": "https://localhost:8080/"
        },
        "outputId": "37579092-341d-449b-f24d-5165d293a197"
      },
      "outputs": [
        {
          "output_type": "stream",
          "name": "stdout",
          "text": [
            "Epoch 1/200\n",
            "69/69 [==============================] - 2s 10ms/step - loss: 0.7107 - binary_accuracy: 0.5251 - val_loss: 0.6710 - val_binary_accuracy: 0.5451\n",
            "Epoch 2/200\n",
            "69/69 [==============================] - 0s 6ms/step - loss: 0.6770 - binary_accuracy: 0.5771 - val_loss: 0.6341 - val_binary_accuracy: 0.7462\n",
            "Epoch 3/200\n",
            "69/69 [==============================] - 0s 7ms/step - loss: 0.6345 - binary_accuracy: 0.6637 - val_loss: 0.5869 - val_binary_accuracy: 0.7457\n",
            "Epoch 4/200\n",
            "69/69 [==============================] - 0s 7ms/step - loss: 0.6020 - binary_accuracy: 0.7131 - val_loss: 0.5664 - val_binary_accuracy: 0.7457\n",
            "Epoch 5/200\n",
            "69/69 [==============================] - 0s 7ms/step - loss: 0.5863 - binary_accuracy: 0.7277 - val_loss: 0.5647 - val_binary_accuracy: 0.7420\n",
            "Epoch 6/200\n",
            "69/69 [==============================] - 0s 7ms/step - loss: 0.5835 - binary_accuracy: 0.7328 - val_loss: 0.5599 - val_binary_accuracy: 0.7457\n",
            "Epoch 7/200\n",
            "69/69 [==============================] - 0s 7ms/step - loss: 0.5791 - binary_accuracy: 0.7353 - val_loss: 0.5590 - val_binary_accuracy: 0.7457\n",
            "Epoch 8/200\n",
            "69/69 [==============================] - 0s 7ms/step - loss: 0.5752 - binary_accuracy: 0.7375 - val_loss: 0.5570 - val_binary_accuracy: 0.7457\n",
            "Epoch 9/200\n",
            "69/69 [==============================] - 0s 7ms/step - loss: 0.5738 - binary_accuracy: 0.7378 - val_loss: 0.5573 - val_binary_accuracy: 0.7457\n",
            "Epoch 10/200\n",
            "69/69 [==============================] - 1s 11ms/step - loss: 0.5727 - binary_accuracy: 0.7385 - val_loss: 0.5575 - val_binary_accuracy: 0.7457\n",
            "Epoch 11/200\n",
            "69/69 [==============================] - 1s 11ms/step - loss: 0.5727 - binary_accuracy: 0.7398 - val_loss: 0.5578 - val_binary_accuracy: 0.7457\n",
            "Epoch 12/200\n",
            "69/69 [==============================] - 1s 10ms/step - loss: 0.5721 - binary_accuracy: 0.7402 - val_loss: 0.5567 - val_binary_accuracy: 0.7457\n",
            "Epoch 13/200\n",
            "69/69 [==============================] - 1s 9ms/step - loss: 0.5706 - binary_accuracy: 0.7400 - val_loss: 0.5551 - val_binary_accuracy: 0.7457\n",
            "Epoch 14/200\n",
            "69/69 [==============================] - 0s 7ms/step - loss: 0.5686 - binary_accuracy: 0.7397 - val_loss: 0.5558 - val_binary_accuracy: 0.7457\n",
            "Epoch 15/200\n",
            "69/69 [==============================] - 0s 7ms/step - loss: 0.5672 - binary_accuracy: 0.7413 - val_loss: 0.5577 - val_binary_accuracy: 0.7457\n",
            "Epoch 16/200\n",
            "69/69 [==============================] - 0s 7ms/step - loss: 0.5692 - binary_accuracy: 0.7411 - val_loss: 0.5568 - val_binary_accuracy: 0.7457\n",
            "Epoch 17/200\n",
            "69/69 [==============================] - 0s 7ms/step - loss: 0.5664 - binary_accuracy: 0.7412 - val_loss: 0.5547 - val_binary_accuracy: 0.7457\n",
            "Epoch 18/200\n",
            "69/69 [==============================] - 1s 8ms/step - loss: 0.5658 - binary_accuracy: 0.7417 - val_loss: 0.5569 - val_binary_accuracy: 0.7457\n",
            "Epoch 19/200\n",
            "69/69 [==============================] - 1s 7ms/step - loss: 0.5649 - binary_accuracy: 0.7436 - val_loss: 0.5547 - val_binary_accuracy: 0.7457\n",
            "Epoch 20/200\n",
            "69/69 [==============================] - 0s 7ms/step - loss: 0.5633 - binary_accuracy: 0.7420 - val_loss: 0.5550 - val_binary_accuracy: 0.7457\n",
            "Epoch 21/200\n",
            "69/69 [==============================] - 0s 7ms/step - loss: 0.5661 - binary_accuracy: 0.7435 - val_loss: 0.5553 - val_binary_accuracy: 0.7457\n",
            "Epoch 22/200\n",
            "69/69 [==============================] - 0s 7ms/step - loss: 0.5633 - binary_accuracy: 0.7430 - val_loss: 0.5549 - val_binary_accuracy: 0.7457\n",
            "Epoch 23/200\n",
            "69/69 [==============================] - 0s 7ms/step - loss: 0.5631 - binary_accuracy: 0.7425 - val_loss: 0.5568 - val_binary_accuracy: 0.7457\n",
            "Epoch 24/200\n",
            "69/69 [==============================] - 1s 7ms/step - loss: 0.5645 - binary_accuracy: 0.7428 - val_loss: 0.5555 - val_binary_accuracy: 0.7457\n",
            "Epoch 25/200\n",
            "69/69 [==============================] - 0s 7ms/step - loss: 0.5634 - binary_accuracy: 0.7438 - val_loss: 0.5547 - val_binary_accuracy: 0.7457\n",
            "Epoch 26/200\n",
            "69/69 [==============================] - 0s 7ms/step - loss: 0.5638 - binary_accuracy: 0.7430 - val_loss: 0.5544 - val_binary_accuracy: 0.7457\n",
            "Epoch 27/200\n",
            "69/69 [==============================] - 1s 7ms/step - loss: 0.5629 - binary_accuracy: 0.7437 - val_loss: 0.5542 - val_binary_accuracy: 0.7457\n",
            "Epoch 28/200\n",
            "69/69 [==============================] - 0s 7ms/step - loss: 0.5620 - binary_accuracy: 0.7443 - val_loss: 0.5544 - val_binary_accuracy: 0.7457\n",
            "Epoch 29/200\n",
            "69/69 [==============================] - 0s 7ms/step - loss: 0.5616 - binary_accuracy: 0.7435 - val_loss: 0.5542 - val_binary_accuracy: 0.7457\n",
            "Epoch 30/200\n",
            "69/69 [==============================] - 0s 7ms/step - loss: 0.5626 - binary_accuracy: 0.7439 - val_loss: 0.5560 - val_binary_accuracy: 0.7457\n",
            "Epoch 31/200\n",
            "69/69 [==============================] - 0s 7ms/step - loss: 0.5624 - binary_accuracy: 0.7432 - val_loss: 0.5542 - val_binary_accuracy: 0.7457\n",
            "Epoch 32/200\n",
            "69/69 [==============================] - 0s 7ms/step - loss: 0.5612 - binary_accuracy: 0.7441 - val_loss: 0.5541 - val_binary_accuracy: 0.7457\n",
            "Epoch 33/200\n",
            "69/69 [==============================] - 0s 7ms/step - loss: 0.5610 - binary_accuracy: 0.7447 - val_loss: 0.5539 - val_binary_accuracy: 0.7457\n",
            "Epoch 34/200\n",
            "69/69 [==============================] - 1s 10ms/step - loss: 0.5616 - binary_accuracy: 0.7439 - val_loss: 0.5543 - val_binary_accuracy: 0.7457\n",
            "Epoch 35/200\n",
            "69/69 [==============================] - 1s 12ms/step - loss: 0.5622 - binary_accuracy: 0.7441 - val_loss: 0.5550 - val_binary_accuracy: 0.7457\n",
            "Epoch 36/200\n",
            "69/69 [==============================] - 1s 10ms/step - loss: 0.5619 - binary_accuracy: 0.7430 - val_loss: 0.5543 - val_binary_accuracy: 0.7457\n",
            "Epoch 37/200\n",
            "69/69 [==============================] - 1s 11ms/step - loss: 0.5609 - binary_accuracy: 0.7433 - val_loss: 0.5542 - val_binary_accuracy: 0.7457\n",
            "Epoch 38/200\n",
            "69/69 [==============================] - 0s 7ms/step - loss: 0.5597 - binary_accuracy: 0.7436 - val_loss: 0.5541 - val_binary_accuracy: 0.7457\n",
            "Epoch 39/200\n",
            "69/69 [==============================] - 0s 7ms/step - loss: 0.5594 - binary_accuracy: 0.7448 - val_loss: 0.5543 - val_binary_accuracy: 0.7457\n",
            "Epoch 40/200\n",
            "69/69 [==============================] - 0s 7ms/step - loss: 0.5604 - binary_accuracy: 0.7434 - val_loss: 0.5549 - val_binary_accuracy: 0.7457\n",
            "Epoch 41/200\n",
            "69/69 [==============================] - 0s 7ms/step - loss: 0.5589 - binary_accuracy: 0.7443 - val_loss: 0.5542 - val_binary_accuracy: 0.7457\n",
            "Epoch 42/200\n",
            "69/69 [==============================] - 0s 7ms/step - loss: 0.5600 - binary_accuracy: 0.7436 - val_loss: 0.5546 - val_binary_accuracy: 0.7457\n",
            "Epoch 43/200\n",
            "69/69 [==============================] - 0s 7ms/step - loss: 0.5602 - binary_accuracy: 0.7447 - val_loss: 0.5538 - val_binary_accuracy: 0.7457\n",
            "Epoch 44/200\n",
            "69/69 [==============================] - 0s 7ms/step - loss: 0.5593 - binary_accuracy: 0.7444 - val_loss: 0.5549 - val_binary_accuracy: 0.7457\n",
            "Epoch 45/200\n",
            "69/69 [==============================] - 0s 7ms/step - loss: 0.5592 - binary_accuracy: 0.7446 - val_loss: 0.5563 - val_binary_accuracy: 0.7457\n",
            "Epoch 46/200\n",
            "69/69 [==============================] - 0s 7ms/step - loss: 0.5602 - binary_accuracy: 0.7443 - val_loss: 0.5553 - val_binary_accuracy: 0.7457\n",
            "Epoch 47/200\n",
            "69/69 [==============================] - 0s 7ms/step - loss: 0.5599 - binary_accuracy: 0.7439 - val_loss: 0.5570 - val_binary_accuracy: 0.7457\n",
            "Epoch 48/200\n",
            "69/69 [==============================] - 0s 7ms/step - loss: 0.5598 - binary_accuracy: 0.7446 - val_loss: 0.5538 - val_binary_accuracy: 0.7457\n",
            "Epoch 49/200\n",
            "69/69 [==============================] - 0s 7ms/step - loss: 0.5587 - binary_accuracy: 0.7443 - val_loss: 0.5547 - val_binary_accuracy: 0.7457\n",
            "Epoch 50/200\n",
            "69/69 [==============================] - 0s 7ms/step - loss: 0.5580 - binary_accuracy: 0.7442 - val_loss: 0.5542 - val_binary_accuracy: 0.7457\n",
            "Epoch 51/200\n",
            "69/69 [==============================] - 0s 7ms/step - loss: 0.5592 - binary_accuracy: 0.7440 - val_loss: 0.5538 - val_binary_accuracy: 0.7457\n",
            "Epoch 52/200\n",
            "69/69 [==============================] - 0s 7ms/step - loss: 0.5591 - binary_accuracy: 0.7450 - val_loss: 0.5555 - val_binary_accuracy: 0.7457\n",
            "Epoch 53/200\n",
            "69/69 [==============================] - 0s 7ms/step - loss: 0.5592 - binary_accuracy: 0.7448 - val_loss: 0.5547 - val_binary_accuracy: 0.7457\n",
            "Epoch 54/200\n",
            "69/69 [==============================] - 0s 7ms/step - loss: 0.5592 - binary_accuracy: 0.7444 - val_loss: 0.5551 - val_binary_accuracy: 0.7457\n",
            "Epoch 55/200\n",
            "69/69 [==============================] - 0s 7ms/step - loss: 0.5587 - binary_accuracy: 0.7445 - val_loss: 0.5560 - val_binary_accuracy: 0.7457\n",
            "Epoch 56/200\n",
            "69/69 [==============================] - 0s 7ms/step - loss: 0.5592 - binary_accuracy: 0.7443 - val_loss: 0.5543 - val_binary_accuracy: 0.7457\n",
            "Epoch 57/200\n",
            "69/69 [==============================] - 0s 7ms/step - loss: 0.5593 - binary_accuracy: 0.7441 - val_loss: 0.5553 - val_binary_accuracy: 0.7457\n",
            "Epoch 58/200\n",
            "69/69 [==============================] - 1s 8ms/step - loss: 0.5593 - binary_accuracy: 0.7440 - val_loss: 0.5542 - val_binary_accuracy: 0.7457\n",
            "Epoch 59/200\n",
            "69/69 [==============================] - 1s 10ms/step - loss: 0.5599 - binary_accuracy: 0.7441 - val_loss: 0.5540 - val_binary_accuracy: 0.7457\n",
            "Epoch 60/200\n",
            "69/69 [==============================] - 1s 10ms/step - loss: 0.5585 - binary_accuracy: 0.7447 - val_loss: 0.5546 - val_binary_accuracy: 0.7457\n",
            "Epoch 61/200\n",
            "69/69 [==============================] - 1s 10ms/step - loss: 0.5592 - binary_accuracy: 0.7444 - val_loss: 0.5577 - val_binary_accuracy: 0.7457\n",
            "Epoch 62/200\n",
            "69/69 [==============================] - 1s 11ms/step - loss: 0.5599 - binary_accuracy: 0.7445 - val_loss: 0.5546 - val_binary_accuracy: 0.7457\n",
            "Epoch 63/200\n",
            "69/69 [==============================] - 1s 7ms/step - loss: 0.5579 - binary_accuracy: 0.7450 - val_loss: 0.5543 - val_binary_accuracy: 0.7457\n"
          ]
        }
      ],
      "source": [
        "early_stopping = keras.callbacks.EarlyStopping(\n",
        "    patience=15, #patience refers to the idea of waiting for sometime before stopping completetly\n",
        "    min_delta=0.000001,\n",
        "    restore_best_weights=True,\n",
        ")\n",
        "history = model.fit(\n",
        "    X_train, y_train,\n",
        "    validation_data=(X_test, y_test),\n",
        "    batch_size=256,\n",
        "    verbose=1,\n",
        "    epochs=200,\n",
        "    callbacks=[early_stopping],\n",
        ")\n"
      ]
    },
    {
      "cell_type": "markdown",
      "id": "e51553df",
      "metadata": {
        "papermill": {
          "duration": 0.012027,
          "end_time": "2022-05-05T17:51:45.893150",
          "exception": false,
          "start_time": "2022-05-05T17:51:45.881123",
          "status": "completed"
        },
        "tags": [],
        "id": "e51553df"
      },
      "source": [
        "We'll take a look at the learning curves as always. (Remember that early stopping will restore the weights to those that got these values.)"
      ]
    },
    {
      "cell_type": "code",
      "execution_count": 28,
      "id": "31915ecd",
      "metadata": {
        "execution": {
          "iopub.execute_input": "2022-05-05T17:51:45.919443Z",
          "iopub.status.busy": "2022-05-05T17:51:45.919169Z",
          "iopub.status.idle": "2022-05-05T17:51:46.344437Z",
          "shell.execute_reply": "2022-05-05T17:51:46.343660Z"
        },
        "papermill": {
          "duration": 0.441151,
          "end_time": "2022-05-05T17:51:46.346481",
          "exception": false,
          "start_time": "2022-05-05T17:51:45.905330",
          "status": "completed"
        },
        "tags": [],
        "id": "31915ecd",
        "colab": {
          "base_uri": "https://localhost:8080/",
          "height": 524
        },
        "outputId": "1d2aa887-e7bb-4c92-efd3-1b024234531b"
      },
      "outputs": [
        {
          "output_type": "stream",
          "name": "stdout",
          "text": [
            "Best Validation Loss: 0.5538\n",
            "Best Validation Accuracy: 0.7462\n"
          ]
        },
        {
          "output_type": "display_data",
          "data": {
            "text/plain": [
              "<Figure size 640x480 with 1 Axes>"
            ],
            "image/png": "[encoded data removed]"
          },
          "metadata": {}
        }
      ],
      "source": [
        "history_df = pd.DataFrame(history.history)\n",
        "# Start the plot at epoch 5\n",
        "history_df.loc[5:, ['loss', 'val_loss']].plot()\n",
        "\n",
        "print((\"Best Validation Loss: {:0.4f}\" +\\\n",
        "      \"\\nBest Validation Accuracy: {:0.4f}\")\\\n",
        "      .format(history_df['val_loss'].min(), \n",
        "              history_df['val_binary_accuracy'].max()))"
      ]
    },
    {
      "cell_type": "markdown",
      "id": "538b910b",
      "metadata": {
        "papermill": {
          "duration": 0.014202,
          "end_time": "2022-05-05T17:51:46.376744",
          "exception": false,
          "start_time": "2022-05-05T17:51:46.362542",
          "status": "completed"
        },
        "tags": [],
        "id": "538b910b"
      },
      "source": [
        "### In Lab: *Binary Classification*\n",
        "\n",
        "Use a neural network to **classify cargo incidents** in the incident handling dataset.\n",
        "\n",
        "1.   Define Model\n",
        "2.   Add Optimizer, Loss Function and Evaluation Metric\n",
        "3.   Train and Evaluate\n",
        "\n"
      ]
    }
  ],
  "metadata": {
    "jupytext": {
      "formats": "ipynb"
    },
    "kernelspec": {
      "display_name": "Python 3 (ipykernel)",
      "language": "python",
      "name": "python3"
    },
    "language_info": {
      "codemirror_mode": {
        "name": "ipython",
        "version": 3
      },
      "file_extension": ".py",
      "mimetype": "text/x-python",
      "name": "python",
      "nbconvert_exporter": "python",
      "pygments_lexer": "ipython3",
      "version": "3.11.2"
    },
    "papermill": {
      "default_parameters": {},
      "duration": 19.692016,
      "end_time": "2022-05-05T17:51:52.457795",
      "environment_variables": {},
      "exception": null,
      "input_path": "__notebook__.ipynb",
      "output_path": "__notebook__.ipynb",
      "parameters": {},
      "start_time": "2022-05-05T17:51:32.765779",
      "version": "2.3.4"
    },
    "colab": {
      "provenance": []
    }
  },
  "nbformat": 4,
  "nbformat_minor": 5
}