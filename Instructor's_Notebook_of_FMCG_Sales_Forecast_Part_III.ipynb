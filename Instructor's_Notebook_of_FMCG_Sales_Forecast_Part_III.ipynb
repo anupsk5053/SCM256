{
 "cells": [
  {
   "attachments": {},
   "cell_type": "markdown",
   "id": "47ba37d2",
   "metadata": {},
   "source": [
    "# Fast Moving Consumer Goods Sales Forecast - Part III"
   ]
  },
  {
   "attachments": {},
   "cell_type": "markdown",
   "id": "584214a1",
   "metadata": {
    "papermill": {
     "duration": 0.003262,
     "end_time": "2021-11-09T00:07:26.814132",
     "exception": false,
     "start_time": "2021-11-09T00:07:26.810870",
     "status": "completed"
    },
    "tags": []
   },
   "source": [
    "# Intermediate Machine Learning\n",
    "\n",
    "Welcome to SCM.256 Week 2: **Intermediate Machine Learning**!\n",
    "\n",
    "Now that you had an introduction to machine learning last week, you will learn how to quickly improve the quality of your models!  \n",
    "\n",
    "This week you will accelerate your machine learning expertise by learning how to:\n",
    "- Tackle data types often found in real-world datasets (**categorical variables**)\n",
    "- Design **pipelines** to improve the quality of your machine learning code\n",
    "- Use advanced techniques for model validation (**cross-validation**)\n",
    "- Build state-of-the-art emsemble models with gradient boosted trees (**XGBoost**)\n",
    "- Avoid common and important data science mistakes (**leakage**).\n",
    "\n",
    "You will apply your knowledge with data about [weekly retail sales at Walmart stores](https://www.kaggle.com/datasets/rutuspatel/walmart-dataset-retail). The example Walmart Retail dataset is at the file path **`Walmart_Store_sales.csv`**.\n",
    "\n",
    "You will use different explanatory variables to forecast FMCG weekly sales.  "
   ]
  },
  {
   "attachments": {},
   "cell_type": "markdown",
   "id": "e96153e9",
   "metadata": {},
   "source": [
    "## Setting Up the Workspace"
   ]
  },
  {
   "cell_type": "code",
   "execution_count": 1,
   "id": "c42d644c",
   "metadata": {},
   "outputs": [],
   "source": [
    "# Install packages\n",
    "#!pip install pandas\n"
   ]
  },
  {
   "cell_type": "code",
   "execution_count": 2,
   "id": "fdd9dba0",
   "metadata": {},
   "outputs": [
    {
     "name": "stderr",
     "output_type": "stream",
     "text": [
      "c:\\Users\\erdug\\anaconda3\\lib\\site-packages\\scipy\\__init__.py:138: UserWarning: A NumPy version >=1.16.5 and <1.23.0 is required for this version of SciPy (detected version 1.23.5)\n",
      "  warnings.warn(f\"A NumPy version >={np_minversion} and <{np_maxversion} is required for this version of \"\n"
     ]
    }
   ],
   "source": [
    "# Import packages\n",
    "import pandas as pd\n",
    "from datetime import datetime\n",
    "\n",
    "#import matplotlib.pyplot as plt\n",
    "#import numpy as np \n",
    "#import seaborn as sns \n",
    "\n",
    "# Import required sklearn modules --------\n",
    "# Split X and y into training and testing sets\n",
    "from sklearn.model_selection import train_test_split\n",
    "\n",
    "# Import the preprocessing class\n",
    "from sklearn.preprocessing import OrdinalEncoder\n",
    "from sklearn.preprocessing import OneHotEncoder\n",
    "#from sklearn.preprocessing import StandardScaler\n",
    "\n",
    "# Impute values\n",
    "from sklearn.impute import SimpleImputer \n",
    "\n",
    "# Create pipelines\n",
    "from sklearn.pipeline import Pipeline \n",
    "\n",
    "# Transform columns\n",
    "from sklearn.compose import ColumnTransformer \n",
    "\n",
    "# Import the model class\n",
    "from sklearn.ensemble import RandomForestRegressor \n",
    "\n",
    "# Import the metrics class\n",
    "from sklearn.metrics import mean_absolute_error \n",
    "from sklearn.metrics import mean_absolute_percentage_error \n",
    "from sklearn.metrics import mean_squared_error \n",
    "\n",
    "# Configures sklearn to display pipeline diagrams\n",
    "from sklearn import set_config\n",
    "set_config(display=\"diagram\")\n"
   ]
  },
  {
   "attachments": {},
   "cell_type": "markdown",
   "id": "40d0f1c6",
   "metadata": {},
   "source": [
    "## Loading the Data"
   ]
  },
  {
   "cell_type": "code",
   "execution_count": 3,
   "id": "ce216f68",
   "metadata": {},
   "outputs": [],
   "source": [
    "#import pandas as pd # --> DONE UPFRONT (see top section \"Setting Up the Workspace\")\n",
    "#from sklearn.model_selection import train_test_split # --> DONE UPFRONT (see top section \"Setting Up the Workspace\")\n",
    "\n",
    "# Load data\n",
    "walmart_file_path = 'https://www.dropbox.com/s/ns7envvzoqyypui/Walmart_Store_sales.csv?dl=1'\n",
    "#data = pd.read_csv(walmart_file_path, dtype={'Store' : 'int'}) \n",
    "# read the data and store data in DataFrame titled walmart_data\n",
    "# Parse date column from day-month-year into Pandas \n",
    "walmart_data = pd.read_csv(walmart_file_path,parse_dates=['Date'], date_parser=lambda x: datetime.strptime(x, '%d-%m-%Y').date()) \n",
    "walmart_data = walmart_data.sort_values(['Date','Store'])\n",
    "walmart_data.Store = walmart_data.Store.astype('category')\n",
    "\n",
    "# Select target and predictors\n",
    "y = walmart_data.Weekly_Sales\n",
    "#walmart_features = ['Fuel_Price', 'Unemployment', 'CPI', 'Temperature', 'Holiday_Flag']\n",
    "#X = data[walmart_features]\n",
    "X = walmart_data.drop(['Weekly_Sales'], axis=1)\n",
    "\n",
    "# Split data into training and validation subsets, for both features and target\n",
    "# The split is based on a random number generator. \n",
    "# Supplying a numeric value to the random_state argument guarantees we get the same split every time we run this script.\n",
    "X_train_full, X_valid_full, y_train, y_valid = train_test_split(X, y, train_size=0.8, test_size=0.2, shuffle=False,\n",
    "                                                                random_state=123)"
   ]
  },
  {
   "attachments": {},
   "cell_type": "markdown",
   "id": "fb34859f",
   "metadata": {},
   "source": [
    "### Inspect the Features in the Training Data Subset"
   ]
  },
  {
   "cell_type": "code",
   "execution_count": 4,
   "id": "0f1d0184",
   "metadata": {},
   "outputs": [
    {
     "name": "stdout",
     "output_type": "stream",
     "text": [
      "<class 'pandas.core.frame.DataFrame'>\n",
      "Int64Index: 5148 entries, 0 to 2545\n",
      "Data columns (total 7 columns):\n",
      " #   Column        Non-Null Count  Dtype         \n",
      "---  ------        --------------  -----         \n",
      " 0   Store         5148 non-null   category      \n",
      " 1   Date          5148 non-null   datetime64[ns]\n",
      " 2   Holiday_Flag  5148 non-null   int64         \n",
      " 3   Temperature   5148 non-null   float64       \n",
      " 4   Fuel_Price    5148 non-null   float64       \n",
      " 5   CPI           5148 non-null   float64       \n",
      " 6   Unemployment  5148 non-null   float64       \n",
      "dtypes: category(1), datetime64[ns](1), float64(4), int64(1)\n",
      "memory usage: 288.0 KB\n"
     ]
    }
   ],
   "source": [
    "X_train_full.info()"
   ]
  },
  {
   "cell_type": "code",
   "execution_count": 5,
   "id": "58e6f510",
   "metadata": {},
   "outputs": [
    {
     "data": {
      "text/html": [
       "<div>\n",
       "<style scoped>\n",
       "    .dataframe tbody tr th:only-of-type {\n",
       "        vertical-align: middle;\n",
       "    }\n",
       "\n",
       "    .dataframe tbody tr th {\n",
       "        vertical-align: top;\n",
       "    }\n",
       "\n",
       "    .dataframe thead th {\n",
       "        text-align: right;\n",
       "    }\n",
       "</style>\n",
       "<table border=\"1\" class=\"dataframe\">\n",
       "  <thead>\n",
       "    <tr style=\"text-align: right;\">\n",
       "      <th></th>\n",
       "      <th>Store</th>\n",
       "      <th>Date</th>\n",
       "      <th>Holiday_Flag</th>\n",
       "      <th>Temperature</th>\n",
       "      <th>Fuel_Price</th>\n",
       "      <th>CPI</th>\n",
       "      <th>Unemployment</th>\n",
       "    </tr>\n",
       "  </thead>\n",
       "  <tbody>\n",
       "    <tr>\n",
       "      <th>0</th>\n",
       "      <td>1</td>\n",
       "      <td>2010-02-05</td>\n",
       "      <td>0</td>\n",
       "      <td>42.31</td>\n",
       "      <td>2.572</td>\n",
       "      <td>211.096358</td>\n",
       "      <td>8.106</td>\n",
       "    </tr>\n",
       "    <tr>\n",
       "      <th>143</th>\n",
       "      <td>2</td>\n",
       "      <td>2010-02-05</td>\n",
       "      <td>0</td>\n",
       "      <td>40.19</td>\n",
       "      <td>2.572</td>\n",
       "      <td>210.752605</td>\n",
       "      <td>8.324</td>\n",
       "    </tr>\n",
       "    <tr>\n",
       "      <th>286</th>\n",
       "      <td>3</td>\n",
       "      <td>2010-02-05</td>\n",
       "      <td>0</td>\n",
       "      <td>45.71</td>\n",
       "      <td>2.572</td>\n",
       "      <td>214.424881</td>\n",
       "      <td>7.368</td>\n",
       "    </tr>\n",
       "    <tr>\n",
       "      <th>429</th>\n",
       "      <td>4</td>\n",
       "      <td>2010-02-05</td>\n",
       "      <td>0</td>\n",
       "      <td>43.76</td>\n",
       "      <td>2.598</td>\n",
       "      <td>126.442065</td>\n",
       "      <td>8.623</td>\n",
       "    </tr>\n",
       "    <tr>\n",
       "      <th>572</th>\n",
       "      <td>5</td>\n",
       "      <td>2010-02-05</td>\n",
       "      <td>0</td>\n",
       "      <td>39.70</td>\n",
       "      <td>2.572</td>\n",
       "      <td>211.653972</td>\n",
       "      <td>6.566</td>\n",
       "    </tr>\n",
       "  </tbody>\n",
       "</table>\n",
       "</div>"
      ],
      "text/plain": [
       "    Store       Date  Holiday_Flag  Temperature  Fuel_Price         CPI  \\\n",
       "0       1 2010-02-05             0        42.31       2.572  211.096358   \n",
       "143     2 2010-02-05             0        40.19       2.572  210.752605   \n",
       "286     3 2010-02-05             0        45.71       2.572  214.424881   \n",
       "429     4 2010-02-05             0        43.76       2.598  126.442065   \n",
       "572     5 2010-02-05             0        39.70       2.572  211.653972   \n",
       "\n",
       "     Unemployment  \n",
       "0           8.106  \n",
       "143         8.324  \n",
       "286         7.368  \n",
       "429         8.623  \n",
       "572         6.566  "
      ]
     },
     "execution_count": 5,
     "metadata": {},
     "output_type": "execute_result"
    }
   ],
   "source": [
    "X_train_full.head()"
   ]
  },
  {
   "cell_type": "code",
   "execution_count": 6,
   "id": "f0337a9d",
   "metadata": {},
   "outputs": [
    {
     "data": {
      "text/html": [
       "<div>\n",
       "<style scoped>\n",
       "    .dataframe tbody tr th:only-of-type {\n",
       "        vertical-align: middle;\n",
       "    }\n",
       "\n",
       "    .dataframe tbody tr th {\n",
       "        vertical-align: top;\n",
       "    }\n",
       "\n",
       "    .dataframe thead th {\n",
       "        text-align: right;\n",
       "    }\n",
       "</style>\n",
       "<table border=\"1\" class=\"dataframe\">\n",
       "  <thead>\n",
       "    <tr style=\"text-align: right;\">\n",
       "      <th></th>\n",
       "      <th>Store</th>\n",
       "      <th>Date</th>\n",
       "      <th>Holiday_Flag</th>\n",
       "      <th>Temperature</th>\n",
       "      <th>Fuel_Price</th>\n",
       "      <th>CPI</th>\n",
       "      <th>Unemployment</th>\n",
       "    </tr>\n",
       "  </thead>\n",
       "  <tbody>\n",
       "    <tr>\n",
       "      <th>1973</th>\n",
       "      <td>14</td>\n",
       "      <td>2012-04-13</td>\n",
       "      <td>0</td>\n",
       "      <td>51.83</td>\n",
       "      <td>4.044</td>\n",
       "      <td>190.759596</td>\n",
       "      <td>8.567</td>\n",
       "    </tr>\n",
       "    <tr>\n",
       "      <th>2116</th>\n",
       "      <td>15</td>\n",
       "      <td>2012-04-13</td>\n",
       "      <td>0</td>\n",
       "      <td>43.52</td>\n",
       "      <td>4.187</td>\n",
       "      <td>137.868000</td>\n",
       "      <td>8.150</td>\n",
       "    </tr>\n",
       "    <tr>\n",
       "      <th>2259</th>\n",
       "      <td>16</td>\n",
       "      <td>2012-04-13</td>\n",
       "      <td>0</td>\n",
       "      <td>45.83</td>\n",
       "      <td>3.901</td>\n",
       "      <td>197.780931</td>\n",
       "      <td>6.169</td>\n",
       "    </tr>\n",
       "    <tr>\n",
       "      <th>2402</th>\n",
       "      <td>17</td>\n",
       "      <td>2012-04-13</td>\n",
       "      <td>0</td>\n",
       "      <td>46.94</td>\n",
       "      <td>3.833</td>\n",
       "      <td>131.108000</td>\n",
       "      <td>6.235</td>\n",
       "    </tr>\n",
       "    <tr>\n",
       "      <th>2545</th>\n",
       "      <td>18</td>\n",
       "      <td>2012-04-13</td>\n",
       "      <td>0</td>\n",
       "      <td>47.75</td>\n",
       "      <td>4.025</td>\n",
       "      <td>137.868000</td>\n",
       "      <td>8.304</td>\n",
       "    </tr>\n",
       "  </tbody>\n",
       "</table>\n",
       "</div>"
      ],
      "text/plain": [
       "     Store       Date  Holiday_Flag  Temperature  Fuel_Price         CPI  \\\n",
       "1973    14 2012-04-13             0        51.83       4.044  190.759596   \n",
       "2116    15 2012-04-13             0        43.52       4.187  137.868000   \n",
       "2259    16 2012-04-13             0        45.83       3.901  197.780931   \n",
       "2402    17 2012-04-13             0        46.94       3.833  131.108000   \n",
       "2545    18 2012-04-13             0        47.75       4.025  137.868000   \n",
       "\n",
       "      Unemployment  \n",
       "1973         8.567  \n",
       "2116         8.150  \n",
       "2259         6.169  \n",
       "2402         6.235  \n",
       "2545         8.304  "
      ]
     },
     "execution_count": 6,
     "metadata": {},
     "output_type": "execute_result"
    }
   ],
   "source": [
    "X_train_full.tail()"
   ]
  },
  {
   "cell_type": "code",
   "execution_count": 7,
   "id": "13cf68e5",
   "metadata": {},
   "outputs": [
    {
     "data": {
      "text/html": [
       "<div>\n",
       "<style scoped>\n",
       "    .dataframe tbody tr th:only-of-type {\n",
       "        vertical-align: middle;\n",
       "    }\n",
       "\n",
       "    .dataframe tbody tr th {\n",
       "        vertical-align: top;\n",
       "    }\n",
       "\n",
       "    .dataframe thead th {\n",
       "        text-align: right;\n",
       "    }\n",
       "</style>\n",
       "<table border=\"1\" class=\"dataframe\">\n",
       "  <thead>\n",
       "    <tr style=\"text-align: right;\">\n",
       "      <th></th>\n",
       "      <th>count</th>\n",
       "      <th>mean</th>\n",
       "      <th>min</th>\n",
       "      <th>25%</th>\n",
       "      <th>50%</th>\n",
       "      <th>75%</th>\n",
       "      <th>max</th>\n",
       "      <th>std</th>\n",
       "    </tr>\n",
       "  </thead>\n",
       "  <tbody>\n",
       "    <tr>\n",
       "      <th>Date</th>\n",
       "      <td>5148</td>\n",
       "      <td>2011-03-08 21:46:34.405594624</td>\n",
       "      <td>2010-02-05 00:00:00</td>\n",
       "      <td>2010-08-20 00:00:00</td>\n",
       "      <td>2011-03-11 00:00:00</td>\n",
       "      <td>2011-09-23 00:00:00</td>\n",
       "      <td>2012-04-13 00:00:00</td>\n",
       "      <td>NaN</td>\n",
       "    </tr>\n",
       "    <tr>\n",
       "      <th>Holiday_Flag</th>\n",
       "      <td>5148.0</td>\n",
       "      <td>0.078671</td>\n",
       "      <td>0.0</td>\n",
       "      <td>0.0</td>\n",
       "      <td>0.0</td>\n",
       "      <td>0.0</td>\n",
       "      <td>1.0</td>\n",
       "      <td>0.269251</td>\n",
       "    </tr>\n",
       "    <tr>\n",
       "      <th>Temperature</th>\n",
       "      <td>5148.0</td>\n",
       "      <td>57.931014</td>\n",
       "      <td>-2.06</td>\n",
       "      <td>44.42</td>\n",
       "      <td>58.7</td>\n",
       "      <td>72.02</td>\n",
       "      <td>100.14</td>\n",
       "      <td>18.788346</td>\n",
       "    </tr>\n",
       "    <tr>\n",
       "      <th>Fuel_Price</th>\n",
       "      <td>5148.0</td>\n",
       "      <td>3.260448</td>\n",
       "      <td>2.472</td>\n",
       "      <td>2.837</td>\n",
       "      <td>3.236</td>\n",
       "      <td>3.644</td>\n",
       "      <td>4.294</td>\n",
       "      <td>0.446567</td>\n",
       "    </tr>\n",
       "    <tr>\n",
       "      <th>CPI</th>\n",
       "      <td>5148.0</td>\n",
       "      <td>170.536597</td>\n",
       "      <td>126.064</td>\n",
       "      <td>131.686</td>\n",
       "      <td>182.551954</td>\n",
       "      <td>211.406287</td>\n",
       "      <td>225.256244</td>\n",
       "      <td>38.923927</td>\n",
       "    </tr>\n",
       "    <tr>\n",
       "      <th>Unemployment</th>\n",
       "      <td>5148.0</td>\n",
       "      <td>8.179414</td>\n",
       "      <td>4.125</td>\n",
       "      <td>7.1805</td>\n",
       "      <td>8.021</td>\n",
       "      <td>8.625</td>\n",
       "      <td>14.313</td>\n",
       "      <td>1.879173</td>\n",
       "    </tr>\n",
       "  </tbody>\n",
       "</table>\n",
       "</div>"
      ],
      "text/plain": [
       "               count                           mean                  min  \\\n",
       "Date            5148  2011-03-08 21:46:34.405594624  2010-02-05 00:00:00   \n",
       "Holiday_Flag  5148.0                       0.078671                  0.0   \n",
       "Temperature   5148.0                      57.931014                -2.06   \n",
       "Fuel_Price    5148.0                       3.260448                2.472   \n",
       "CPI           5148.0                     170.536597              126.064   \n",
       "Unemployment  5148.0                       8.179414                4.125   \n",
       "\n",
       "                              25%                  50%                  75%  \\\n",
       "Date          2010-08-20 00:00:00  2011-03-11 00:00:00  2011-09-23 00:00:00   \n",
       "Holiday_Flag                  0.0                  0.0                  0.0   \n",
       "Temperature                 44.42                 58.7                72.02   \n",
       "Fuel_Price                  2.837                3.236                3.644   \n",
       "CPI                       131.686           182.551954           211.406287   \n",
       "Unemployment               7.1805                8.021                8.625   \n",
       "\n",
       "                              max        std  \n",
       "Date          2012-04-13 00:00:00        NaN  \n",
       "Holiday_Flag                  1.0   0.269251  \n",
       "Temperature                100.14  18.788346  \n",
       "Fuel_Price                  4.294   0.446567  \n",
       "CPI                    225.256244  38.923927  \n",
       "Unemployment               14.313   1.879173  "
      ]
     },
     "execution_count": 7,
     "metadata": {},
     "output_type": "execute_result"
    }
   ],
   "source": [
    "X_train_full.describe(datetime_is_numeric=True).T"
   ]
  },
  {
   "attachments": {},
   "cell_type": "markdown",
   "id": "af18bdf8",
   "metadata": {},
   "source": [
    "### Inspect the Features in the Validation Data Subset"
   ]
  },
  {
   "cell_type": "code",
   "execution_count": 8,
   "id": "3d20690b",
   "metadata": {},
   "outputs": [
    {
     "name": "stdout",
     "output_type": "stream",
     "text": [
      "<class 'pandas.core.frame.DataFrame'>\n",
      "Int64Index: 1287 entries, 2688 to 6434\n",
      "Data columns (total 7 columns):\n",
      " #   Column        Non-Null Count  Dtype         \n",
      "---  ------        --------------  -----         \n",
      " 0   Store         1287 non-null   category      \n",
      " 1   Date          1287 non-null   datetime64[ns]\n",
      " 2   Holiday_Flag  1287 non-null   int64         \n",
      " 3   Temperature   1287 non-null   float64       \n",
      " 4   Fuel_Price    1287 non-null   float64       \n",
      " 5   CPI           1287 non-null   float64       \n",
      " 6   Unemployment  1287 non-null   float64       \n",
      "dtypes: category(1), datetime64[ns](1), float64(4), int64(1)\n",
      "memory usage: 73.0 KB\n"
     ]
    }
   ],
   "source": [
    "X_valid_full.info()"
   ]
  },
  {
   "cell_type": "code",
   "execution_count": 9,
   "id": "1aefb8dc",
   "metadata": {},
   "outputs": [
    {
     "data": {
      "text/html": [
       "<div>\n",
       "<style scoped>\n",
       "    .dataframe tbody tr th:only-of-type {\n",
       "        vertical-align: middle;\n",
       "    }\n",
       "\n",
       "    .dataframe tbody tr th {\n",
       "        vertical-align: top;\n",
       "    }\n",
       "\n",
       "    .dataframe thead th {\n",
       "        text-align: right;\n",
       "    }\n",
       "</style>\n",
       "<table border=\"1\" class=\"dataframe\">\n",
       "  <thead>\n",
       "    <tr style=\"text-align: right;\">\n",
       "      <th></th>\n",
       "      <th>Store</th>\n",
       "      <th>Date</th>\n",
       "      <th>Holiday_Flag</th>\n",
       "      <th>Temperature</th>\n",
       "      <th>Fuel_Price</th>\n",
       "      <th>CPI</th>\n",
       "      <th>Unemployment</th>\n",
       "    </tr>\n",
       "  </thead>\n",
       "  <tbody>\n",
       "    <tr>\n",
       "      <th>2688</th>\n",
       "      <td>19</td>\n",
       "      <td>2012-04-13</td>\n",
       "      <td>0</td>\n",
       "      <td>44.42</td>\n",
       "      <td>4.187</td>\n",
       "      <td>137.868000</td>\n",
       "      <td>8.150</td>\n",
       "    </tr>\n",
       "    <tr>\n",
       "      <th>2831</th>\n",
       "      <td>20</td>\n",
       "      <td>2012-04-13</td>\n",
       "      <td>0</td>\n",
       "      <td>45.68</td>\n",
       "      <td>4.044</td>\n",
       "      <td>214.312703</td>\n",
       "      <td>7.139</td>\n",
       "    </tr>\n",
       "    <tr>\n",
       "      <th>2974</th>\n",
       "      <td>21</td>\n",
       "      <td>2012-04-13</td>\n",
       "      <td>0</td>\n",
       "      <td>69.03</td>\n",
       "      <td>3.891</td>\n",
       "      <td>221.148403</td>\n",
       "      <td>6.891</td>\n",
       "    </tr>\n",
       "    <tr>\n",
       "      <th>3117</th>\n",
       "      <td>22</td>\n",
       "      <td>2012-04-13</td>\n",
       "      <td>0</td>\n",
       "      <td>49.89</td>\n",
       "      <td>4.025</td>\n",
       "      <td>141.843393</td>\n",
       "      <td>7.671</td>\n",
       "    </tr>\n",
       "    <tr>\n",
       "      <th>3260</th>\n",
       "      <td>23</td>\n",
       "      <td>2012-04-13</td>\n",
       "      <td>0</td>\n",
       "      <td>41.81</td>\n",
       "      <td>4.025</td>\n",
       "      <td>137.868000</td>\n",
       "      <td>4.125</td>\n",
       "    </tr>\n",
       "  </tbody>\n",
       "</table>\n",
       "</div>"
      ],
      "text/plain": [
       "     Store       Date  Holiday_Flag  Temperature  Fuel_Price         CPI  \\\n",
       "2688    19 2012-04-13             0        44.42       4.187  137.868000   \n",
       "2831    20 2012-04-13             0        45.68       4.044  214.312703   \n",
       "2974    21 2012-04-13             0        69.03       3.891  221.148403   \n",
       "3117    22 2012-04-13             0        49.89       4.025  141.843393   \n",
       "3260    23 2012-04-13             0        41.81       4.025  137.868000   \n",
       "\n",
       "      Unemployment  \n",
       "2688         8.150  \n",
       "2831         7.139  \n",
       "2974         6.891  \n",
       "3117         7.671  \n",
       "3260         4.125  "
      ]
     },
     "execution_count": 9,
     "metadata": {},
     "output_type": "execute_result"
    }
   ],
   "source": [
    "X_valid_full.head()"
   ]
  },
  {
   "cell_type": "code",
   "execution_count": 10,
   "id": "f8206787",
   "metadata": {},
   "outputs": [
    {
     "data": {
      "text/html": [
       "<div>\n",
       "<style scoped>\n",
       "    .dataframe tbody tr th:only-of-type {\n",
       "        vertical-align: middle;\n",
       "    }\n",
       "\n",
       "    .dataframe tbody tr th {\n",
       "        vertical-align: top;\n",
       "    }\n",
       "\n",
       "    .dataframe thead th {\n",
       "        text-align: right;\n",
       "    }\n",
       "</style>\n",
       "<table border=\"1\" class=\"dataframe\">\n",
       "  <thead>\n",
       "    <tr style=\"text-align: right;\">\n",
       "      <th></th>\n",
       "      <th>Store</th>\n",
       "      <th>Date</th>\n",
       "      <th>Holiday_Flag</th>\n",
       "      <th>Temperature</th>\n",
       "      <th>Fuel_Price</th>\n",
       "      <th>CPI</th>\n",
       "      <th>Unemployment</th>\n",
       "    </tr>\n",
       "  </thead>\n",
       "  <tbody>\n",
       "    <tr>\n",
       "      <th>5862</th>\n",
       "      <td>41</td>\n",
       "      <td>2012-10-26</td>\n",
       "      <td>0</td>\n",
       "      <td>41.80</td>\n",
       "      <td>3.686</td>\n",
       "      <td>199.219532</td>\n",
       "      <td>6.195</td>\n",
       "    </tr>\n",
       "    <tr>\n",
       "      <th>6005</th>\n",
       "      <td>42</td>\n",
       "      <td>2012-10-26</td>\n",
       "      <td>0</td>\n",
       "      <td>70.50</td>\n",
       "      <td>4.301</td>\n",
       "      <td>131.193097</td>\n",
       "      <td>6.943</td>\n",
       "    </tr>\n",
       "    <tr>\n",
       "      <th>6148</th>\n",
       "      <td>43</td>\n",
       "      <td>2012-10-26</td>\n",
       "      <td>0</td>\n",
       "      <td>69.17</td>\n",
       "      <td>3.506</td>\n",
       "      <td>214.741539</td>\n",
       "      <td>8.839</td>\n",
       "    </tr>\n",
       "    <tr>\n",
       "      <th>6291</th>\n",
       "      <td>44</td>\n",
       "      <td>2012-10-26</td>\n",
       "      <td>0</td>\n",
       "      <td>46.97</td>\n",
       "      <td>3.755</td>\n",
       "      <td>131.193097</td>\n",
       "      <td>5.217</td>\n",
       "    </tr>\n",
       "    <tr>\n",
       "      <th>6434</th>\n",
       "      <td>45</td>\n",
       "      <td>2012-10-26</td>\n",
       "      <td>0</td>\n",
       "      <td>58.85</td>\n",
       "      <td>3.882</td>\n",
       "      <td>192.308899</td>\n",
       "      <td>8.667</td>\n",
       "    </tr>\n",
       "  </tbody>\n",
       "</table>\n",
       "</div>"
      ],
      "text/plain": [
       "     Store       Date  Holiday_Flag  Temperature  Fuel_Price         CPI  \\\n",
       "5862    41 2012-10-26             0        41.80       3.686  199.219532   \n",
       "6005    42 2012-10-26             0        70.50       4.301  131.193097   \n",
       "6148    43 2012-10-26             0        69.17       3.506  214.741539   \n",
       "6291    44 2012-10-26             0        46.97       3.755  131.193097   \n",
       "6434    45 2012-10-26             0        58.85       3.882  192.308899   \n",
       "\n",
       "      Unemployment  \n",
       "5862         6.195  \n",
       "6005         6.943  \n",
       "6148         8.839  \n",
       "6291         5.217  \n",
       "6434         8.667  "
      ]
     },
     "execution_count": 10,
     "metadata": {},
     "output_type": "execute_result"
    }
   ],
   "source": [
    "X_valid_full.tail()"
   ]
  },
  {
   "cell_type": "code",
   "execution_count": 11,
   "id": "02e76e35",
   "metadata": {},
   "outputs": [
    {
     "data": {
      "text/html": [
       "<div>\n",
       "<style scoped>\n",
       "    .dataframe tbody tr th:only-of-type {\n",
       "        vertical-align: middle;\n",
       "    }\n",
       "\n",
       "    .dataframe tbody tr th {\n",
       "        vertical-align: top;\n",
       "    }\n",
       "\n",
       "    .dataframe thead th {\n",
       "        text-align: right;\n",
       "    }\n",
       "</style>\n",
       "<table border=\"1\" class=\"dataframe\">\n",
       "  <thead>\n",
       "    <tr style=\"text-align: right;\">\n",
       "      <th></th>\n",
       "      <th>count</th>\n",
       "      <th>mean</th>\n",
       "      <th>min</th>\n",
       "      <th>25%</th>\n",
       "      <th>50%</th>\n",
       "      <th>75%</th>\n",
       "      <th>max</th>\n",
       "      <th>std</th>\n",
       "    </tr>\n",
       "  </thead>\n",
       "  <tbody>\n",
       "    <tr>\n",
       "      <th>Date</th>\n",
       "      <td>1287</td>\n",
       "      <td>2012-07-21 08:53:42.377622272</td>\n",
       "      <td>2012-04-13 00:00:00</td>\n",
       "      <td>2012-06-01 00:00:00</td>\n",
       "      <td>2012-07-20 00:00:00</td>\n",
       "      <td>2012-09-07 00:00:00</td>\n",
       "      <td>2012-10-26 00:00:00</td>\n",
       "      <td>NaN</td>\n",
       "    </tr>\n",
       "    <tr>\n",
       "      <th>Holiday_Flag</th>\n",
       "      <td>1287.0</td>\n",
       "      <td>0.034965</td>\n",
       "      <td>0.0</td>\n",
       "      <td>0.0</td>\n",
       "      <td>0.0</td>\n",
       "      <td>0.0</td>\n",
       "      <td>1.0</td>\n",
       "      <td>0.183763</td>\n",
       "    </tr>\n",
       "    <tr>\n",
       "      <th>Temperature</th>\n",
       "      <td>1287.0</td>\n",
       "      <td>71.594856</td>\n",
       "      <td>36.9</td>\n",
       "      <td>64.255</td>\n",
       "      <td>72.9</td>\n",
       "      <td>80.53</td>\n",
       "      <td>100.07</td>\n",
       "      <td>11.824894</td>\n",
       "    </tr>\n",
       "    <tr>\n",
       "      <th>Fuel_Price</th>\n",
       "      <td>1287.0</td>\n",
       "      <td>3.751242</td>\n",
       "      <td>3.187</td>\n",
       "      <td>3.5795</td>\n",
       "      <td>3.73</td>\n",
       "      <td>3.921</td>\n",
       "      <td>4.468</td>\n",
       "      <td>0.251284</td>\n",
       "    </tr>\n",
       "    <tr>\n",
       "      <th>CPI</th>\n",
       "      <td>1287.0</td>\n",
       "      <td>175.745581</td>\n",
       "      <td>130.683</td>\n",
       "      <td>137.923067</td>\n",
       "      <td>191.00281</td>\n",
       "      <td>221.255812</td>\n",
       "      <td>227.232807</td>\n",
       "      <td>40.792466</td>\n",
       "    </tr>\n",
       "    <tr>\n",
       "      <th>Unemployment</th>\n",
       "      <td>1287.0</td>\n",
       "      <td>7.278099</td>\n",
       "      <td>3.879</td>\n",
       "      <td>6.17</td>\n",
       "      <td>7.139</td>\n",
       "      <td>8.253</td>\n",
       "      <td>11.627</td>\n",
       "      <td>1.679838</td>\n",
       "    </tr>\n",
       "  </tbody>\n",
       "</table>\n",
       "</div>"
      ],
      "text/plain": [
       "               count                           mean                  min  \\\n",
       "Date            1287  2012-07-21 08:53:42.377622272  2012-04-13 00:00:00   \n",
       "Holiday_Flag  1287.0                       0.034965                  0.0   \n",
       "Temperature   1287.0                      71.594856                 36.9   \n",
       "Fuel_Price    1287.0                       3.751242                3.187   \n",
       "CPI           1287.0                     175.745581              130.683   \n",
       "Unemployment  1287.0                       7.278099                3.879   \n",
       "\n",
       "                              25%                  50%                  75%  \\\n",
       "Date          2012-06-01 00:00:00  2012-07-20 00:00:00  2012-09-07 00:00:00   \n",
       "Holiday_Flag                  0.0                  0.0                  0.0   \n",
       "Temperature                64.255                 72.9                80.53   \n",
       "Fuel_Price                 3.5795                 3.73                3.921   \n",
       "CPI                    137.923067            191.00281           221.255812   \n",
       "Unemployment                 6.17                7.139                8.253   \n",
       "\n",
       "                              max        std  \n",
       "Date          2012-10-26 00:00:00        NaN  \n",
       "Holiday_Flag                  1.0   0.183763  \n",
       "Temperature                100.07  11.824894  \n",
       "Fuel_Price                  4.468   0.251284  \n",
       "CPI                    227.232807  40.792466  \n",
       "Unemployment               11.627   1.679838  "
      ]
     },
     "execution_count": 11,
     "metadata": {},
     "output_type": "execute_result"
    }
   ],
   "source": [
    "X_valid_full.describe(datetime_is_numeric=True).T"
   ]
  },
  {
   "attachments": {},
   "cell_type": "markdown",
   "id": "1df7b98d",
   "metadata": {},
   "source": [
    "## RECAP: Fast Moving Consumer Goods Sales Forecast - Part II"
   ]
  },
  {
   "attachments": {},
   "cell_type": "markdown",
   "id": "8b20d1a8",
   "metadata": {},
   "source": [
    "---\n",
    "# Fast Moving Consumer Goods Sales Forecast - Part III"
   ]
  },
  {
   "attachments": {},
   "cell_type": "markdown",
   "id": "5ad50d2d",
   "metadata": {
    "papermill": {
     "duration": 0.009481,
     "end_time": "2021-11-09T00:07:51.039733",
     "exception": false,
     "start_time": "2021-11-09T00:07:51.030252",
     "status": "completed"
    },
    "tags": []
   },
   "source": [
    "In this section you will learn what a **categorical variable** is, along with three approaches for handling this type of data.\n",
    "\n",
    "# 1. Data Handling: Categorical Variables\n",
    "\n",
    "A **categorical variable** takes only a limited number of values.  \n",
    "\n",
    "- Consider a websurvey that asks an online consumer about satisfaction with a product ranging from \n",
    "    * Very satisfied\n",
    "    * Somewhat satisfied\n",
    "    * Neither satisfied nor dissatisfied\n",
    "    * Somewhat dissatisfied\n",
    "    * Very dissatisfied.  \n",
    "    \n",
    "In this case, the data is categorical, because responses fall into a fixed set of categories.\n",
    "\n",
    "- In our FMCG data, the store identifier (ID) is given by numbers ranging from 1 to 45.  In this case, the data is also categorical, when there is no numerical meaning to the ordering of the numbers.\n",
    "\n",
    "You will get an error if you try to plug these variables into most machine learning models in Python without preprocessing them first.  In this section, we'll compare three approaches that you can use to prepare your categorical data.\n",
    "\n",
    "## Three Approaches\n",
    "\n",
    "### 1) Drop Categorical Variables\n",
    "\n",
    "The easiest approach to dealing with categorical variables is to simply remove them from the dataset.  This approach will only work well if the columns did not contain useful information.\n",
    "\n",
    "### 2) Ordinal Encoding\n",
    "\n",
    "**Ordinal encoding** assigns each unique value to a different integer.\n",
    "\n",
    "![ordinalencode](https://i.imgur.com/PlXjEbC.png)\n",
    "\n",
    "This approach assumes an ordering of the categories: \"Small\" (0) < \"Medium\" (1) < \"Large\" (2) < \"Hyper\" (3).\n",
    "\n",
    "This assumption makes sense in this example, because there is an indisputable ranking to the categories.  Not all categorical variables have a clear ordering in the values, but we refer to those that do as **ordinal variables**.  For tree-based models (like decision trees and random forests), you can expect ordinal encoding to work well with ordinal variables. \n",
    "\n",
    "### 3) One-Hot Encoding\n",
    "\n",
    "**One-hot encoding** creates new columns indicating the presence (or absence) of each possible value in the original data.  To understand this, we'll work through an example.\n",
    "\n",
    "![onehot](https://i.imgur.com/tzM3nmt.png)\n",
    "\n",
    "The corresponding one-hot encoding contains one column for each possible value, and one row for each row in the original dataset.  \n",
    "\n",
    "In contrast to ordinal encoding, one-hot encoding *does not* assume an ordering of the categories.  Thus, you can expect this approach to work particularly well if there is no clear ordering in the categorical data.  We refer to categorical variables without an intrinsic ranking as **nominal variables**.\n",
    "\n",
    "One-hot encoding generally does not perform well if the categorical variable takes on a very large number of values. \n",
    "\n"
   ]
  },
  {
   "attachments": {},
   "cell_type": "markdown",
   "id": "608f13a1",
   "metadata": {},
   "source": [
    "## Example\n",
    "\n",
    "As last week, we will work with data about [weekly retail sales at Walmart stores](https://www.kaggle.com/datasets/rutuspatel/walmart-dataset-retail). \n",
    "\n",
    "We won't focus on the data loading step, since we discussed this last week. Instead, you can imagine you are at a point where you already have the training and validation data in `X_train_full`, `X_valid_full`, `y_train`, and `y_valid`, as loaded above at the top of the notebook."
   ]
  },
  {
   "cell_type": "code",
   "execution_count": 12,
   "id": "dd46a1af",
   "metadata": {
    "_kg_hide-input": true,
    "_kg_hide-output": true,
    "execution": {
     "iopub.execute_input": "2021-11-09T00:07:51.066177Z",
     "iopub.status.busy": "2021-11-09T00:07:51.065530Z",
     "iopub.status.idle": "2021-11-09T00:07:52.127245Z",
     "shell.execute_reply": "2021-11-09T00:07:52.127752Z"
    },
    "papermill": {
     "duration": 1.079517,
     "end_time": "2021-11-09T00:07:52.128076",
     "exception": false,
     "start_time": "2021-11-09T00:07:51.048559",
     "status": "completed"
    },
    "tags": []
   },
   "outputs": [],
   "source": [
    "# Drop columns with missing values (simplest approach)\n",
    "cols_with_missing = [col for col in X_train_full.columns if X_train_full[col].isnull().any()] \n",
    "X_train_full.drop(cols_with_missing, axis=1, inplace=True)\n",
    "X_valid_full.drop(cols_with_missing, axis=1, inplace=True)\n",
    "\n",
    "# Select categorical columns\n",
    "categorical_cols = [cname for cname in X_train_full.select_dtypes('category')]\n",
    "\n",
    "# Select numerical columns\n",
    "numerical_cols = [cname for cname in X_train_full.select_dtypes(['int64', 'float64'])]\n",
    "\n",
    "# Keep selected columns only\n",
    "my_cols = categorical_cols + numerical_cols\n",
    "X_train = X_train_full[my_cols].copy()\n",
    "X_valid = X_valid_full[my_cols].copy()\n"
   ]
  },
  {
   "cell_type": "code",
   "execution_count": 13,
   "id": "ce680993",
   "metadata": {},
   "outputs": [
    {
     "name": "stdout",
     "output_type": "stream",
     "text": [
      "<class 'pandas.core.frame.DataFrame'>\n",
      "Int64Index: 5148 entries, 0 to 2545\n",
      "Data columns (total 6 columns):\n",
      " #   Column        Non-Null Count  Dtype   \n",
      "---  ------        --------------  -----   \n",
      " 0   Store         5148 non-null   category\n",
      " 1   Holiday_Flag  5148 non-null   int64   \n",
      " 2   Temperature   5148 non-null   float64 \n",
      " 3   Fuel_Price    5148 non-null   float64 \n",
      " 4   CPI           5148 non-null   float64 \n",
      " 5   Unemployment  5148 non-null   float64 \n",
      "dtypes: category(1), float64(4), int64(1)\n",
      "memory usage: 247.7 KB\n"
     ]
    }
   ],
   "source": [
    "X_train.info()"
   ]
  },
  {
   "cell_type": "code",
   "execution_count": 14,
   "id": "0b693cc1",
   "metadata": {},
   "outputs": [
    {
     "name": "stdout",
     "output_type": "stream",
     "text": [
      "<class 'pandas.core.frame.DataFrame'>\n",
      "Int64Index: 1287 entries, 2688 to 6434\n",
      "Data columns (total 6 columns):\n",
      " #   Column        Non-Null Count  Dtype   \n",
      "---  ------        --------------  -----   \n",
      " 0   Store         1287 non-null   category\n",
      " 1   Holiday_Flag  1287 non-null   int64   \n",
      " 2   Temperature   1287 non-null   float64 \n",
      " 3   Fuel_Price    1287 non-null   float64 \n",
      " 4   CPI           1287 non-null   float64 \n",
      " 5   Unemployment  1287 non-null   float64 \n",
      "dtypes: category(1), float64(4), int64(1)\n",
      "memory usage: 63.0 KB\n"
     ]
    }
   ],
   "source": [
    "X_valid.info()"
   ]
  },
  {
   "cell_type": "markdown",
   "id": "589827d0",
   "metadata": {
    "papermill": {
     "duration": 0.008374,
     "end_time": "2021-11-09T00:07:52.145604",
     "exception": false,
     "start_time": "2021-11-09T00:07:52.137230",
     "status": "completed"
    },
    "tags": []
   },
   "source": [
    "We take a peek at the training data with the `head()` method below. "
   ]
  },
  {
   "cell_type": "code",
   "execution_count": 15,
   "id": "b655f617",
   "metadata": {
    "execution": {
     "iopub.execute_input": "2021-11-09T00:07:52.173217Z",
     "iopub.status.busy": "2021-11-09T00:07:52.172222Z",
     "iopub.status.idle": "2021-11-09T00:07:52.192170Z",
     "shell.execute_reply": "2021-11-09T00:07:52.192587Z"
    },
    "papermill": {
     "duration": 0.035992,
     "end_time": "2021-11-09T00:07:52.192753",
     "exception": false,
     "start_time": "2021-11-09T00:07:52.156761",
     "status": "completed"
    },
    "tags": []
   },
   "outputs": [
    {
     "data": {
      "text/html": [
       "<div>\n",
       "<style scoped>\n",
       "    .dataframe tbody tr th:only-of-type {\n",
       "        vertical-align: middle;\n",
       "    }\n",
       "\n",
       "    .dataframe tbody tr th {\n",
       "        vertical-align: top;\n",
       "    }\n",
       "\n",
       "    .dataframe thead th {\n",
       "        text-align: right;\n",
       "    }\n",
       "</style>\n",
       "<table border=\"1\" class=\"dataframe\">\n",
       "  <thead>\n",
       "    <tr style=\"text-align: right;\">\n",
       "      <th></th>\n",
       "      <th>Store</th>\n",
       "      <th>Holiday_Flag</th>\n",
       "      <th>Temperature</th>\n",
       "      <th>Fuel_Price</th>\n",
       "      <th>CPI</th>\n",
       "      <th>Unemployment</th>\n",
       "    </tr>\n",
       "  </thead>\n",
       "  <tbody>\n",
       "    <tr>\n",
       "      <th>0</th>\n",
       "      <td>1</td>\n",
       "      <td>0</td>\n",
       "      <td>42.31</td>\n",
       "      <td>2.572</td>\n",
       "      <td>211.096358</td>\n",
       "      <td>8.106</td>\n",
       "    </tr>\n",
       "    <tr>\n",
       "      <th>143</th>\n",
       "      <td>2</td>\n",
       "      <td>0</td>\n",
       "      <td>40.19</td>\n",
       "      <td>2.572</td>\n",
       "      <td>210.752605</td>\n",
       "      <td>8.324</td>\n",
       "    </tr>\n",
       "    <tr>\n",
       "      <th>286</th>\n",
       "      <td>3</td>\n",
       "      <td>0</td>\n",
       "      <td>45.71</td>\n",
       "      <td>2.572</td>\n",
       "      <td>214.424881</td>\n",
       "      <td>7.368</td>\n",
       "    </tr>\n",
       "    <tr>\n",
       "      <th>429</th>\n",
       "      <td>4</td>\n",
       "      <td>0</td>\n",
       "      <td>43.76</td>\n",
       "      <td>2.598</td>\n",
       "      <td>126.442065</td>\n",
       "      <td>8.623</td>\n",
       "    </tr>\n",
       "    <tr>\n",
       "      <th>572</th>\n",
       "      <td>5</td>\n",
       "      <td>0</td>\n",
       "      <td>39.70</td>\n",
       "      <td>2.572</td>\n",
       "      <td>211.653972</td>\n",
       "      <td>6.566</td>\n",
       "    </tr>\n",
       "  </tbody>\n",
       "</table>\n",
       "</div>"
      ],
      "text/plain": [
       "    Store  Holiday_Flag  Temperature  Fuel_Price         CPI  Unemployment\n",
       "0       1             0        42.31       2.572  211.096358         8.106\n",
       "143     2             0        40.19       2.572  210.752605         8.324\n",
       "286     3             0        45.71       2.572  214.424881         7.368\n",
       "429     4             0        43.76       2.598  126.442065         8.623\n",
       "572     5             0        39.70       2.572  211.653972         6.566"
      ]
     },
     "execution_count": 15,
     "metadata": {},
     "output_type": "execute_result"
    }
   ],
   "source": [
    "X_train.head()"
   ]
  },
  {
   "cell_type": "markdown",
   "id": "88d9e1ee",
   "metadata": {
    "papermill": {
     "duration": 0.009386,
     "end_time": "2021-11-09T00:07:52.258106",
     "exception": false,
     "start_time": "2021-11-09T00:07:52.248720",
     "status": "completed"
    },
    "tags": []
   },
   "source": [
    "### Define Function to Measure Quality of Each Approach\n",
    "\n",
    "We define a function `score_dataset()` to compare the three different approaches to dealing with categorical variables. This function reports the [mean absolute error](https://en.wikipedia.org/wiki/Mean_absolute_error) (MAE) from a random forest model.  In general, we want the MAE to be as low as possible!"
   ]
  },
  {
   "cell_type": "code",
   "execution_count": 16,
   "id": "647dcba4",
   "metadata": {
    "_kg_hide-input": true,
    "_kg_hide-output": true,
    "execution": {
     "iopub.execute_input": "2021-11-09T00:07:52.282938Z",
     "iopub.status.busy": "2021-11-09T00:07:52.282153Z",
     "iopub.status.idle": "2021-11-09T00:07:52.578355Z",
     "shell.execute_reply": "2021-11-09T00:07:52.578822Z"
    },
    "papermill": {
     "duration": 0.311389,
     "end_time": "2021-11-09T00:07:52.579025",
     "exception": false,
     "start_time": "2021-11-09T00:07:52.267636",
     "status": "completed"
    },
    "tags": []
   },
   "outputs": [],
   "source": [
    "#from sklearn.ensemble import RandomForestRegressor # --> DONE UPFRONT (see top section \"Setting Up the Workspace\")\n",
    "#from sklearn.metrics import mean_absolute_error # --> DONE UPFRONT (see top section \"Setting Up the Workspace\")\n",
    "\n",
    "# Function for comparing different approaches\n",
    "def score_dataset(X_train, X_valid, y_train, y_valid):\n",
    "    model = RandomForestRegressor(n_estimators=100, random_state=0)\n",
    "    model.fit(X_train, y_train)\n",
    "    preds = model.predict(X_valid)\n",
    "    return mean_absolute_error(y_valid, preds)"
   ]
  },
  {
   "attachments": {},
   "cell_type": "markdown",
   "id": "dae50387",
   "metadata": {
    "papermill": {
     "duration": 0.009425,
     "end_time": "2021-11-09T00:07:52.598194",
     "exception": false,
     "start_time": "2021-11-09T00:07:52.588769",
     "status": "completed"
    },
    "tags": []
   },
   "source": [
    "### Score from Approach 1: Drop Categorical Variables\n",
    "\n",
    "We drop the `object` columns with the [`select_dtypes()`](https://pandas.pydata.org/pandas-docs/stable/reference/api/pandas.DataFrame.select_dtypes.html) method. "
   ]
  },
  {
   "cell_type": "code",
   "execution_count": 17,
   "id": "b47d0827",
   "metadata": {
    "_kg_hide-input": false,
    "execution": {
     "iopub.execute_input": "2021-11-09T00:07:52.620651Z",
     "iopub.status.busy": "2021-11-09T00:07:52.620043Z",
     "iopub.status.idle": "2021-11-09T00:07:57.892167Z",
     "shell.execute_reply": "2021-11-09T00:07:57.891641Z"
    },
    "papermill": {
     "duration": 5.284482,
     "end_time": "2021-11-09T00:07:57.892313",
     "exception": false,
     "start_time": "2021-11-09T00:07:52.607831",
     "status": "completed"
    },
    "tags": []
   },
   "outputs": [
    {
     "name": "stdout",
     "output_type": "stream",
     "text": [
      "MAE from Approach 1 (Drop categorical variables):\n",
      "440064.5559917593\n"
     ]
    }
   ],
   "source": [
    "drop_X_train = X_train.drop(categorical_cols, axis=1)\n",
    "drop_X_valid = X_valid.drop(categorical_cols, axis=1)\n",
    "\n",
    "print(\"MAE from Approach 1 (Drop categorical variables):\")\n",
    "print(score_dataset(drop_X_train, drop_X_valid, y_train, y_valid))"
   ]
  },
  {
   "attachments": {},
   "cell_type": "markdown",
   "id": "c5dc5ca9",
   "metadata": {
    "papermill": {
     "duration": 0.010004,
     "end_time": "2021-11-09T00:07:57.912598",
     "exception": false,
     "start_time": "2021-11-09T00:07:57.902594",
     "status": "completed"
    },
    "tags": []
   },
   "source": [
    "### Score from Approach 2: Ordinal Encoding\n",
    "\n",
    "Scikit-learn has a [`OrdinalEncoder`](https://scikit-learn.org/stable/modules/generated/sklearn.preprocessing.OrdinalEncoder.html) class that can be used to get ordinal encodings.  We loop over the categorical variables and apply the ordinal encoder separately to each column."
   ]
  },
  {
   "cell_type": "code",
   "execution_count": 18,
   "id": "b628422f",
   "metadata": {
    "execution": {
     "iopub.execute_input": "2021-11-09T00:07:57.936829Z",
     "iopub.status.busy": "2021-11-09T00:07:57.936211Z",
     "iopub.status.idle": "2021-11-09T00:08:03.746193Z",
     "shell.execute_reply": "2021-11-09T00:08:03.746673Z"
    },
    "papermill": {
     "duration": 5.823958,
     "end_time": "2021-11-09T00:08:03.746838",
     "exception": false,
     "start_time": "2021-11-09T00:07:57.922880",
     "status": "completed"
    },
    "tags": []
   },
   "outputs": [
    {
     "name": "stdout",
     "output_type": "stream",
     "text": [
      "MAE from Approach 2 (Ordinal Encoding):\n",
      "102223.73129355072\n"
     ]
    }
   ],
   "source": [
    "#from sklearn.preprocessing import OrdinalEncoder # --> DONE UPFRONT (see top section \"Setting Up the Workspace\")\n",
    "\n",
    "# Make copy to avoid changing original data \n",
    "ordinal_X_train = X_train.copy()\n",
    "ordinal_X_valid = X_valid.copy()\n",
    "\n",
    "# Apply ordinal encoder to each column with categorical data\n",
    "ordinal_encoder = OrdinalEncoder(categories=[list(walmart_data.Store.unique())])\n",
    "ordinal_X_train[categorical_cols] = ordinal_encoder.fit_transform(X_train[categorical_cols])\n",
    "ordinal_X_valid[categorical_cols] = ordinal_encoder.transform(X_valid[categorical_cols])\n",
    "\n",
    "print(\"MAE from Approach 2 (Ordinal Encoding):\") \n",
    "print(score_dataset(ordinal_X_train, ordinal_X_valid, y_train, y_valid))"
   ]
  },
  {
   "cell_type": "code",
   "execution_count": 19,
   "id": "2ca835b1",
   "metadata": {},
   "outputs": [
    {
     "data": {
      "text/html": [
       "<div>\n",
       "<style scoped>\n",
       "    .dataframe tbody tr th:only-of-type {\n",
       "        vertical-align: middle;\n",
       "    }\n",
       "\n",
       "    .dataframe tbody tr th {\n",
       "        vertical-align: top;\n",
       "    }\n",
       "\n",
       "    .dataframe thead th {\n",
       "        text-align: right;\n",
       "    }\n",
       "</style>\n",
       "<table border=\"1\" class=\"dataframe\">\n",
       "  <thead>\n",
       "    <tr style=\"text-align: right;\">\n",
       "      <th></th>\n",
       "      <th>Store</th>\n",
       "      <th>Holiday_Flag</th>\n",
       "      <th>Temperature</th>\n",
       "      <th>Fuel_Price</th>\n",
       "      <th>CPI</th>\n",
       "      <th>Unemployment</th>\n",
       "    </tr>\n",
       "  </thead>\n",
       "  <tbody>\n",
       "    <tr>\n",
       "      <th>0</th>\n",
       "      <td>0.0</td>\n",
       "      <td>0</td>\n",
       "      <td>42.31</td>\n",
       "      <td>2.572</td>\n",
       "      <td>211.096358</td>\n",
       "      <td>8.106</td>\n",
       "    </tr>\n",
       "    <tr>\n",
       "      <th>143</th>\n",
       "      <td>1.0</td>\n",
       "      <td>0</td>\n",
       "      <td>40.19</td>\n",
       "      <td>2.572</td>\n",
       "      <td>210.752605</td>\n",
       "      <td>8.324</td>\n",
       "    </tr>\n",
       "    <tr>\n",
       "      <th>286</th>\n",
       "      <td>2.0</td>\n",
       "      <td>0</td>\n",
       "      <td>45.71</td>\n",
       "      <td>2.572</td>\n",
       "      <td>214.424881</td>\n",
       "      <td>7.368</td>\n",
       "    </tr>\n",
       "    <tr>\n",
       "      <th>429</th>\n",
       "      <td>3.0</td>\n",
       "      <td>0</td>\n",
       "      <td>43.76</td>\n",
       "      <td>2.598</td>\n",
       "      <td>126.442065</td>\n",
       "      <td>8.623</td>\n",
       "    </tr>\n",
       "    <tr>\n",
       "      <th>572</th>\n",
       "      <td>4.0</td>\n",
       "      <td>0</td>\n",
       "      <td>39.70</td>\n",
       "      <td>2.572</td>\n",
       "      <td>211.653972</td>\n",
       "      <td>6.566</td>\n",
       "    </tr>\n",
       "  </tbody>\n",
       "</table>\n",
       "</div>"
      ],
      "text/plain": [
       "     Store  Holiday_Flag  Temperature  Fuel_Price         CPI  Unemployment\n",
       "0      0.0             0        42.31       2.572  211.096358         8.106\n",
       "143    1.0             0        40.19       2.572  210.752605         8.324\n",
       "286    2.0             0        45.71       2.572  214.424881         7.368\n",
       "429    3.0             0        43.76       2.598  126.442065         8.623\n",
       "572    4.0             0        39.70       2.572  211.653972         6.566"
      ]
     },
     "execution_count": 19,
     "metadata": {},
     "output_type": "execute_result"
    }
   ],
   "source": [
    "ordinal_X_train.head()"
   ]
  },
  {
   "attachments": {},
   "cell_type": "markdown",
   "id": "b4454ec6",
   "metadata": {
    "papermill": {
     "duration": 0.010401,
     "end_time": "2021-11-09T00:08:03.768019",
     "exception": false,
     "start_time": "2021-11-09T00:08:03.757618",
     "status": "completed"
    },
    "tags": []
   },
   "source": [
    "In the code cell above, for each column, we randomly assign each unique value to a different integer.  This is a common approach that is simpler than providing custom labels; however, we can expect an additional boost in performance if we provide better-informed labels for all ordinal variables.\n",
    "\n",
    "### Score from Approach 3: One-Hot Encoding\n",
    "\n",
    "We use the [`OneHotEncoder`](https://scikit-learn.org/stable/modules/generated/sklearn.preprocessing.OneHotEncoder.html) class from scikit-learn to get one-hot encodings.  There are a number of parameters that can be used to customize its behavior.  \n",
    "- We set `handle_unknown='ignore'` to avoid errors when the validation data contains classes that aren't represented in the training data, and\n",
    "- setting `sparse=False` ensures that the encoded columns are returned as a numpy array (instead of a sparse matrix).\n",
    "\n",
    "To use the encoder, we supply only the categorical columns that we want to be one-hot encoded.  For instance, to encode the training data, we supply `X_train[object_cols]`. (`object_cols` in the code cell below is a list of the column names with categorical data, and so `X_train[object_cols]` contains all of the categorical data in the training set.)"
   ]
  },
  {
   "cell_type": "code",
   "execution_count": 20,
   "id": "59919464",
   "metadata": {
    "execution": {
     "iopub.execute_input": "2021-11-09T00:08:03.794016Z",
     "iopub.status.busy": "2021-11-09T00:08:03.793054Z",
     "iopub.status.idle": "2021-11-09T00:08:10.396733Z",
     "shell.execute_reply": "2021-11-09T00:08:10.395753Z"
    },
    "papermill": {
     "duration": 6.618214,
     "end_time": "2021-11-09T00:08:10.396882",
     "exception": false,
     "start_time": "2021-11-09T00:08:03.778668",
     "status": "completed"
    },
    "tags": []
   },
   "outputs": [
    {
     "name": "stdout",
     "output_type": "stream",
     "text": [
      "MAE from Approach 3 (One-Hot Encoding):\n",
      "90743.75075244748\n"
     ]
    }
   ],
   "source": [
    "#from sklearn.preprocessing import OneHotEncoder # --> DONE UPFRONT (see top section \"Setting Up the Workspace\")\n",
    "\n",
    "# Apply one-hot encoder to each column with categorical data\n",
    "#OH_encoder = OneHotEncoder(handle_unknown='ignore', sparse=False)\n",
    "OH_encoder = OneHotEncoder(handle_unknown='error', sparse=False)\n",
    "OH_cols_train = pd.DataFrame(OH_encoder.fit_transform(X_train[categorical_cols]))\n",
    "OH_cols_valid = pd.DataFrame(OH_encoder.transform(X_valid[categorical_cols]))\n",
    "\n",
    "# One-hot encoding removed index; put it back\n",
    "OH_cols_train.index = X_train.index\n",
    "OH_cols_valid.index = X_valid.index\n",
    "\n",
    "# Remove categorical columns (will replace with one-hot encoding)\n",
    "num_X_train = X_train.drop(categorical_cols, axis=1)\n",
    "num_X_valid = X_valid.drop(categorical_cols, axis=1)\n",
    "\n",
    "# Add one-hot encoded columns to numerical features\n",
    "OH_X_train = pd.concat([OH_cols_train, num_X_train], axis=1)\n",
    "OH_X_valid = pd.concat([OH_cols_valid, num_X_valid], axis=1)\n",
    "\n",
    "print(\"MAE from Approach 3 (One-Hot Encoding):\") \n",
    "print(score_dataset(OH_X_train.values, OH_X_valid.values, y_train.values, y_valid.values))"
   ]
  },
  {
   "attachments": {},
   "cell_type": "markdown",
   "id": "d6e53009",
   "metadata": {
    "papermill": {
     "duration": 0.011181,
     "end_time": "2021-11-09T00:08:10.419699",
     "exception": false,
     "start_time": "2021-11-09T00:08:10.408518",
     "status": "completed"
    },
    "tags": []
   },
   "source": [
    "### Which approach is best?\n",
    "\n",
    "In this case, dropping the categorical columns (**Approach 1**) performed worst, since it had the highest MAE score.  As for the other two approaches, since the returned MAE scores are so close in value, there doesn't appear to be any meaningful benefit to one over the other.\n",
    "\n",
    "In general, one-hot encoding (**Approach 3**) will typically perform best, and dropping the categorical columns (**Approach 1**) typically performs worst, but it varies on a case-by-case basis. \n",
    "\n",
    "## Take-away: Categorical Data\n",
    "\n",
    "*The world is filled with categorical data. You will be a much more effective data scientist if you know how to use this common data type!*"
   ]
  },
  {
   "attachments": {},
   "cell_type": "markdown",
   "id": "53338e45",
   "metadata": {
    "papermill": {
     "duration": 0.009576,
     "end_time": "2021-11-09T00:06:18.488649",
     "exception": false,
     "start_time": "2021-11-09T00:06:18.479073",
     "status": "completed"
    },
    "tags": []
   },
   "source": [
    "---\n",
    "In this section, you will learn how to use **pipelines** to clean up your modeling code.\n",
    "\n",
    "# 2. Pipelines\n",
    "\n",
    "**Pipelines** are a simple way to keep your data preprocessing and modeling code organized.  Specifically, a pipeline bundles preprocessing and modeling steps so you can use the whole bundle as if it were a single step.\n",
    "\n",
    "Many data scientists hack together models without pipelines, but pipelines have some important benefits. Those include:\n",
    "1. **Cleaner Code:** Accounting for data at each step of preprocessing can get messy.  With a pipeline, you won't need to manually keep track of your training and validation data at each step.\n",
    "2. **Fewer Bugs:** There are fewer opportunities to misapply a step or forget a preprocessing step.\n",
    "3. **Easier to Productionize:** It can be surprisingly hard to transition a model from a prototype to something deployable at scale.  We won't go into the many related concerns here, but pipelines can help.\n",
    "4. **More Options for Model Validation:** You will see an example in the next section, which covers cross-validation.\n",
    "\n",
    "## Example\n",
    "\n",
    "As in the previous week, we will work with the Walmart data.  \n",
    "\n",
    "We won't focus on the data loading step. Instead, you can imagine you are at a point where you already have the training and validation data in `X_train`, `X_valid`, `y_train`, and `y_valid`. "
   ]
  },
  {
   "cell_type": "code",
   "execution_count": 21,
   "id": "ee8c3b88",
   "metadata": {},
   "outputs": [
    {
     "data": {
      "text/plain": [
       "Store                 category\n",
       "Date            datetime64[ns]\n",
       "Weekly_Sales           float64\n",
       "Holiday_Flag             int64\n",
       "Temperature            float64\n",
       "Fuel_Price             float64\n",
       "CPI                    float64\n",
       "Unemployment           float64\n",
       "dtype: object"
      ]
     },
     "execution_count": 21,
     "metadata": {},
     "output_type": "execute_result"
    }
   ],
   "source": [
    "walmart_data.dtypes"
   ]
  },
  {
   "cell_type": "code",
   "execution_count": 22,
   "id": "f51ad3a8",
   "metadata": {},
   "outputs": [
    {
     "data": {
      "text/plain": [
       "count    5.148000e+03\n",
       "mean     1.049825e+06\n",
       "std      5.721647e+05\n",
       "min      2.099862e+05\n",
       "25%      5.516958e+05\n",
       "50%      9.572268e+05\n",
       "75%      1.417949e+06\n",
       "max      3.818686e+06\n",
       "Name: Weekly_Sales, dtype: float64"
      ]
     },
     "execution_count": 22,
     "metadata": {},
     "output_type": "execute_result"
    }
   ],
   "source": [
    "y_train.describe()"
   ]
  },
  {
   "attachments": {},
   "cell_type": "markdown",
   "id": "a84f30c8",
   "metadata": {
    "papermill": {
     "duration": 0.008183,
     "end_time": "2021-11-09T00:06:19.608098",
     "exception": false,
     "start_time": "2021-11-09T00:06:19.599915",
     "status": "completed"
    },
    "tags": []
   },
   "source": [
    "We take a peek at the training data with the `head()` method below.  Notice that the data contains categorical data.  With a pipeline, it's easy to deal with this!"
   ]
  },
  {
   "cell_type": "code",
   "execution_count": 23,
   "id": "b7d66328",
   "metadata": {
    "execution": {
     "iopub.execute_input": "2021-11-09T00:06:19.634586Z",
     "iopub.status.busy": "2021-11-09T00:06:19.633901Z",
     "iopub.status.idle": "2021-11-09T00:06:19.657743Z",
     "shell.execute_reply": "2021-11-09T00:06:19.658279Z"
    },
    "papermill": {
     "duration": 0.04186,
     "end_time": "2021-11-09T00:06:19.658453",
     "exception": false,
     "start_time": "2021-11-09T00:06:19.616593",
     "status": "completed"
    },
    "tags": []
   },
   "outputs": [
    {
     "data": {
      "text/html": [
       "<div>\n",
       "<style scoped>\n",
       "    .dataframe tbody tr th:only-of-type {\n",
       "        vertical-align: middle;\n",
       "    }\n",
       "\n",
       "    .dataframe tbody tr th {\n",
       "        vertical-align: top;\n",
       "    }\n",
       "\n",
       "    .dataframe thead th {\n",
       "        text-align: right;\n",
       "    }\n",
       "</style>\n",
       "<table border=\"1\" class=\"dataframe\">\n",
       "  <thead>\n",
       "    <tr style=\"text-align: right;\">\n",
       "      <th></th>\n",
       "      <th>Store</th>\n",
       "      <th>Holiday_Flag</th>\n",
       "      <th>Temperature</th>\n",
       "      <th>Fuel_Price</th>\n",
       "      <th>CPI</th>\n",
       "      <th>Unemployment</th>\n",
       "    </tr>\n",
       "  </thead>\n",
       "  <tbody>\n",
       "    <tr>\n",
       "      <th>0</th>\n",
       "      <td>1</td>\n",
       "      <td>0</td>\n",
       "      <td>42.31</td>\n",
       "      <td>2.572</td>\n",
       "      <td>211.096358</td>\n",
       "      <td>8.106</td>\n",
       "    </tr>\n",
       "    <tr>\n",
       "      <th>143</th>\n",
       "      <td>2</td>\n",
       "      <td>0</td>\n",
       "      <td>40.19</td>\n",
       "      <td>2.572</td>\n",
       "      <td>210.752605</td>\n",
       "      <td>8.324</td>\n",
       "    </tr>\n",
       "    <tr>\n",
       "      <th>286</th>\n",
       "      <td>3</td>\n",
       "      <td>0</td>\n",
       "      <td>45.71</td>\n",
       "      <td>2.572</td>\n",
       "      <td>214.424881</td>\n",
       "      <td>7.368</td>\n",
       "    </tr>\n",
       "    <tr>\n",
       "      <th>429</th>\n",
       "      <td>4</td>\n",
       "      <td>0</td>\n",
       "      <td>43.76</td>\n",
       "      <td>2.598</td>\n",
       "      <td>126.442065</td>\n",
       "      <td>8.623</td>\n",
       "    </tr>\n",
       "    <tr>\n",
       "      <th>572</th>\n",
       "      <td>5</td>\n",
       "      <td>0</td>\n",
       "      <td>39.70</td>\n",
       "      <td>2.572</td>\n",
       "      <td>211.653972</td>\n",
       "      <td>6.566</td>\n",
       "    </tr>\n",
       "  </tbody>\n",
       "</table>\n",
       "</div>"
      ],
      "text/plain": [
       "    Store  Holiday_Flag  Temperature  Fuel_Price         CPI  Unemployment\n",
       "0       1             0        42.31       2.572  211.096358         8.106\n",
       "143     2             0        40.19       2.572  210.752605         8.324\n",
       "286     3             0        45.71       2.572  214.424881         7.368\n",
       "429     4             0        43.76       2.598  126.442065         8.623\n",
       "572     5             0        39.70       2.572  211.653972         6.566"
      ]
     },
     "execution_count": 23,
     "metadata": {},
     "output_type": "execute_result"
    }
   ],
   "source": [
    "X_train.head()"
   ]
  },
  {
   "attachments": {},
   "cell_type": "markdown",
   "id": "a7830b4f",
   "metadata": {
    "papermill": {
     "duration": 0.009022,
     "end_time": "2021-11-09T00:06:19.676872",
     "exception": false,
     "start_time": "2021-11-09T00:06:19.667850",
     "status": "completed"
    },
    "tags": []
   },
   "source": [
    "We construct the full pipeline in three steps.\n",
    "\n",
    "### Step 1: Define Preprocessing Steps\n",
    "\n",
    "Similar to how a pipeline bundles together preprocessing and modeling steps, we use the `ColumnTransformer` class to bundle together different preprocessing steps.  The code below:\n",
    "- imputes missing values and applies scaling to **_numerical_** data  \n",
    "- imputes missing values and applies a one-hot encoding to **_categorical_** data."
   ]
  },
  {
   "cell_type": "code",
   "execution_count": 24,
   "id": "8a14be77",
   "metadata": {
    "execution": {
     "iopub.execute_input": "2021-11-09T00:06:19.698346Z",
     "iopub.status.busy": "2021-11-09T00:06:19.697637Z",
     "iopub.status.idle": "2021-11-09T00:06:19.856215Z",
     "shell.execute_reply": "2021-11-09T00:06:19.855636Z"
    },
    "papermill": {
     "duration": 0.170293,
     "end_time": "2021-11-09T00:06:19.856368",
     "exception": false,
     "start_time": "2021-11-09T00:06:19.686075",
     "status": "completed"
    },
    "tags": []
   },
   "outputs": [
    {
     "data": {
      "text/html": [
       "<style>#sk-1bb4cc5c-c491-41c9-b221-870453eadf58 {color: black;background-color: white;}#sk-1bb4cc5c-c491-41c9-b221-870453eadf58 pre{padding: 0;}#sk-1bb4cc5c-c491-41c9-b221-870453eadf58 div.sk-toggleable {background-color: white;}#sk-1bb4cc5c-c491-41c9-b221-870453eadf58 label.sk-toggleable__label {cursor: pointer;display: block;width: 100%;margin-bottom: 0;padding: 0.3em;box-sizing: border-box;text-align: center;}#sk-1bb4cc5c-c491-41c9-b221-870453eadf58 label.sk-toggleable__label-arrow:before {content: \"▸\";float: left;margin-right: 0.25em;color: #696969;}#sk-1bb4cc5c-c491-41c9-b221-870453eadf58 label.sk-toggleable__label-arrow:hover:before {color: black;}#sk-1bb4cc5c-c491-41c9-b221-870453eadf58 div.sk-estimator:hover label.sk-toggleable__label-arrow:before {color: black;}#sk-1bb4cc5c-c491-41c9-b221-870453eadf58 div.sk-toggleable__content {max-height: 0;max-width: 0;overflow: hidden;text-align: left;background-color: #f0f8ff;}#sk-1bb4cc5c-c491-41c9-b221-870453eadf58 div.sk-toggleable__content pre {margin: 0.2em;color: black;border-radius: 0.25em;background-color: #f0f8ff;}#sk-1bb4cc5c-c491-41c9-b221-870453eadf58 input.sk-toggleable__control:checked~div.sk-toggleable__content {max-height: 200px;max-width: 100%;overflow: auto;}#sk-1bb4cc5c-c491-41c9-b221-870453eadf58 input.sk-toggleable__control:checked~label.sk-toggleable__label-arrow:before {content: \"▾\";}#sk-1bb4cc5c-c491-41c9-b221-870453eadf58 div.sk-estimator input.sk-toggleable__control:checked~label.sk-toggleable__label {background-color: #d4ebff;}#sk-1bb4cc5c-c491-41c9-b221-870453eadf58 div.sk-label input.sk-toggleable__control:checked~label.sk-toggleable__label {background-color: #d4ebff;}#sk-1bb4cc5c-c491-41c9-b221-870453eadf58 input.sk-hidden--visually {border: 0;clip: rect(1px 1px 1px 1px);clip: rect(1px, 1px, 1px, 1px);height: 1px;margin: -1px;overflow: hidden;padding: 0;position: absolute;width: 1px;}#sk-1bb4cc5c-c491-41c9-b221-870453eadf58 div.sk-estimator {font-family: monospace;background-color: #f0f8ff;border: 1px dotted black;border-radius: 0.25em;box-sizing: border-box;margin-bottom: 0.5em;}#sk-1bb4cc5c-c491-41c9-b221-870453eadf58 div.sk-estimator:hover {background-color: #d4ebff;}#sk-1bb4cc5c-c491-41c9-b221-870453eadf58 div.sk-parallel-item::after {content: \"\";width: 100%;border-bottom: 1px solid gray;flex-grow: 1;}#sk-1bb4cc5c-c491-41c9-b221-870453eadf58 div.sk-label:hover label.sk-toggleable__label {background-color: #d4ebff;}#sk-1bb4cc5c-c491-41c9-b221-870453eadf58 div.sk-serial::before {content: \"\";position: absolute;border-left: 1px solid gray;box-sizing: border-box;top: 2em;bottom: 0;left: 50%;}#sk-1bb4cc5c-c491-41c9-b221-870453eadf58 div.sk-serial {display: flex;flex-direction: column;align-items: center;background-color: white;padding-right: 0.2em;padding-left: 0.2em;}#sk-1bb4cc5c-c491-41c9-b221-870453eadf58 div.sk-item {z-index: 1;}#sk-1bb4cc5c-c491-41c9-b221-870453eadf58 div.sk-parallel {display: flex;align-items: stretch;justify-content: center;background-color: white;}#sk-1bb4cc5c-c491-41c9-b221-870453eadf58 div.sk-parallel::before {content: \"\";position: absolute;border-left: 1px solid gray;box-sizing: border-box;top: 2em;bottom: 0;left: 50%;}#sk-1bb4cc5c-c491-41c9-b221-870453eadf58 div.sk-parallel-item {display: flex;flex-direction: column;position: relative;background-color: white;}#sk-1bb4cc5c-c491-41c9-b221-870453eadf58 div.sk-parallel-item:first-child::after {align-self: flex-end;width: 50%;}#sk-1bb4cc5c-c491-41c9-b221-870453eadf58 div.sk-parallel-item:last-child::after {align-self: flex-start;width: 50%;}#sk-1bb4cc5c-c491-41c9-b221-870453eadf58 div.sk-parallel-item:only-child::after {width: 0;}#sk-1bb4cc5c-c491-41c9-b221-870453eadf58 div.sk-dashed-wrapped {border: 1px dashed gray;margin: 0 0.4em 0.5em 0.4em;box-sizing: border-box;padding-bottom: 0.4em;background-color: white;position: relative;}#sk-1bb4cc5c-c491-41c9-b221-870453eadf58 div.sk-label label {font-family: monospace;font-weight: bold;background-color: white;display: inline-block;line-height: 1.2em;}#sk-1bb4cc5c-c491-41c9-b221-870453eadf58 div.sk-label-container {position: relative;z-index: 2;text-align: center;}#sk-1bb4cc5c-c491-41c9-b221-870453eadf58 div.sk-container {/* jupyter's `normalize.less` sets `[hidden] { display: none; }` but bootstrap.min.css set `[hidden] { display: none !important; }` so we also need the `!important` here to be able to override the default hidden behavior on the sphinx rendered scikit-learn.org. See: https://github.com/scikit-learn/scikit-learn/issues/21755 */display: inline-block !important;position: relative;}#sk-1bb4cc5c-c491-41c9-b221-870453eadf58 div.sk-text-repr-fallback {display: none;}</style><div id=\"sk-1bb4cc5c-c491-41c9-b221-870453eadf58\" class=\"sk-top-container\"><div class=\"sk-text-repr-fallback\"><pre>Pipeline(steps=[(&#x27;onehot&#x27;, OneHotEncoder(sparse=False))])</pre><b>Please rerun this cell to show the HTML repr or trust the notebook.</b></div><div class=\"sk-container\" hidden><div class=\"sk-item sk-dashed-wrapped\"><div class=\"sk-label-container\"><div class=\"sk-label sk-toggleable\"><input class=\"sk-toggleable__control sk-hidden--visually\" id=\"67bcea95-5f93-481d-85c8-1fccdc18bf74\" type=\"checkbox\" ><label for=\"67bcea95-5f93-481d-85c8-1fccdc18bf74\" class=\"sk-toggleable__label sk-toggleable__label-arrow\">Pipeline</label><div class=\"sk-toggleable__content\"><pre>Pipeline(steps=[(&#x27;onehot&#x27;, OneHotEncoder(sparse=False))])</pre></div></div></div><div class=\"sk-serial\"><div class=\"sk-item\"><div class=\"sk-estimator sk-toggleable\"><input class=\"sk-toggleable__control sk-hidden--visually\" id=\"203eb768-4fbb-41f9-886d-58531c38e4bf\" type=\"checkbox\" ><label for=\"203eb768-4fbb-41f9-886d-58531c38e4bf\" class=\"sk-toggleable__label sk-toggleable__label-arrow\">OneHotEncoder</label><div class=\"sk-toggleable__content\"><pre>OneHotEncoder(sparse=False)</pre></div></div></div></div></div></div></div>"
      ],
      "text/plain": [
       "Pipeline(steps=[('onehot', OneHotEncoder(sparse=False))])"
      ]
     },
     "execution_count": 24,
     "metadata": {},
     "output_type": "execute_result"
    }
   ],
   "source": [
    "#from sklearn.pipeline import Pipeline # --> DONE UPFRONT (see top section \"Setting Up the Workspace\")\n",
    "#from sklearn.impute import SimpleImputer # --> DONE UPFRONT (see top section \"Setting Up the Workspace\")\n",
    "#from sklearn.preprocessing import StandardScaler # --> DONE UPFRONT (see top section \"Setting Up the Workspace\")\n",
    "#from sklearn.preprocessing import OneHotEncoder # --> DONE UPFRONT (see top section \"Setting Up the Workspace\")\n",
    "#from sklearn.compose import ColumnTransformer # --> DONE UPFRONT (see top section \"Setting Up the Workspace\")\n",
    "\n",
    "# Preprocessing for numerical data\n",
    "#numerical_transformer = Pipeline(steps=[\n",
    "#    ('imputer', SimpleImputer(strategy='constant')),\n",
    "#    ('scaler', StandardScaler())\n",
    "#])\n",
    "\n",
    "# Preprocessing for categorical data\n",
    "categorical_transformer = Pipeline(steps=[\n",
    "#    ('imputer', SimpleImputer(strategy='most_frequent')),\n",
    "    ('onehot', OneHotEncoder(handle_unknown='error', sparse=False))\n",
    "])\n",
    "    # The Pipeline() function is like a railway track with a list of different stations (steps)\n",
    "    # Each step is a tuple declaring the name of the step and then the function to apply\n",
    "\n",
    "categorical_transformer"
   ]
  },
  {
   "cell_type": "code",
   "execution_count": 25,
   "id": "48dbc4dd",
   "metadata": {},
   "outputs": [
    {
     "data": {
      "text/html": [
       "<style>#sk-358a153a-1a45-4da7-9ece-84f5b1630948 {color: black;background-color: white;}#sk-358a153a-1a45-4da7-9ece-84f5b1630948 pre{padding: 0;}#sk-358a153a-1a45-4da7-9ece-84f5b1630948 div.sk-toggleable {background-color: white;}#sk-358a153a-1a45-4da7-9ece-84f5b1630948 label.sk-toggleable__label {cursor: pointer;display: block;width: 100%;margin-bottom: 0;padding: 0.3em;box-sizing: border-box;text-align: center;}#sk-358a153a-1a45-4da7-9ece-84f5b1630948 label.sk-toggleable__label-arrow:before {content: \"▸\";float: left;margin-right: 0.25em;color: #696969;}#sk-358a153a-1a45-4da7-9ece-84f5b1630948 label.sk-toggleable__label-arrow:hover:before {color: black;}#sk-358a153a-1a45-4da7-9ece-84f5b1630948 div.sk-estimator:hover label.sk-toggleable__label-arrow:before {color: black;}#sk-358a153a-1a45-4da7-9ece-84f5b1630948 div.sk-toggleable__content {max-height: 0;max-width: 0;overflow: hidden;text-align: left;background-color: #f0f8ff;}#sk-358a153a-1a45-4da7-9ece-84f5b1630948 div.sk-toggleable__content pre {margin: 0.2em;color: black;border-radius: 0.25em;background-color: #f0f8ff;}#sk-358a153a-1a45-4da7-9ece-84f5b1630948 input.sk-toggleable__control:checked~div.sk-toggleable__content {max-height: 200px;max-width: 100%;overflow: auto;}#sk-358a153a-1a45-4da7-9ece-84f5b1630948 input.sk-toggleable__control:checked~label.sk-toggleable__label-arrow:before {content: \"▾\";}#sk-358a153a-1a45-4da7-9ece-84f5b1630948 div.sk-estimator input.sk-toggleable__control:checked~label.sk-toggleable__label {background-color: #d4ebff;}#sk-358a153a-1a45-4da7-9ece-84f5b1630948 div.sk-label input.sk-toggleable__control:checked~label.sk-toggleable__label {background-color: #d4ebff;}#sk-358a153a-1a45-4da7-9ece-84f5b1630948 input.sk-hidden--visually {border: 0;clip: rect(1px 1px 1px 1px);clip: rect(1px, 1px, 1px, 1px);height: 1px;margin: -1px;overflow: hidden;padding: 0;position: absolute;width: 1px;}#sk-358a153a-1a45-4da7-9ece-84f5b1630948 div.sk-estimator {font-family: monospace;background-color: #f0f8ff;border: 1px dotted black;border-radius: 0.25em;box-sizing: border-box;margin-bottom: 0.5em;}#sk-358a153a-1a45-4da7-9ece-84f5b1630948 div.sk-estimator:hover {background-color: #d4ebff;}#sk-358a153a-1a45-4da7-9ece-84f5b1630948 div.sk-parallel-item::after {content: \"\";width: 100%;border-bottom: 1px solid gray;flex-grow: 1;}#sk-358a153a-1a45-4da7-9ece-84f5b1630948 div.sk-label:hover label.sk-toggleable__label {background-color: #d4ebff;}#sk-358a153a-1a45-4da7-9ece-84f5b1630948 div.sk-serial::before {content: \"\";position: absolute;border-left: 1px solid gray;box-sizing: border-box;top: 2em;bottom: 0;left: 50%;}#sk-358a153a-1a45-4da7-9ece-84f5b1630948 div.sk-serial {display: flex;flex-direction: column;align-items: center;background-color: white;padding-right: 0.2em;padding-left: 0.2em;}#sk-358a153a-1a45-4da7-9ece-84f5b1630948 div.sk-item {z-index: 1;}#sk-358a153a-1a45-4da7-9ece-84f5b1630948 div.sk-parallel {display: flex;align-items: stretch;justify-content: center;background-color: white;}#sk-358a153a-1a45-4da7-9ece-84f5b1630948 div.sk-parallel::before {content: \"\";position: absolute;border-left: 1px solid gray;box-sizing: border-box;top: 2em;bottom: 0;left: 50%;}#sk-358a153a-1a45-4da7-9ece-84f5b1630948 div.sk-parallel-item {display: flex;flex-direction: column;position: relative;background-color: white;}#sk-358a153a-1a45-4da7-9ece-84f5b1630948 div.sk-parallel-item:first-child::after {align-self: flex-end;width: 50%;}#sk-358a153a-1a45-4da7-9ece-84f5b1630948 div.sk-parallel-item:last-child::after {align-self: flex-start;width: 50%;}#sk-358a153a-1a45-4da7-9ece-84f5b1630948 div.sk-parallel-item:only-child::after {width: 0;}#sk-358a153a-1a45-4da7-9ece-84f5b1630948 div.sk-dashed-wrapped {border: 1px dashed gray;margin: 0 0.4em 0.5em 0.4em;box-sizing: border-box;padding-bottom: 0.4em;background-color: white;position: relative;}#sk-358a153a-1a45-4da7-9ece-84f5b1630948 div.sk-label label {font-family: monospace;font-weight: bold;background-color: white;display: inline-block;line-height: 1.2em;}#sk-358a153a-1a45-4da7-9ece-84f5b1630948 div.sk-label-container {position: relative;z-index: 2;text-align: center;}#sk-358a153a-1a45-4da7-9ece-84f5b1630948 div.sk-container {/* jupyter's `normalize.less` sets `[hidden] { display: none; }` but bootstrap.min.css set `[hidden] { display: none !important; }` so we also need the `!important` here to be able to override the default hidden behavior on the sphinx rendered scikit-learn.org. See: https://github.com/scikit-learn/scikit-learn/issues/21755 */display: inline-block !important;position: relative;}#sk-358a153a-1a45-4da7-9ece-84f5b1630948 div.sk-text-repr-fallback {display: none;}</style><div id=\"sk-358a153a-1a45-4da7-9ece-84f5b1630948\" class=\"sk-top-container\"><div class=\"sk-text-repr-fallback\"><pre>ColumnTransformer(remainder=&#x27;passthrough&#x27;,\n",
       "                  transformers=[(&#x27;cat&#x27;,\n",
       "                                 Pipeline(steps=[(&#x27;onehot&#x27;,\n",
       "                                                  OneHotEncoder(sparse=False))]),\n",
       "                                 [&#x27;Store&#x27;])])</pre><b>Please rerun this cell to show the HTML repr or trust the notebook.</b></div><div class=\"sk-container\" hidden><div class=\"sk-item sk-dashed-wrapped\"><div class=\"sk-label-container\"><div class=\"sk-label sk-toggleable\"><input class=\"sk-toggleable__control sk-hidden--visually\" id=\"083fedb5-cddd-456b-8c98-401f2a6d65f2\" type=\"checkbox\" ><label for=\"083fedb5-cddd-456b-8c98-401f2a6d65f2\" class=\"sk-toggleable__label sk-toggleable__label-arrow\">ColumnTransformer</label><div class=\"sk-toggleable__content\"><pre>ColumnTransformer(remainder=&#x27;passthrough&#x27;,\n",
       "                  transformers=[(&#x27;cat&#x27;,\n",
       "                                 Pipeline(steps=[(&#x27;onehot&#x27;,\n",
       "                                                  OneHotEncoder(sparse=False))]),\n",
       "                                 [&#x27;Store&#x27;])])</pre></div></div></div><div class=\"sk-parallel\"><div class=\"sk-parallel-item\"><div class=\"sk-item\"><div class=\"sk-label-container\"><div class=\"sk-label sk-toggleable\"><input class=\"sk-toggleable__control sk-hidden--visually\" id=\"4405dfde-b86f-4039-8e94-e9aa960c5801\" type=\"checkbox\" ><label for=\"4405dfde-b86f-4039-8e94-e9aa960c5801\" class=\"sk-toggleable__label sk-toggleable__label-arrow\">cat</label><div class=\"sk-toggleable__content\"><pre>[&#x27;Store&#x27;]</pre></div></div></div><div class=\"sk-serial\"><div class=\"sk-item\"><div class=\"sk-serial\"><div class=\"sk-item\"><div class=\"sk-estimator sk-toggleable\"><input class=\"sk-toggleable__control sk-hidden--visually\" id=\"db73ee95-e3b3-445b-83e0-4b2a7e252c5b\" type=\"checkbox\" ><label for=\"db73ee95-e3b3-445b-83e0-4b2a7e252c5b\" class=\"sk-toggleable__label sk-toggleable__label-arrow\">OneHotEncoder</label><div class=\"sk-toggleable__content\"><pre>OneHotEncoder(sparse=False)</pre></div></div></div></div></div></div></div></div><div class=\"sk-parallel-item\"><div class=\"sk-item\"><div class=\"sk-label-container\"><div class=\"sk-label sk-toggleable\"><input class=\"sk-toggleable__control sk-hidden--visually\" id=\"bfb2197c-6e05-4d5e-af6c-0e9133524124\" type=\"checkbox\" ><label for=\"bfb2197c-6e05-4d5e-af6c-0e9133524124\" class=\"sk-toggleable__label sk-toggleable__label-arrow\">remainder</label><div class=\"sk-toggleable__content\"><pre></pre></div></div></div><div class=\"sk-serial\"><div class=\"sk-item\"><div class=\"sk-estimator sk-toggleable\"><input class=\"sk-toggleable__control sk-hidden--visually\" id=\"d6676b26-df5f-49bc-acff-aa35461d4e5c\" type=\"checkbox\" ><label for=\"d6676b26-df5f-49bc-acff-aa35461d4e5c\" class=\"sk-toggleable__label sk-toggleable__label-arrow\">passthrough</label><div class=\"sk-toggleable__content\"><pre>passthrough</pre></div></div></div></div></div></div></div></div></div></div>"
      ],
      "text/plain": [
       "ColumnTransformer(remainder='passthrough',\n",
       "                  transformers=[('cat',\n",
       "                                 Pipeline(steps=[('onehot',\n",
       "                                                  OneHotEncoder(sparse=False))]),\n",
       "                                 ['Store'])])"
      ]
     },
     "execution_count": 25,
     "metadata": {},
     "output_type": "execute_result"
    }
   ],
   "source": [
    "# Bundle preprocessing for numerical and categorical data\n",
    "preprocessor = ColumnTransformer(\n",
    "    transformers=[\n",
    "#        ('num', numerical_transformer, numerical_cols),\n",
    "        ('cat', categorical_transformer, categorical_cols)\n",
    "    ], remainder='passthrough') \n",
    "    # The ColumnTransformer() function is like a railway switch: it tells what to do with the specified trainwagons (data columns).\n",
    "    # The transformers list gives the different branches where columns  can go.\n",
    "    # Each transformer is a tuple declaring the name of the transformer, the transformer to apply (eg. Pipeline defined above), and which columns need to be transformed\n",
    "    # By default the ColumnTransformer() drops every column which is not explicitly specified in the list of transformers. \n",
    "    # With the parameter remainder='passthrough', the columns that you do not mention will not be dropped (and also will not transformed).\n",
    "\n",
    "preprocessor"
   ]
  },
  {
   "cell_type": "markdown",
   "id": "f23b596e",
   "metadata": {
    "papermill": {
     "duration": 0.008844,
     "end_time": "2021-11-09T00:06:19.874481",
     "exception": false,
     "start_time": "2021-11-09T00:06:19.865637",
     "status": "completed"
    },
    "tags": []
   },
   "source": [
    "### Step 2: Define the Model\n",
    "\n",
    "Next, we define a random forest model with the familiar [`RandomForestRegressor`](https://scikit-learn.org/stable/modules/generated/sklearn.ensemble.RandomForestRegressor.html) class."
   ]
  },
  {
   "cell_type": "code",
   "execution_count": 26,
   "id": "fb164ddc",
   "metadata": {
    "execution": {
     "iopub.execute_input": "2021-11-09T00:06:19.897753Z",
     "iopub.status.busy": "2021-11-09T00:06:19.897042Z",
     "iopub.status.idle": "2021-11-09T00:06:20.064375Z",
     "shell.execute_reply": "2021-11-09T00:06:20.064900Z"
    },
    "papermill": {
     "duration": 0.181432,
     "end_time": "2021-11-09T00:06:20.065103",
     "exception": false,
     "start_time": "2021-11-09T00:06:19.883671",
     "status": "completed"
    },
    "tags": []
   },
   "outputs": [],
   "source": [
    "#from sklearn.ensemble import RandomForestRegressor # --> DONE UPFRONT (see top section \"Setting Up the Workspace\")\n",
    "\n",
    "model = RandomForestRegressor(n_estimators=100, random_state=0)"
   ]
  },
  {
   "cell_type": "markdown",
   "id": "40677330",
   "metadata": {
    "papermill": {
     "duration": 0.008975,
     "end_time": "2021-11-09T00:06:20.083525",
     "exception": false,
     "start_time": "2021-11-09T00:06:20.074550",
     "status": "completed"
    },
    "tags": []
   },
   "source": [
    "### Step 3: Create and Evaluate the Pipeline\n",
    "\n",
    "Finally, we use the [`Pipeline`](https://scikit-learn.org/stable/modules/generated/sklearn.pipeline.Pipeline.html) class to define a pipeline that bundles the preprocessing and modeling steps.  There are a few important things to notice:\n",
    "- With the pipeline, we preprocess the training data and fit the model in a single line of code.  (_In contrast, without a pipeline, we have to do imputation, one-hot encoding, and model training in separate steps.  This becomes especially messy if we have to deal with both numerical and categorical variables!_)\n",
    "- With the pipeline, we supply the unprocessed features in `X_valid` to the `predict()` command, and the pipeline automatically preprocesses the features before generating predictions.  (_However, without a pipeline, we have to remember to preprocess the validation data before making predictions._)"
   ]
  },
  {
   "cell_type": "code",
   "execution_count": 27,
   "id": "6e875811",
   "metadata": {},
   "outputs": [
    {
     "data": {
      "text/html": [
       "<div>\n",
       "<style scoped>\n",
       "    .dataframe tbody tr th:only-of-type {\n",
       "        vertical-align: middle;\n",
       "    }\n",
       "\n",
       "    .dataframe tbody tr th {\n",
       "        vertical-align: top;\n",
       "    }\n",
       "\n",
       "    .dataframe thead th {\n",
       "        text-align: right;\n",
       "    }\n",
       "</style>\n",
       "<table border=\"1\" class=\"dataframe\">\n",
       "  <thead>\n",
       "    <tr style=\"text-align: right;\">\n",
       "      <th></th>\n",
       "      <th>Store</th>\n",
       "      <th>Holiday_Flag</th>\n",
       "      <th>Temperature</th>\n",
       "      <th>Fuel_Price</th>\n",
       "      <th>CPI</th>\n",
       "      <th>Unemployment</th>\n",
       "    </tr>\n",
       "  </thead>\n",
       "  <tbody>\n",
       "    <tr>\n",
       "      <th>0</th>\n",
       "      <td>1</td>\n",
       "      <td>0</td>\n",
       "      <td>42.31</td>\n",
       "      <td>2.572</td>\n",
       "      <td>211.096358</td>\n",
       "      <td>8.106</td>\n",
       "    </tr>\n",
       "    <tr>\n",
       "      <th>143</th>\n",
       "      <td>2</td>\n",
       "      <td>0</td>\n",
       "      <td>40.19</td>\n",
       "      <td>2.572</td>\n",
       "      <td>210.752605</td>\n",
       "      <td>8.324</td>\n",
       "    </tr>\n",
       "    <tr>\n",
       "      <th>286</th>\n",
       "      <td>3</td>\n",
       "      <td>0</td>\n",
       "      <td>45.71</td>\n",
       "      <td>2.572</td>\n",
       "      <td>214.424881</td>\n",
       "      <td>7.368</td>\n",
       "    </tr>\n",
       "    <tr>\n",
       "      <th>429</th>\n",
       "      <td>4</td>\n",
       "      <td>0</td>\n",
       "      <td>43.76</td>\n",
       "      <td>2.598</td>\n",
       "      <td>126.442065</td>\n",
       "      <td>8.623</td>\n",
       "    </tr>\n",
       "    <tr>\n",
       "      <th>572</th>\n",
       "      <td>5</td>\n",
       "      <td>0</td>\n",
       "      <td>39.70</td>\n",
       "      <td>2.572</td>\n",
       "      <td>211.653972</td>\n",
       "      <td>6.566</td>\n",
       "    </tr>\n",
       "    <tr>\n",
       "      <th>...</th>\n",
       "      <td>...</td>\n",
       "      <td>...</td>\n",
       "      <td>...</td>\n",
       "      <td>...</td>\n",
       "      <td>...</td>\n",
       "      <td>...</td>\n",
       "    </tr>\n",
       "    <tr>\n",
       "      <th>1973</th>\n",
       "      <td>14</td>\n",
       "      <td>0</td>\n",
       "      <td>51.83</td>\n",
       "      <td>4.044</td>\n",
       "      <td>190.759596</td>\n",
       "      <td>8.567</td>\n",
       "    </tr>\n",
       "    <tr>\n",
       "      <th>2116</th>\n",
       "      <td>15</td>\n",
       "      <td>0</td>\n",
       "      <td>43.52</td>\n",
       "      <td>4.187</td>\n",
       "      <td>137.868000</td>\n",
       "      <td>8.150</td>\n",
       "    </tr>\n",
       "    <tr>\n",
       "      <th>2259</th>\n",
       "      <td>16</td>\n",
       "      <td>0</td>\n",
       "      <td>45.83</td>\n",
       "      <td>3.901</td>\n",
       "      <td>197.780931</td>\n",
       "      <td>6.169</td>\n",
       "    </tr>\n",
       "    <tr>\n",
       "      <th>2402</th>\n",
       "      <td>17</td>\n",
       "      <td>0</td>\n",
       "      <td>46.94</td>\n",
       "      <td>3.833</td>\n",
       "      <td>131.108000</td>\n",
       "      <td>6.235</td>\n",
       "    </tr>\n",
       "    <tr>\n",
       "      <th>2545</th>\n",
       "      <td>18</td>\n",
       "      <td>0</td>\n",
       "      <td>47.75</td>\n",
       "      <td>4.025</td>\n",
       "      <td>137.868000</td>\n",
       "      <td>8.304</td>\n",
       "    </tr>\n",
       "  </tbody>\n",
       "</table>\n",
       "<p>5148 rows × 6 columns</p>\n",
       "</div>"
      ],
      "text/plain": [
       "     Store  Holiday_Flag  Temperature  Fuel_Price         CPI  Unemployment\n",
       "0        1             0        42.31       2.572  211.096358         8.106\n",
       "143      2             0        40.19       2.572  210.752605         8.324\n",
       "286      3             0        45.71       2.572  214.424881         7.368\n",
       "429      4             0        43.76       2.598  126.442065         8.623\n",
       "572      5             0        39.70       2.572  211.653972         6.566\n",
       "...    ...           ...          ...         ...         ...           ...\n",
       "1973    14             0        51.83       4.044  190.759596         8.567\n",
       "2116    15             0        43.52       4.187  137.868000         8.150\n",
       "2259    16             0        45.83       3.901  197.780931         6.169\n",
       "2402    17             0        46.94       3.833  131.108000         6.235\n",
       "2545    18             0        47.75       4.025  137.868000         8.304\n",
       "\n",
       "[5148 rows x 6 columns]"
      ]
     },
     "execution_count": 27,
     "metadata": {},
     "output_type": "execute_result"
    }
   ],
   "source": [
    "X_train"
   ]
  },
  {
   "cell_type": "code",
   "execution_count": 28,
   "id": "7b1c5cb8",
   "metadata": {
    "execution": {
     "iopub.execute_input": "2021-11-09T00:06:20.114176Z",
     "iopub.status.busy": "2021-11-09T00:06:20.113439Z",
     "iopub.status.idle": "2021-11-09T00:06:28.198332Z",
     "shell.execute_reply": "2021-11-09T00:06:28.197772Z"
    },
    "papermill": {
     "duration": 8.105714,
     "end_time": "2021-11-09T00:06:28.198489",
     "exception": false,
     "start_time": "2021-11-09T00:06:20.092775",
     "status": "completed"
    },
    "tags": []
   },
   "outputs": [
    {
     "data": {
      "text/html": [
       "<style>#sk-8faff405-beb6-46c1-82a5-5d25db338ca2 {color: black;background-color: white;}#sk-8faff405-beb6-46c1-82a5-5d25db338ca2 pre{padding: 0;}#sk-8faff405-beb6-46c1-82a5-5d25db338ca2 div.sk-toggleable {background-color: white;}#sk-8faff405-beb6-46c1-82a5-5d25db338ca2 label.sk-toggleable__label {cursor: pointer;display: block;width: 100%;margin-bottom: 0;padding: 0.3em;box-sizing: border-box;text-align: center;}#sk-8faff405-beb6-46c1-82a5-5d25db338ca2 label.sk-toggleable__label-arrow:before {content: \"▸\";float: left;margin-right: 0.25em;color: #696969;}#sk-8faff405-beb6-46c1-82a5-5d25db338ca2 label.sk-toggleable__label-arrow:hover:before {color: black;}#sk-8faff405-beb6-46c1-82a5-5d25db338ca2 div.sk-estimator:hover label.sk-toggleable__label-arrow:before {color: black;}#sk-8faff405-beb6-46c1-82a5-5d25db338ca2 div.sk-toggleable__content {max-height: 0;max-width: 0;overflow: hidden;text-align: left;background-color: #f0f8ff;}#sk-8faff405-beb6-46c1-82a5-5d25db338ca2 div.sk-toggleable__content pre {margin: 0.2em;color: black;border-radius: 0.25em;background-color: #f0f8ff;}#sk-8faff405-beb6-46c1-82a5-5d25db338ca2 input.sk-toggleable__control:checked~div.sk-toggleable__content {max-height: 200px;max-width: 100%;overflow: auto;}#sk-8faff405-beb6-46c1-82a5-5d25db338ca2 input.sk-toggleable__control:checked~label.sk-toggleable__label-arrow:before {content: \"▾\";}#sk-8faff405-beb6-46c1-82a5-5d25db338ca2 div.sk-estimator input.sk-toggleable__control:checked~label.sk-toggleable__label {background-color: #d4ebff;}#sk-8faff405-beb6-46c1-82a5-5d25db338ca2 div.sk-label input.sk-toggleable__control:checked~label.sk-toggleable__label {background-color: #d4ebff;}#sk-8faff405-beb6-46c1-82a5-5d25db338ca2 input.sk-hidden--visually {border: 0;clip: rect(1px 1px 1px 1px);clip: rect(1px, 1px, 1px, 1px);height: 1px;margin: -1px;overflow: hidden;padding: 0;position: absolute;width: 1px;}#sk-8faff405-beb6-46c1-82a5-5d25db338ca2 div.sk-estimator {font-family: monospace;background-color: #f0f8ff;border: 1px dotted black;border-radius: 0.25em;box-sizing: border-box;margin-bottom: 0.5em;}#sk-8faff405-beb6-46c1-82a5-5d25db338ca2 div.sk-estimator:hover {background-color: #d4ebff;}#sk-8faff405-beb6-46c1-82a5-5d25db338ca2 div.sk-parallel-item::after {content: \"\";width: 100%;border-bottom: 1px solid gray;flex-grow: 1;}#sk-8faff405-beb6-46c1-82a5-5d25db338ca2 div.sk-label:hover label.sk-toggleable__label {background-color: #d4ebff;}#sk-8faff405-beb6-46c1-82a5-5d25db338ca2 div.sk-serial::before {content: \"\";position: absolute;border-left: 1px solid gray;box-sizing: border-box;top: 2em;bottom: 0;left: 50%;}#sk-8faff405-beb6-46c1-82a5-5d25db338ca2 div.sk-serial {display: flex;flex-direction: column;align-items: center;background-color: white;padding-right: 0.2em;padding-left: 0.2em;}#sk-8faff405-beb6-46c1-82a5-5d25db338ca2 div.sk-item {z-index: 1;}#sk-8faff405-beb6-46c1-82a5-5d25db338ca2 div.sk-parallel {display: flex;align-items: stretch;justify-content: center;background-color: white;}#sk-8faff405-beb6-46c1-82a5-5d25db338ca2 div.sk-parallel::before {content: \"\";position: absolute;border-left: 1px solid gray;box-sizing: border-box;top: 2em;bottom: 0;left: 50%;}#sk-8faff405-beb6-46c1-82a5-5d25db338ca2 div.sk-parallel-item {display: flex;flex-direction: column;position: relative;background-color: white;}#sk-8faff405-beb6-46c1-82a5-5d25db338ca2 div.sk-parallel-item:first-child::after {align-self: flex-end;width: 50%;}#sk-8faff405-beb6-46c1-82a5-5d25db338ca2 div.sk-parallel-item:last-child::after {align-self: flex-start;width: 50%;}#sk-8faff405-beb6-46c1-82a5-5d25db338ca2 div.sk-parallel-item:only-child::after {width: 0;}#sk-8faff405-beb6-46c1-82a5-5d25db338ca2 div.sk-dashed-wrapped {border: 1px dashed gray;margin: 0 0.4em 0.5em 0.4em;box-sizing: border-box;padding-bottom: 0.4em;background-color: white;position: relative;}#sk-8faff405-beb6-46c1-82a5-5d25db338ca2 div.sk-label label {font-family: monospace;font-weight: bold;background-color: white;display: inline-block;line-height: 1.2em;}#sk-8faff405-beb6-46c1-82a5-5d25db338ca2 div.sk-label-container {position: relative;z-index: 2;text-align: center;}#sk-8faff405-beb6-46c1-82a5-5d25db338ca2 div.sk-container {/* jupyter's `normalize.less` sets `[hidden] { display: none; }` but bootstrap.min.css set `[hidden] { display: none !important; }` so we also need the `!important` here to be able to override the default hidden behavior on the sphinx rendered scikit-learn.org. See: https://github.com/scikit-learn/scikit-learn/issues/21755 */display: inline-block !important;position: relative;}#sk-8faff405-beb6-46c1-82a5-5d25db338ca2 div.sk-text-repr-fallback {display: none;}</style><div id=\"sk-8faff405-beb6-46c1-82a5-5d25db338ca2\" class=\"sk-top-container\"><div class=\"sk-text-repr-fallback\"><pre>Pipeline(steps=[(&#x27;preprocessor&#x27;,\n",
       "                 ColumnTransformer(remainder=&#x27;passthrough&#x27;,\n",
       "                                   transformers=[(&#x27;cat&#x27;,\n",
       "                                                  Pipeline(steps=[(&#x27;onehot&#x27;,\n",
       "                                                                   OneHotEncoder(sparse=False))]),\n",
       "                                                  [&#x27;Store&#x27;])])),\n",
       "                (&#x27;model&#x27;, RandomForestRegressor(random_state=0))])</pre><b>Please rerun this cell to show the HTML repr or trust the notebook.</b></div><div class=\"sk-container\" hidden><div class=\"sk-item sk-dashed-wrapped\"><div class=\"sk-label-container\"><div class=\"sk-label sk-toggleable\"><input class=\"sk-toggleable__control sk-hidden--visually\" id=\"652d5d56-b4b4-4967-8c42-a32b908ed349\" type=\"checkbox\" ><label for=\"652d5d56-b4b4-4967-8c42-a32b908ed349\" class=\"sk-toggleable__label sk-toggleable__label-arrow\">Pipeline</label><div class=\"sk-toggleable__content\"><pre>Pipeline(steps=[(&#x27;preprocessor&#x27;,\n",
       "                 ColumnTransformer(remainder=&#x27;passthrough&#x27;,\n",
       "                                   transformers=[(&#x27;cat&#x27;,\n",
       "                                                  Pipeline(steps=[(&#x27;onehot&#x27;,\n",
       "                                                                   OneHotEncoder(sparse=False))]),\n",
       "                                                  [&#x27;Store&#x27;])])),\n",
       "                (&#x27;model&#x27;, RandomForestRegressor(random_state=0))])</pre></div></div></div><div class=\"sk-serial\"><div class=\"sk-item sk-dashed-wrapped\"><div class=\"sk-label-container\"><div class=\"sk-label sk-toggleable\"><input class=\"sk-toggleable__control sk-hidden--visually\" id=\"6f361cda-8057-43bc-8d08-25008cdcf61c\" type=\"checkbox\" ><label for=\"6f361cda-8057-43bc-8d08-25008cdcf61c\" class=\"sk-toggleable__label sk-toggleable__label-arrow\">preprocessor: ColumnTransformer</label><div class=\"sk-toggleable__content\"><pre>ColumnTransformer(remainder=&#x27;passthrough&#x27;,\n",
       "                  transformers=[(&#x27;cat&#x27;,\n",
       "                                 Pipeline(steps=[(&#x27;onehot&#x27;,\n",
       "                                                  OneHotEncoder(sparse=False))]),\n",
       "                                 [&#x27;Store&#x27;])])</pre></div></div></div><div class=\"sk-parallel\"><div class=\"sk-parallel-item\"><div class=\"sk-item\"><div class=\"sk-label-container\"><div class=\"sk-label sk-toggleable\"><input class=\"sk-toggleable__control sk-hidden--visually\" id=\"dfbd4f96-b80d-4227-b340-09fab70ff3be\" type=\"checkbox\" ><label for=\"dfbd4f96-b80d-4227-b340-09fab70ff3be\" class=\"sk-toggleable__label sk-toggleable__label-arrow\">cat</label><div class=\"sk-toggleable__content\"><pre>[&#x27;Store&#x27;]</pre></div></div></div><div class=\"sk-serial\"><div class=\"sk-item\"><div class=\"sk-serial\"><div class=\"sk-item\"><div class=\"sk-estimator sk-toggleable\"><input class=\"sk-toggleable__control sk-hidden--visually\" id=\"83484850-e8bd-483e-913d-5d81f6081d4d\" type=\"checkbox\" ><label for=\"83484850-e8bd-483e-913d-5d81f6081d4d\" class=\"sk-toggleable__label sk-toggleable__label-arrow\">OneHotEncoder</label><div class=\"sk-toggleable__content\"><pre>OneHotEncoder(sparse=False)</pre></div></div></div></div></div></div></div></div><div class=\"sk-parallel-item\"><div class=\"sk-item\"><div class=\"sk-label-container\"><div class=\"sk-label sk-toggleable\"><input class=\"sk-toggleable__control sk-hidden--visually\" id=\"fc37fc7a-6787-423c-9733-5c98461fb434\" type=\"checkbox\" ><label for=\"fc37fc7a-6787-423c-9733-5c98461fb434\" class=\"sk-toggleable__label sk-toggleable__label-arrow\">remainder</label><div class=\"sk-toggleable__content\"><pre></pre></div></div></div><div class=\"sk-serial\"><div class=\"sk-item\"><div class=\"sk-estimator sk-toggleable\"><input class=\"sk-toggleable__control sk-hidden--visually\" id=\"b11902a0-f496-4c77-944e-0e21e2f89efa\" type=\"checkbox\" ><label for=\"b11902a0-f496-4c77-944e-0e21e2f89efa\" class=\"sk-toggleable__label sk-toggleable__label-arrow\">passthrough</label><div class=\"sk-toggleable__content\"><pre>passthrough</pre></div></div></div></div></div></div></div></div><div class=\"sk-item\"><div class=\"sk-estimator sk-toggleable\"><input class=\"sk-toggleable__control sk-hidden--visually\" id=\"20cbc3b9-401a-4ed1-a2b0-e9a0c92757f8\" type=\"checkbox\" ><label for=\"20cbc3b9-401a-4ed1-a2b0-e9a0c92757f8\" class=\"sk-toggleable__label sk-toggleable__label-arrow\">RandomForestRegressor</label><div class=\"sk-toggleable__content\"><pre>RandomForestRegressor(random_state=0)</pre></div></div></div></div></div></div></div>"
      ],
      "text/plain": [
       "Pipeline(steps=[('preprocessor',\n",
       "                 ColumnTransformer(remainder='passthrough',\n",
       "                                   transformers=[('cat',\n",
       "                                                  Pipeline(steps=[('onehot',\n",
       "                                                                   OneHotEncoder(sparse=False))]),\n",
       "                                                  ['Store'])])),\n",
       "                ('model', RandomForestRegressor(random_state=0))])"
      ]
     },
     "execution_count": 28,
     "metadata": {},
     "output_type": "execute_result"
    }
   ],
   "source": [
    "#from sklearn.metrics import mean_absolute_error # --> DONE UPFRONT (see top section \"Setting Up the Workspace\")\n",
    "#from sklearn.metrics import mean_absolute_percentage_error # --> DONE UPFRONT (see top section \"Setting Up the Workspace\")\n",
    "#from sklearn.metrics import mean_squared_error # --> DONE UPFRONT (see top section \"Setting Up the Workspace\")\n",
    "\n",
    "# Bundle preprocessing and modeling code in a pipeline\n",
    "my_pipeline = Pipeline(steps=[('preprocessor', preprocessor),\n",
    "                              ('model', model)\n",
    "                             ])\n",
    "                            # Here the Pipeline() function is again like a railway track, with a higer level list of different stations (steps)\n",
    "                            # Each step is a tuple declaring the name of the step and then the function to apply\n",
    "my_pipeline"
   ]
  },
  {
   "cell_type": "code",
   "execution_count": 29,
   "id": "059a75d1",
   "metadata": {},
   "outputs": [
    {
     "name": "stdout",
     "output_type": "stream",
     "text": [
      "MAE: OneHot encoder 90743.75075244748\n",
      "MAPE: OneHot encoder 0.09192409352102003\n",
      "RMSE: OneHot encoder 135901.4699788533\n"
     ]
    }
   ],
   "source": [
    "# Preprocessing of training data, fit model \n",
    "my_pipeline.fit(X_train, y_train)\n",
    "\n",
    "# Preprocessing of validation data, get predictions\n",
    "preds = my_pipeline.predict(X_valid)\n",
    "\n",
    "# Evaluate the model\n",
    "score = mean_absolute_error(y_valid, preds)\n",
    "print('MAE: OneHot encoder', score)\n",
    "print('MAPE: OneHot encoder', mean_absolute_percentage_error(y_valid, preds))\n",
    "print('RMSE: OneHot encoder', mean_squared_error(y_valid, preds,squared=False))"
   ]
  },
  {
   "attachments": {},
   "cell_type": "markdown",
   "id": "4893a0c1",
   "metadata": {},
   "source": [
    "Example of pipeline with ordinal encoding... (eg. Approach 2 above: this can yield a useful, parsimonious model when the categories of a categorical variable have an indisputable ranked ordering."
   ]
  },
  {
   "cell_type": "code",
   "execution_count": 30,
   "id": "b126252a",
   "metadata": {
    "scrolled": true
   },
   "outputs": [
    {
     "data": {
      "text/html": [
       "<style>#sk-73bfb2be-bce5-4093-9fa2-a7ecf3b3e658 {color: black;background-color: white;}#sk-73bfb2be-bce5-4093-9fa2-a7ecf3b3e658 pre{padding: 0;}#sk-73bfb2be-bce5-4093-9fa2-a7ecf3b3e658 div.sk-toggleable {background-color: white;}#sk-73bfb2be-bce5-4093-9fa2-a7ecf3b3e658 label.sk-toggleable__label {cursor: pointer;display: block;width: 100%;margin-bottom: 0;padding: 0.3em;box-sizing: border-box;text-align: center;}#sk-73bfb2be-bce5-4093-9fa2-a7ecf3b3e658 label.sk-toggleable__label-arrow:before {content: \"▸\";float: left;margin-right: 0.25em;color: #696969;}#sk-73bfb2be-bce5-4093-9fa2-a7ecf3b3e658 label.sk-toggleable__label-arrow:hover:before {color: black;}#sk-73bfb2be-bce5-4093-9fa2-a7ecf3b3e658 div.sk-estimator:hover label.sk-toggleable__label-arrow:before {color: black;}#sk-73bfb2be-bce5-4093-9fa2-a7ecf3b3e658 div.sk-toggleable__content {max-height: 0;max-width: 0;overflow: hidden;text-align: left;background-color: #f0f8ff;}#sk-73bfb2be-bce5-4093-9fa2-a7ecf3b3e658 div.sk-toggleable__content pre {margin: 0.2em;color: black;border-radius: 0.25em;background-color: #f0f8ff;}#sk-73bfb2be-bce5-4093-9fa2-a7ecf3b3e658 input.sk-toggleable__control:checked~div.sk-toggleable__content {max-height: 200px;max-width: 100%;overflow: auto;}#sk-73bfb2be-bce5-4093-9fa2-a7ecf3b3e658 input.sk-toggleable__control:checked~label.sk-toggleable__label-arrow:before {content: \"▾\";}#sk-73bfb2be-bce5-4093-9fa2-a7ecf3b3e658 div.sk-estimator input.sk-toggleable__control:checked~label.sk-toggleable__label {background-color: #d4ebff;}#sk-73bfb2be-bce5-4093-9fa2-a7ecf3b3e658 div.sk-label input.sk-toggleable__control:checked~label.sk-toggleable__label {background-color: #d4ebff;}#sk-73bfb2be-bce5-4093-9fa2-a7ecf3b3e658 input.sk-hidden--visually {border: 0;clip: rect(1px 1px 1px 1px);clip: rect(1px, 1px, 1px, 1px);height: 1px;margin: -1px;overflow: hidden;padding: 0;position: absolute;width: 1px;}#sk-73bfb2be-bce5-4093-9fa2-a7ecf3b3e658 div.sk-estimator {font-family: monospace;background-color: #f0f8ff;border: 1px dotted black;border-radius: 0.25em;box-sizing: border-box;margin-bottom: 0.5em;}#sk-73bfb2be-bce5-4093-9fa2-a7ecf3b3e658 div.sk-estimator:hover {background-color: #d4ebff;}#sk-73bfb2be-bce5-4093-9fa2-a7ecf3b3e658 div.sk-parallel-item::after {content: \"\";width: 100%;border-bottom: 1px solid gray;flex-grow: 1;}#sk-73bfb2be-bce5-4093-9fa2-a7ecf3b3e658 div.sk-label:hover label.sk-toggleable__label {background-color: #d4ebff;}#sk-73bfb2be-bce5-4093-9fa2-a7ecf3b3e658 div.sk-serial::before {content: \"\";position: absolute;border-left: 1px solid gray;box-sizing: border-box;top: 2em;bottom: 0;left: 50%;}#sk-73bfb2be-bce5-4093-9fa2-a7ecf3b3e658 div.sk-serial {display: flex;flex-direction: column;align-items: center;background-color: white;padding-right: 0.2em;padding-left: 0.2em;}#sk-73bfb2be-bce5-4093-9fa2-a7ecf3b3e658 div.sk-item {z-index: 1;}#sk-73bfb2be-bce5-4093-9fa2-a7ecf3b3e658 div.sk-parallel {display: flex;align-items: stretch;justify-content: center;background-color: white;}#sk-73bfb2be-bce5-4093-9fa2-a7ecf3b3e658 div.sk-parallel::before {content: \"\";position: absolute;border-left: 1px solid gray;box-sizing: border-box;top: 2em;bottom: 0;left: 50%;}#sk-73bfb2be-bce5-4093-9fa2-a7ecf3b3e658 div.sk-parallel-item {display: flex;flex-direction: column;position: relative;background-color: white;}#sk-73bfb2be-bce5-4093-9fa2-a7ecf3b3e658 div.sk-parallel-item:first-child::after {align-self: flex-end;width: 50%;}#sk-73bfb2be-bce5-4093-9fa2-a7ecf3b3e658 div.sk-parallel-item:last-child::after {align-self: flex-start;width: 50%;}#sk-73bfb2be-bce5-4093-9fa2-a7ecf3b3e658 div.sk-parallel-item:only-child::after {width: 0;}#sk-73bfb2be-bce5-4093-9fa2-a7ecf3b3e658 div.sk-dashed-wrapped {border: 1px dashed gray;margin: 0 0.4em 0.5em 0.4em;box-sizing: border-box;padding-bottom: 0.4em;background-color: white;position: relative;}#sk-73bfb2be-bce5-4093-9fa2-a7ecf3b3e658 div.sk-label label {font-family: monospace;font-weight: bold;background-color: white;display: inline-block;line-height: 1.2em;}#sk-73bfb2be-bce5-4093-9fa2-a7ecf3b3e658 div.sk-label-container {position: relative;z-index: 2;text-align: center;}#sk-73bfb2be-bce5-4093-9fa2-a7ecf3b3e658 div.sk-container {/* jupyter's `normalize.less` sets `[hidden] { display: none; }` but bootstrap.min.css set `[hidden] { display: none !important; }` so we also need the `!important` here to be able to override the default hidden behavior on the sphinx rendered scikit-learn.org. See: https://github.com/scikit-learn/scikit-learn/issues/21755 */display: inline-block !important;position: relative;}#sk-73bfb2be-bce5-4093-9fa2-a7ecf3b3e658 div.sk-text-repr-fallback {display: none;}</style><div id=\"sk-73bfb2be-bce5-4093-9fa2-a7ecf3b3e658\" class=\"sk-top-container\"><div class=\"sk-text-repr-fallback\"><pre>Pipeline(steps=[(&#x27;preprocessor&#x27;,\n",
       "                 ColumnTransformer(remainder=&#x27;passthrough&#x27;,\n",
       "                                   transformers=[(&#x27;cat&#x27;,\n",
       "                                                  Pipeline(steps=[(&#x27;imputer&#x27;,\n",
       "                                                                   SimpleImputer(strategy=&#x27;most_frequent&#x27;)),\n",
       "                                                                  (&#x27;ordinal&#x27;,\n",
       "                                                                   OrdinalEncoder(categories=[[1,\n",
       "                                                                                               2,\n",
       "                                                                                               3,\n",
       "                                                                                               4,\n",
       "                                                                                               5,\n",
       "                                                                                               6,\n",
       "                                                                                               7,\n",
       "                                                                                               8,\n",
       "                                                                                               9,\n",
       "                                                                                               10,\n",
       "                                                                                               11,\n",
       "                                                                                               12,\n",
       "                                                                                               13,\n",
       "                                                                                               14,\n",
       "                                                                                               15,\n",
       "                                                                                               16,\n",
       "                                                                                               17,\n",
       "                                                                                               18,\n",
       "                                                                                               19,\n",
       "                                                                                               20,\n",
       "                                                                                               21,\n",
       "                                                                                               22,\n",
       "                                                                                               23,\n",
       "                                                                                               24,\n",
       "                                                                                               25,\n",
       "                                                                                               26,\n",
       "                                                                                               27,\n",
       "                                                                                               28,\n",
       "                                                                                               29,\n",
       "                                                                                               30, ...]]))]),\n",
       "                                                  [&#x27;Store&#x27;])])),\n",
       "                (&#x27;model&#x27;, RandomForestRegressor(random_state=0))])</pre><b>Please rerun this cell to show the HTML repr or trust the notebook.</b></div><div class=\"sk-container\" hidden><div class=\"sk-item sk-dashed-wrapped\"><div class=\"sk-label-container\"><div class=\"sk-label sk-toggleable\"><input class=\"sk-toggleable__control sk-hidden--visually\" id=\"6949f461-5d52-4271-9218-a8fb37bdf281\" type=\"checkbox\" ><label for=\"6949f461-5d52-4271-9218-a8fb37bdf281\" class=\"sk-toggleable__label sk-toggleable__label-arrow\">Pipeline</label><div class=\"sk-toggleable__content\"><pre>Pipeline(steps=[(&#x27;preprocessor&#x27;,\n",
       "                 ColumnTransformer(remainder=&#x27;passthrough&#x27;,\n",
       "                                   transformers=[(&#x27;cat&#x27;,\n",
       "                                                  Pipeline(steps=[(&#x27;imputer&#x27;,\n",
       "                                                                   SimpleImputer(strategy=&#x27;most_frequent&#x27;)),\n",
       "                                                                  (&#x27;ordinal&#x27;,\n",
       "                                                                   OrdinalEncoder(categories=[[1,\n",
       "                                                                                               2,\n",
       "                                                                                               3,\n",
       "                                                                                               4,\n",
       "                                                                                               5,\n",
       "                                                                                               6,\n",
       "                                                                                               7,\n",
       "                                                                                               8,\n",
       "                                                                                               9,\n",
       "                                                                                               10,\n",
       "                                                                                               11,\n",
       "                                                                                               12,\n",
       "                                                                                               13,\n",
       "                                                                                               14,\n",
       "                                                                                               15,\n",
       "                                                                                               16,\n",
       "                                                                                               17,\n",
       "                                                                                               18,\n",
       "                                                                                               19,\n",
       "                                                                                               20,\n",
       "                                                                                               21,\n",
       "                                                                                               22,\n",
       "                                                                                               23,\n",
       "                                                                                               24,\n",
       "                                                                                               25,\n",
       "                                                                                               26,\n",
       "                                                                                               27,\n",
       "                                                                                               28,\n",
       "                                                                                               29,\n",
       "                                                                                               30, ...]]))]),\n",
       "                                                  [&#x27;Store&#x27;])])),\n",
       "                (&#x27;model&#x27;, RandomForestRegressor(random_state=0))])</pre></div></div></div><div class=\"sk-serial\"><div class=\"sk-item sk-dashed-wrapped\"><div class=\"sk-label-container\"><div class=\"sk-label sk-toggleable\"><input class=\"sk-toggleable__control sk-hidden--visually\" id=\"9a0994af-93fb-4c94-b5e9-35dc3b070ee6\" type=\"checkbox\" ><label for=\"9a0994af-93fb-4c94-b5e9-35dc3b070ee6\" class=\"sk-toggleable__label sk-toggleable__label-arrow\">preprocessor: ColumnTransformer</label><div class=\"sk-toggleable__content\"><pre>ColumnTransformer(remainder=&#x27;passthrough&#x27;,\n",
       "                  transformers=[(&#x27;cat&#x27;,\n",
       "                                 Pipeline(steps=[(&#x27;imputer&#x27;,\n",
       "                                                  SimpleImputer(strategy=&#x27;most_frequent&#x27;)),\n",
       "                                                 (&#x27;ordinal&#x27;,\n",
       "                                                  OrdinalEncoder(categories=[[1,\n",
       "                                                                              2,\n",
       "                                                                              3,\n",
       "                                                                              4,\n",
       "                                                                              5,\n",
       "                                                                              6,\n",
       "                                                                              7,\n",
       "                                                                              8,\n",
       "                                                                              9,\n",
       "                                                                              10,\n",
       "                                                                              11,\n",
       "                                                                              12,\n",
       "                                                                              13,\n",
       "                                                                              14,\n",
       "                                                                              15,\n",
       "                                                                              16,\n",
       "                                                                              17,\n",
       "                                                                              18,\n",
       "                                                                              19,\n",
       "                                                                              20,\n",
       "                                                                              21,\n",
       "                                                                              22,\n",
       "                                                                              23,\n",
       "                                                                              24,\n",
       "                                                                              25,\n",
       "                                                                              26,\n",
       "                                                                              27,\n",
       "                                                                              28,\n",
       "                                                                              29,\n",
       "                                                                              30, ...]]))]),\n",
       "                                 [&#x27;Store&#x27;])])</pre></div></div></div><div class=\"sk-parallel\"><div class=\"sk-parallel-item\"><div class=\"sk-item\"><div class=\"sk-label-container\"><div class=\"sk-label sk-toggleable\"><input class=\"sk-toggleable__control sk-hidden--visually\" id=\"e3967d18-60da-4cc6-bba0-010082660721\" type=\"checkbox\" ><label for=\"e3967d18-60da-4cc6-bba0-010082660721\" class=\"sk-toggleable__label sk-toggleable__label-arrow\">cat</label><div class=\"sk-toggleable__content\"><pre>[&#x27;Store&#x27;]</pre></div></div></div><div class=\"sk-serial\"><div class=\"sk-item\"><div class=\"sk-serial\"><div class=\"sk-item\"><div class=\"sk-estimator sk-toggleable\"><input class=\"sk-toggleable__control sk-hidden--visually\" id=\"e2e85f93-598a-40e1-9a60-65a24a3a92c9\" type=\"checkbox\" ><label for=\"e2e85f93-598a-40e1-9a60-65a24a3a92c9\" class=\"sk-toggleable__label sk-toggleable__label-arrow\">SimpleImputer</label><div class=\"sk-toggleable__content\"><pre>SimpleImputer(strategy=&#x27;most_frequent&#x27;)</pre></div></div></div><div class=\"sk-item\"><div class=\"sk-estimator sk-toggleable\"><input class=\"sk-toggleable__control sk-hidden--visually\" id=\"d65df369-04b7-43b5-a997-56094d7a178b\" type=\"checkbox\" ><label for=\"d65df369-04b7-43b5-a997-56094d7a178b\" class=\"sk-toggleable__label sk-toggleable__label-arrow\">OrdinalEncoder</label><div class=\"sk-toggleable__content\"><pre>OrdinalEncoder(categories=[[1, 2, 3, 4, 5, 6, 7, 8, 9, 10, 11, 12, 13, 14, 15,\n",
       "                            16, 17, 18, 19, 20, 21, 22, 23, 24, 25, 26, 27, 28,\n",
       "                            29, 30, ...]])</pre></div></div></div></div></div></div></div></div><div class=\"sk-parallel-item\"><div class=\"sk-item\"><div class=\"sk-label-container\"><div class=\"sk-label sk-toggleable\"><input class=\"sk-toggleable__control sk-hidden--visually\" id=\"5905e775-1aed-4ef4-89b5-f5c8435971ba\" type=\"checkbox\" ><label for=\"5905e775-1aed-4ef4-89b5-f5c8435971ba\" class=\"sk-toggleable__label sk-toggleable__label-arrow\">remainder</label><div class=\"sk-toggleable__content\"><pre></pre></div></div></div><div class=\"sk-serial\"><div class=\"sk-item\"><div class=\"sk-estimator sk-toggleable\"><input class=\"sk-toggleable__control sk-hidden--visually\" id=\"cbb18fb4-a190-4aaa-bef5-553cd148ccda\" type=\"checkbox\" ><label for=\"cbb18fb4-a190-4aaa-bef5-553cd148ccda\" class=\"sk-toggleable__label sk-toggleable__label-arrow\">passthrough</label><div class=\"sk-toggleable__content\"><pre>passthrough</pre></div></div></div></div></div></div></div></div><div class=\"sk-item\"><div class=\"sk-estimator sk-toggleable\"><input class=\"sk-toggleable__control sk-hidden--visually\" id=\"2d332b0a-ed92-4b0d-b463-7b628d26b1f9\" type=\"checkbox\" ><label for=\"2d332b0a-ed92-4b0d-b463-7b628d26b1f9\" class=\"sk-toggleable__label sk-toggleable__label-arrow\">RandomForestRegressor</label><div class=\"sk-toggleable__content\"><pre>RandomForestRegressor(random_state=0)</pre></div></div></div></div></div></div></div>"
      ],
      "text/plain": [
       "Pipeline(steps=[('preprocessor',\n",
       "                 ColumnTransformer(remainder='passthrough',\n",
       "                                   transformers=[('cat',\n",
       "                                                  Pipeline(steps=[('imputer',\n",
       "                                                                   SimpleImputer(strategy='most_frequent')),\n",
       "                                                                  ('ordinal',\n",
       "                                                                   OrdinalEncoder(categories=[[1,\n",
       "                                                                                               2,\n",
       "                                                                                               3,\n",
       "                                                                                               4,\n",
       "                                                                                               5,\n",
       "                                                                                               6,\n",
       "                                                                                               7,\n",
       "                                                                                               8,\n",
       "                                                                                               9,\n",
       "                                                                                               10,\n",
       "                                                                                               11,\n",
       "                                                                                               12,\n",
       "                                                                                               13,\n",
       "                                                                                               14,\n",
       "                                                                                               15,\n",
       "                                                                                               16,\n",
       "                                                                                               17,\n",
       "                                                                                               18,\n",
       "                                                                                               19,\n",
       "                                                                                               20,\n",
       "                                                                                               21,\n",
       "                                                                                               22,\n",
       "                                                                                               23,\n",
       "                                                                                               24,\n",
       "                                                                                               25,\n",
       "                                                                                               26,\n",
       "                                                                                               27,\n",
       "                                                                                               28,\n",
       "                                                                                               29,\n",
       "                                                                                               30, ...]]))]),\n",
       "                                                  ['Store'])])),\n",
       "                ('model', RandomForestRegressor(random_state=0))])"
      ]
     },
     "execution_count": 30,
     "metadata": {},
     "output_type": "execute_result"
    }
   ],
   "source": [
    "#from sklearn.metrics import mean_absolute_error  # --> DONE UPFRONT (see top section \"Setting Up the Workspace\")\n",
    "#from sklearn.preprocessing import OrdinalEncoder  # --> DONE UPFRONT (see top section \"Setting Up the Workspace\")\n",
    "\n",
    "# Preprocessing for categorical data\n",
    "categorical_transformer = Pipeline(steps=[\n",
    "    ('imputer', SimpleImputer(strategy='most_frequent')),\n",
    "    ('ordinal', OrdinalEncoder(categories=[list(walmart_data.Store.unique())]))\n",
    "])\n",
    "\n",
    "# Bundle preprocessing for numerical and categorical data\n",
    "preprocessor = ColumnTransformer(\n",
    "    transformers=[\n",
    " #       ('num', numerical_transformer, numerical_cols),\n",
    "        ('cat', categorical_transformer, categorical_cols)\n",
    "    ],remainder='passthrough')\n",
    "\n",
    "# Bundle preprocessing and modeling code in a pipeline\n",
    "my_pipeline = Pipeline(steps=[('preprocessor', preprocessor),\n",
    "                              ('model', model)\n",
    "                             ])\n",
    "my_pipeline"
   ]
  },
  {
   "cell_type": "code",
   "execution_count": 31,
   "id": "dfa0dfb5",
   "metadata": {},
   "outputs": [
    {
     "name": "stdout",
     "output_type": "stream",
     "text": [
      "MAE: Ordinal Encoder 102223.73129355072\n",
      "MAPE: Ordinal Encoder 0.1023973195668454\n",
      "RMSE: Ordinal encoder 182382.46364013187\n"
     ]
    }
   ],
   "source": [
    "# Preprocessing of training data, fit model \n",
    "my_pipeline.fit(X_train, y_train)\n",
    "\n",
    "# Preprocessing of validation data, get predictions\n",
    "preds = my_pipeline.predict(X_valid)\n",
    "\n",
    "# Evaluate the model\n",
    "score = mean_absolute_error(y_valid, preds)\n",
    "print('MAE: Ordinal Encoder', score)\n",
    "print('MAPE: Ordinal Encoder', mean_absolute_percentage_error(y_valid, preds))\n",
    "print('RMSE: Ordinal encoder', mean_squared_error(y_valid, preds,squared=False))"
   ]
  },
  {
   "attachments": {},
   "cell_type": "markdown",
   "id": "a4e53801",
   "metadata": {},
   "source": [
    "Example of pipeline with categorical variables dropped... (eg. Approach 1 above: this will generally only work well if the columns did not contain meaningful information.)"
   ]
  },
  {
   "cell_type": "code",
   "execution_count": 32,
   "id": "c2a1b7c8",
   "metadata": {
    "scrolled": true
   },
   "outputs": [
    {
     "data": {
      "text/html": [
       "<style>#sk-643fe41a-f9c7-4613-840f-6e8a2bdc7013 {color: black;background-color: white;}#sk-643fe41a-f9c7-4613-840f-6e8a2bdc7013 pre{padding: 0;}#sk-643fe41a-f9c7-4613-840f-6e8a2bdc7013 div.sk-toggleable {background-color: white;}#sk-643fe41a-f9c7-4613-840f-6e8a2bdc7013 label.sk-toggleable__label {cursor: pointer;display: block;width: 100%;margin-bottom: 0;padding: 0.3em;box-sizing: border-box;text-align: center;}#sk-643fe41a-f9c7-4613-840f-6e8a2bdc7013 label.sk-toggleable__label-arrow:before {content: \"▸\";float: left;margin-right: 0.25em;color: #696969;}#sk-643fe41a-f9c7-4613-840f-6e8a2bdc7013 label.sk-toggleable__label-arrow:hover:before {color: black;}#sk-643fe41a-f9c7-4613-840f-6e8a2bdc7013 div.sk-estimator:hover label.sk-toggleable__label-arrow:before {color: black;}#sk-643fe41a-f9c7-4613-840f-6e8a2bdc7013 div.sk-toggleable__content {max-height: 0;max-width: 0;overflow: hidden;text-align: left;background-color: #f0f8ff;}#sk-643fe41a-f9c7-4613-840f-6e8a2bdc7013 div.sk-toggleable__content pre {margin: 0.2em;color: black;border-radius: 0.25em;background-color: #f0f8ff;}#sk-643fe41a-f9c7-4613-840f-6e8a2bdc7013 input.sk-toggleable__control:checked~div.sk-toggleable__content {max-height: 200px;max-width: 100%;overflow: auto;}#sk-643fe41a-f9c7-4613-840f-6e8a2bdc7013 input.sk-toggleable__control:checked~label.sk-toggleable__label-arrow:before {content: \"▾\";}#sk-643fe41a-f9c7-4613-840f-6e8a2bdc7013 div.sk-estimator input.sk-toggleable__control:checked~label.sk-toggleable__label {background-color: #d4ebff;}#sk-643fe41a-f9c7-4613-840f-6e8a2bdc7013 div.sk-label input.sk-toggleable__control:checked~label.sk-toggleable__label {background-color: #d4ebff;}#sk-643fe41a-f9c7-4613-840f-6e8a2bdc7013 input.sk-hidden--visually {border: 0;clip: rect(1px 1px 1px 1px);clip: rect(1px, 1px, 1px, 1px);height: 1px;margin: -1px;overflow: hidden;padding: 0;position: absolute;width: 1px;}#sk-643fe41a-f9c7-4613-840f-6e8a2bdc7013 div.sk-estimator {font-family: monospace;background-color: #f0f8ff;border: 1px dotted black;border-radius: 0.25em;box-sizing: border-box;margin-bottom: 0.5em;}#sk-643fe41a-f9c7-4613-840f-6e8a2bdc7013 div.sk-estimator:hover {background-color: #d4ebff;}#sk-643fe41a-f9c7-4613-840f-6e8a2bdc7013 div.sk-parallel-item::after {content: \"\";width: 100%;border-bottom: 1px solid gray;flex-grow: 1;}#sk-643fe41a-f9c7-4613-840f-6e8a2bdc7013 div.sk-label:hover label.sk-toggleable__label {background-color: #d4ebff;}#sk-643fe41a-f9c7-4613-840f-6e8a2bdc7013 div.sk-serial::before {content: \"\";position: absolute;border-left: 1px solid gray;box-sizing: border-box;top: 2em;bottom: 0;left: 50%;}#sk-643fe41a-f9c7-4613-840f-6e8a2bdc7013 div.sk-serial {display: flex;flex-direction: column;align-items: center;background-color: white;padding-right: 0.2em;padding-left: 0.2em;}#sk-643fe41a-f9c7-4613-840f-6e8a2bdc7013 div.sk-item {z-index: 1;}#sk-643fe41a-f9c7-4613-840f-6e8a2bdc7013 div.sk-parallel {display: flex;align-items: stretch;justify-content: center;background-color: white;}#sk-643fe41a-f9c7-4613-840f-6e8a2bdc7013 div.sk-parallel::before {content: \"\";position: absolute;border-left: 1px solid gray;box-sizing: border-box;top: 2em;bottom: 0;left: 50%;}#sk-643fe41a-f9c7-4613-840f-6e8a2bdc7013 div.sk-parallel-item {display: flex;flex-direction: column;position: relative;background-color: white;}#sk-643fe41a-f9c7-4613-840f-6e8a2bdc7013 div.sk-parallel-item:first-child::after {align-self: flex-end;width: 50%;}#sk-643fe41a-f9c7-4613-840f-6e8a2bdc7013 div.sk-parallel-item:last-child::after {align-self: flex-start;width: 50%;}#sk-643fe41a-f9c7-4613-840f-6e8a2bdc7013 div.sk-parallel-item:only-child::after {width: 0;}#sk-643fe41a-f9c7-4613-840f-6e8a2bdc7013 div.sk-dashed-wrapped {border: 1px dashed gray;margin: 0 0.4em 0.5em 0.4em;box-sizing: border-box;padding-bottom: 0.4em;background-color: white;position: relative;}#sk-643fe41a-f9c7-4613-840f-6e8a2bdc7013 div.sk-label label {font-family: monospace;font-weight: bold;background-color: white;display: inline-block;line-height: 1.2em;}#sk-643fe41a-f9c7-4613-840f-6e8a2bdc7013 div.sk-label-container {position: relative;z-index: 2;text-align: center;}#sk-643fe41a-f9c7-4613-840f-6e8a2bdc7013 div.sk-container {/* jupyter's `normalize.less` sets `[hidden] { display: none; }` but bootstrap.min.css set `[hidden] { display: none !important; }` so we also need the `!important` here to be able to override the default hidden behavior on the sphinx rendered scikit-learn.org. See: https://github.com/scikit-learn/scikit-learn/issues/21755 */display: inline-block !important;position: relative;}#sk-643fe41a-f9c7-4613-840f-6e8a2bdc7013 div.sk-text-repr-fallback {display: none;}</style><div id=\"sk-643fe41a-f9c7-4613-840f-6e8a2bdc7013\" class=\"sk-top-container\"><div class=\"sk-text-repr-fallback\"><pre>Pipeline(steps=[(&#x27;preprocessor&#x27;,\n",
       "                 ColumnTransformer(remainder=&#x27;passthrough&#x27;,\n",
       "                                   transformers=[(&#x27;cat&#x27;,\n",
       "                                                  Pipeline(steps=[(&#x27;imputer&#x27;,\n",
       "                                                                   SimpleImputer(strategy=&#x27;most_frequent&#x27;)),\n",
       "                                                                  (&#x27;onehot&#x27;,\n",
       "                                                                   OneHotEncoder())]),\n",
       "                                                  [])])),\n",
       "                (&#x27;model&#x27;, RandomForestRegressor(random_state=0))])</pre><b>Please rerun this cell to show the HTML repr or trust the notebook.</b></div><div class=\"sk-container\" hidden><div class=\"sk-item sk-dashed-wrapped\"><div class=\"sk-label-container\"><div class=\"sk-label sk-toggleable\"><input class=\"sk-toggleable__control sk-hidden--visually\" id=\"1ed8dbba-0a1e-424d-ac3c-ed300e04ac60\" type=\"checkbox\" ><label for=\"1ed8dbba-0a1e-424d-ac3c-ed300e04ac60\" class=\"sk-toggleable__label sk-toggleable__label-arrow\">Pipeline</label><div class=\"sk-toggleable__content\"><pre>Pipeline(steps=[(&#x27;preprocessor&#x27;,\n",
       "                 ColumnTransformer(remainder=&#x27;passthrough&#x27;,\n",
       "                                   transformers=[(&#x27;cat&#x27;,\n",
       "                                                  Pipeline(steps=[(&#x27;imputer&#x27;,\n",
       "                                                                   SimpleImputer(strategy=&#x27;most_frequent&#x27;)),\n",
       "                                                                  (&#x27;onehot&#x27;,\n",
       "                                                                   OneHotEncoder())]),\n",
       "                                                  [])])),\n",
       "                (&#x27;model&#x27;, RandomForestRegressor(random_state=0))])</pre></div></div></div><div class=\"sk-serial\"><div class=\"sk-item sk-dashed-wrapped\"><div class=\"sk-label-container\"><div class=\"sk-label sk-toggleable\"><input class=\"sk-toggleable__control sk-hidden--visually\" id=\"86c36fda-ee94-4f28-b1cc-4784ba27b175\" type=\"checkbox\" ><label for=\"86c36fda-ee94-4f28-b1cc-4784ba27b175\" class=\"sk-toggleable__label sk-toggleable__label-arrow\">preprocessor: ColumnTransformer</label><div class=\"sk-toggleable__content\"><pre>ColumnTransformer(remainder=&#x27;passthrough&#x27;,\n",
       "                  transformers=[(&#x27;cat&#x27;,\n",
       "                                 Pipeline(steps=[(&#x27;imputer&#x27;,\n",
       "                                                  SimpleImputer(strategy=&#x27;most_frequent&#x27;)),\n",
       "                                                 (&#x27;onehot&#x27;, OneHotEncoder())]),\n",
       "                                 [])])</pre></div></div></div><div class=\"sk-parallel\"><div class=\"sk-parallel-item\"><div class=\"sk-item\"><div class=\"sk-label-container\"><div class=\"sk-label sk-toggleable\"><input class=\"sk-toggleable__control sk-hidden--visually\" id=\"abba4974-737f-435e-8fd7-e8c62da6c50d\" type=\"checkbox\" ><label for=\"abba4974-737f-435e-8fd7-e8c62da6c50d\" class=\"sk-toggleable__label sk-toggleable__label-arrow\">cat</label><div class=\"sk-toggleable__content\"><pre>[]</pre></div></div></div><div class=\"sk-serial\"><div class=\"sk-item\"><div class=\"sk-serial\"><div class=\"sk-item\"><div class=\"sk-estimator sk-toggleable\"><input class=\"sk-toggleable__control sk-hidden--visually\" id=\"8368e725-8e70-4b33-b274-3a0785ab2fae\" type=\"checkbox\" ><label for=\"8368e725-8e70-4b33-b274-3a0785ab2fae\" class=\"sk-toggleable__label sk-toggleable__label-arrow\">SimpleImputer</label><div class=\"sk-toggleable__content\"><pre>SimpleImputer(strategy=&#x27;most_frequent&#x27;)</pre></div></div></div><div class=\"sk-item\"><div class=\"sk-estimator sk-toggleable\"><input class=\"sk-toggleable__control sk-hidden--visually\" id=\"eeb286a4-2d88-4d46-baef-9d14952dc85b\" type=\"checkbox\" ><label for=\"eeb286a4-2d88-4d46-baef-9d14952dc85b\" class=\"sk-toggleable__label sk-toggleable__label-arrow\">OneHotEncoder</label><div class=\"sk-toggleable__content\"><pre>OneHotEncoder()</pre></div></div></div></div></div></div></div></div><div class=\"sk-parallel-item\"><div class=\"sk-item\"><div class=\"sk-label-container\"><div class=\"sk-label sk-toggleable\"><input class=\"sk-toggleable__control sk-hidden--visually\" id=\"98c43153-7ae8-4c2e-9c34-ccdce2feca55\" type=\"checkbox\" ><label for=\"98c43153-7ae8-4c2e-9c34-ccdce2feca55\" class=\"sk-toggleable__label sk-toggleable__label-arrow\">remainder</label><div class=\"sk-toggleable__content\"><pre></pre></div></div></div><div class=\"sk-serial\"><div class=\"sk-item\"><div class=\"sk-estimator sk-toggleable\"><input class=\"sk-toggleable__control sk-hidden--visually\" id=\"71c42a41-19b5-402d-aaed-965b51249d09\" type=\"checkbox\" ><label for=\"71c42a41-19b5-402d-aaed-965b51249d09\" class=\"sk-toggleable__label sk-toggleable__label-arrow\">passthrough</label><div class=\"sk-toggleable__content\"><pre>passthrough</pre></div></div></div></div></div></div></div></div><div class=\"sk-item\"><div class=\"sk-estimator sk-toggleable\"><input class=\"sk-toggleable__control sk-hidden--visually\" id=\"04f4c8c6-27bc-41e0-bafe-2e32411d8fcf\" type=\"checkbox\" ><label for=\"04f4c8c6-27bc-41e0-bafe-2e32411d8fcf\" class=\"sk-toggleable__label sk-toggleable__label-arrow\">RandomForestRegressor</label><div class=\"sk-toggleable__content\"><pre>RandomForestRegressor(random_state=0)</pre></div></div></div></div></div></div></div>"
      ],
      "text/plain": [
       "Pipeline(steps=[('preprocessor',\n",
       "                 ColumnTransformer(remainder='passthrough',\n",
       "                                   transformers=[('cat',\n",
       "                                                  Pipeline(steps=[('imputer',\n",
       "                                                                   SimpleImputer(strategy='most_frequent')),\n",
       "                                                                  ('onehot',\n",
       "                                                                   OneHotEncoder())]),\n",
       "                                                  [])])),\n",
       "                ('model', RandomForestRegressor(random_state=0))])"
      ]
     },
     "execution_count": 32,
     "metadata": {},
     "output_type": "execute_result"
    }
   ],
   "source": [
    "#from sklearn.metrics import mean_absolute_error  # --> DONE UPFRONT (see top section \"Setting Up the Workspace\")\n",
    "#from sklearn.metrics import mean_absolute_percentage_error  # --> DONE UPFRONT (see top section \"Setting Up the Workspace\")\n",
    "#from sklearn.preprocessing import OrdinalEncoder  # --> DONE UPFRONT (see top section \"Setting Up the Workspace\")\n",
    "\n",
    "categorical_cols = []\n",
    "\n",
    "# Preprocessing for categorical data\n",
    "categorical_transformer = Pipeline(steps=[\n",
    "    ('imputer', SimpleImputer(strategy='most_frequent')),\n",
    "    ('onehot', OneHotEncoder(handle_unknown='error'))\n",
    "])\n",
    "\n",
    "# Bundle preprocessing for numerical and categorical data\n",
    "preprocessor = ColumnTransformer(\n",
    "    transformers=[\n",
    "   #     ('num', numerical_transformer, numerical_cols),\n",
    "        ('cat', categorical_transformer, categorical_cols)\n",
    "    ], remainder='passthrough')\n",
    "\n",
    "# Bundle preprocessing and modeling code in a pipeline\n",
    "my_pipeline = Pipeline(steps=[('preprocessor', preprocessor),\n",
    "                              ('model', model)\n",
    "                             ])\n",
    "my_pipeline"
   ]
  },
  {
   "cell_type": "code",
   "execution_count": 33,
   "id": "80488f6e",
   "metadata": {},
   "outputs": [
    {
     "name": "stdout",
     "output_type": "stream",
     "text": [
      "MAE: NO Categories 440064.5559917593\n",
      "MAPE: NO Categories 0.7195844501980123\n",
      "RMSE: NO Categories 555118.620790233\n"
     ]
    }
   ],
   "source": [
    "# Preprocessing of training data, fit model \n",
    "my_pipeline.fit(X_train.drop('Store',axis=1), y_train)\n",
    "\n",
    "# Preprocessing of validation data, get predictions\n",
    "preds = my_pipeline.predict(X_valid.drop('Store',axis=1))\n",
    "\n",
    "# Evaluate the model\n",
    "score = mean_absolute_error(y_valid, preds)\n",
    "print('MAE: NO Categories', score)\n",
    "\n",
    "print('MAPE: NO Categories', mean_absolute_percentage_error(y_valid, preds))\n",
    "print('RMSE: NO Categories', mean_squared_error(y_valid, preds,squared=False))"
   ]
  },
  {
   "attachments": {},
   "cell_type": "markdown",
   "id": "3e71e88a",
   "metadata": {
    "papermill": {
     "duration": 0.009528,
     "end_time": "2021-11-09T00:06:28.217993",
     "exception": false,
     "start_time": "2021-11-09T00:06:28.208465",
     "status": "completed"
    },
    "tags": []
   },
   "source": [
    "## Take-away: Pipelines\n",
    "\n",
    "*Pipelines are valuable for cleaning up machine learning code and avoiding errors, and are especially useful for workflows with sophisticated data preprocessing.*\n",
    "\n",
    "In the next class, you will learn how to use **cross-validation** for better measures of model performance. \n",
    "While it's _possible_ to do cross-validation without pipelines, it is quite difficult!  Using a pipeline will make the code remarkably straightforward."
   ]
  }
 ],
 "metadata": {
  "kernelspec": {
   "display_name": "base",
   "language": "python",
   "name": "python3"
  },
  "language_info": {
   "codemirror_mode": {
    "name": "ipython",
    "version": 3
   },
   "file_extension": ".py",
   "mimetype": "text/x-python",
   "name": "python",
   "nbconvert_exporter": "python",
   "pygments_lexer": "ipython3",
   "version": "3.8.8"
  },
  "papermill": {
   "default_parameters": {},
   "duration": 9.112571,
   "end_time": "2021-11-09T00:07:27.332055",
   "environment_variables": {},
   "exception": null,
   "input_path": "__notebook__.ipynb",
   "output_path": "__notebook__.ipynb",
   "parameters": {},
   "start_time": "2021-11-09T00:07:18.219484",
   "version": "2.3.3"
  },
  "vscode": {
   "interpreter": {
    "hash": "dc5f856df681cf36bc5efddcb2a84a2cd35056a6cd8ebd45133cbd641251ee46"
   }
  }
 },
 "nbformat": 4,
 "nbformat_minor": 5
}
