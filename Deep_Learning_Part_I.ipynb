{
  "cells": [
    {
      "cell_type": "markdown",
      "id": "7966cc67",
      "metadata": {
        "id": "7966cc67"
      },
      "source": [
        "# Welcome to Deep Learning! \n",
        "\n",
        "Welcome to SCM.256 H4 *Introduction to Deep Learning*! You're about to learn all you need to get started building your own deep neural networks. Using Keras and Tensorflow you'll learn how to:\n",
        "- create a **fully-connected** neural network architecture\n",
        "- apply neural nets to two classic ML problems which you have seen in H3: **regression** and **classification**\n",
        "- train neural nets with **stochastic gradient descent**, and\n",
        "- improve performance with **dropout**, **batch normalization**, and other techniques\n",
        "\n",
        "The lectures will introduce you to these topics with fully-worked examples, and then in the labs on Thursday, you'll explore these topics in more depth and apply them to real-world datasets.\n",
        "\n",
        "Let's get started!\n",
        "\n"
      ]
    },
    {
      "cell_type": "markdown",
      "id": "8f5e7f88",
      "metadata": {
        "id": "8f5e7f88"
      },
      "source": [
        "## What is Deep Learning? \n",
        "\n",
        "Some of the most impressive advances in artificial intelligence in recent years have been in the field of *deep learning*. Natural language translation, image recognition, and game playing are all tasks where deep learning models have neared or even exceeded human-level performance.\n",
        "\n",
        "So what is deep learning? **Deep learning** is an approach to machine learning characterized by deep stacks of computations. This depth of computation is what has enabled deep learning models to disentangle the kinds of complex and hierarchical patterns found in the most challenging real-world datasets.\n",
        "\n",
        "Through their power and scalability **neural networks** have become the defining model of deep learning.  Neural networks are composed of neurons, where each neuron individually performs only a simple computation. The power of a neural network comes instead from the complexity of the connections these neurons can form."
      ]
    },
    {
      "cell_type": "markdown",
      "id": "247953e2",
      "metadata": {
        "id": "247953e2"
      },
      "source": [
        "## Setting Up the Workspace"
      ]
    },
    {
      "cell_type": "code",
      "execution_count": 22,
      "id": "5563b1b3",
      "metadata": {
        "id": "5563b1b3",
        "outputId": "946b6605-cecb-41b7-8900-52d53de497e7",
        "colab": {
          "base_uri": "https://localhost:8080/",
          "height": 35
        }
      },
      "outputs": [
        {
          "output_type": "execute_result",
          "data": {
            "text/plain": [
              "'1.2.2'"
            ],
            "application/vnd.google.colaboratory.intrinsic+json": {
              "type": "string"
            }
          },
          "metadata": {},
          "execution_count": 22
        }
      ],
      "source": [
        "#!pip install sklearn\n",
        "import sklearn\n",
        "sklearn.__version__"
      ]
    },
    {
      "cell_type": "code",
      "execution_count": 2,
      "id": "bae6d2b5",
      "metadata": {
        "id": "bae6d2b5",
        "colab": {
          "base_uri": "https://localhost:8080/"
        },
        "outputId": "695719df-3ed5-4eb1-9ae9-5e755bbc6e07"
      },
      "outputs": [
        {
          "output_type": "stream",
          "name": "stderr",
          "text": [
            "<ipython-input-2-43ce76df4966>:20: MatplotlibDeprecationWarning: The seaborn styles shipped by Matplotlib are deprecated since 3.6, as they no longer correspond to the styles shipped by seaborn. However, they will remain available as 'seaborn-v0_8-<style>'. Alternatively, directly use the seaborn API instead.\n",
            "  plt.style.use('seaborn-whitegrid')\n"
          ]
        }
      ],
      "source": [
        "\n",
        "import pandas as pd\n",
        "import numpy as np\n",
        "\n",
        "from sklearn.linear_model import LinearRegression\n",
        "import tensorflow as tf\n",
        "\n",
        "from tensorflow import keras\n",
        "from tensorflow.keras import layers\n",
        "\n",
        "from IPython.display import display\n",
        "from sklearn.preprocessing import MinMaxScaler, StandardScaler\n",
        "from sklearn.impute import SimpleImputer\n",
        "from sklearn.pipeline import Pipeline\n",
        "from sklearn.compose import make_column_transformer\n",
        "from sklearn.model_selection import train_test_split\n",
        "from sklearn import set_config\n",
        "\n",
        "# Setup plotting\n",
        "import matplotlib.pyplot as plt\n",
        "plt.style.use('seaborn-whitegrid')\n",
        "\n",
        "# Set Matplotlib defaults\n",
        "plt.rc('figure', autolayout=True)\n",
        "plt.rc('axes', labelweight='bold', labelsize='large',\n",
        "       titleweight='bold', titlesize=18, titlepad=10)\n",
        "\n"
      ]
    },
    {
      "cell_type": "markdown",
      "id": "e27f4fe1",
      "metadata": {
        "id": "e27f4fe1"
      },
      "source": [
        "## Loading the Data\n",
        "\n",
        "The *Big Mart Sales Prediction* dataset consists of sales data for 1559 products across 10 stores in different cities. Also, certain attributes of each product and store have been defined. The aim is to build a model to predict the sales of each product at a particular outlet.\n",
        "\n",
        "Using this model, BigMart will try to understand the properties of products and outlets which play a key role in increasing sales.\n",
        "\n",
        "Since we already explored the Big Mart data extensively before Study Trek and Spring Break, we simply run the next cell to display the first few rows of the columns of data that we want to use."
      ]
    },
    {
      "cell_type": "code",
      "execution_count": 3,
      "id": "29fb55b7",
      "metadata": {
        "id": "29fb55b7",
        "outputId": "68a00586-2b24-42ec-d710-3875fbfc3b42",
        "colab": {
          "base_uri": "https://localhost:8080/",
          "height": 206
        }
      },
      "outputs": [
        {
          "output_type": "execute_result",
          "data": {
            "text/plain": [
              "   Item_Visibility  Item_MRP  Item_Weight  Item_Outlet_Sales\n",
              "0         0.016047  249.8092         9.30          3735.1380\n",
              "1         0.019278   48.2692         5.92           443.4228\n",
              "2         0.016760  141.6180        17.50          2097.2700\n",
              "3         0.000000  182.0950        19.20           732.3800\n",
              "4         0.000000   53.8614         8.93           994.7052"
            ],
            "text/html": [
              "\n",
              "  <div id=\"df-7ce6163e-57ac-4898-82f7-56ef1e9bad23\">\n",
              "    <div class=\"colab-df-container\">\n",
              "      <div>\n",
              "<style scoped>\n",
              "    .dataframe tbody tr th:only-of-type {\n",
              "        vertical-align: middle;\n",
              "    }\n",
              "\n",
              "    .dataframe tbody tr th {\n",
              "        vertical-align: top;\n",
              "    }\n",
              "\n",
              "    .dataframe thead th {\n",
              "        text-align: right;\n",
              "    }\n",
              "</style>\n",
              "<table border=\"1\" class=\"dataframe\">\n",
              "  <thead>\n",
              "    <tr style=\"text-align: right;\">\n",
              "      <th></th>\n",
              "      <th>Item_Visibility</th>\n",
              "      <th>Item_MRP</th>\n",
              "      <th>Item_Weight</th>\n",
              "      <th>Item_Outlet_Sales</th>\n",
              "    </tr>\n",
              "  </thead>\n",
              "  <tbody>\n",
              "    <tr>\n",
              "      <th>0</th>\n",
              "      <td>0.016047</td>\n",
              "      <td>249.8092</td>\n",
              "      <td>9.30</td>\n",
              "      <td>3735.1380</td>\n",
              "    </tr>\n",
              "    <tr>\n",
              "      <th>1</th>\n",
              "      <td>0.019278</td>\n",
              "      <td>48.2692</td>\n",
              "      <td>5.92</td>\n",
              "      <td>443.4228</td>\n",
              "    </tr>\n",
              "    <tr>\n",
              "      <th>2</th>\n",
              "      <td>0.016760</td>\n",
              "      <td>141.6180</td>\n",
              "      <td>17.50</td>\n",
              "      <td>2097.2700</td>\n",
              "    </tr>\n",
              "    <tr>\n",
              "      <th>3</th>\n",
              "      <td>0.000000</td>\n",
              "      <td>182.0950</td>\n",
              "      <td>19.20</td>\n",
              "      <td>732.3800</td>\n",
              "    </tr>\n",
              "    <tr>\n",
              "      <th>4</th>\n",
              "      <td>0.000000</td>\n",
              "      <td>53.8614</td>\n",
              "      <td>8.93</td>\n",
              "      <td>994.7052</td>\n",
              "    </tr>\n",
              "  </tbody>\n",
              "</table>\n",
              "</div>\n",
              "      <button class=\"colab-df-convert\" onclick=\"convertToInteractive('df-7ce6163e-57ac-4898-82f7-56ef1e9bad23')\"\n",
              "              title=\"Convert this dataframe to an interactive table.\"\n",
              "              style=\"display:none;\">\n",
              "        \n",
              "  <svg xmlns=\"http://www.w3.org/2000/svg\" height=\"24px\"viewBox=\"0 0 24 24\"\n",
              "       width=\"24px\">\n",
              "    <path d=\"M0 0h24v24H0V0z\" fill=\"none\"/>\n",
              "    <path d=\"M18.56 5.44l.94 2.06.94-2.06 2.06-.94-2.06-.94-.94-2.06-.94 2.06-2.06.94zm-11 1L8.5 8.5l.94-2.06 2.06-.94-2.06-.94L8.5 2.5l-.94 2.06-2.06.94zm10 10l.94 2.06.94-2.06 2.06-.94-2.06-.94-.94-2.06-.94 2.06-2.06.94z\"/><path d=\"M17.41 7.96l-1.37-1.37c-.4-.4-.92-.59-1.43-.59-.52 0-1.04.2-1.43.59L10.3 9.45l-7.72 7.72c-.78.78-.78 2.05 0 2.83L4 21.41c.39.39.9.59 1.41.59.51 0 1.02-.2 1.41-.59l7.78-7.78 2.81-2.81c.8-.78.8-2.07 0-2.86zM5.41 20L4 18.59l7.72-7.72 1.47 1.35L5.41 20z\"/>\n",
              "  </svg>\n",
              "      </button>\n",
              "      \n",
              "  <style>\n",
              "    .colab-df-container {\n",
              "      display:flex;\n",
              "      flex-wrap:wrap;\n",
              "      gap: 12px;\n",
              "    }\n",
              "\n",
              "    .colab-df-convert {\n",
              "      background-color: #E8F0FE;\n",
              "      border: none;\n",
              "      border-radius: 50%;\n",
              "      cursor: pointer;\n",
              "      display: none;\n",
              "      fill: #1967D2;\n",
              "      height: 32px;\n",
              "      padding: 0 0 0 0;\n",
              "      width: 32px;\n",
              "    }\n",
              "\n",
              "    .colab-df-convert:hover {\n",
              "      background-color: #E2EBFA;\n",
              "      box-shadow: 0px 1px 2px rgba(60, 64, 67, 0.3), 0px 1px 3px 1px rgba(60, 64, 67, 0.15);\n",
              "      fill: #174EA6;\n",
              "    }\n",
              "\n",
              "    [theme=dark] .colab-df-convert {\n",
              "      background-color: #3B4455;\n",
              "      fill: #D2E3FC;\n",
              "    }\n",
              "\n",
              "    [theme=dark] .colab-df-convert:hover {\n",
              "      background-color: #434B5C;\n",
              "      box-shadow: 0px 1px 3px 1px rgba(0, 0, 0, 0.15);\n",
              "      filter: drop-shadow(0px 1px 2px rgba(0, 0, 0, 0.3));\n",
              "      fill: #FFFFFF;\n",
              "    }\n",
              "  </style>\n",
              "\n",
              "      <script>\n",
              "        const buttonEl =\n",
              "          document.querySelector('#df-7ce6163e-57ac-4898-82f7-56ef1e9bad23 button.colab-df-convert');\n",
              "        buttonEl.style.display =\n",
              "          google.colab.kernel.accessAllowed ? 'block' : 'none';\n",
              "\n",
              "        async function convertToInteractive(key) {\n",
              "          const element = document.querySelector('#df-7ce6163e-57ac-4898-82f7-56ef1e9bad23');\n",
              "          const dataTable =\n",
              "            await google.colab.kernel.invokeFunction('convertToInteractive',\n",
              "                                                     [key], {});\n",
              "          if (!dataTable) return;\n",
              "\n",
              "          const docLinkHtml = 'Like what you see? Visit the ' +\n",
              "            '<a target=\"_blank\" href=https://colab.research.google.com/notebooks/data_table.ipynb>data table notebook</a>'\n",
              "            + ' to learn more about interactive tables.';\n",
              "          element.innerHTML = '';\n",
              "          dataTable['output_type'] = 'display_data';\n",
              "          await google.colab.output.renderOutput(dataTable, element);\n",
              "          const docLink = document.createElement('div');\n",
              "          docLink.innerHTML = docLinkHtml;\n",
              "          element.appendChild(docLink);\n",
              "        }\n",
              "      </script>\n",
              "    </div>\n",
              "  </div>\n",
              "  "
            ]
          },
          "metadata": {},
          "execution_count": 3
        }
      ],
      "source": [
        "#import pandas as pd\n",
        "df_sales = pd.read_csv('https://www.dropbox.com/s/yqaymhdf7bvvair/bigmart_sales_predictions.csv?dl=1')\n",
        "\n",
        "#Keep only columns that we use as features for \n",
        "df_sales = df_sales[['Item_Visibility','Item_MRP','Item_Weight','Item_Outlet_Sales']]\n",
        "df_sales.head(5)"
      ]
    },
    {
      "cell_type": "markdown",
      "id": "d356ab20",
      "metadata": {
        "id": "d356ab20"
      },
      "source": [
        "You can get the number of rows and columns of a dataframe (or a Numpy array) with the `shape` attribute."
      ]
    },
    {
      "cell_type": "code",
      "execution_count": 4,
      "id": "e025f20a",
      "metadata": {
        "id": "e025f20a",
        "outputId": "be36acf4-44c0-41db-ad83-35d6bb5ed6c8",
        "colab": {
          "base_uri": "https://localhost:8080/"
        }
      },
      "outputs": [
        {
          "output_type": "execute_result",
          "data": {
            "text/plain": [
              "(8523, 4)"
            ]
          },
          "metadata": {},
          "execution_count": 4
        }
      ],
      "source": [
        "df_sales.shape # (rows, columns)"
      ]
    },
    {
      "cell_type": "markdown",
      "id": "ace11730",
      "metadata": {
        "papermill": {
          "duration": 0.004767,
          "end_time": "2022-05-05T17:51:42.969669",
          "exception": false,
          "start_time": "2022-05-05T17:51:42.964902",
          "status": "completed"
        },
        "tags": [],
        "id": "ace11730"
      },
      "source": [
        "## Example - The Linear Unit as a Model \n",
        "\n",
        "Though individual neurons will usually only function as part of a larger network, it's often useful to start with a single neuron model as a baseline. Single neuron models are *linear* models. \n",
        "\n",
        "Let's think about how this might work on a dataset like *Big Mart Sales Prediction*. Training a model with `'Item_MRP'` (maximum retail price per SKU) as input and `'Item_Outlet_Sales'` (annual sales per store per SKU) as output, we might find the bias is `b= -12` and the weight is `w= 15`. We could estimate the annual sales of a particular SKU at a particular store with maximum retail price 249.8 monetary units like this:\n",
        "\n",
        "<figure style=\"padding: 1em;\">\n",
        "<img src=\"https://i.ibb.co/jw8Y8dL/Untitled.png\" width=\"1000\" alt=\"Computing with the linear unit.\">\n",
        "<figcaption style=\"textalign: center; font-style: italic\"><center>Computing with the linear unit.\n",
        "</center></figcaption>\n",
        "</figure>\n",
        "\n",
        "And, checking against our formula, we have $sales = 15 \\times 249.8 -12 = 3735$, just like we expect.\n",
        "\n"
      ]
    },
    {
      "cell_type": "markdown",
      "id": "80d10fdf",
      "metadata": {
        "papermill": {
          "duration": 0.006244,
          "end_time": "2022-05-05T17:51:42.959708",
          "exception": false,
          "start_time": "2022-05-05T17:51:42.953464",
          "status": "completed"
        },
        "tags": [],
        "id": "80d10fdf"
      },
      "source": [
        "\n",
        "---\n",
        "# 1. A Single Neuron\n",
        "\n",
        "## The Linear Unit \n",
        "\n",
        "So let's begin with the fundamental component of a neural network: the individual neuron. As a diagram, a **neuron** (or **unit**) with one input looks like:\n",
        "\n",
        "<figure style=\"padding: 1em;\">\n",
        "<img src=\"https://i.imgur.com/mfOlDR6.png\" width=\"250\" alt=\"Diagram of a linear unit.\">\n",
        "<figcaption style=\"textalign: center; font-style: italic\"><center>The Linear Unit: y = w x + b\n",
        "</center></figcaption>\n",
        "</figure>\n",
        "\n",
        "The input is `x`. Its connection to the neuron has a **weight** which is `w`. Whenever a value flows through a connection, you multiply the value by the connection's weight. For the input `x`, what reaches the neuron is `w * x`. A neural network \"learns\" by modifying its weights.\n",
        "\n",
        "The `b` is a special kind of weight we call the **bias**. The bias doesn't have any input data associated with it; instead, we put a `1` in the diagram so that the value that reaches the neuron is just `b` (since `1 * b = b`). The bias enables the neuron to modify the output independently of its inputs.\n",
        "\n",
        "The `y` is the value the neuron ultimately outputs. To get the output, the neuron sums up all the values it receives through its connections. This neuron's activation is `y = w * x + b`, or as a formula $y = w x + b$.\n",
        "\n",
        "<blockquote style=\"margin-right:auto; margin-left:auto; background-color: #ebf9ff; padding: 1em; margin:24px;\">\n",
        "    <strong>Does the formula y = w x + b look familiar?</strong><br>\n",
        "It's an equation of a line! \n",
        "\n",
        "It is the slope-intercept equation, where <code>w</code> is the slope and <code>b</code> is the y-intercept. \n",
        "</blockquote>"
      ]
    },
    {
      "cell_type": "markdown",
      "id": "e10a7c29",
      "metadata": {
        "id": "e10a7c29"
      },
      "source": [
        "## Multiple Inputs \n",
        "\n",
        "The *Big Mart Sales Prediction* dataset has many more features than just `'Item_MRP'`. What if we wanted to expand our model to include things like item visibility or item weight? That's easy enough. We can just add more input connections to the neuron, one for each additional feature. To find the output, we would multiply each input to its connection weight and then add them all together.\n",
        "\n",
        "<figure style=\"padding: 1em;\">\n",
        "<img src=\"https://i.imgur.com/vyXSnlZ.png\" width=\"300\" alt=\"Three input connections: x0, x1, and x2, along with the bias.\">\n",
        "<figcaption style=\"textalign: center; font-style: italic\"><center>A linear unit with three inputs.\n",
        "</center></figcaption>\n",
        "</figure>\n",
        "\n",
        "The formula for this neuron would be $y = w_0 x_0 + w_1 x_1 + w_2 x_2 + b$. A linear unit with two inputs will fit a plane, and a unit with more inputs than that will fit a hyperplane."
      ]
    },
    {
      "cell_type": "markdown",
      "id": "1fdc49b1",
      "metadata": {
        "id": "1fdc49b1"
      },
      "source": [
        "## Linear Units in Keras\n",
        "\n",
        "The easiest way to create a model in Keras is through `keras.Sequential`, which creates a neural network as a stack of *layers*. We can create models like those above using a *dense* layer (which we'll learn more about soon in lecture).\n",
        "\n",
        "We could define a linear model accepting three input features (`'Item_MRP'`, `'Item_visibility'`, and `'Item_weight'`) and producing a single output (`'Item_Outlet_Sales'`) like this:"
      ]
    },
    {
      "cell_type": "code",
      "execution_count": 8,
      "id": "00ffc8c4",
      "metadata": {
        "execution": {
          "iopub.execute_input": "2022-05-05T17:51:42.981345Z",
          "iopub.status.busy": "2022-05-05T17:51:42.980950Z",
          "iopub.status.idle": "2022-05-05T17:51:49.595090Z",
          "shell.execute_reply": "2022-05-05T17:51:49.594047Z"
        },
        "papermill": {
          "duration": 6.622935,
          "end_time": "2022-05-05T17:51:49.597581",
          "exception": false,
          "start_time": "2022-05-05T17:51:42.974646",
          "status": "completed"
        },
        "tags": [],
        "id": "00ffc8c4"
      },
      "outputs": [],
      "source": [
        "#from tensorflow import keras\n",
        "#from tensorflow.keras import layers\n",
        "\n",
        "# Create a network with 1 linear unit\n",
        "model = keras.Sequential([\n",
        "    layers.Dense(units=1, input_shape=[3])\n",
        "])"
      ]
    },
    {
      "cell_type": "markdown",
      "id": "823009aa",
      "metadata": {
        "papermill": {
          "duration": 0.005333,
          "end_time": "2022-05-05T17:51:49.609261",
          "exception": false,
          "start_time": "2022-05-05T17:51:49.603928",
          "status": "completed"
        },
        "tags": [],
        "id": "823009aa"
      },
      "source": [
        "With the first argument, `units`, we define how many outputs we want. In this case we are just predicting `'Item_Outlet_Sales'`, so we'll use `units=1`. \n",
        "\n",
        "With the second argument, `input_shape`, we tell Keras the dimensions of the inputs. Setting `input_shape=[3]` ensures the model will accept three features as input (`'Item_MRP'`, `'Item_Visibility'`, and `'Item_Weight'`).\n",
        "\n",
        "This model is now ready to be fit to training data!\n",
        "\n",
        "<blockquote style=\"margin-right:auto; margin-left:auto; background-color: #ebf9ff; padding: 1em; margin:24px;\">\n",
        "    <strong>Why is <code>input_shape</code> a Python list?</strong><br>\n",
        "The data we'll use in this notebook will be tabular data, like in a Pandas dataframe. We'll have one input for each feature in the dataset. The features are arranged by column, so we'll always have <code>input_shape=[num_feature_columns]</code>.\n",
        "\n",
        "The reason Keras uses a list here is to permit use of more complex datasets. Image data, for instance, might need three dimensions: <code>[height, width, channels]</code>.\n",
        "</blockquote>"
      ]
    },
    {
      "cell_type": "markdown",
      "id": "0c5e19b8",
      "metadata": {
        "id": "0c5e19b8"
      },
      "source": [
        "## Optional: Plot the Output of an Untrained Linear Model\n",
        " \n",
        "The *Big Mart Sales Prediction* problem is a *regression* problem, where the goal is to predict a numeric target: `'Item_Output_sales'`. Regression problems are like \"curve-fitting\" problems: we're trying to find a curve that best fits the data. Let's take a look at the \"curve\" produced by a linear model. (You've probably guessed that it's a line!)\n",
        " \n",
        "We mentioned that before training a model's weights are set randomly. Run the cell below a few times to see the different lines produced with a random initialization. (There's no coding for this exercise -- it's just a demonstration.)"
      ]
    },
    {
      "cell_type": "code",
      "execution_count": 9,
      "id": "1c1220d5",
      "metadata": {
        "id": "1c1220d5",
        "outputId": "c74e6f9a-6c41-4caa-a9aa-ec95922c852d",
        "colab": {
          "base_uri": "https://localhost:8080/",
          "height": 504
        }
      },
      "outputs": [
        {
          "output_type": "stream",
          "name": "stdout",
          "text": [
            "4/4 [==============================] - 1s 7ms/step\n"
          ]
        },
        {
          "output_type": "display_data",
          "data": {
            "text/plain": [
              "<Figure size 640x480 with 1 Axes>"
            ],
            "image/png": "[encoded data removed]"
          },
          "metadata": {}
        }
      ],
      "source": [
        "#import tensorflow as tf\n",
        "#import matplotlib.pyplot as plt\n",
        "\n",
        "model = keras.Sequential([\n",
        "    layers.Dense(1, input_shape=[1]),\n",
        "])\n",
        "\n",
        "x = tf.linspace(-1.0, 1.0, 100)\n",
        "y = model.predict(x)\n",
        "\n",
        "plt.figure(dpi=100)\n",
        "plt.plot(x, y, 'k')\n",
        "plt.xlim(-1, 1)\n",
        "plt.ylim(-1, 1)\n",
        "plt.xlabel(\"Input: x\")\n",
        "plt.ylabel(\"Target y\")\n",
        "w, b = model.weights # you could also use model.get_weights() here\n",
        "plt.title(\"Weight: {:0.2f}\\nBias: {:0.2f}\".format(w[0][0], b[0]))\n",
        "plt.show()"
      ]
    },
    {
      "cell_type": "markdown",
      "id": "b5551788",
      "metadata": {
        "id": "b5551788"
      },
      "source": [
        "<blockquote style=\"margin-right:auto; margin-left:auto; background-color: #ebf9ff; padding: 1em; margin:24px;\">\n",
        "    <strong>What is a <code>tensor</code> in Keras?</strong><br>\n",
        "Internally, Keras represents the weights of a neural network with <strong>tensors</strong>. Keras also uses tensors to represent data. When you set the <code>input_shape</code> argument, you are telling Keras the dimensions of the array it should expect for each example in the training data.\n",
        "\n",
        "Tensors are basically TensorFlow's version of a Numpy array with a few differences that make them better suited to deep learning. One of the most important is that tensors are compatible with [GPU](https://en.wikipedia.org/wiki/Graphics_processing_unit) and [TPU](https://en.wikipedia.org/wiki/Tensor_Processing_Unit) accelerators. TPUs, in fact, are designed specifically for tensor computations.\n",
        "</blockquote>"
      ]
    },
    {
      "cell_type": "markdown",
      "id": "fa650193",
      "metadata": {
        "id": "fa650193"
      },
      "source": [
        "### In Lab: *Define a Linear Model*\n",
        "\n",
        "We have seen that a model of just one linear unit will fit a linear function to a dataset (equivalent to linear regression). \n",
        "\n",
        "In lab on Thursday, you'll build a linear model and get some practice working with models in Keras.\n",
        "\n",
        "1.   Declare Input Shape\n",
        "2.   Define a Linear Model\n",
        "3.   Inspect Weights \n"
      ]
    },
    {
      "cell_type": "markdown",
      "id": "65e639fc",
      "metadata": {
        "id": "65e639fc"
      },
      "source": [
        "---\n",
        "# 2. Deep Neural Networks\n",
        "\n",
        "In this section we're going to see how we can build neural networks capable of learning the complex kinds of relationships deep neural nets are famous for.\n",
        "\n",
        "The key idea here is *modularity*, building up a complex network from simpler functional units. We've seen how a linear unit computes a linear function -- now we'll see how to combine and modify these single units to model more complex relationships."
      ]
    },
    {
      "cell_type": "markdown",
      "id": "61455f0c",
      "metadata": {
        "papermill": {
          "duration": 0.005178,
          "end_time": "2022-05-05T17:51:14.787015",
          "exception": false,
          "start_time": "2022-05-05T17:51:14.781837",
          "status": "completed"
        },
        "tags": [],
        "id": "61455f0c"
      },
      "source": [
        "\n",
        "## Layers\n",
        "\n",
        "Neural networks typically organize their neurons into **layers**. When we collect together linear units having a common set of inputs we get a **dense** layer.\n",
        "\n",
        "<figure style=\"padding: 1em;\">\n",
        "<img src=\"https://i.imgur.com/2MA4iMV.png\" width=\"300\" alt=\"A stack of three circles in an input layer connected to two circles in a dense layer.\">\n",
        "<figcaption style=\"textalign: center; font-style: italic\"><center>A dense layer of two linear units receiving two inputs and a bias.\n",
        "</center></figcaption>\n",
        "</figure>\n",
        "\n",
        "You could think of each layer in a neural network as performing some kind of relatively simple transformation. Through a deep stack of layers, a neural network can transform its inputs in more and more complex ways. In a well-trained neural network, each layer is a transformation getting us a little bit closer to a solution.\n",
        "\n",
        "<blockquote style=\"margin-right:auto; margin-left:auto; background-color: #ebf9ff; padding: 1em; margin:24px;\">\n",
        "    <strong>Many Kinds of Layers</strong><br>\n",
        "A \"layer\" in Keras is a very general kind of thing. A layer can be, essentially, any kind of <em>data transformation</em>. Many layers, like the <a href=\"https://www.tensorflow.org/api_docs/python/tf/keras/layers/Conv2D\">convolutional</a> and <a href=\"https://www.tensorflow.org/api_docs/python/tf/keras/layers/RNN\">recurrent</a> layers, transform data through use of neurons and differ primarily in the pattern of connections they form. Others though are used for <a href=\"https://www.tensorflow.org/api_docs/python/tf/keras/layers/Embedding\">feature engineering</a> or just <a href=\"https://www.tensorflow.org/api_docs/python/tf/keras/layers/Add\">simple arithmetic</a>. \n",
        "\n",
        "There's a whole world of layers to discover -- <a href=\"https://www.tensorflow.org/api_docs/python/tf/keras/layers\">check them out</a> in the Keras documentation!\n",
        "</blockquote>\n"
      ]
    },
    {
      "cell_type": "markdown",
      "id": "ab2ba700",
      "metadata": {
        "id": "ab2ba700"
      },
      "source": [
        "\n",
        "## The Activation Function \n",
        "\n",
        "It turns out, however, that two dense layers with nothing in between are no better than a single dense layer by itself. Dense layers by themselves can never move us out of the world of lines and planes. What we need is something *nonlinear*. What we need are activation functions.\n",
        "\n",
        "<figure style=\"padding: 1em;\">\n",
        "<img src=\"https://i.imgur.com/OLSUEYT.png\" width=\"400\" alt=\" \">\n",
        "<figcaption style=\"textalign: center; font-style: italic\"><center>Without activation functions, neural networks can only learn linear relationships. In order to fit curves, we'll need to use activation functions. \n",
        "</center></figcaption>\n",
        "</figure>\n",
        "\n",
        "An **activation function** is simply some function we apply to each of a layer's outputs (its *activations*). The most common is the *rectifier* function $max(0, x)$.\n",
        "\n",
        "<figure style=\"padding: 1em;\">\n",
        "<img src=\"https://i.imgur.com/aeIyAlF.png\" width=\"400\" alt=\"A graph of the rectifier function. The line y=x when x>0 and y=0 when x<0, making a 'hinge' shape like '_/'.\">\n",
        "<figcaption style=\"textalign: center; font-style: italic\"><center>\n",
        "</center></figcaption>\n",
        "</figure>\n",
        "\n",
        "The rectifier function has a graph that's a line with the negative part \"rectified\" to zero. Applying the function to the outputs of a neuron will put a *bend* in the data, moving us away from simple lines.\n",
        "\n",
        "When we attach the rectifier to a linear unit, we get a **rectified linear unit** or **ReLU**. (For this reason, it's common to call the rectifier function the \"ReLU function\".)  Applying a ReLU activation to a linear unit means the output becomes `max(0, w * x + b)`, which we might draw in a diagram like:\n",
        "\n",
        "<figure style=\"padding: 1em;\">\n",
        "<img src=\"https://i.imgur.com/eFry7Yu.png\" width=\"250\" alt=\"Diagram of a single ReLU. Like a linear unit, but instead of a '+' symbol we now have a hinge '_/'. \">\n",
        "<figcaption style=\"textalign: center; font-style: italic\"><center>A rectified linear unit.\n",
        "</center></figcaption>\n",
        "</figure>"
      ]
    },
    {
      "cell_type": "markdown",
      "id": "3b116abd",
      "metadata": {
        "papermill": {
          "duration": 0.003773,
          "end_time": "2022-05-05T17:51:14.795064",
          "exception": false,
          "start_time": "2022-05-05T17:51:14.791291",
          "status": "completed"
        },
        "tags": [],
        "id": "3b116abd"
      },
      "source": [
        "## Stacking Dense Layers\n",
        "\n",
        "Now that we have some nonlinearity, let's see how we can stack layers to get complex data transformations.\n",
        "\n",
        "<figure style=\"padding: 1em;\">\n",
        "<img src=\"https://i.imgur.com/Y5iwFQZ.png\" width=\"450\" alt=\"An input layer, two hidden layers, and a final linear layer.\">\n",
        "<figcaption style=\"textalign: center; font-style: italic\"><center>A stack of dense layers makes a \"fully-connected\" network.\n",
        "</center></figcaption>\n",
        "</figure>\n",
        "\n",
        "The layers before the output layer are sometimes called **hidden** since we never see their outputs directly.\n",
        "\n",
        "Now, notice that the final (output) layer is a linear unit (meaning, no activation function). That makes this network appropriate to a regression task, where we are trying to predict some arbitrary numeric value. Other tasks (like classification) might require an activation function on the output.\n"
      ]
    },
    {
      "cell_type": "markdown",
      "id": "626e4e23",
      "metadata": {
        "id": "626e4e23"
      },
      "source": [
        "## Building Sequential Models \n",
        "\n",
        "The `Sequential` model we've been using will connect together a list of layers in order from first to last: the first layer gets the input, the last layer produces the output. This creates the model in the figure above:"
      ]
    },
    {
      "cell_type": "code",
      "execution_count": 10,
      "id": "41fbbc9c",
      "metadata": {
        "execution": {
          "iopub.execute_input": "2022-05-05T17:51:14.805256Z",
          "iopub.status.busy": "2022-05-05T17:51:14.804631Z",
          "iopub.status.idle": "2022-05-05T17:51:21.454352Z",
          "shell.execute_reply": "2022-05-05T17:51:21.453366Z"
        },
        "papermill": {
          "duration": 6.657357,
          "end_time": "2022-05-05T17:51:21.456591",
          "exception": false,
          "start_time": "2022-05-05T17:51:14.799234",
          "status": "completed"
        },
        "tags": [],
        "id": "41fbbc9c"
      },
      "outputs": [],
      "source": [
        "#from tensorflow import keras\n",
        "#from tensorflow.keras import layers\n",
        "\n",
        "model = keras.Sequential([\n",
        "    # the hidden ReLU layers\n",
        "    layers.Dense(units=4, activation='relu', input_shape=[2]),\n",
        "    layers.Dense(units=3, activation='relu'),\n",
        "    # the linear output layer \n",
        "    layers.Dense(units=1),\n",
        "])"
      ]
    },
    {
      "cell_type": "markdown",
      "id": "44adf86b",
      "metadata": {
        "papermill": {
          "duration": 0.004598,
          "end_time": "2022-05-05T17:51:21.466319",
          "exception": false,
          "start_time": "2022-05-05T17:51:21.461721",
          "status": "completed"
        },
        "tags": [],
        "id": "44adf86b"
      },
      "source": [
        "Be sure to pass all the layers together in a list, like `[layer, layer, layer, ...]`, instead of as separate arguments. To add an activation function to a layer, just give its name in the `activation` argument."
      ]
    },
    {
      "cell_type": "markdown",
      "id": "c09c2d89",
      "metadata": {
        "id": "c09c2d89"
      },
      "source": [
        "## Alternatives to ReLU\n",
        "\n",
        "There is a whole family of variants of the `'relu'` activation -- `'elu'`, `'selu'`, and `'swish'`, among others -- all of which you can use in Keras. Sometimes one activation will perform better than another on a given task, so you could consider experimenting with activations as you develop a model. The ReLU activation tends to do well on most problems, so it's a good one to start with.\n",
        "\n",
        "Let's look at the graphs of some of these. Change the activation from `'relu'` to one of the others named above. Then run the cell to see the graph. (Check out the Keras [documentation](https://www.tensorflow.org/api_docs/python/tf/keras/activations) for more ideas.)"
      ]
    },
    {
      "cell_type": "code",
      "execution_count": 11,
      "id": "cb77616a",
      "metadata": {
        "id": "cb77616a",
        "outputId": "3d0ab904-60c9-4422-ce56-9a6945decb16",
        "colab": {
          "base_uri": "https://localhost:8080/",
          "height": 486
        }
      },
      "outputs": [
        {
          "output_type": "display_data",
          "data": {
            "text/plain": [
              "<Figure size 640x480 with 1 Axes>"
            ],
            "image/png": "[encoded data removed]"
          },
          "metadata": {}
        }
      ],
      "source": [
        "### YOUR CODE HERE: Change 'relu' to 'elu', 'selu', 'swish'... or something else\n",
        "activation_layer = layers.Activation('relu')\n",
        "\n",
        "x = tf.linspace(-3.0, 3.0, 100)\n",
        "y = activation_layer(x) # once created, a layer is callable just like a function\n",
        "\n",
        "plt.figure(dpi=100)\n",
        "plt.plot(x, y)\n",
        "plt.xlim(-3, 3)\n",
        "plt.xlabel(\"Input\")\n",
        "plt.ylabel(\"Output\")\n",
        "plt.show()"
      ]
    },
    {
      "cell_type": "markdown",
      "id": "9a1f7b43",
      "metadata": {
        "id": "9a1f7b43"
      },
      "source": [
        "### In Lab: *Create a Deep Neural Network*\n",
        "\n",
        "We have seen how to build deep neural networks by stacking layers inside a `Sequential` model. By adding an *activation function* after the hidden layers, we gave the network the ability to learn more complex (non-linear) relationships in the data.\n",
        "\n",
        "In lab on Thursday, you'll build a neural network with several hidden layers and then explore some activation functions beyond ReLU. \n",
        "\n",
        "1.   Define a Neural Model with Hidden Layers\n",
        "2.   Explore Activation Layers\n"
      ]
    },
    {
      "cell_type": "markdown",
      "id": "1af5a8bd",
      "metadata": {
        "id": "1af5a8bd"
      },
      "source": [
        "---\n",
        "# 3. Stochastic Gradient Descent\n",
        "\n",
        "In the first two sections, we learned how to build fully-connected networks out of stacks of dense layers. When first created, all of the network's weights are set randomly -- the network doesn't \"know\" anything yet. In this lesson we're going to see how to train a neural network; we're going to see how neural networks *learn*.\n",
        "\n",
        "As with all machine learning tasks, we begin with a set of training data. Each example in the training data consists of some features (the inputs) together with an expected target (the output). Training the network means adjusting its weights in such a way that it can transform the features into the target. In the *Big Mart Sales Prediction* dataset, for instance, we want a network that can take each product's `'Item_MRP'`, `'Item_Visibility'`, and `'Item_Weight'` value and produce a prediction for that product's `'Item_Outlet_Sales'` per store. If we can successfully train a network to do that, its weights must represent in some way the relationship between those features and that target as expressed in the training data.\n",
        "\n",
        "In addition to the training data, we need two more things:\n",
        "- A \"loss function\" that measures how good the network's predictions are.\n",
        "- An \"optimizer\" that can tell the network how to change its weights."
      ]
    },
    {
      "cell_type": "markdown",
      "id": "aec0155f",
      "metadata": {
        "id": "aec0155f"
      },
      "source": [
        "## The Loss Function\n",
        "\n",
        "We've seen how to design an architecture for a network, but we haven't seen how to tell a network *what* problem to solve. This is the job of the loss function.\n",
        "\n",
        "The **loss function** measures the disparity between the the target's true value and the value the model predicts. \n",
        "\n",
        "Different problems call for different loss functions. We have been looking at **regression** problems, where the task is to predict some numerical value -- annual sales per SKU per store in *Big Mart Sales Prediction*. \n",
        "\n",
        "What are other regression tasks that you can think of in Supply Chain Management?"
      ]
    },
    {
      "cell_type": "markdown",
      "id": "024025db",
      "metadata": {
        "id": "024025db"
      },
      "source": [
        "A common loss function for regression problems is the **mean absolute error** or **MAE**. For each prediction `y_pred`, MAE measures the disparity from the true target `y_true` by an absolute difference `abs(y_true - y_pred)`.\n",
        "\n",
        "The total MAE loss on a dataset is the mean of all these absolute differences.\n",
        "\n",
        "<figure style=\"padding: 1em;\">\n",
        "<img src=\"https://i.imgur.com/VDcvkZN.png\" width=\"500\" alt=\"A graph depicting error bars from data points to the fitted line..\">\n",
        "<figcaption style=\"textalign: center; font-style: italic\"><center>The mean absolute error is the average length between the fitted curve and the data points.\n",
        "</center></figcaption>\n",
        "</figure>\n",
        "\n",
        "Besides MAE, other loss functions you might see for regression problems are the mean-squared error (MSE) or the Huber loss (both available in Keras). The Huber loss is less sensitive to outliers in data than the squared error loss.\n",
        "\n",
        "During training, the model will use the loss function as a guide for finding the correct values of its weights (lower loss is better). In other words, the loss function tells the network its objective."
      ]
    },
    {
      "cell_type": "markdown",
      "id": "db70ecc2",
      "metadata": {
        "id": "db70ecc2"
      },
      "source": [
        "## The Optimizer - Stochastic Gradient Descent\n",
        "\n",
        "We've described the problem we want the network to solve, but now we need to say *how* to solve it. This is the job of the **optimizer**. The optimizer is an algorithm that adjusts the weights to minimize the loss.\n",
        "\n",
        "Virtually all of the optimization algorithms used in deep learning belong to a family called **stochastic gradient descent**. They are iterative algorithms that train a network in steps. One **step** of training goes like this:\n",
        "1. Sample some training data and run it through the network to make predictions.\n",
        "2. Measure the loss between the predictions and the true values.\n",
        "3. Finally, adjust the weights in a direction that makes the loss smaller.\n",
        "\n",
        "Then just do this over and over until the loss is as small as you like (or until it won't decrease any further.)\n",
        "\n",
        "<figure style=\"padding: 1em;\">\n",
        "<img src=\"https://i.imgur.com/rFI1tIk.gif\" width=\"1600\" alt=\"Fitting a line batch by batch. The loss decreases and the weights approach their true values.\">\n",
        "<figcaption style=\"textalign: center; font-style: italic\"><center>Training a neural network with Stochastic Gradient Descent.\n",
        "</center></figcaption>\n",
        "</figure>\n",
        "\n",
        "Each iteration's sample of training data is called a **minibatch** (or often just \"batch\"), while a complete round of the training data is called an **epoch**. The number of epochs you train for is how many times the network will see each training example.\n",
        "\n",
        "The animation shows a linear model being trained with SGD. The pale red dots depict the entire training set, while the solid red dots are the minibatches. Every time SGD sees a new minibatch, it will shift the weights (`w` the slope and `b` the y-intercept) toward their correct values on that batch. Batch after batch, the line eventually converges to its best fit. You can see that the loss gets smaller as the weights get closer to their true values."
      ]
    },
    {
      "cell_type": "markdown",
      "id": "6465e3c1",
      "metadata": {
        "id": "6465e3c1"
      },
      "source": [
        "## Learning Rate and Batch Size\n",
        "\n",
        "Notice that the line only makes a small shift in the direction of each batch (instead of moving all the way). The size of these shifts is determined by the **learning rate**. A smaller learning rate means the network needs to see more minibatches before its weights converge to their best values.\n",
        "\n",
        "The learning rate and the size of the minibatches are the two parameters that have the largest effect on how the SGD training proceeds. Their interaction is often subtle and the right choice for these parameters isn't always obvious. (We'll explore these effects in the exercise.)\n",
        "\n",
        "Fortunately, for most work it won't be necessary to do an extensive hyperparameter search to get satisfactory results. **Adam** is an SGD algorithm that has an adaptive learning rate that makes it suitable for most problems without any parameter tuning (it is \"self tuning\", in a sense). Adam is a great general-purpose optimizer."
      ]
    },
    {
      "cell_type": "markdown",
      "id": "651b38ab",
      "metadata": {
        "id": "651b38ab"
      },
      "source": [
        "## Adding the Loss and Optimizer\n",
        "\n",
        "After defining a model, you can add a loss function and optimizer with the model's `compile` method:"
      ]
    },
    {
      "cell_type": "code",
      "execution_count": 12,
      "id": "3a85fe5f",
      "metadata": {
        "id": "3a85fe5f"
      },
      "outputs": [],
      "source": [
        "model.compile(\n",
        "    optimizer=\"adam\",\n",
        "    loss=\"mae\",\n",
        ")"
      ]
    },
    {
      "cell_type": "markdown",
      "id": "f5d2e1bc",
      "metadata": {
        "papermill": {
          "duration": 0.010959,
          "end_time": "2022-05-05T17:51:08.731570",
          "exception": false,
          "start_time": "2022-05-05T17:51:08.720611",
          "status": "completed"
        },
        "tags": [],
        "id": "f5d2e1bc"
      },
      "source": [
        "Notice that we are able to specify the loss and optimizer with just a string. You can also access these directly through the Keras API -- if you wanted to tune parameters, for instance -- but for us, the defaults will work fine.\n",
        "\n",
        "<blockquote style=\"margin-right:auto; margin-left:auto; background-color: #ebf9ff; padding: 1em; margin:24px;\">\n",
        "    <strong>What's In a Name?</strong><br>\n",
        "The <strong>gradient</strong> is a vector that tells us in what direction the weights need to go. More precisely, it tells us how to change the weights to make the loss change <em>fastest</em>. We call our process gradient <strong>descent</strong> because it uses the gradient to <em>descend</em> the loss curve towards a minimum. <strong>Stochastic</strong> means \"determined by chance.\" Our training is <em>stochastic</em> because the minibatches are <em>random samples</em> from the dataset. And that's why it's called SGD!\n",
        "</blockquote>"
      ]
    },
    {
      "cell_type": "markdown",
      "id": "851c4a25",
      "metadata": {
        "papermill": {
          "duration": 0.010151,
          "end_time": "2022-05-05T17:51:08.752265",
          "exception": false,
          "start_time": "2022-05-05T17:51:08.742114",
          "status": "completed"
        },
        "tags": [],
        "id": "851c4a25"
      },
      "source": [
        "## Example - Big Mart Sales Prediction\n",
        "\n",
        "Now we know everything we need to start training deep learning models. So let's see it in action! We'll use the *Big Mart Sales Prediction* dataset.\n",
        "\n",
        "We've put all of the data preparation into this next cell. This will be discussed in detail in lab. One thing you might note for now though is that we've rescaled each feature with sklean's `StandardScaler`. As we'll discuss later next week, neural networks tend to perform best when their inputs are on a common scale."
      ]
    },
    {
      "cell_type": "code",
      "execution_count": 13,
      "id": "c3cd36e2",
      "metadata": {
        "id": "c3cd36e2",
        "outputId": "89a5bad8-5f3c-48d4-e547-0614807c7922",
        "colab": {
          "base_uri": "https://localhost:8080/",
          "height": 529
        }
      },
      "outputs": [
        {
          "output_type": "display_data",
          "data": {
            "text/plain": [
              "      Item_Visibility  Item_MRP  Item_Weight\n",
              "7477         0.120256   39.2506        8.365\n",
              "5089         0.015944  231.9668       13.650\n",
              "6992         0.000000   89.8856       14.300\n",
              "6264         0.041803   34.8216       12.350\n",
              "4374         0.031963  178.0344        6.380"
            ],
            "text/html": [
              "\n",
              "  <div id=\"df-0655a330-29a5-4bd4-a6c2-23f065405f46\">\n",
              "    <div class=\"colab-df-container\">\n",
              "      <div>\n",
              "<style scoped>\n",
              "    .dataframe tbody tr th:only-of-type {\n",
              "        vertical-align: middle;\n",
              "    }\n",
              "\n",
              "    .dataframe tbody tr th {\n",
              "        vertical-align: top;\n",
              "    }\n",
              "\n",
              "    .dataframe thead th {\n",
              "        text-align: right;\n",
              "    }\n",
              "</style>\n",
              "<table border=\"1\" class=\"dataframe\">\n",
              "  <thead>\n",
              "    <tr style=\"text-align: right;\">\n",
              "      <th></th>\n",
              "      <th>Item_Visibility</th>\n",
              "      <th>Item_MRP</th>\n",
              "      <th>Item_Weight</th>\n",
              "    </tr>\n",
              "  </thead>\n",
              "  <tbody>\n",
              "    <tr>\n",
              "      <th>7477</th>\n",
              "      <td>0.120256</td>\n",
              "      <td>39.2506</td>\n",
              "      <td>8.365</td>\n",
              "    </tr>\n",
              "    <tr>\n",
              "      <th>5089</th>\n",
              "      <td>0.015944</td>\n",
              "      <td>231.9668</td>\n",
              "      <td>13.650</td>\n",
              "    </tr>\n",
              "    <tr>\n",
              "      <th>6992</th>\n",
              "      <td>0.000000</td>\n",
              "      <td>89.8856</td>\n",
              "      <td>14.300</td>\n",
              "    </tr>\n",
              "    <tr>\n",
              "      <th>6264</th>\n",
              "      <td>0.041803</td>\n",
              "      <td>34.8216</td>\n",
              "      <td>12.350</td>\n",
              "    </tr>\n",
              "    <tr>\n",
              "      <th>4374</th>\n",
              "      <td>0.031963</td>\n",
              "      <td>178.0344</td>\n",
              "      <td>6.380</td>\n",
              "    </tr>\n",
              "  </tbody>\n",
              "</table>\n",
              "</div>\n",
              "      <button class=\"colab-df-convert\" onclick=\"convertToInteractive('df-0655a330-29a5-4bd4-a6c2-23f065405f46')\"\n",
              "              title=\"Convert this dataframe to an interactive table.\"\n",
              "              style=\"display:none;\">\n",
              "        \n",
              "  <svg xmlns=\"http://www.w3.org/2000/svg\" height=\"24px\"viewBox=\"0 0 24 24\"\n",
              "       width=\"24px\">\n",
              "    <path d=\"M0 0h24v24H0V0z\" fill=\"none\"/>\n",
              "    <path d=\"M18.56 5.44l.94 2.06.94-2.06 2.06-.94-2.06-.94-.94-2.06-.94 2.06-2.06.94zm-11 1L8.5 8.5l.94-2.06 2.06-.94-2.06-.94L8.5 2.5l-.94 2.06-2.06.94zm10 10l.94 2.06.94-2.06 2.06-.94-2.06-.94-.94-2.06-.94 2.06-2.06.94z\"/><path d=\"M17.41 7.96l-1.37-1.37c-.4-.4-.92-.59-1.43-.59-.52 0-1.04.2-1.43.59L10.3 9.45l-7.72 7.72c-.78.78-.78 2.05 0 2.83L4 21.41c.39.39.9.59 1.41.59.51 0 1.02-.2 1.41-.59l7.78-7.78 2.81-2.81c.8-.78.8-2.07 0-2.86zM5.41 20L4 18.59l7.72-7.72 1.47 1.35L5.41 20z\"/>\n",
              "  </svg>\n",
              "      </button>\n",
              "      \n",
              "  <style>\n",
              "    .colab-df-container {\n",
              "      display:flex;\n",
              "      flex-wrap:wrap;\n",
              "      gap: 12px;\n",
              "    }\n",
              "\n",
              "    .colab-df-convert {\n",
              "      background-color: #E8F0FE;\n",
              "      border: none;\n",
              "      border-radius: 50%;\n",
              "      cursor: pointer;\n",
              "      display: none;\n",
              "      fill: #1967D2;\n",
              "      height: 32px;\n",
              "      padding: 0 0 0 0;\n",
              "      width: 32px;\n",
              "    }\n",
              "\n",
              "    .colab-df-convert:hover {\n",
              "      background-color: #E2EBFA;\n",
              "      box-shadow: 0px 1px 2px rgba(60, 64, 67, 0.3), 0px 1px 3px 1px rgba(60, 64, 67, 0.15);\n",
              "      fill: #174EA6;\n",
              "    }\n",
              "\n",
              "    [theme=dark] .colab-df-convert {\n",
              "      background-color: #3B4455;\n",
              "      fill: #D2E3FC;\n",
              "    }\n",
              "\n",
              "    [theme=dark] .colab-df-convert:hover {\n",
              "      background-color: #434B5C;\n",
              "      box-shadow: 0px 1px 3px 1px rgba(0, 0, 0, 0.15);\n",
              "      filter: drop-shadow(0px 1px 2px rgba(0, 0, 0, 0.3));\n",
              "      fill: #FFFFFF;\n",
              "    }\n",
              "  </style>\n",
              "\n",
              "      <script>\n",
              "        const buttonEl =\n",
              "          document.querySelector('#df-0655a330-29a5-4bd4-a6c2-23f065405f46 button.colab-df-convert');\n",
              "        buttonEl.style.display =\n",
              "          google.colab.kernel.accessAllowed ? 'block' : 'none';\n",
              "\n",
              "        async function convertToInteractive(key) {\n",
              "          const element = document.querySelector('#df-0655a330-29a5-4bd4-a6c2-23f065405f46');\n",
              "          const dataTable =\n",
              "            await google.colab.kernel.invokeFunction('convertToInteractive',\n",
              "                                                     [key], {});\n",
              "          if (!dataTable) return;\n",
              "\n",
              "          const docLinkHtml = 'Like what you see? Visit the ' +\n",
              "            '<a target=\"_blank\" href=https://colab.research.google.com/notebooks/data_table.ipynb>data table notebook</a>'\n",
              "            + ' to learn more about interactive tables.';\n",
              "          element.innerHTML = '';\n",
              "          dataTable['output_type'] = 'display_data';\n",
              "          await google.colab.output.renderOutput(dataTable, element);\n",
              "          const docLink = document.createElement('div');\n",
              "          docLink.innerHTML = docLinkHtml;\n",
              "          element.appendChild(docLink);\n",
              "        }\n",
              "      </script>\n",
              "    </div>\n",
              "  </div>\n",
              "  "
            ]
          },
          "metadata": {}
        },
        {
          "output_type": "display_data",
          "data": {
            "text/plain": [
              "ColumnTransformer(transformers=[('pipeline',\n",
              "                                 Pipeline(steps=[('simpleimputer',\n",
              "                                                  SimpleImputer()),\n",
              "                                                 ('standardscaler',\n",
              "                                                  StandardScaler())]),\n",
              "                                 ['Item_Weight', 'Item_Visibility',\n",
              "                                  'Item_MRP'])],\n",
              "                  verbose_feature_names_out=False)"
            ],
            "text/html": [
              "<style>#sk-container-id-2 {color: black;background-color: white;}#sk-container-id-2 pre{padding: 0;}#sk-container-id-2 div.sk-toggleable {background-color: white;}#sk-container-id-2 label.sk-toggleable__label {cursor: pointer;display: block;width: 100%;margin-bottom: 0;padding: 0.3em;box-sizing: border-box;text-align: center;}#sk-container-id-2 label.sk-toggleable__label-arrow:before {content: \"▸\";float: left;margin-right: 0.25em;color: #696969;}#sk-container-id-2 label.sk-toggleable__label-arrow:hover:before {color: black;}#sk-container-id-2 div.sk-estimator:hover label.sk-toggleable__label-arrow:before {color: black;}#sk-container-id-2 div.sk-toggleable__content {max-height: 0;max-width: 0;overflow: hidden;text-align: left;background-color: #f0f8ff;}#sk-container-id-2 div.sk-toggleable__content pre {margin: 0.2em;color: black;border-radius: 0.25em;background-color: #f0f8ff;}#sk-container-id-2 input.sk-toggleable__control:checked~div.sk-toggleable__content {max-height: 200px;max-width: 100%;overflow: auto;}#sk-container-id-2 input.sk-toggleable__control:checked~label.sk-toggleable__label-arrow:before {content: \"▾\";}#sk-container-id-2 div.sk-estimator input.sk-toggleable__control:checked~label.sk-toggleable__label {background-color: #d4ebff;}#sk-container-id-2 div.sk-label input.sk-toggleable__control:checked~label.sk-toggleable__label {background-color: #d4ebff;}#sk-container-id-2 input.sk-hidden--visually {border: 0;clip: rect(1px 1px 1px 1px);clip: rect(1px, 1px, 1px, 1px);height: 1px;margin: -1px;overflow: hidden;padding: 0;position: absolute;width: 1px;}#sk-container-id-2 div.sk-estimator {font-family: monospace;background-color: #f0f8ff;border: 1px dotted black;border-radius: 0.25em;box-sizing: border-box;margin-bottom: 0.5em;}#sk-container-id-2 div.sk-estimator:hover {background-color: #d4ebff;}#sk-container-id-2 div.sk-parallel-item::after {content: \"\";width: 100%;border-bottom: 1px solid gray;flex-grow: 1;}#sk-container-id-2 div.sk-label:hover label.sk-toggleable__label {background-color: #d4ebff;}#sk-container-id-2 div.sk-serial::before {content: \"\";position: absolute;border-left: 1px solid gray;box-sizing: border-box;top: 0;bottom: 0;left: 50%;z-index: 0;}#sk-container-id-2 div.sk-serial {display: flex;flex-direction: column;align-items: center;background-color: white;padding-right: 0.2em;padding-left: 0.2em;position: relative;}#sk-container-id-2 div.sk-item {position: relative;z-index: 1;}#sk-container-id-2 div.sk-parallel {display: flex;align-items: stretch;justify-content: center;background-color: white;position: relative;}#sk-container-id-2 div.sk-item::before, #sk-container-id-2 div.sk-parallel-item::before {content: \"\";position: absolute;border-left: 1px solid gray;box-sizing: border-box;top: 0;bottom: 0;left: 50%;z-index: -1;}#sk-container-id-2 div.sk-parallel-item {display: flex;flex-direction: column;z-index: 1;position: relative;background-color: white;}#sk-container-id-2 div.sk-parallel-item:first-child::after {align-self: flex-end;width: 50%;}#sk-container-id-2 div.sk-parallel-item:last-child::after {align-self: flex-start;width: 50%;}#sk-container-id-2 div.sk-parallel-item:only-child::after {width: 0;}#sk-container-id-2 div.sk-dashed-wrapped {border: 1px dashed gray;margin: 0 0.4em 0.5em 0.4em;box-sizing: border-box;padding-bottom: 0.4em;background-color: white;}#sk-container-id-2 div.sk-label label {font-family: monospace;font-weight: bold;display: inline-block;line-height: 1.2em;}#sk-container-id-2 div.sk-label-container {text-align: center;}#sk-container-id-2 div.sk-container {/* jupyter's `normalize.less` sets `[hidden] { display: none; }` but bootstrap.min.css set `[hidden] { display: none !important; }` so we also need the `!important` here to be able to override the default hidden behavior on the sphinx rendered scikit-learn.org. See: https://github.com/scikit-learn/scikit-learn/issues/21755 */display: inline-block !important;position: relative;}#sk-container-id-2 div.sk-text-repr-fallback {display: none;}</style><div id=\"sk-container-id-2\" class=\"sk-top-container\"><div class=\"sk-text-repr-fallback\"><pre>ColumnTransformer(transformers=[(&#x27;pipeline&#x27;,\n",
              "                                 Pipeline(steps=[(&#x27;simpleimputer&#x27;,\n",
              "                                                  SimpleImputer()),\n",
              "                                                 (&#x27;standardscaler&#x27;,\n",
              "                                                  StandardScaler())]),\n",
              "                                 [&#x27;Item_Weight&#x27;, &#x27;Item_Visibility&#x27;,\n",
              "                                  &#x27;Item_MRP&#x27;])],\n",
              "                  verbose_feature_names_out=False)</pre><b>In a Jupyter environment, please rerun this cell to show the HTML representation or trust the notebook. <br />On GitHub, the HTML representation is unable to render, please try loading this page with nbviewer.org.</b></div><div class=\"sk-container\" hidden><div class=\"sk-item sk-dashed-wrapped\"><div class=\"sk-label-container\"><div class=\"sk-label sk-toggleable\"><input class=\"sk-toggleable__control sk-hidden--visually\" id=\"sk-estimator-id-2\" type=\"checkbox\" ><label for=\"sk-estimator-id-2\" class=\"sk-toggleable__label sk-toggleable__label-arrow\">ColumnTransformer</label><div class=\"sk-toggleable__content\"><pre>ColumnTransformer(transformers=[(&#x27;pipeline&#x27;,\n",
              "                                 Pipeline(steps=[(&#x27;simpleimputer&#x27;,\n",
              "                                                  SimpleImputer()),\n",
              "                                                 (&#x27;standardscaler&#x27;,\n",
              "                                                  StandardScaler())]),\n",
              "                                 [&#x27;Item_Weight&#x27;, &#x27;Item_Visibility&#x27;,\n",
              "                                  &#x27;Item_MRP&#x27;])],\n",
              "                  verbose_feature_names_out=False)</pre></div></div></div><div class=\"sk-parallel\"><div class=\"sk-parallel-item\"><div class=\"sk-item\"><div class=\"sk-label-container\"><div class=\"sk-label sk-toggleable\"><input class=\"sk-toggleable__control sk-hidden--visually\" id=\"sk-estimator-id-3\" type=\"checkbox\" ><label for=\"sk-estimator-id-3\" class=\"sk-toggleable__label sk-toggleable__label-arrow\">pipeline</label><div class=\"sk-toggleable__content\"><pre>[&#x27;Item_Weight&#x27;, &#x27;Item_Visibility&#x27;, &#x27;Item_MRP&#x27;]</pre></div></div></div><div class=\"sk-serial\"><div class=\"sk-item\"><div class=\"sk-serial\"><div class=\"sk-item\"><div class=\"sk-estimator sk-toggleable\"><input class=\"sk-toggleable__control sk-hidden--visually\" id=\"sk-estimator-id-4\" type=\"checkbox\" ><label for=\"sk-estimator-id-4\" class=\"sk-toggleable__label sk-toggleable__label-arrow\">SimpleImputer</label><div class=\"sk-toggleable__content\"><pre>SimpleImputer()</pre></div></div></div><div class=\"sk-item\"><div class=\"sk-estimator sk-toggleable\"><input class=\"sk-toggleable__control sk-hidden--visually\" id=\"sk-estimator-id-5\" type=\"checkbox\" ><label for=\"sk-estimator-id-5\" class=\"sk-toggleable__label sk-toggleable__label-arrow\">StandardScaler</label><div class=\"sk-toggleable__content\"><pre>StandardScaler()</pre></div></div></div></div></div></div></div></div></div></div></div></div>"
            ]
          },
          "metadata": {}
        },
        {
          "output_type": "display_data",
          "data": {
            "text/plain": [
              "      Item_Weight  Item_Visibility  Item_MRP\n",
              "7477    -1.065209         1.058290 -1.629769\n",
              "5089     0.184914        -0.971558  1.461938\n",
              "6992     0.338666        -1.281811 -0.817442\n",
              "6264    -0.122590        -0.468364 -1.700823\n",
              "4374    -1.534745        -0.659836  0.596711"
            ],
            "text/html": [
              "\n",
              "  <div id=\"df-ad07a0e4-b9bf-4a7d-9dbc-7e09dd74413f\">\n",
              "    <div class=\"colab-df-container\">\n",
              "      <div>\n",
              "<style scoped>\n",
              "    .dataframe tbody tr th:only-of-type {\n",
              "        vertical-align: middle;\n",
              "    }\n",
              "\n",
              "    .dataframe tbody tr th {\n",
              "        vertical-align: top;\n",
              "    }\n",
              "\n",
              "    .dataframe thead th {\n",
              "        text-align: right;\n",
              "    }\n",
              "</style>\n",
              "<table border=\"1\" class=\"dataframe\">\n",
              "  <thead>\n",
              "    <tr style=\"text-align: right;\">\n",
              "      <th></th>\n",
              "      <th>Item_Weight</th>\n",
              "      <th>Item_Visibility</th>\n",
              "      <th>Item_MRP</th>\n",
              "    </tr>\n",
              "  </thead>\n",
              "  <tbody>\n",
              "    <tr>\n",
              "      <th>7477</th>\n",
              "      <td>-1.065209</td>\n",
              "      <td>1.058290</td>\n",
              "      <td>-1.629769</td>\n",
              "    </tr>\n",
              "    <tr>\n",
              "      <th>5089</th>\n",
              "      <td>0.184914</td>\n",
              "      <td>-0.971558</td>\n",
              "      <td>1.461938</td>\n",
              "    </tr>\n",
              "    <tr>\n",
              "      <th>6992</th>\n",
              "      <td>0.338666</td>\n",
              "      <td>-1.281811</td>\n",
              "      <td>-0.817442</td>\n",
              "    </tr>\n",
              "    <tr>\n",
              "      <th>6264</th>\n",
              "      <td>-0.122590</td>\n",
              "      <td>-0.468364</td>\n",
              "      <td>-1.700823</td>\n",
              "    </tr>\n",
              "    <tr>\n",
              "      <th>4374</th>\n",
              "      <td>-1.534745</td>\n",
              "      <td>-0.659836</td>\n",
              "      <td>0.596711</td>\n",
              "    </tr>\n",
              "  </tbody>\n",
              "</table>\n",
              "</div>\n",
              "      <button class=\"colab-df-convert\" onclick=\"convertToInteractive('df-ad07a0e4-b9bf-4a7d-9dbc-7e09dd74413f')\"\n",
              "              title=\"Convert this dataframe to an interactive table.\"\n",
              "              style=\"display:none;\">\n",
              "        \n",
              "  <svg xmlns=\"http://www.w3.org/2000/svg\" height=\"24px\"viewBox=\"0 0 24 24\"\n",
              "       width=\"24px\">\n",
              "    <path d=\"M0 0h24v24H0V0z\" fill=\"none\"/>\n",
              "    <path d=\"M18.56 5.44l.94 2.06.94-2.06 2.06-.94-2.06-.94-.94-2.06-.94 2.06-2.06.94zm-11 1L8.5 8.5l.94-2.06 2.06-.94-2.06-.94L8.5 2.5l-.94 2.06-2.06.94zm10 10l.94 2.06.94-2.06 2.06-.94-2.06-.94-.94-2.06-.94 2.06-2.06.94z\"/><path d=\"M17.41 7.96l-1.37-1.37c-.4-.4-.92-.59-1.43-.59-.52 0-1.04.2-1.43.59L10.3 9.45l-7.72 7.72c-.78.78-.78 2.05 0 2.83L4 21.41c.39.39.9.59 1.41.59.51 0 1.02-.2 1.41-.59l7.78-7.78 2.81-2.81c.8-.78.8-2.07 0-2.86zM5.41 20L4 18.59l7.72-7.72 1.47 1.35L5.41 20z\"/>\n",
              "  </svg>\n",
              "      </button>\n",
              "      \n",
              "  <style>\n",
              "    .colab-df-container {\n",
              "      display:flex;\n",
              "      flex-wrap:wrap;\n",
              "      gap: 12px;\n",
              "    }\n",
              "\n",
              "    .colab-df-convert {\n",
              "      background-color: #E8F0FE;\n",
              "      border: none;\n",
              "      border-radius: 50%;\n",
              "      cursor: pointer;\n",
              "      display: none;\n",
              "      fill: #1967D2;\n",
              "      height: 32px;\n",
              "      padding: 0 0 0 0;\n",
              "      width: 32px;\n",
              "    }\n",
              "\n",
              "    .colab-df-convert:hover {\n",
              "      background-color: #E2EBFA;\n",
              "      box-shadow: 0px 1px 2px rgba(60, 64, 67, 0.3), 0px 1px 3px 1px rgba(60, 64, 67, 0.15);\n",
              "      fill: #174EA6;\n",
              "    }\n",
              "\n",
              "    [theme=dark] .colab-df-convert {\n",
              "      background-color: #3B4455;\n",
              "      fill: #D2E3FC;\n",
              "    }\n",
              "\n",
              "    [theme=dark] .colab-df-convert:hover {\n",
              "      background-color: #434B5C;\n",
              "      box-shadow: 0px 1px 3px 1px rgba(0, 0, 0, 0.15);\n",
              "      filter: drop-shadow(0px 1px 2px rgba(0, 0, 0, 0.3));\n",
              "      fill: #FFFFFF;\n",
              "    }\n",
              "  </style>\n",
              "\n",
              "      <script>\n",
              "        const buttonEl =\n",
              "          document.querySelector('#df-ad07a0e4-b9bf-4a7d-9dbc-7e09dd74413f button.colab-df-convert');\n",
              "        buttonEl.style.display =\n",
              "          google.colab.kernel.accessAllowed ? 'block' : 'none';\n",
              "\n",
              "        async function convertToInteractive(key) {\n",
              "          const element = document.querySelector('#df-ad07a0e4-b9bf-4a7d-9dbc-7e09dd74413f');\n",
              "          const dataTable =\n",
              "            await google.colab.kernel.invokeFunction('convertToInteractive',\n",
              "                                                     [key], {});\n",
              "          if (!dataTable) return;\n",
              "\n",
              "          const docLinkHtml = 'Like what you see? Visit the ' +\n",
              "            '<a target=\"_blank\" href=https://colab.research.google.com/notebooks/data_table.ipynb>data table notebook</a>'\n",
              "            + ' to learn more about interactive tables.';\n",
              "          element.innerHTML = '';\n",
              "          dataTable['output_type'] = 'display_data';\n",
              "          await google.colab.output.renderOutput(dataTable, element);\n",
              "          const docLink = document.createElement('div');\n",
              "          docLink.innerHTML = docLinkHtml;\n",
              "          element.appendChild(docLink);\n",
              "        }\n",
              "      </script>\n",
              "    </div>\n",
              "  </div>\n",
              "  "
            ]
          },
          "metadata": {}
        }
      ],
      "source": [
        "#import pandas as pd\n",
        "#import numpy as np\n",
        "#from IPython.display import display\n",
        "from sklearn.preprocessing import MinMaxScaler, StandardScaler\n",
        "from sklearn.pipeline import Pipeline\n",
        "from sklearn.compose import make_column_transformer\n",
        "from sklearn.model_selection import train_test_split\n",
        "from sklearn import set_config\n",
        "from sklearn.impute import SimpleImputer\n",
        "\n",
        "# Define target and features\n",
        "target = \"Item_Outlet_Sales\"\n",
        "y = df_sales[target].copy()\n",
        "X = df_sales.drop(columns=[target]).copy()\n",
        "\n",
        "# Create training and validation splits\n",
        "X_train, X_test, y_train, y_test = train_test_split(X, y, random_state=123)\n",
        "display(X_train.head())\n",
        "\n",
        "#Establish a pipeline for numerical features\n",
        "num_features = ['Item_Weight','Item_Visibility','Item_MRP']\n",
        "num_pipe = Pipeline(steps=[\n",
        "    ('simpleimputer', SimpleImputer()),\n",
        "    ('standardscaler', StandardScaler())])\n",
        "\n",
        "#Create switch to correctly route each column to the correct pipeline\n",
        "preprocessor = make_column_transformer(\n",
        "    (num_pipe, num_features), verbose_feature_names_out=False)\n",
        "display(preprocessor)\n",
        "\n",
        "#Fit each step in our pipeline to the training data\n",
        "preprocessor.fit(X_train)\n",
        "\n",
        "#Now we can transform our features, with the steps specified in the pipeline\n",
        "Xprocessed_train_df = pd.DataFrame(preprocessor.transform(X_train),\n",
        "                          columns=preprocessor.get_feature_names_out(),\n",
        "                          index=X_train.index)\n",
        "Xprocessed_test_df = pd.DataFrame(preprocessor.transform(X_test),\n",
        "                                  columns=preprocessor.get_feature_names_out(),\n",
        "                                  index=X_test.index)\n",
        "display(Xprocessed_train_df.head())\n",
        "\n",
        "# make back-up copy of original train target and validation target\n",
        "y_train_orig = y_train \n",
        "y_test_orig = y_test \n",
        "\n",
        "#Log transform target instead of standardizing\n",
        "y_train = np.log(y_train)"
      ]
    },
    {
      "cell_type": "markdown",
      "id": "d9113833",
      "metadata": {
        "papermill": {
          "duration": 0.010785,
          "end_time": "2022-05-05T17:51:08.870188",
          "exception": false,
          "start_time": "2022-05-05T17:51:08.859403",
          "status": "completed"
        },
        "tags": [],
        "id": "d9113833"
      },
      "source": [
        "How many inputs should this network have? We can discover this by looking at the number of columns in the data matrix. Be sure not to include the target (`'Item_Outlet_Sales'`) here -- only the input features."
      ]
    },
    {
      "cell_type": "code",
      "execution_count": 14,
      "id": "9ef4df3f",
      "metadata": {
        "execution": {
          "iopub.execute_input": "2022-05-05T17:51:08.894606Z",
          "iopub.status.busy": "2022-05-05T17:51:08.894218Z",
          "iopub.status.idle": "2022-05-05T17:51:08.899338Z",
          "shell.execute_reply": "2022-05-05T17:51:08.898198Z"
        },
        "lines_to_next_cell": 2,
        "papermill": {
          "duration": 0.019742,
          "end_time": "2022-05-05T17:51:08.900932",
          "exception": false,
          "start_time": "2022-05-05T17:51:08.881190",
          "status": "completed"
        },
        "tags": [],
        "id": "9ef4df3f",
        "outputId": "870e72a4-f06b-4bb4-ad66-345c745f5159",
        "colab": {
          "base_uri": "https://localhost:8080/"
        }
      },
      "outputs": [
        {
          "output_type": "stream",
          "name": "stdout",
          "text": [
            "(6392, 3)\n"
          ]
        }
      ],
      "source": [
        "print(Xprocessed_train_df.shape)"
      ]
    },
    {
      "cell_type": "code",
      "execution_count": 15,
      "id": "c2907669",
      "metadata": {
        "id": "c2907669",
        "outputId": "4005d28a-fddf-46e8-f9a9-9170ec402f17",
        "colab": {
          "base_uri": "https://localhost:8080/"
        }
      },
      "outputs": [
        {
          "output_type": "stream",
          "name": "stdout",
          "text": [
            "Input shape: [3]\n"
          ]
        }
      ],
      "source": [
        "input_shape = [Xprocessed_train_df.shape[1]]\n",
        "print(\"Input shape: {}\".format(input_shape))"
      ]
    },
    {
      "cell_type": "markdown",
      "id": "f1f4685c",
      "metadata": {
        "papermill": {
          "duration": 0.011457,
          "end_time": "2022-05-05T17:51:08.924283",
          "exception": false,
          "start_time": "2022-05-05T17:51:08.912826",
          "status": "completed"
        },
        "tags": [],
        "id": "f1f4685c"
      },
      "source": [
        "Three columns means three inputs.\n",
        "\n",
        "We've chosen a three-layer network with 192 neurons. This network should be capable of learning moderately complex relationships in the data."
      ]
    },
    {
      "cell_type": "code",
      "execution_count": 16,
      "id": "e4a96768",
      "metadata": {
        "execution": {
          "iopub.execute_input": "2022-05-05T17:51:08.949955Z",
          "iopub.status.busy": "2022-05-05T17:51:08.949534Z",
          "iopub.status.idle": "2022-05-05T17:51:14.571233Z",
          "shell.execute_reply": "2022-05-05T17:51:14.570223Z"
        },
        "papermill": {
          "duration": 5.636819,
          "end_time": "2022-05-05T17:51:14.573031",
          "exception": false,
          "start_time": "2022-05-05T17:51:08.936212",
          "status": "completed"
        },
        "tags": [],
        "id": "e4a96768"
      },
      "outputs": [],
      "source": [
        "#from tensorflow import keras\n",
        "#from tensorflow.keras import layers\n",
        "\n",
        "model = keras.Sequential([\n",
        "    layers.Dense(64, activation='relu', input_shape=input_shape),\n",
        "    layers.Dense(64, activation='relu'),\n",
        "    layers.Dense(64, activation='relu'),\n",
        "    layers.Dense(1),\n",
        "])"
      ]
    },
    {
      "cell_type": "markdown",
      "id": "51116cd6",
      "metadata": {
        "papermill": {
          "duration": 0.013131,
          "end_time": "2022-05-05T17:51:14.599721",
          "exception": false,
          "start_time": "2022-05-05T17:51:14.586590",
          "status": "completed"
        },
        "tags": [],
        "id": "51116cd6"
      },
      "source": [
        "Deciding the architecture of your model should be part of a process. Start simple and use the validation loss as your guide. You'll learn more about model development in the exercises.\n",
        "\n",
        "After defining the model, we compile in the optimizer and loss function."
      ]
    },
    {
      "cell_type": "code",
      "execution_count": 17,
      "id": "bc991c75",
      "metadata": {
        "execution": {
          "iopub.execute_input": "2022-05-05T17:51:14.626399Z",
          "iopub.status.busy": "2022-05-05T17:51:14.626146Z",
          "iopub.status.idle": "2022-05-05T17:51:14.638882Z",
          "shell.execute_reply": "2022-05-05T17:51:14.638090Z"
        },
        "papermill": {
          "duration": 0.027452,
          "end_time": "2022-05-05T17:51:14.640479",
          "exception": false,
          "start_time": "2022-05-05T17:51:14.613027",
          "status": "completed"
        },
        "tags": [],
        "id": "bc991c75"
      },
      "outputs": [],
      "source": [
        "model.compile(\n",
        "    optimizer='adam',\n",
        "    loss='mae',\n",
        ")"
      ]
    },
    {
      "cell_type": "markdown",
      "id": "0b519d2c",
      "metadata": {
        "papermill": {
          "duration": 0.011486,
          "end_time": "2022-05-05T17:51:14.664076",
          "exception": false,
          "start_time": "2022-05-05T17:51:14.652590",
          "status": "completed"
        },
        "tags": [],
        "id": "0b519d2c"
      },
      "source": [
        "Now we're ready to start the training! We've told Keras to feed the optimizer 128 rows of the training data at a time (the `batch_size`) and to do that 200 times all the way through the dataset (the `epochs`)."
      ]
    },
    {
      "cell_type": "code",
      "execution_count": 18,
      "id": "201c9910",
      "metadata": {
        "execution": {
          "iopub.execute_input": "2022-05-05T17:51:14.689035Z",
          "iopub.status.busy": "2022-05-05T17:51:14.688785Z",
          "iopub.status.idle": "2022-05-05T17:51:17.800254Z",
          "shell.execute_reply": "2022-05-05T17:51:17.799259Z"
        },
        "papermill": {
          "duration": 3.126783,
          "end_time": "2022-05-05T17:51:17.802722",
          "exception": false,
          "start_time": "2022-05-05T17:51:14.675939",
          "status": "completed"
        },
        "tags": [],
        "id": "201c9910",
        "outputId": "8b0ba494-5df5-41ef-e379-88c3264c8b36",
        "colab": {
          "base_uri": "https://localhost:8080/"
        }
      },
      "outputs": [
        {
          "output_type": "stream",
          "name": "stdout",
          "text": [
            "Epoch 1/200\n",
            "50/50 [==============================] - 3s 11ms/step - loss: 4.3548\n",
            "Epoch 2/200\n",
            "50/50 [==============================] - 1s 12ms/step - loss: 1.6142\n",
            "Epoch 3/200\n",
            "50/50 [==============================] - 1s 21ms/step - loss: 1.3368\n",
            "Epoch 4/200\n",
            "50/50 [==============================] - 1s 12ms/step - loss: 1.0379\n",
            "Epoch 5/200\n",
            "50/50 [==============================] - 0s 10ms/step - loss: 0.7114\n",
            "Epoch 6/200\n",
            "50/50 [==============================] - 0s 10ms/step - loss: 0.6234\n",
            "Epoch 7/200\n",
            "50/50 [==============================] - 0s 7ms/step - loss: 0.6217\n",
            "Epoch 8/200\n",
            "50/50 [==============================] - 0s 9ms/step - loss: 0.6152\n",
            "Epoch 9/200\n",
            "50/50 [==============================] - 0s 9ms/step - loss: 0.6122\n",
            "Epoch 10/200\n",
            "50/50 [==============================] - 0s 8ms/step - loss: 0.6086\n",
            "Epoch 11/200\n",
            "50/50 [==============================] - 0s 7ms/step - loss: 0.6041\n",
            "Epoch 12/200\n",
            "50/50 [==============================] - 0s 6ms/step - loss: 0.6011\n",
            "Epoch 13/200\n",
            "50/50 [==============================] - 0s 4ms/step - loss: 0.6026\n",
            "Epoch 14/200\n",
            "50/50 [==============================] - 0s 5ms/step - loss: 0.6019\n",
            "Epoch 15/200\n",
            "50/50 [==============================] - 0s 5ms/step - loss: 0.6011\n",
            "Epoch 16/200\n",
            "50/50 [==============================] - 0s 5ms/step - loss: 0.6018\n",
            "Epoch 17/200\n",
            "50/50 [==============================] - 0s 3ms/step - loss: 0.6026\n",
            "Epoch 18/200\n",
            "50/50 [==============================] - 0s 4ms/step - loss: 0.5938\n",
            "Epoch 19/200\n",
            "50/50 [==============================] - 0s 4ms/step - loss: 0.5952\n",
            "Epoch 20/200\n",
            "50/50 [==============================] - 0s 3ms/step - loss: 0.5970\n",
            "Epoch 21/200\n",
            "50/50 [==============================] - 0s 4ms/step - loss: 0.5951\n",
            "Epoch 22/200\n",
            "50/50 [==============================] - 0s 3ms/step - loss: 0.5988\n",
            "Epoch 23/200\n",
            "50/50 [==============================] - 0s 3ms/step - loss: 0.6045\n",
            "Epoch 24/200\n",
            "50/50 [==============================] - 0s 4ms/step - loss: 0.5977\n",
            "Epoch 25/200\n",
            "50/50 [==============================] - 0s 3ms/step - loss: 0.5947\n",
            "Epoch 26/200\n",
            "50/50 [==============================] - 0s 4ms/step - loss: 0.5968\n",
            "Epoch 27/200\n",
            "50/50 [==============================] - 0s 4ms/step - loss: 0.5932\n",
            "Epoch 28/200\n",
            "50/50 [==============================] - 0s 4ms/step - loss: 0.5960\n",
            "Epoch 29/200\n",
            "50/50 [==============================] - 0s 4ms/step - loss: 0.5957\n",
            "Epoch 30/200\n",
            "50/50 [==============================] - 0s 4ms/step - loss: 0.5973\n",
            "Epoch 31/200\n",
            "50/50 [==============================] - 0s 3ms/step - loss: 0.5933\n",
            "Epoch 32/200\n",
            "50/50 [==============================] - 0s 4ms/step - loss: 0.5974\n",
            "Epoch 33/200\n",
            "50/50 [==============================] - 0s 3ms/step - loss: 0.5903\n",
            "Epoch 34/200\n",
            "50/50 [==============================] - 0s 4ms/step - loss: 0.5948\n",
            "Epoch 35/200\n",
            "50/50 [==============================] - 0s 5ms/step - loss: 0.5938\n",
            "Epoch 36/200\n",
            "50/50 [==============================] - 0s 4ms/step - loss: 0.5953\n",
            "Epoch 37/200\n",
            "50/50 [==============================] - 0s 4ms/step - loss: 0.5896\n",
            "Epoch 38/200\n",
            "50/50 [==============================] - 0s 4ms/step - loss: 0.5952\n",
            "Epoch 39/200\n",
            "50/50 [==============================] - 0s 4ms/step - loss: 0.5929\n",
            "Epoch 40/200\n",
            "50/50 [==============================] - 0s 5ms/step - loss: 0.5918\n",
            "Epoch 41/200\n",
            "50/50 [==============================] - 0s 6ms/step - loss: 0.5914\n",
            "Epoch 42/200\n",
            "50/50 [==============================] - 0s 5ms/step - loss: 0.5920\n",
            "Epoch 43/200\n",
            "50/50 [==============================] - 0s 4ms/step - loss: 0.5916\n",
            "Epoch 44/200\n",
            "50/50 [==============================] - 0s 4ms/step - loss: 0.5959\n",
            "Epoch 45/200\n",
            "50/50 [==============================] - 0s 3ms/step - loss: 0.5969\n",
            "Epoch 46/200\n",
            "50/50 [==============================] - 0s 5ms/step - loss: 0.5925\n",
            "Epoch 47/200\n",
            "50/50 [==============================] - 0s 5ms/step - loss: 0.5910\n",
            "Epoch 48/200\n",
            "50/50 [==============================] - 0s 4ms/step - loss: 0.5930\n",
            "Epoch 49/200\n",
            "50/50 [==============================] - 0s 3ms/step - loss: 0.5944\n",
            "Epoch 50/200\n",
            "50/50 [==============================] - 0s 4ms/step - loss: 0.5883\n",
            "Epoch 51/200\n",
            "50/50 [==============================] - 0s 5ms/step - loss: 0.5928\n",
            "Epoch 52/200\n",
            "50/50 [==============================] - 0s 4ms/step - loss: 0.5955\n",
            "Epoch 53/200\n",
            "50/50 [==============================] - 0s 4ms/step - loss: 0.6023\n",
            "Epoch 54/200\n",
            "50/50 [==============================] - 0s 5ms/step - loss: 0.6029\n",
            "Epoch 55/200\n",
            "50/50 [==============================] - 0s 4ms/step - loss: 0.5956\n",
            "Epoch 56/200\n",
            "50/50 [==============================] - 0s 5ms/step - loss: 0.5890\n",
            "Epoch 57/200\n",
            "50/50 [==============================] - 0s 5ms/step - loss: 0.5887\n",
            "Epoch 58/200\n",
            "50/50 [==============================] - 0s 3ms/step - loss: 0.5874\n",
            "Epoch 59/200\n",
            "50/50 [==============================] - 0s 6ms/step - loss: 0.5920\n",
            "Epoch 60/200\n",
            "50/50 [==============================] - 0s 3ms/step - loss: 0.5888\n",
            "Epoch 61/200\n",
            "50/50 [==============================] - 0s 3ms/step - loss: 0.5926\n",
            "Epoch 62/200\n",
            "50/50 [==============================] - 0s 4ms/step - loss: 0.5906\n",
            "Epoch 63/200\n",
            "50/50 [==============================] - 0s 5ms/step - loss: 0.5938\n",
            "Epoch 64/200\n",
            "50/50 [==============================] - 0s 6ms/step - loss: 0.5933\n",
            "Epoch 65/200\n",
            "50/50 [==============================] - 0s 5ms/step - loss: 0.5907\n",
            "Epoch 66/200\n",
            "50/50 [==============================] - 0s 6ms/step - loss: 0.5972\n",
            "Epoch 67/200\n",
            "50/50 [==============================] - 0s 5ms/step - loss: 0.5987\n",
            "Epoch 68/200\n",
            "50/50 [==============================] - 0s 5ms/step - loss: 0.5910\n",
            "Epoch 69/200\n",
            "50/50 [==============================] - 0s 6ms/step - loss: 0.5924\n",
            "Epoch 70/200\n",
            "50/50 [==============================] - 0s 5ms/step - loss: 0.5893\n",
            "Epoch 71/200\n",
            "50/50 [==============================] - 0s 5ms/step - loss: 0.5885\n",
            "Epoch 72/200\n",
            "50/50 [==============================] - 0s 6ms/step - loss: 0.5873\n",
            "Epoch 73/200\n",
            "50/50 [==============================] - 0s 5ms/step - loss: 0.5900\n",
            "Epoch 74/200\n",
            "50/50 [==============================] - 0s 8ms/step - loss: 0.5879\n",
            "Epoch 75/200\n",
            "50/50 [==============================] - 0s 7ms/step - loss: 0.5901\n",
            "Epoch 76/200\n",
            "50/50 [==============================] - 0s 5ms/step - loss: 0.5928\n",
            "Epoch 77/200\n",
            "50/50 [==============================] - 0s 4ms/step - loss: 0.5861\n",
            "Epoch 78/200\n",
            "50/50 [==============================] - 0s 3ms/step - loss: 0.5890\n",
            "Epoch 79/200\n",
            "50/50 [==============================] - 0s 3ms/step - loss: 0.5911\n",
            "Epoch 80/200\n",
            "50/50 [==============================] - 0s 3ms/step - loss: 0.5897\n",
            "Epoch 81/200\n",
            "50/50 [==============================] - 0s 3ms/step - loss: 0.5926\n",
            "Epoch 82/200\n",
            "50/50 [==============================] - 0s 5ms/step - loss: 0.5898\n",
            "Epoch 83/200\n",
            "50/50 [==============================] - 0s 4ms/step - loss: 0.5941\n",
            "Epoch 84/200\n",
            "50/50 [==============================] - 0s 3ms/step - loss: 0.5870\n",
            "Epoch 85/200\n",
            "50/50 [==============================] - 0s 4ms/step - loss: 0.5872\n",
            "Epoch 86/200\n",
            "50/50 [==============================] - 0s 7ms/step - loss: 0.5886\n",
            "Epoch 87/200\n",
            "50/50 [==============================] - 0s 5ms/step - loss: 0.5941\n",
            "Epoch 88/200\n",
            "50/50 [==============================] - 0s 4ms/step - loss: 0.5880\n",
            "Epoch 89/200\n",
            "50/50 [==============================] - 0s 3ms/step - loss: 0.5858\n",
            "Epoch 90/200\n",
            "50/50 [==============================] - 0s 5ms/step - loss: 0.5884\n",
            "Epoch 91/200\n",
            "50/50 [==============================] - 0s 5ms/step - loss: 0.5876\n",
            "Epoch 92/200\n",
            "50/50 [==============================] - 0s 3ms/step - loss: 0.5872\n",
            "Epoch 93/200\n",
            "50/50 [==============================] - 0s 4ms/step - loss: 0.5873\n",
            "Epoch 94/200\n",
            "50/50 [==============================] - 0s 3ms/step - loss: 0.5863\n",
            "Epoch 95/200\n",
            "50/50 [==============================] - 0s 3ms/step - loss: 0.5868\n",
            "Epoch 96/200\n",
            "50/50 [==============================] - 0s 3ms/step - loss: 0.5897\n",
            "Epoch 97/200\n",
            "50/50 [==============================] - 0s 4ms/step - loss: 0.5878\n",
            "Epoch 98/200\n",
            "50/50 [==============================] - 0s 3ms/step - loss: 0.5864\n",
            "Epoch 99/200\n",
            "50/50 [==============================] - 0s 3ms/step - loss: 0.5885\n",
            "Epoch 100/200\n",
            "50/50 [==============================] - 0s 4ms/step - loss: 0.5878\n",
            "Epoch 101/200\n",
            "50/50 [==============================] - 0s 4ms/step - loss: 0.5867\n",
            "Epoch 102/200\n",
            "50/50 [==============================] - 0s 3ms/step - loss: 0.5862\n",
            "Epoch 103/200\n",
            "50/50 [==============================] - 0s 3ms/step - loss: 0.5876\n",
            "Epoch 104/200\n",
            "50/50 [==============================] - 0s 5ms/step - loss: 0.5874\n",
            "Epoch 105/200\n",
            "50/50 [==============================] - 0s 3ms/step - loss: 0.5901\n",
            "Epoch 106/200\n",
            "50/50 [==============================] - 0s 3ms/step - loss: 0.5895\n",
            "Epoch 107/200\n",
            "50/50 [==============================] - 0s 4ms/step - loss: 0.5897\n",
            "Epoch 108/200\n",
            "50/50 [==============================] - 0s 6ms/step - loss: 0.5862\n",
            "Epoch 109/200\n",
            "50/50 [==============================] - 0s 3ms/step - loss: 0.5877\n",
            "Epoch 110/200\n",
            "50/50 [==============================] - 0s 3ms/step - loss: 0.5859\n",
            "Epoch 111/200\n",
            "50/50 [==============================] - 0s 3ms/step - loss: 0.5858\n",
            "Epoch 112/200\n",
            "50/50 [==============================] - 0s 4ms/step - loss: 0.5908\n",
            "Epoch 113/200\n",
            "50/50 [==============================] - 0s 7ms/step - loss: 0.5909\n",
            "Epoch 114/200\n",
            "50/50 [==============================] - 0s 5ms/step - loss: 0.5865\n",
            "Epoch 115/200\n",
            "50/50 [==============================] - 0s 4ms/step - loss: 0.5879\n",
            "Epoch 116/200\n",
            "50/50 [==============================] - 0s 3ms/step - loss: 0.5830\n",
            "Epoch 117/200\n",
            "50/50 [==============================] - 0s 3ms/step - loss: 0.5857\n",
            "Epoch 118/200\n",
            "50/50 [==============================] - 0s 3ms/step - loss: 0.5848\n",
            "Epoch 119/200\n",
            "50/50 [==============================] - 0s 3ms/step - loss: 0.5884\n",
            "Epoch 120/200\n",
            "50/50 [==============================] - 0s 4ms/step - loss: 0.5851\n",
            "Epoch 121/200\n",
            "50/50 [==============================] - 0s 5ms/step - loss: 0.5896\n",
            "Epoch 122/200\n",
            "50/50 [==============================] - 0s 5ms/step - loss: 0.5843\n",
            "Epoch 123/200\n",
            "50/50 [==============================] - 0s 6ms/step - loss: 0.5885\n",
            "Epoch 124/200\n",
            "50/50 [==============================] - 0s 7ms/step - loss: 0.5900\n",
            "Epoch 125/200\n",
            "50/50 [==============================] - 0s 6ms/step - loss: 0.5853\n",
            "Epoch 126/200\n",
            "50/50 [==============================] - 0s 8ms/step - loss: 0.5818\n",
            "Epoch 127/200\n",
            "50/50 [==============================] - 0s 4ms/step - loss: 0.5868\n",
            "Epoch 128/200\n",
            "50/50 [==============================] - 0s 3ms/step - loss: 0.5857\n",
            "Epoch 129/200\n",
            "50/50 [==============================] - 0s 3ms/step - loss: 0.5886\n",
            "Epoch 130/200\n",
            "50/50 [==============================] - 0s 3ms/step - loss: 0.5847\n",
            "Epoch 131/200\n",
            "50/50 [==============================] - 0s 3ms/step - loss: 0.5897\n",
            "Epoch 132/200\n",
            "50/50 [==============================] - 0s 3ms/step - loss: 0.5901\n",
            "Epoch 133/200\n",
            "50/50 [==============================] - 0s 3ms/step - loss: 0.5830\n",
            "Epoch 134/200\n",
            "50/50 [==============================] - 0s 3ms/step - loss: 0.5867\n",
            "Epoch 135/200\n",
            "50/50 [==============================] - 0s 3ms/step - loss: 0.5840\n",
            "Epoch 136/200\n",
            "50/50 [==============================] - 0s 3ms/step - loss: 0.5855\n",
            "Epoch 137/200\n",
            "50/50 [==============================] - 0s 3ms/step - loss: 0.5847\n",
            "Epoch 138/200\n",
            "50/50 [==============================] - 0s 3ms/step - loss: 0.5877\n",
            "Epoch 139/200\n",
            "50/50 [==============================] - 0s 3ms/step - loss: 0.5869\n",
            "Epoch 140/200\n",
            "50/50 [==============================] - 0s 3ms/step - loss: 0.5830\n",
            "Epoch 141/200\n",
            "50/50 [==============================] - 0s 3ms/step - loss: 0.5851\n",
            "Epoch 142/200\n",
            "50/50 [==============================] - 0s 3ms/step - loss: 0.5845\n",
            "Epoch 143/200\n",
            "50/50 [==============================] - 0s 2ms/step - loss: 0.5839\n",
            "Epoch 144/200\n",
            "50/50 [==============================] - 0s 2ms/step - loss: 0.5899\n",
            "Epoch 145/200\n",
            "50/50 [==============================] - 0s 2ms/step - loss: 0.5821\n",
            "Epoch 146/200\n",
            "50/50 [==============================] - 0s 2ms/step - loss: 0.5834\n",
            "Epoch 147/200\n",
            "50/50 [==============================] - 0s 2ms/step - loss: 0.5849\n",
            "Epoch 148/200\n",
            "50/50 [==============================] - 0s 2ms/step - loss: 0.5869\n",
            "Epoch 149/200\n",
            "50/50 [==============================] - 0s 2ms/step - loss: 0.5858\n",
            "Epoch 150/200\n",
            "50/50 [==============================] - 0s 2ms/step - loss: 0.5862\n",
            "Epoch 151/200\n",
            "50/50 [==============================] - 0s 2ms/step - loss: 0.5828\n",
            "Epoch 152/200\n",
            "50/50 [==============================] - 0s 2ms/step - loss: 0.5883\n",
            "Epoch 153/200\n",
            "50/50 [==============================] - 0s 2ms/step - loss: 0.5871\n",
            "Epoch 154/200\n",
            "50/50 [==============================] - 0s 2ms/step - loss: 0.5867\n",
            "Epoch 155/200\n",
            "50/50 [==============================] - 0s 2ms/step - loss: 0.5851\n",
            "Epoch 156/200\n",
            "50/50 [==============================] - 0s 2ms/step - loss: 0.5881\n",
            "Epoch 157/200\n",
            "50/50 [==============================] - 0s 2ms/step - loss: 0.5888\n",
            "Epoch 158/200\n",
            "50/50 [==============================] - 0s 2ms/step - loss: 0.5874\n",
            "Epoch 159/200\n",
            "50/50 [==============================] - 0s 2ms/step - loss: 0.5818\n",
            "Epoch 160/200\n",
            "50/50 [==============================] - 0s 2ms/step - loss: 0.5831\n",
            "Epoch 161/200\n",
            "50/50 [==============================] - 0s 2ms/step - loss: 0.5892\n",
            "Epoch 162/200\n",
            "50/50 [==============================] - 0s 2ms/step - loss: 0.5876\n",
            "Epoch 163/200\n",
            "50/50 [==============================] - 0s 2ms/step - loss: 0.5854\n",
            "Epoch 164/200\n",
            "50/50 [==============================] - 0s 2ms/step - loss: 0.5842\n",
            "Epoch 165/200\n",
            "50/50 [==============================] - 0s 2ms/step - loss: 0.5825\n",
            "Epoch 166/200\n",
            "50/50 [==============================] - 0s 2ms/step - loss: 0.5852\n",
            "Epoch 167/200\n",
            "50/50 [==============================] - 0s 2ms/step - loss: 0.5804\n",
            "Epoch 168/200\n",
            "50/50 [==============================] - 0s 2ms/step - loss: 0.5874\n",
            "Epoch 169/200\n",
            "50/50 [==============================] - 0s 2ms/step - loss: 0.5845\n",
            "Epoch 170/200\n",
            "50/50 [==============================] - 0s 2ms/step - loss: 0.5850\n",
            "Epoch 171/200\n",
            "50/50 [==============================] - 0s 2ms/step - loss: 0.5817\n",
            "Epoch 172/200\n",
            "50/50 [==============================] - 0s 2ms/step - loss: 0.5858\n",
            "Epoch 173/200\n",
            "50/50 [==============================] - 0s 2ms/step - loss: 0.5809\n",
            "Epoch 174/200\n",
            "50/50 [==============================] - 0s 2ms/step - loss: 0.5819\n",
            "Epoch 175/200\n",
            "50/50 [==============================] - 0s 2ms/step - loss: 0.5827\n",
            "Epoch 176/200\n",
            "50/50 [==============================] - 0s 2ms/step - loss: 0.5817\n",
            "Epoch 177/200\n",
            "50/50 [==============================] - 0s 2ms/step - loss: 0.5844\n",
            "Epoch 178/200\n",
            "50/50 [==============================] - 0s 2ms/step - loss: 0.5836\n",
            "Epoch 179/200\n",
            "50/50 [==============================] - 0s 2ms/step - loss: 0.5820\n",
            "Epoch 180/200\n",
            "50/50 [==============================] - 0s 2ms/step - loss: 0.5852\n",
            "Epoch 181/200\n",
            "50/50 [==============================] - 0s 2ms/step - loss: 0.5801\n",
            "Epoch 182/200\n",
            "50/50 [==============================] - 0s 2ms/step - loss: 0.5880\n",
            "Epoch 183/200\n",
            "50/50 [==============================] - 0s 2ms/step - loss: 0.5817\n",
            "Epoch 184/200\n",
            "50/50 [==============================] - 0s 2ms/step - loss: 0.5826\n",
            "Epoch 185/200\n",
            "50/50 [==============================] - 0s 2ms/step - loss: 0.5883\n",
            "Epoch 186/200\n",
            "50/50 [==============================] - 0s 2ms/step - loss: 0.5862\n",
            "Epoch 187/200\n",
            "50/50 [==============================] - 0s 2ms/step - loss: 0.5806\n",
            "Epoch 188/200\n",
            "50/50 [==============================] - 0s 2ms/step - loss: 0.5838\n",
            "Epoch 189/200\n",
            "50/50 [==============================] - 0s 2ms/step - loss: 0.5890\n",
            "Epoch 190/200\n",
            "50/50 [==============================] - 0s 2ms/step - loss: 0.5831\n",
            "Epoch 191/200\n",
            "50/50 [==============================] - 0s 2ms/step - loss: 0.5818\n",
            "Epoch 192/200\n",
            "50/50 [==============================] - 0s 2ms/step - loss: 0.5848\n",
            "Epoch 193/200\n",
            "50/50 [==============================] - 0s 2ms/step - loss: 0.5816\n",
            "Epoch 194/200\n",
            "50/50 [==============================] - 0s 2ms/step - loss: 0.5843\n",
            "Epoch 195/200\n",
            "50/50 [==============================] - 0s 2ms/step - loss: 0.5850\n",
            "Epoch 196/200\n",
            "50/50 [==============================] - 0s 2ms/step - loss: 0.5851\n",
            "Epoch 197/200\n",
            "50/50 [==============================] - 0s 2ms/step - loss: 0.5816\n",
            "Epoch 198/200\n",
            "50/50 [==============================] - 0s 2ms/step - loss: 0.5813\n",
            "Epoch 199/200\n",
            "50/50 [==============================] - 0s 2ms/step - loss: 0.5796\n",
            "Epoch 200/200\n",
            "50/50 [==============================] - 0s 2ms/step - loss: 0.5805\n"
          ]
        }
      ],
      "source": [
        "history = model.fit(\n",
        "    Xprocessed_train_df, y_train,\n",
        "    batch_size=128,\n",
        "    epochs=200,\n",
        "    verbose=1, #suppress output since we'll plot the curves\n",
        ")"
      ]
    },
    {
      "cell_type": "markdown",
      "id": "b2f2cb27",
      "metadata": {
        "papermill": {
          "duration": 0.020275,
          "end_time": "2022-05-05T17:51:17.843301",
          "exception": false,
          "start_time": "2022-05-05T17:51:17.823026",
          "status": "completed"
        },
        "tags": [],
        "id": "b2f2cb27"
      },
      "source": [
        "You can see that Keras will keep you updated on the loss as the model trains.\n",
        "\n",
        "Often, a better way to view the loss though is to plot it. The `fit` method in fact keeps a record of the loss produced during training in a `History` object. We'll convert the data to a Pandas dataframe, which makes the plotting easy."
      ]
    },
    {
      "cell_type": "code",
      "execution_count": 19,
      "id": "90d01429",
      "metadata": {
        "execution": {
          "iopub.execute_input": "2022-05-05T17:51:17.884506Z",
          "iopub.status.busy": "2022-05-05T17:51:17.884122Z",
          "iopub.status.idle": "2022-05-05T17:51:18.091248Z",
          "shell.execute_reply": "2022-05-05T17:51:18.090377Z"
        },
        "lines_to_next_cell": 2,
        "papermill": {
          "duration": 0.230129,
          "end_time": "2022-05-05T17:51:18.093226",
          "exception": false,
          "start_time": "2022-05-05T17:51:17.863097",
          "status": "completed"
        },
        "tags": [],
        "id": "90d01429",
        "outputId": "7baa2dab-224f-406e-9af2-6ec9c8d5a8dd",
        "colab": {
          "base_uri": "https://localhost:8080/",
          "height": 487
        }
      },
      "outputs": [
        {
          "output_type": "display_data",
          "data": {
            "text/plain": [
              "<Figure size 640x480 with 1 Axes>"
            ],
            "image/png": "[encoded data removed]"
          },
          "metadata": {}
        }
      ],
      "source": [
        "#import pandas as pd\n",
        "\n",
        "# convert the training history to a dataframe\n",
        "history_df = pd.DataFrame(history.history)\n",
        "\n",
        "# use Pandas native plot method\n",
        "# start the plot at epoch 5 (you can change this to get a different view)\n",
        "history_df.loc[5:,['loss']].plot();"
      ]
    },
    {
      "cell_type": "markdown",
      "id": "7545fb3a",
      "metadata": {
        "papermill": {
          "duration": 0.031308,
          "end_time": "2022-05-05T17:51:18.156210",
          "exception": false,
          "start_time": "2022-05-05T17:51:18.124902",
          "status": "completed"
        },
        "tags": [],
        "id": "7545fb3a"
      },
      "source": [
        "Notice how the loss levels off as the epochs go by. When the loss curve becomes horizontal, it means the model has learned all it can and there would be no reason continue for additional epochs."
      ]
    },
    {
      "cell_type": "markdown",
      "id": "4d5223de",
      "metadata": {
        "id": "4d5223de"
      },
      "source": [
        "### In Lab: *Use Stochastic Gradient Descent to Train your Neural Network*\n",
        "\n",
        "We have seen how to train deep neural networks using `Stochastic Gradient Descent` (SGD). The *Optimizer* tells the network how to change its weights: **ADAM** is an SGD algorithm with an adaptive learning rate, suitable for many general problems. \n",
        "\n",
        "After adding a *Loss function* that measures how good the network's predictions are per iteration, we `fit` the model by choosing the number of records per mini-batch of data (`batch_size`) to feed to the optimizer per iteration, and the number of times the network will see each complete round of training data (`epoch`). \n",
        "\n",
        "In lab on Thursday, you'll train a deep neural network using ADAM and MAE loss, then explore the effect of the learning rate and batch size on SGD. \n",
        "\n",
        "1.   Add Loss Function and Optimizer\n",
        "2.   Train Model\n",
        "3.   Evaluate Training\n",
        "4.   Explore Learning Rate and Batch Size\n"
      ]
    }
  ],
  "metadata": {
    "jupytext": {
      "formats": "ipynb"
    },
    "kernelspec": {
      "display_name": "Python 3 (ipykernel)",
      "language": "python",
      "name": "python3"
    },
    "language_info": {
      "codemirror_mode": {
        "name": "ipython",
        "version": 3
      },
      "file_extension": ".py",
      "mimetype": "text/x-python",
      "name": "python",
      "nbconvert_exporter": "python",
      "pygments_lexer": "ipython3",
      "version": "3.8.8"
    },
    "papermill": {
      "default_parameters": {},
      "duration": 19.692016,
      "end_time": "2022-05-05T17:51:52.457795",
      "environment_variables": {},
      "exception": null,
      "input_path": "__notebook__.ipynb",
      "output_path": "__notebook__.ipynb",
      "parameters": {},
      "start_time": "2022-05-05T17:51:32.765779",
      "version": "2.3.4"
    },
    "colab": {
      "provenance": [],
      "toc_visible": true
    }
  },
  "nbformat": 4,
  "nbformat_minor": 5
}