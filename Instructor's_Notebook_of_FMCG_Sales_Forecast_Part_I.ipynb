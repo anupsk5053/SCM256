{
  "cells": [
    {
      "attachments": {},
      "cell_type": "markdown",
      "id": "b4wmBoy7oo80",
      "metadata": {
        "id": "b4wmBoy7oo80"
      },
      "source": [
        "# Fast Moving Consumer Goods Sales Forecast - Part I"
      ]
    },
    {
      "attachments": {},
      "cell_type": "markdown",
      "id": "aca2bbaf",
      "metadata": {
        "id": "aca2bbaf",
        "papermill": {
          "duration": 0.003705,
          "end_time": "2022-01-05T13:51:57.081033",
          "exception": false,
          "start_time": "2022-01-05T13:51:57.077328",
          "status": "completed"
        },
        "tags": []
      },
      "source": [
        "# 1. Introduction\n",
        "We'll start with an overview of how machine learning models work and how they are used. This may feel basic if you've done statistical modeling or machine learning before. Don't worry, we will progress to building powerful models soon.\n",
        "\n",
        "This week will have you build models as you go through following scenario:\n",
        "\n",
        "As a graduate of the MIT SCM program you are hired by a large fast moving consumer goods (FMCG) company. They have put you in charge of creating a supply chain analytics department. The board wants to create this department as the company for decades relied on the intuition of the experienced staff. \n",
        "When talking with this staff you find out that they identified patterns in the revenues based on patterns such as holidays and sports events.\n",
        "\n",
        "Machine learning works the same way.  We'll start with a model called the Decision Tree. There are fancier models that give more accurate predictions. But decision trees are easy to understand, and they are the basic building block for some of the best models in data science.\n",
        "\n",
        "For simplicity, we'll start with the simplest possible decision tree. \n",
        "\n",
        "![First Decision Trees](https://www.dropbox.com/s/zwlagalivi46y6f/decisiontree1.png?dl=1)\n",
        "\n",
        "It divides the data into only two categories. The predicted price for any week is the historical average of weekly sales in the same category. \n",
        "\n",
        "We use data to decide how to break the sales data into two groups, and then again to determine the predicted revenue in each group. In this example we predict the sales of week with or without a holiday. This step of capturing patterns from data is called **fitting** or **training** the model. The data used to **fit** the model is called the **training data**.  \n",
        "\n",
        "The details of how the model is fit (e.g. how to split up the data) is complex enough that we will save it for later. After the model has been fit, you can apply it to new data to **predict** weekly sales in the future.\n",
        "\n",
        "---\n",
        "## Improving the Decision Tree\n",
        "Which of the following two decision trees is more likely to result from fitting the FMCG sales training data?\n",
        "\n",
        "![First Decision Trees](https://www.dropbox.com/s/116u9op450wwaze/Drawing1%20%285%29.png?dl=1)\n",
        "\n",
        "The decision tree on the right (Decision Tree 2) probably makes more sense, because it captures the reality that in the week before a holiday revenue will be higher than usual. The biggest shortcoming of this model is that it doesn't capture other factors such as which month of the year it is. A FMCG store will probably have higher sales in the week before Christmas and Thanksgiving than in the week of Presidents day.\n",
        "\n",
        "You can capture more factors using a tree that has more \"splits.\" These are called \"deeper\" trees. A decision tree that also considers the month of the year might look like this:\n",
        "![Depth 2 Tree](https://www.dropbox.com/s/jzakh55vj1q4xr3/Drawing1%20%284%29.png?dl=1)\n",
        "\n",
        "You predict the sales of any week by tracing through the decision tree, always picking the path corresponding to that characteristics of that week. The predicted price for that week is at the bottom of the tree.  The point at the bottom where we make a prediction is called a **leaf.**   \n",
        "\n",
        "The splits and values at the leaves will be determined by the data, so it's time for you to check out the data you will be working with."
      ]
    },
    {
      "attachments": {},
      "cell_type": "markdown",
      "id": "cdd99882",
      "metadata": {
        "id": "cdd99882",
        "papermill": {
          "duration": 0.005862,
          "end_time": "2021-11-09T00:01:34.156450",
          "exception": false,
          "start_time": "2021-11-09T00:01:34.150588",
          "status": "completed"
        },
        "tags": []
      },
      "source": [
        "---\n",
        "# 2. Using Pandas to Get Familiar With Your Data\n",
        "\n",
        "The first step in any machine learning project is familiarize yourself with the data. You'll use the Pandas library for this. Pandas is the primary tool data scientists use for exploring and manipulating data. Most people abbreviate pandas in their code as `pd`.  We do this with the command:"
      ]
    },
    {
      "cell_type": "code",
      "execution_count": 1,
      "id": "77d6078a",
      "metadata": {
        "execution": {
          "iopub.execute_input": "2021-11-09T00:01:34.172312Z",
          "iopub.status.busy": "2021-11-09T00:01:34.170503Z",
          "iopub.status.idle": "2021-11-09T00:01:34.183093Z",
          "shell.execute_reply": "2021-11-09T00:01:34.182397Z"
        },
        "id": "77d6078a",
        "papermill": {
          "duration": 0.021734,
          "end_time": "2021-11-09T00:01:34.183267",
          "exception": false,
          "start_time": "2021-11-09T00:01:34.161533",
          "status": "completed"
        },
        "tags": []
      },
      "outputs": [],
      "source": [
        "import pandas as pd"
      ]
    },
    {
      "cell_type": "markdown",
      "id": "a3139f6b",
      "metadata": {
        "id": "a3139f6b",
        "papermill": {
          "duration": 0.004546,
          "end_time": "2021-11-09T00:01:34.192929",
          "exception": false,
          "start_time": "2021-11-09T00:01:34.188383",
          "status": "completed"
        },
        "tags": []
      },
      "source": [
        "The most important part of the Pandas library is the DataFrame.  A DataFrame holds the type of data you might think of as a table. This is similar to a sheet in Excel, or a table in a SQL database. \n",
        "\n",
        "Pandas has powerful methods for most things you'll want to do with this type of data.  \n",
        "\n",
        "As an example, we'll look at [data about weekly retail sales at Walmart stores](https://www.kaggle.com/datasets/rutuspatel/walmart-dataset-retail). The example (Walmart Retail Dataset) data is at the file path **`Walmart_Store_sales.csv`**.\n",
        "\n",
        "We load and explore the data with the following commands:"
      ]
    },
    {
      "cell_type": "code",
      "execution_count": 2,
      "id": "08bdd7a6",
      "metadata": {
        "execution": {
          "iopub.execute_input": "2021-11-09T00:01:34.207733Z",
          "iopub.status.busy": "2021-11-09T00:01:34.207081Z",
          "iopub.status.idle": "2021-11-09T00:01:34.366376Z",
          "shell.execute_reply": "2021-11-09T00:01:34.366862Z"
        },
        "id": "08bdd7a6",
        "papermill": {
          "duration": 0.169399,
          "end_time": "2021-11-09T00:01:34.367046",
          "exception": false,
          "start_time": "2021-11-09T00:01:34.197647",
          "status": "completed"
        },
        "tags": []
      },
      "outputs": [],
      "source": [
        "from datetime import datetime\n",
        "# save filepath to variable for easier access\n",
        "walmart_file_path = 'https://www.dropbox.com/s/ns7envvzoqyypui/Walmart_Store_sales.csv?dl=1'\n",
        "\n",
        "# read the data and store data in DataFrame titled walmart_data\n",
        "# Parse date column from day-month-year into Pandas \n",
        "walmart_data = pd.read_csv(walmart_file_path,parse_dates=['Date'], date_parser=lambda x: datetime.strptime(x, '%d-%M-%Y').date()) "
      ]
    },
    {
      "cell_type": "code",
      "execution_count": 3,
      "id": "f354d1ec",
      "metadata": {
        "colab": {
          "base_uri": "https://localhost:8080/",
          "height": 206
        },
        "id": "f354d1ec",
        "outputId": "638e8420-aef0-4e67-de75-a648b3b800a8"
      },
      "outputs": [
        {
          "data": {
            "text/html": [
              "<div>\n",
              "<style scoped>\n",
              "    .dataframe tbody tr th:only-of-type {\n",
              "        vertical-align: middle;\n",
              "    }\n",
              "\n",
              "    .dataframe tbody tr th {\n",
              "        vertical-align: top;\n",
              "    }\n",
              "\n",
              "    .dataframe thead th {\n",
              "        text-align: right;\n",
              "    }\n",
              "</style>\n",
              "<table border=\"1\" class=\"dataframe\">\n",
              "  <thead>\n",
              "    <tr style=\"text-align: right;\">\n",
              "      <th></th>\n",
              "      <th>Store</th>\n",
              "      <th>Date</th>\n",
              "      <th>Weekly_Sales</th>\n",
              "      <th>Holiday_Flag</th>\n",
              "      <th>Temperature</th>\n",
              "      <th>Fuel_Price</th>\n",
              "      <th>CPI</th>\n",
              "      <th>Unemployment</th>\n",
              "    </tr>\n",
              "  </thead>\n",
              "  <tbody>\n",
              "    <tr>\n",
              "      <th>0</th>\n",
              "      <td>1</td>\n",
              "      <td>2010-01-05</td>\n",
              "      <td>1643690.90</td>\n",
              "      <td>0</td>\n",
              "      <td>42.31</td>\n",
              "      <td>2.572</td>\n",
              "      <td>211.096358</td>\n",
              "      <td>8.106</td>\n",
              "    </tr>\n",
              "    <tr>\n",
              "      <th>1</th>\n",
              "      <td>1</td>\n",
              "      <td>2010-01-12</td>\n",
              "      <td>1641957.44</td>\n",
              "      <td>1</td>\n",
              "      <td>38.51</td>\n",
              "      <td>2.548</td>\n",
              "      <td>211.242170</td>\n",
              "      <td>8.106</td>\n",
              "    </tr>\n",
              "    <tr>\n",
              "      <th>2</th>\n",
              "      <td>1</td>\n",
              "      <td>2010-01-19</td>\n",
              "      <td>1611968.17</td>\n",
              "      <td>0</td>\n",
              "      <td>39.93</td>\n",
              "      <td>2.514</td>\n",
              "      <td>211.289143</td>\n",
              "      <td>8.106</td>\n",
              "    </tr>\n",
              "    <tr>\n",
              "      <th>3</th>\n",
              "      <td>1</td>\n",
              "      <td>2010-01-26</td>\n",
              "      <td>1409727.59</td>\n",
              "      <td>0</td>\n",
              "      <td>46.63</td>\n",
              "      <td>2.561</td>\n",
              "      <td>211.319643</td>\n",
              "      <td>8.106</td>\n",
              "    </tr>\n",
              "    <tr>\n",
              "      <th>4</th>\n",
              "      <td>1</td>\n",
              "      <td>2010-01-05</td>\n",
              "      <td>1554806.68</td>\n",
              "      <td>0</td>\n",
              "      <td>46.50</td>\n",
              "      <td>2.625</td>\n",
              "      <td>211.350143</td>\n",
              "      <td>8.106</td>\n",
              "    </tr>\n",
              "  </tbody>\n",
              "</table>\n",
              "</div>"
            ],
            "text/plain": [
              "   Store       Date  Weekly_Sales  Holiday_Flag  Temperature  Fuel_Price  \\\n",
              "0      1 2010-01-05    1643690.90             0        42.31       2.572   \n",
              "1      1 2010-01-12    1641957.44             1        38.51       2.548   \n",
              "2      1 2010-01-19    1611968.17             0        39.93       2.514   \n",
              "3      1 2010-01-26    1409727.59             0        46.63       2.561   \n",
              "4      1 2010-01-05    1554806.68             0        46.50       2.625   \n",
              "\n",
              "          CPI  Unemployment  \n",
              "0  211.096358         8.106  \n",
              "1  211.242170         8.106  \n",
              "2  211.289143         8.106  \n",
              "3  211.319643         8.106  \n",
              "4  211.350143         8.106  "
            ]
          },
          "execution_count": 3,
          "metadata": {},
          "output_type": "execute_result"
        }
      ],
      "source": [
        "walmart_data.head(5)"
      ]
    },
    {
      "cell_type": "code",
      "execution_count": 4,
      "id": "68b52654",
      "metadata": {
        "colab": {
          "base_uri": "https://localhost:8080/"
        },
        "id": "68b52654",
        "outputId": "5a63b24b-766c-4057-8b8f-366a3dda6105"
      },
      "outputs": [
        {
          "data": {
            "text/plain": [
              "Store                    int64\n",
              "Date            datetime64[ns]\n",
              "Weekly_Sales           float64\n",
              "Holiday_Flag             int64\n",
              "Temperature            float64\n",
              "Fuel_Price             float64\n",
              "CPI                    float64\n",
              "Unemployment           float64\n",
              "dtype: object"
            ]
          },
          "execution_count": 4,
          "metadata": {},
          "output_type": "execute_result"
        }
      ],
      "source": [
        "#List data types of each column\n",
        "walmart_data.dtypes"
      ]
    },
    {
      "cell_type": "code",
      "execution_count": 5,
      "id": "eaae27ed",
      "metadata": {
        "colab": {
          "base_uri": "https://localhost:8080/",
          "height": 300
        },
        "id": "eaae27ed",
        "outputId": "15e8dfa2-fbd2-40f6-93f5-b1a5bb290cfe"
      },
      "outputs": [
        {
          "data": {
            "text/html": [
              "<div>\n",
              "<style scoped>\n",
              "    .dataframe tbody tr th:only-of-type {\n",
              "        vertical-align: middle;\n",
              "    }\n",
              "\n",
              "    .dataframe tbody tr th {\n",
              "        vertical-align: top;\n",
              "    }\n",
              "\n",
              "    .dataframe thead th {\n",
              "        text-align: right;\n",
              "    }\n",
              "</style>\n",
              "<table border=\"1\" class=\"dataframe\">\n",
              "  <thead>\n",
              "    <tr style=\"text-align: right;\">\n",
              "      <th></th>\n",
              "      <th>Store</th>\n",
              "      <th>Date</th>\n",
              "      <th>Weekly_Sales</th>\n",
              "      <th>Holiday_Flag</th>\n",
              "      <th>Temperature</th>\n",
              "      <th>Fuel_Price</th>\n",
              "      <th>CPI</th>\n",
              "      <th>Unemployment</th>\n",
              "    </tr>\n",
              "  </thead>\n",
              "  <tbody>\n",
              "    <tr>\n",
              "      <th>count</th>\n",
              "      <td>6435.000000</td>\n",
              "      <td>6435</td>\n",
              "      <td>6.435000e+03</td>\n",
              "      <td>6435.000000</td>\n",
              "      <td>6435.000000</td>\n",
              "      <td>6435.000000</td>\n",
              "      <td>6435.000000</td>\n",
              "      <td>6435.000000</td>\n",
              "    </tr>\n",
              "    <tr>\n",
              "      <th>mean</th>\n",
              "      <td>23.000000</td>\n",
              "      <td>2011-01-02 21:59:09.650349824</td>\n",
              "      <td>1.046965e+06</td>\n",
              "      <td>0.069930</td>\n",
              "      <td>60.663782</td>\n",
              "      <td>3.358607</td>\n",
              "      <td>171.578394</td>\n",
              "      <td>7.999151</td>\n",
              "    </tr>\n",
              "    <tr>\n",
              "      <th>min</th>\n",
              "      <td>1.000000</td>\n",
              "      <td>2010-01-01 00:00:00</td>\n",
              "      <td>2.099862e+05</td>\n",
              "      <td>0.000000</td>\n",
              "      <td>-2.060000</td>\n",
              "      <td>2.472000</td>\n",
              "      <td>126.064000</td>\n",
              "      <td>3.879000</td>\n",
              "    </tr>\n",
              "    <tr>\n",
              "      <th>25%</th>\n",
              "      <td>12.000000</td>\n",
              "      <td>2010-01-23 00:00:00</td>\n",
              "      <td>5.533501e+05</td>\n",
              "      <td>0.000000</td>\n",
              "      <td>47.460000</td>\n",
              "      <td>2.933000</td>\n",
              "      <td>131.735000</td>\n",
              "      <td>6.891000</td>\n",
              "    </tr>\n",
              "    <tr>\n",
              "      <th>50%</th>\n",
              "      <td>23.000000</td>\n",
              "      <td>2011-01-14 00:00:00</td>\n",
              "      <td>9.607460e+05</td>\n",
              "      <td>0.000000</td>\n",
              "      <td>62.670000</td>\n",
              "      <td>3.445000</td>\n",
              "      <td>182.616521</td>\n",
              "      <td>7.874000</td>\n",
              "    </tr>\n",
              "    <tr>\n",
              "      <th>75%</th>\n",
              "      <td>34.000000</td>\n",
              "      <td>2012-01-06 00:00:00</td>\n",
              "      <td>1.420159e+06</td>\n",
              "      <td>0.000000</td>\n",
              "      <td>74.940000</td>\n",
              "      <td>3.735000</td>\n",
              "      <td>212.743293</td>\n",
              "      <td>8.622000</td>\n",
              "    </tr>\n",
              "    <tr>\n",
              "      <th>max</th>\n",
              "      <td>45.000000</td>\n",
              "      <td>2012-01-31 00:00:00</td>\n",
              "      <td>3.818686e+06</td>\n",
              "      <td>1.000000</td>\n",
              "      <td>100.140000</td>\n",
              "      <td>4.468000</td>\n",
              "      <td>227.232807</td>\n",
              "      <td>14.313000</td>\n",
              "    </tr>\n",
              "    <tr>\n",
              "      <th>std</th>\n",
              "      <td>12.988182</td>\n",
              "      <td>NaN</td>\n",
              "      <td>5.643666e+05</td>\n",
              "      <td>0.255049</td>\n",
              "      <td>18.444933</td>\n",
              "      <td>0.459020</td>\n",
              "      <td>39.356712</td>\n",
              "      <td>1.875885</td>\n",
              "    </tr>\n",
              "  </tbody>\n",
              "</table>\n",
              "</div>"
            ],
            "text/plain": [
              "             Store                           Date  Weekly_Sales  Holiday_Flag  \\\n",
              "count  6435.000000                           6435  6.435000e+03   6435.000000   \n",
              "mean     23.000000  2011-01-02 21:59:09.650349824  1.046965e+06      0.069930   \n",
              "min       1.000000            2010-01-01 00:00:00  2.099862e+05      0.000000   \n",
              "25%      12.000000            2010-01-23 00:00:00  5.533501e+05      0.000000   \n",
              "50%      23.000000            2011-01-14 00:00:00  9.607460e+05      0.000000   \n",
              "75%      34.000000            2012-01-06 00:00:00  1.420159e+06      0.000000   \n",
              "max      45.000000            2012-01-31 00:00:00  3.818686e+06      1.000000   \n",
              "std      12.988182                            NaN  5.643666e+05      0.255049   \n",
              "\n",
              "       Temperature   Fuel_Price          CPI  Unemployment  \n",
              "count  6435.000000  6435.000000  6435.000000   6435.000000  \n",
              "mean     60.663782     3.358607   171.578394      7.999151  \n",
              "min      -2.060000     2.472000   126.064000      3.879000  \n",
              "25%      47.460000     2.933000   131.735000      6.891000  \n",
              "50%      62.670000     3.445000   182.616521      7.874000  \n",
              "75%      74.940000     3.735000   212.743293      8.622000  \n",
              "max     100.140000     4.468000   227.232807     14.313000  \n",
              "std      18.444933     0.459020    39.356712      1.875885  "
            ]
          },
          "execution_count": 5,
          "metadata": {},
          "output_type": "execute_result"
        }
      ],
      "source": [
        "# print a summary of the data in Walmart data\n",
        "walmart_data.describe(datetime_is_numeric=True)"
      ]
    },
    {
      "cell_type": "markdown",
      "id": "f75b76a3",
      "metadata": {
        "id": "f75b76a3",
        "papermill": {
          "duration": 0.007377,
          "end_time": "2021-11-09T00:01:34.380166",
          "exception": false,
          "start_time": "2021-11-09T00:01:34.372789",
          "status": "completed"
        },
        "tags": []
      },
      "source": [
        "## Interpreting Data Description\n",
        "The results show 8 numbers for each column in your original dataset. The first number, the **count**,  shows how many rows have non-missing values. In this case there are no missing values.\n",
        "\n",
        "Missing values could arise for many reasons. For example, a store might be closed temporarily during an emergency such as a hurricane and subsequently have no sales data. We'll come back to the topic of missing data.\n",
        "\n",
        "The second value is the **mean**, which is the average.  Under that, **std** is the standard deviation, which measures how numerically spread out the values are.\n",
        "\n",
        "To interpret the **min**, **25%**, **50%**, **75%** and **max** values, imagine sorting each column from lowest to highest value.  The first (smallest) value is the min.  If you go a quarter way through the list, you'll find a number that is bigger than 25% of the values and smaller than 75% of the values.  That is the **25%** value (pronounced \"25th percentile\").  The 50th and 75th percentiles are defined analogously, and the **max** is the largest number."
      ]
    },
    {
      "attachments": {},
      "cell_type": "markdown",
      "id": "cf6c31de",
      "metadata": {
        "id": "cf6c31de",
        "papermill": {
          "duration": 0.010438,
          "end_time": "2021-11-09T00:01:18.025351",
          "exception": false,
          "start_time": "2021-11-09T00:01:18.014913",
          "status": "completed"
        },
        "tags": []
      },
      "source": [
        "---\n",
        "# 3. Selecting Data for Modeling\n",
        "\n",
        "Your dataset had too many variables to wrap your head around, or even to print out nicely.  How can you pare down this overwhelming amount of data to something you can understand?\n",
        "\n",
        "We'll start by picking a few variables using our intuition. Later we will show you statistical techniques to automatically prioritize variables.\n",
        "\n",
        "To choose variables/columns, we'll need to see a list of all columns in the dataset. That is done with the **columns** property of the DataFrame (the bottom line of code below).\n"
      ]
    },
    {
      "cell_type": "code",
      "execution_count": 6,
      "id": "9f5e9c95",
      "metadata": {
        "colab": {
          "base_uri": "https://localhost:8080/"
        },
        "execution": {
          "iopub.execute_input": "2021-11-09T00:01:18.051021Z",
          "iopub.status.busy": "2021-11-09T00:01:18.049219Z",
          "iopub.status.idle": "2021-11-09T00:01:18.185339Z",
          "shell.execute_reply": "2021-11-09T00:01:18.185856Z"
        },
        "id": "9f5e9c95",
        "outputId": "f429dd05-9ec9-4d39-855c-d1315ddf0434",
        "papermill": {
          "duration": 0.151029,
          "end_time": "2021-11-09T00:01:18.186138",
          "exception": false,
          "start_time": "2021-11-09T00:01:18.035109",
          "status": "completed"
        },
        "tags": []
      },
      "outputs": [
        {
          "data": {
            "text/plain": [
              "Index(['Store', 'Date', 'Weekly_Sales', 'Holiday_Flag', 'Temperature',\n",
              "       'Fuel_Price', 'CPI', 'Unemployment'],\n",
              "      dtype='object')"
            ]
          },
          "execution_count": 6,
          "metadata": {},
          "output_type": "execute_result"
        }
      ],
      "source": [
        "#import pandas as pd\n",
        "#from datetime import datetime\n",
        "\n",
        "# save filepath to variable for easier access\n",
        "walmart_file_path = 'https://www.dropbox.com/s/ns7envvzoqyypui/Walmart_Store_sales.csv?dl=1'\n",
        "\n",
        "# read the data and store data in DataFrame titled walmart_data\n",
        "# Parse date column from day-month-year into Pandas \n",
        "walmart_data = pd.read_csv(walmart_file_path,parse_dates=['Date'], date_parser=lambda x: datetime.strptime(x, '%d-%M-%Y')) \n",
        "walmart_data.columns"
      ]
    },
    {
      "cell_type": "code",
      "execution_count": 7,
      "id": "13e3d4a6",
      "metadata": {
        "execution": {
          "iopub.execute_input": "2021-11-09T00:01:18.214401Z",
          "iopub.status.busy": "2021-11-09T00:01:18.213431Z",
          "iopub.status.idle": "2021-11-09T00:01:18.239193Z",
          "shell.execute_reply": "2021-11-09T00:01:18.238499Z"
        },
        "id": "13e3d4a6",
        "papermill": {
          "duration": 0.043215,
          "end_time": "2021-11-09T00:01:18.239351",
          "exception": false,
          "start_time": "2021-11-09T00:01:18.196136",
          "status": "completed"
        },
        "tags": []
      },
      "outputs": [],
      "source": [
        "# dropna drops missing values (think of na as \"not available\")\n",
        "walmart_data = walmart_data.dropna(axis=0)"
      ]
    },
    {
      "cell_type": "markdown",
      "id": "86977cbe",
      "metadata": {
        "id": "86977cbe",
        "papermill": {
          "duration": 0.010888,
          "end_time": "2021-11-09T00:01:18.260527",
          "exception": false,
          "start_time": "2021-11-09T00:01:18.249639",
          "status": "completed"
        },
        "tags": []
      },
      "source": [
        "There are many ways to select a subset of your data. We will focus on two approaches for now.\n",
        "\n",
        "1. Dot notation, which we use to select the \"prediction target\"\n",
        "2. Selecting with a column list, which we use to select the \"features\" \n",
        "\n",
        "## Selecting The Prediction Target \n",
        "You can pull out a variable with **dot-notation**.  This single column is stored in a **Series**, which is broadly like a DataFrame with only a single column of data.  \n",
        "\n",
        "We'll use the dot notation to select the column we want to predict, which is called the **prediction target**. By convention, the prediction target is called **y**. So the code we need to save the weekly sales in the Walmart data is"
      ]
    },
    {
      "cell_type": "code",
      "execution_count": 8,
      "id": "2c930e65",
      "metadata": {
        "execution": {
          "iopub.execute_input": "2021-11-09T00:01:18.285991Z",
          "iopub.status.busy": "2021-11-09T00:01:18.284638Z",
          "iopub.status.idle": "2021-11-09T00:01:18.295906Z",
          "shell.execute_reply": "2021-11-09T00:01:18.295312Z"
        },
        "id": "2c930e65",
        "papermill": {
          "duration": 0.02532,
          "end_time": "2021-11-09T00:01:18.296053",
          "exception": false,
          "start_time": "2021-11-09T00:01:18.270733",
          "status": "completed"
        },
        "tags": []
      },
      "outputs": [],
      "source": [
        "y = walmart_data.Weekly_Sales"
      ]
    },
    {
      "cell_type": "markdown",
      "id": "c3dce93e",
      "metadata": {
        "id": "c3dce93e",
        "papermill": {
          "duration": 0.009417,
          "end_time": "2021-11-09T00:01:18.315330",
          "exception": false,
          "start_time": "2021-11-09T00:01:18.305913",
          "status": "completed"
        },
        "tags": []
      },
      "source": [
        "## Choosing \"Features\"\n",
        "The columns that are inputted into our model (and later used to make predictions) are called \"features.\" In our case, those would be the columns used to determine the weekly sales. Sometimes, you will use all columns except the target as features. Other times you'll be better off with fewer features. \n",
        "\n",
        "For now, we'll build a model with only a few features. Later on you'll see how to iterate and compare models built with different features.\n",
        "\n",
        "We select multiple features by providing a list of column names inside brackets. Each item in that list should be a string (with quotes).\n",
        "\n",
        "Here is an example:"
      ]
    },
    {
      "cell_type": "code",
      "execution_count": 9,
      "id": "0785c333",
      "metadata": {
        "execution": {
          "iopub.execute_input": "2021-11-09T00:01:18.338156Z",
          "iopub.status.busy": "2021-11-09T00:01:18.337480Z",
          "iopub.status.idle": "2021-11-09T00:01:18.340893Z",
          "shell.execute_reply": "2021-11-09T00:01:18.341325Z"
        },
        "id": "0785c333",
        "papermill": {
          "duration": 0.016509,
          "end_time": "2021-11-09T00:01:18.341525",
          "exception": false,
          "start_time": "2021-11-09T00:01:18.325016",
          "status": "completed"
        },
        "tags": []
      },
      "outputs": [],
      "source": [
        "walmart_features = ['Store', 'Fuel_Price', 'Unemployment', 'CPI', 'Temperature', 'Holiday_Flag']"
      ]
    },
    {
      "cell_type": "markdown",
      "id": "b8ea0ac5",
      "metadata": {
        "id": "b8ea0ac5",
        "papermill": {
          "duration": 0.010313,
          "end_time": "2021-11-09T00:01:18.362549",
          "exception": false,
          "start_time": "2021-11-09T00:01:18.352236",
          "status": "completed"
        },
        "tags": []
      },
      "source": [
        "By convention, this data is called **X**."
      ]
    },
    {
      "cell_type": "code",
      "execution_count": 10,
      "id": "caba549d",
      "metadata": {
        "execution": {
          "iopub.execute_input": "2021-11-09T00:01:18.385348Z",
          "iopub.status.busy": "2021-11-09T00:01:18.384723Z",
          "iopub.status.idle": "2021-11-09T00:01:18.391379Z",
          "shell.execute_reply": "2021-11-09T00:01:18.391954Z"
        },
        "id": "caba549d",
        "papermill": {
          "duration": 0.019843,
          "end_time": "2021-11-09T00:01:18.392142",
          "exception": false,
          "start_time": "2021-11-09T00:01:18.372299",
          "status": "completed"
        },
        "tags": []
      },
      "outputs": [],
      "source": [
        "X = walmart_data[walmart_features]"
      ]
    },
    {
      "cell_type": "markdown",
      "id": "3f7aaf56",
      "metadata": {
        "id": "3f7aaf56",
        "papermill": {
          "duration": 0.009694,
          "end_time": "2021-11-09T00:01:18.412328",
          "exception": false,
          "start_time": "2021-11-09T00:01:18.402634",
          "status": "completed"
        },
        "tags": []
      },
      "source": [
        "Let's quickly review the data we'll be using to predict weekly sales using the `describe` method and the `head` method, which shows the top few rows."
      ]
    },
    {
      "cell_type": "code",
      "execution_count": 11,
      "id": "e1c8c23e",
      "metadata": {
        "colab": {
          "base_uri": "https://localhost:8080/",
          "height": 300
        },
        "execution": {
          "iopub.execute_input": "2021-11-09T00:01:18.436486Z",
          "iopub.status.busy": "2021-11-09T00:01:18.435790Z",
          "iopub.status.idle": "2021-11-09T00:01:18.468554Z",
          "shell.execute_reply": "2021-11-09T00:01:18.469002Z"
        },
        "id": "e1c8c23e",
        "outputId": "93848c93-fa22-481a-e136-dd649724b792",
        "papermill": {
          "duration": 0.046281,
          "end_time": "2021-11-09T00:01:18.469195",
          "exception": false,
          "start_time": "2021-11-09T00:01:18.422914",
          "status": "completed"
        },
        "tags": []
      },
      "outputs": [
        {
          "data": {
            "text/html": [
              "<div>\n",
              "<style scoped>\n",
              "    .dataframe tbody tr th:only-of-type {\n",
              "        vertical-align: middle;\n",
              "    }\n",
              "\n",
              "    .dataframe tbody tr th {\n",
              "        vertical-align: top;\n",
              "    }\n",
              "\n",
              "    .dataframe thead th {\n",
              "        text-align: right;\n",
              "    }\n",
              "</style>\n",
              "<table border=\"1\" class=\"dataframe\">\n",
              "  <thead>\n",
              "    <tr style=\"text-align: right;\">\n",
              "      <th></th>\n",
              "      <th>Store</th>\n",
              "      <th>Fuel_Price</th>\n",
              "      <th>Unemployment</th>\n",
              "      <th>CPI</th>\n",
              "      <th>Temperature</th>\n",
              "      <th>Holiday_Flag</th>\n",
              "    </tr>\n",
              "  </thead>\n",
              "  <tbody>\n",
              "    <tr>\n",
              "      <th>count</th>\n",
              "      <td>6435.000000</td>\n",
              "      <td>6435.000000</td>\n",
              "      <td>6435.000000</td>\n",
              "      <td>6435.000000</td>\n",
              "      <td>6435.000000</td>\n",
              "      <td>6435.000000</td>\n",
              "    </tr>\n",
              "    <tr>\n",
              "      <th>mean</th>\n",
              "      <td>23.000000</td>\n",
              "      <td>3.358607</td>\n",
              "      <td>7.999151</td>\n",
              "      <td>171.578394</td>\n",
              "      <td>60.663782</td>\n",
              "      <td>0.069930</td>\n",
              "    </tr>\n",
              "    <tr>\n",
              "      <th>std</th>\n",
              "      <td>12.988182</td>\n",
              "      <td>0.459020</td>\n",
              "      <td>1.875885</td>\n",
              "      <td>39.356712</td>\n",
              "      <td>18.444933</td>\n",
              "      <td>0.255049</td>\n",
              "    </tr>\n",
              "    <tr>\n",
              "      <th>min</th>\n",
              "      <td>1.000000</td>\n",
              "      <td>2.472000</td>\n",
              "      <td>3.879000</td>\n",
              "      <td>126.064000</td>\n",
              "      <td>-2.060000</td>\n",
              "      <td>0.000000</td>\n",
              "    </tr>\n",
              "    <tr>\n",
              "      <th>25%</th>\n",
              "      <td>12.000000</td>\n",
              "      <td>2.933000</td>\n",
              "      <td>6.891000</td>\n",
              "      <td>131.735000</td>\n",
              "      <td>47.460000</td>\n",
              "      <td>0.000000</td>\n",
              "    </tr>\n",
              "    <tr>\n",
              "      <th>50%</th>\n",
              "      <td>23.000000</td>\n",
              "      <td>3.445000</td>\n",
              "      <td>7.874000</td>\n",
              "      <td>182.616521</td>\n",
              "      <td>62.670000</td>\n",
              "      <td>0.000000</td>\n",
              "    </tr>\n",
              "    <tr>\n",
              "      <th>75%</th>\n",
              "      <td>34.000000</td>\n",
              "      <td>3.735000</td>\n",
              "      <td>8.622000</td>\n",
              "      <td>212.743293</td>\n",
              "      <td>74.940000</td>\n",
              "      <td>0.000000</td>\n",
              "    </tr>\n",
              "    <tr>\n",
              "      <th>max</th>\n",
              "      <td>45.000000</td>\n",
              "      <td>4.468000</td>\n",
              "      <td>14.313000</td>\n",
              "      <td>227.232807</td>\n",
              "      <td>100.140000</td>\n",
              "      <td>1.000000</td>\n",
              "    </tr>\n",
              "  </tbody>\n",
              "</table>\n",
              "</div>"
            ],
            "text/plain": [
              "             Store   Fuel_Price  Unemployment          CPI  Temperature  \\\n",
              "count  6435.000000  6435.000000   6435.000000  6435.000000  6435.000000   \n",
              "mean     23.000000     3.358607      7.999151   171.578394    60.663782   \n",
              "std      12.988182     0.459020      1.875885    39.356712    18.444933   \n",
              "min       1.000000     2.472000      3.879000   126.064000    -2.060000   \n",
              "25%      12.000000     2.933000      6.891000   131.735000    47.460000   \n",
              "50%      23.000000     3.445000      7.874000   182.616521    62.670000   \n",
              "75%      34.000000     3.735000      8.622000   212.743293    74.940000   \n",
              "max      45.000000     4.468000     14.313000   227.232807   100.140000   \n",
              "\n",
              "       Holiday_Flag  \n",
              "count   6435.000000  \n",
              "mean       0.069930  \n",
              "std        0.255049  \n",
              "min        0.000000  \n",
              "25%        0.000000  \n",
              "50%        0.000000  \n",
              "75%        0.000000  \n",
              "max        1.000000  "
            ]
          },
          "execution_count": 11,
          "metadata": {},
          "output_type": "execute_result"
        }
      ],
      "source": [
        "X.describe()"
      ]
    },
    {
      "cell_type": "code",
      "execution_count": 12,
      "id": "1611ace0",
      "metadata": {
        "colab": {
          "base_uri": "https://localhost:8080/",
          "height": 206
        },
        "execution": {
          "iopub.execute_input": "2021-11-09T00:01:18.494973Z",
          "iopub.status.busy": "2021-11-09T00:01:18.494196Z",
          "iopub.status.idle": "2021-11-09T00:01:18.505156Z",
          "shell.execute_reply": "2021-11-09T00:01:18.505673Z"
        },
        "id": "1611ace0",
        "outputId": "0327825a-4bc5-4d10-dcba-237449d444ff",
        "papermill": {
          "duration": 0.025475,
          "end_time": "2021-11-09T00:01:18.505852",
          "exception": false,
          "start_time": "2021-11-09T00:01:18.480377",
          "status": "completed"
        },
        "tags": []
      },
      "outputs": [
        {
          "data": {
            "text/html": [
              "<div>\n",
              "<style scoped>\n",
              "    .dataframe tbody tr th:only-of-type {\n",
              "        vertical-align: middle;\n",
              "    }\n",
              "\n",
              "    .dataframe tbody tr th {\n",
              "        vertical-align: top;\n",
              "    }\n",
              "\n",
              "    .dataframe thead th {\n",
              "        text-align: right;\n",
              "    }\n",
              "</style>\n",
              "<table border=\"1\" class=\"dataframe\">\n",
              "  <thead>\n",
              "    <tr style=\"text-align: right;\">\n",
              "      <th></th>\n",
              "      <th>Store</th>\n",
              "      <th>Fuel_Price</th>\n",
              "      <th>Unemployment</th>\n",
              "      <th>CPI</th>\n",
              "      <th>Temperature</th>\n",
              "      <th>Holiday_Flag</th>\n",
              "    </tr>\n",
              "  </thead>\n",
              "  <tbody>\n",
              "    <tr>\n",
              "      <th>0</th>\n",
              "      <td>1</td>\n",
              "      <td>2.572</td>\n",
              "      <td>8.106</td>\n",
              "      <td>211.096358</td>\n",
              "      <td>42.31</td>\n",
              "      <td>0</td>\n",
              "    </tr>\n",
              "    <tr>\n",
              "      <th>1</th>\n",
              "      <td>1</td>\n",
              "      <td>2.548</td>\n",
              "      <td>8.106</td>\n",
              "      <td>211.242170</td>\n",
              "      <td>38.51</td>\n",
              "      <td>1</td>\n",
              "    </tr>\n",
              "    <tr>\n",
              "      <th>2</th>\n",
              "      <td>1</td>\n",
              "      <td>2.514</td>\n",
              "      <td>8.106</td>\n",
              "      <td>211.289143</td>\n",
              "      <td>39.93</td>\n",
              "      <td>0</td>\n",
              "    </tr>\n",
              "    <tr>\n",
              "      <th>3</th>\n",
              "      <td>1</td>\n",
              "      <td>2.561</td>\n",
              "      <td>8.106</td>\n",
              "      <td>211.319643</td>\n",
              "      <td>46.63</td>\n",
              "      <td>0</td>\n",
              "    </tr>\n",
              "    <tr>\n",
              "      <th>4</th>\n",
              "      <td>1</td>\n",
              "      <td>2.625</td>\n",
              "      <td>8.106</td>\n",
              "      <td>211.350143</td>\n",
              "      <td>46.50</td>\n",
              "      <td>0</td>\n",
              "    </tr>\n",
              "  </tbody>\n",
              "</table>\n",
              "</div>"
            ],
            "text/plain": [
              "   Store  Fuel_Price  Unemployment         CPI  Temperature  Holiday_Flag\n",
              "0      1       2.572         8.106  211.096358        42.31             0\n",
              "1      1       2.548         8.106  211.242170        38.51             1\n",
              "2      1       2.514         8.106  211.289143        39.93             0\n",
              "3      1       2.561         8.106  211.319643        46.63             0\n",
              "4      1       2.625         8.106  211.350143        46.50             0"
            ]
          },
          "execution_count": 12,
          "metadata": {},
          "output_type": "execute_result"
        }
      ],
      "source": [
        "X.head()"
      ]
    },
    {
      "cell_type": "markdown",
      "id": "43185f77",
      "metadata": {
        "id": "43185f77",
        "papermill": {
          "duration": 0.011205,
          "end_time": "2021-11-09T00:01:18.528204",
          "exception": false,
          "start_time": "2021-11-09T00:01:18.516999",
          "status": "completed"
        },
        "tags": []
      },
      "source": [
        "Visually checking your data with these commands is an important part of a data scientist's job.  You'll frequently find surprises in the dataset that deserve further inspection."
      ]
    },
    {
      "attachments": {},
      "cell_type": "markdown",
      "id": "4176e64a",
      "metadata": {
        "id": "4176e64a",
        "papermill": {
          "duration": 0.010664,
          "end_time": "2021-11-09T00:01:18.549929",
          "exception": false,
          "start_time": "2021-11-09T00:01:18.539265",
          "status": "completed"
        },
        "tags": []
      },
      "source": [
        "---\n",
        "# 4. Building Your Model\n",
        "\n",
        "You will use the **scikit-learn** library to create your models.  When coding, this library is written as **sklearn**, as you will see in the sample code. Scikit-learn is easily the most popular library for modeling the types of data typically stored in DataFrames. \n",
        "\n",
        "The steps to building and using a model are:\n",
        "* **Define:** What type of model will it be?  A decision tree?  Some other type of model? Some other parameters of the model type are specified too.\n",
        "* **Fit:** Capture patterns from provided data. This is the heart of modeling.\n",
        "* **Predict:** Just what it sounds like\n",
        "* **Evaluate**: Determine how accurate the model's predictions are.\n",
        "\n",
        "Here is an example of defining a decision tree model with scikit-learn and fitting it with the features and target variable."
      ]
    },
    {
      "cell_type": "code",
      "execution_count": 13,
      "id": "1e716f1d",
      "metadata": {
        "colab": {
          "base_uri": "https://localhost:8080/"
        },
        "execution": {
          "iopub.execute_input": "2021-11-09T00:01:18.575825Z",
          "iopub.status.busy": "2021-11-09T00:01:18.575180Z",
          "iopub.status.idle": "2021-11-09T00:01:19.739988Z",
          "shell.execute_reply": "2021-11-09T00:01:19.740473Z"
        },
        "id": "1e716f1d",
        "outputId": "1ec84b4a-d8ba-4ca4-8111-06e4a0534374",
        "papermill": {
          "duration": 1.179906,
          "end_time": "2021-11-09T00:01:19.740675",
          "exception": false,
          "start_time": "2021-11-09T00:01:18.560769",
          "status": "completed"
        },
        "tags": []
      },
      "outputs": [
        {
          "data": {
            "text/plain": [
              "DecisionTreeRegressor(random_state=1)"
            ]
          },
          "execution_count": 13,
          "metadata": {},
          "output_type": "execute_result"
        }
      ],
      "source": [
        "#Import DecisionTreeRegressor from sklearn.tree\n",
        "from sklearn.tree import DecisionTreeRegressor\n",
        "\n",
        "# Define model (specify a number for random_state to ensure same results each run)\n",
        "walmart_model = DecisionTreeRegressor(random_state=1)\n",
        "\n",
        "# Fit model\n",
        "walmart_model.fit(X, y)"
      ]
    },
    {
      "cell_type": "markdown",
      "id": "3fb6db3c",
      "metadata": {
        "id": "3fb6db3c",
        "papermill": {
          "duration": 0.011196,
          "end_time": "2021-11-09T00:01:19.764031",
          "exception": false,
          "start_time": "2021-11-09T00:01:19.752835",
          "status": "completed"
        },
        "tags": []
      },
      "source": [
        "Many machine learning models allow some randomness in model training. Specifying a number for `random_state` ensures you get the same results in each run. This is considered a good practice. You use any number, and model quality won't depend meaningfully on exactly what value you choose.\n",
        "\n",
        "We now have a fitted model that we can use to make predictions.\n",
        "\n",
        "In practice, you'll want to make predictions for the future and not the past for which we already know the weekly sales. But we'll make predictions for the first few rows of the training data to see how the predict function works.\n"
      ]
    },
    {
      "cell_type": "code",
      "execution_count": 14,
      "id": "3b962e6b",
      "metadata": {
        "colab": {
          "base_uri": "https://localhost:8080/"
        },
        "execution": {
          "iopub.execute_input": "2021-11-09T00:01:19.791031Z",
          "iopub.status.busy": "2021-11-09T00:01:19.790299Z",
          "iopub.status.idle": "2021-11-09T00:01:19.801998Z",
          "shell.execute_reply": "2021-11-09T00:01:19.802695Z"
        },
        "id": "3b962e6b",
        "outputId": "9adda8c6-c072-4963-eeae-9543ff8bac82",
        "papermill": {
          "duration": 0.027281,
          "end_time": "2021-11-09T00:01:19.802903",
          "exception": false,
          "start_time": "2021-11-09T00:01:19.775622",
          "status": "completed"
        },
        "tags": []
      },
      "outputs": [
        {
          "name": "stdout",
          "output_type": "stream",
          "text": [
            "Making predictions for the following 5 weeks:\n",
            "   Store  Fuel_Price  Unemployment         CPI  Temperature  Holiday_Flag\n",
            "0      1       2.572         8.106  211.096358        42.31             0\n",
            "1      1       2.548         8.106  211.242170        38.51             1\n",
            "2      1       2.514         8.106  211.289143        39.93             0\n",
            "3      1       2.561         8.106  211.319643        46.63             0\n",
            "4      1       2.625         8.106  211.350143        46.50             0\n",
            "The predictions are\n",
            "[1643690.9  1641957.44 1611968.17 1409727.59 1554806.68]\n"
          ]
        }
      ],
      "source": [
        "print(\"Making predictions for the following 5 weeks:\")\n",
        "print(X.head())\n",
        "print(\"The predictions are\")\n",
        "print(walmart_model.predict(X.head()))"
      ]
    },
    {
      "cell_type": "markdown",
      "id": "OmOECLv0ozrS",
      "metadata": {
        "id": "OmOECLv0ozrS"
      },
      "source": [
        "You've built a model. But how good is it?\n",
        "\n",
        "You will learn to use model validation to measure the quality of your model. Measuring model quality is the key to iteratively improving your models."
      ]
    },
    {
      "attachments": {},
      "cell_type": "markdown",
      "id": "6cc0aeb2",
      "metadata": {
        "id": "6cc0aeb2",
        "papermill": {
          "duration": 0.006035,
          "end_time": "2021-11-09T00:01:04.455476",
          "exception": false,
          "start_time": "2021-11-09T00:01:04.449441",
          "status": "completed"
        },
        "tags": []
      },
      "source": [
        "---\n",
        "# 5. What is Model Validation\n",
        "\n",
        "You'll want to evaluate almost every model you ever build. In many applications, the relevant measure of model quality is predictive accuracy. In other words, will the model's predictions be close to what actually happens.\n",
        "\n",
        "Many people make a huge mistake when measuring predictive accuracy. They make predictions with their *training data* and compare those predictions to the target values in the *training data*. You'll see the problem with this approach and how to solve it in a moment, but let's think about how we'd do this first.\n",
        "\n",
        "You'd first need to summarize the model quality into an understandable way. If you compare predicted and actual weekly sales of a long period, you'll likely find mix of good and bad predictions. But looking through a list of 10,000 predicted and actual values would be tedious and pointless. We need to summarize this into a single metric.\n",
        "\n",
        "There are many metrics for summarizing model quality, but we'll start with one called **Mean Absolute Error** (also called **MAE**). Let's break down this metric starting with the last word, error.\n",
        "\n",
        "The prediction error for each week is: <br>\n",
        "```\n",
        "error=actual−predicted\n",
        "```\n",
        " \n",
        "So, if the weekly sales is \\$150,000 and you predicted it would be \\$100,000 then the error is \\$50,000.\n",
        "\n",
        "With the MAE metric, we take the absolute value of each error. This converts each error to a positive number. We then take the average of those absolute errors. This is our measure of model quality. In plain English, it can be said as\n",
        "\n",
        "> On average, our predictions are off by about X.\n",
        "\n",
        "To calculate MAE, we first need a model. "
      ]
    },
    {
      "cell_type": "code",
      "execution_count": 15,
      "id": "ec849e57",
      "metadata": {
        "_kg_hide-input": true,
        "_kg_hide-output": true,
        "colab": {
          "base_uri": "https://localhost:8080/"
        },
        "execution": {
          "iopub.execute_input": "2021-11-09T00:01:04.476105Z",
          "iopub.status.busy": "2021-11-09T00:01:04.475215Z",
          "iopub.status.idle": "2021-11-09T00:01:05.685926Z",
          "shell.execute_reply": "2021-11-09T00:01:05.686509Z"
        },
        "id": "ec849e57",
        "outputId": "46e6462a-9f38-496a-eb7c-7f425abf5e8e",
        "papermill": {
          "duration": 1.225966,
          "end_time": "2021-11-09T00:01:05.686819",
          "exception": false,
          "start_time": "2021-11-09T00:01:04.460853",
          "status": "completed"
        },
        "tags": []
      },
      "outputs": [
        {
          "data": {
            "text/plain": [
              "DecisionTreeRegressor()"
            ]
          },
          "execution_count": 15,
          "metadata": {},
          "output_type": "execute_result"
        }
      ],
      "source": [
        "#import pandas as pd\n",
        "\n",
        "# Load data\n",
        "walmart_file_path = 'https://www.dropbox.com/s/ns7envvzoqyypui/Walmart_Store_sales.csv?dl=1'\n",
        "walmart_data = pd.read_csv(walmart_file_path) \n",
        "# Filter rows with missing price values\n",
        "filtered_walmart_data = walmart_data.dropna(axis=0)\n",
        "# Choose target and features\n",
        "y = filtered_walmart_data.Weekly_Sales\n",
        "walmart_features = ['Fuel_Price', 'Unemployment', 'CPI', 'Temperature', 'Holiday_Flag']\n",
        "X = filtered_walmart_data[walmart_features]\n",
        "\n",
        "from sklearn.tree import DecisionTreeRegressor\n",
        "# Define model\n",
        "walmart_model = DecisionTreeRegressor()\n",
        "# Fit model\n",
        "walmart_model.fit(X, y)"
      ]
    },
    {
      "cell_type": "markdown",
      "id": "49cdb9d5",
      "metadata": {
        "id": "49cdb9d5",
        "papermill": {
          "duration": 0.005498,
          "end_time": "2021-11-09T00:01:05.698436",
          "exception": false,
          "start_time": "2021-11-09T00:01:05.692938",
          "status": "completed"
        },
        "tags": []
      },
      "source": [
        "Once we have a model, here is how we calculate the Mean Absolute Error (MAE):"
      ]
    },
    {
      "cell_type": "code",
      "execution_count": 16,
      "id": "0d03b4e9",
      "metadata": {
        "colab": {
          "base_uri": "https://localhost:8080/"
        },
        "execution": {
          "iopub.execute_input": "2021-11-09T00:01:05.718869Z",
          "iopub.status.busy": "2021-11-09T00:01:05.718224Z",
          "iopub.status.idle": "2021-11-09T00:01:05.728131Z",
          "shell.execute_reply": "2021-11-09T00:01:05.728926Z"
        },
        "id": "0d03b4e9",
        "outputId": "234962c2-19eb-4b50-8015-ca329ff65c52",
        "papermill": {
          "duration": 0.024895,
          "end_time": "2021-11-09T00:01:05.729163",
          "exception": false,
          "start_time": "2021-11-09T00:01:05.704268",
          "status": "completed"
        },
        "tags": []
      },
      "outputs": [
        {
          "data": {
            "text/plain": [
              "104402.50066822066"
            ]
          },
          "execution_count": 16,
          "metadata": {},
          "output_type": "execute_result"
        }
      ],
      "source": [
        "from sklearn.metrics import mean_absolute_error\n",
        "\n",
        "predicted_weekly_sales = walmart_model.predict(X)\n",
        "mean_absolute_error(y, predicted_weekly_sales)"
      ]
    },
    {
      "cell_type": "markdown",
      "id": "410e0b81",
      "metadata": {
        "id": "410e0b81"
      },
      "source": [
        "And to calculate the Mean Absolute Percentage Error (MAPE)"
      ]
    },
    {
      "cell_type": "code",
      "execution_count": 17,
      "id": "f26b47ba",
      "metadata": {
        "colab": {
          "base_uri": "https://localhost:8080/"
        },
        "id": "f26b47ba",
        "outputId": "88452d6c-93eb-4c39-d75d-2cabca1fd273"
      },
      "outputs": [
        {
          "data": {
            "text/plain": [
              "0.13253033531516809"
            ]
          },
          "execution_count": 17,
          "metadata": {},
          "output_type": "execute_result"
        }
      ],
      "source": [
        "from sklearn.metrics import mean_absolute_percentage_error\n",
        "\n",
        "predicted_weekly_sales = walmart_model.predict(X)\n",
        "mean_absolute_percentage_error(y, predicted_weekly_sales)"
      ]
    },
    {
      "cell_type": "markdown",
      "id": "e5c8dc4b",
      "metadata": {
        "id": "e5c8dc4b"
      },
      "source": [
        "And the Mean Squared Error (MSE)"
      ]
    },
    {
      "cell_type": "code",
      "execution_count": 18,
      "id": "920cacc6",
      "metadata": {
        "colab": {
          "base_uri": "https://localhost:8080/"
        },
        "id": "920cacc6",
        "outputId": "9ddb3f15-79ca-4f57-d98d-5f38a23bff6e"
      },
      "outputs": [
        {
          "data": {
            "text/plain": [
              "59974765422.80942"
            ]
          },
          "execution_count": 18,
          "metadata": {},
          "output_type": "execute_result"
        }
      ],
      "source": [
        "from sklearn.metrics import mean_squared_error\n",
        "\n",
        "predicted_weekly_sales = walmart_model.predict(X)\n",
        "mean_squared_error(y, predicted_weekly_sales)"
      ]
    },
    {
      "cell_type": "markdown",
      "id": "ee628117",
      "metadata": {
        "id": "ee628117"
      },
      "source": [
        "And finally to calculate the Root Mean Squared Error (RMSE), we can add the parameter squared=False"
      ]
    },
    {
      "cell_type": "code",
      "execution_count": 19,
      "id": "0719dc3b",
      "metadata": {
        "colab": {
          "base_uri": "https://localhost:8080/"
        },
        "id": "0719dc3b",
        "outputId": "568571e7-9ee6-4a1d-f0d4-d05c84fd38c1"
      },
      "outputs": [
        {
          "data": {
            "text/plain": [
              "244897.4589962285"
            ]
          },
          "execution_count": 19,
          "metadata": {},
          "output_type": "execute_result"
        }
      ],
      "source": [
        "mean_squared_error(y, predicted_weekly_sales, squared=False)"
      ]
    },
    {
      "cell_type": "markdown",
      "id": "9b2d0c6c",
      "metadata": {
        "id": "9b2d0c6c",
        "papermill": {
          "duration": 0.005524,
          "end_time": "2021-11-09T00:01:05.740576",
          "exception": false,
          "start_time": "2021-11-09T00:01:05.735052",
          "status": "completed"
        },
        "tags": []
      },
      "source": [
        "## The Problem with \"In-Sample\" Scores\n",
        "\n",
        "The measure we just computed can be called an \"in-sample\" score. We used a single \"sample\" of weekly sales for both building the model and evaluating it. Here's why this is bad.\n",
        "\n",
        "Imagine that the temparture is unrelated to weekly sales. \n",
        "\n",
        "However, in the sample of data you used to build the model, all weeks with low temperature had a higher weekly sales value. The model's job is to find patterns that predict weekly sales, so it will see this pattern, and it will always predict high prices for weeks with low temperatures.\n",
        "\n",
        "Since this pattern was derived from the training data, the model will appear accurate in the training data.\n",
        "\n",
        "But if this pattern doesn't hold when the model sees new data, the model would be very inaccurate when used in practice.\n",
        "\n",
        "Since models' practical value come from making predictions on new data, we measure performance on data that wasn't used to build the model. The most straightforward way to do this is to exclude some data from the model-building process, and then use those to test the model's accuracy on data it hasn't seen before. This data is called **validation data**."
      ]
    },
    {
      "cell_type": "markdown",
      "id": "JMbzcrbuheLJ",
      "metadata": {
        "id": "JMbzcrbuheLJ",
        "papermill": {
          "duration": 0.005524,
          "end_time": "2021-11-09T00:01:05.740576",
          "exception": false,
          "start_time": "2021-11-09T00:01:05.735052",
          "status": "completed"
        },
        "tags": []
      },
      "source": [
        "## Coding the Train-Test Split\n",
        "\n",
        "The scikit-learn library has a function `train_test_split` to break up the data into two pieces. We'll use some of that data as training data to fit the model, and we'll use the other data as validation data to calculate `mean_absolute_error`.\n",
        "\n",
        "Here is the code:"
      ]
    },
    {
      "cell_type": "code",
      "execution_count": 20,
      "id": "a7b29b0a",
      "metadata": {
        "colab": {
          "base_uri": "https://localhost:8080/"
        },
        "execution": {
          "iopub.execute_input": "2021-11-09T00:01:05.755684Z",
          "iopub.status.busy": "2021-11-09T00:01:05.755080Z",
          "iopub.status.idle": "2021-11-09T00:01:05.800527Z",
          "shell.execute_reply": "2021-11-09T00:01:05.799855Z"
        },
        "id": "a7b29b0a",
        "outputId": "ea157367-f924-4202-9ebb-7e9b5b1b626a",
        "papermill": {
          "duration": 0.054019,
          "end_time": "2021-11-09T00:01:05.800669",
          "exception": false,
          "start_time": "2021-11-09T00:01:05.746650",
          "status": "completed"
        },
        "tags": []
      },
      "outputs": [
        {
          "name": "stdout",
          "output_type": "stream",
          "text": [
            "428447.76891443966\n"
          ]
        }
      ],
      "source": [
        "#Import train_test_split from sklearn.model_selection\n",
        "from sklearn.model_selection import train_test_split\n",
        "\n",
        "# split data into training and validation data, for both features and target\n",
        "# The split is based on a random number generator. Supplying a numeric value to\n",
        "# the random_state argument guarantees we get the same split every time we\n",
        "# run this script.\n",
        "train_X, val_X, train_y, val_y = train_test_split(X, y, random_state = 0)\n",
        "\n",
        "# Define model\n",
        "walmart_model = DecisionTreeRegressor()\n",
        "\n",
        "# Fit model\n",
        "walmart_model.fit(train_X, train_y)\n",
        "\n",
        "# Get predicted prices on validation data\n",
        "val_predictions = walmart_model.predict(val_X)\n",
        "print(mean_absolute_error(val_y, val_predictions))"
      ]
    },
    {
      "cell_type": "markdown",
      "id": "eb371147",
      "metadata": {
        "id": "eb371147",
        "papermill": {
          "duration": 0.005963,
          "end_time": "2021-11-09T00:01:05.813041",
          "exception": false,
          "start_time": "2021-11-09T00:01:05.807078",
          "status": "completed"
        },
        "tags": []
      },
      "source": [
        "## Wow!\n",
        "\n",
        "Your mean absolute error for the in-sample data was about 104,000 dollars. Out-of-sample it is more than 425,000 dollars.\n",
        "\n",
        "This is the difference between a model that is almost exactly right, and one that is unusable for most practical purposes. As a point of reference, the average weekly sales in the validation data is about 1 million dollars. So the error in new data is almost half of the average weekly sales.\n",
        "\n",
        "There are many ways to improve this model, such as experimenting to find better features or different model types. \n",
        "\n",
        "In the next class, you will first learn the concepts of underfitting and overfitting, and you will be able to apply these ideas to make your models more accurate."
      ]
    }
  ],
  "metadata": {
    "colab": {
      "provenance": [],
      "toc_visible": true
    },
    "kernelspec": {
      "display_name": "base",
      "language": "python",
      "name": "python3"
    },
    "language_info": {
      "codemirror_mode": {
        "name": "ipython",
        "version": 3
      },
      "file_extension": ".py",
      "mimetype": "text/x-python",
      "name": "python",
      "nbconvert_exporter": "python",
      "pygments_lexer": "ipython3",
      "version": "3.8.8"
    },
    "papermill": {
      "default_parameters": {},
      "duration": 11.11956,
      "end_time": "2022-01-05T13:51:57.902228",
      "environment_variables": {},
      "exception": null,
      "input_path": "__notebook__.ipynb",
      "output_path": "__notebook__.ipynb",
      "parameters": {},
      "start_time": "2022-01-05T13:51:46.782668",
      "version": "2.3.3"
    },
    "vscode": {
      "interpreter": {
        "hash": "dc5f856df681cf36bc5efddcb2a84a2cd35056a6cd8ebd45133cbd641251ee46"
      }
    }
  },
  "nbformat": 4,
  "nbformat_minor": 5
}
