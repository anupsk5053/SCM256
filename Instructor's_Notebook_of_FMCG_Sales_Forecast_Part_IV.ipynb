{
 "cells": [
  {
   "attachments": {},
   "cell_type": "markdown",
   "id": "47ba37d2",
   "metadata": {},
   "source": [
    "# Fast Moving Consumer Goods Sales Forecast - Part IV"
   ]
  },
  {
   "attachments": {},
   "cell_type": "markdown",
   "id": "6fb36e3c",
   "metadata": {},
   "source": [
    "\n",
    "Today:\n",
    "- Use advanced techniques for model validation (**cross-validation**)\n",
    "\n",
    "You will apply your knowledge with data about [weekly retail sales at Walmart stores](https://www.kaggle.com/datasets/rutuspatel/walmart-dataset-retail). The example Walmart Retail dataset is at the file path **`Walmart_Store_sales.csv`**.\n",
    "\n",
    "You will use different explanatory variables to forecast FMCG weekly sales.  "
   ]
  },
  {
   "attachments": {},
   "cell_type": "markdown",
   "id": "e96153e9",
   "metadata": {},
   "source": [
    "## Setting Up the Workspace"
   ]
  },
  {
   "cell_type": "code",
   "execution_count": 1,
   "id": "c42d644c",
   "metadata": {},
   "outputs": [],
   "source": [
    "# Install packages\n",
    "#!pip install pandas\n",
    "#!pip install xgboost"
   ]
  },
  {
   "cell_type": "code",
   "execution_count": 2,
   "id": "fdd9dba0",
   "metadata": {},
   "outputs": [
    {
     "name": "stderr",
     "output_type": "stream",
     "text": [
      "c:\\Users\\erdug\\anaconda3\\lib\\site-packages\\scipy\\__init__.py:138: UserWarning: A NumPy version >=1.16.5 and <1.23.0 is required for this version of SciPy (detected version 1.23.5)\n",
      "  warnings.warn(f\"A NumPy version >={np_minversion} and <{np_maxversion} is required for this version of \"\n"
     ]
    }
   ],
   "source": [
    "# Import packages\n",
    "import pandas as pd\n",
    "from datetime import datetime\n",
    "\n",
    "#import matplotlib.pyplot as plt\n",
    "#import numpy as np \n",
    "#import seaborn as sns \n",
    "\n",
    "# Import required sklearn modules --------\n",
    "# Split X and y into training and testing sets\n",
    "#from sklearn.model_selection import train_test_split\n",
    "\n",
    "# Perform cross validation\n",
    "from sklearn.model_selection import cross_val_score  \n",
    "\n",
    "# Import the preprocessing class\n",
    "#from sklearn.preprocessing import StandardScaler\n",
    "#from sklearn.preprocessing import OrdinalEncoder\n",
    "from sklearn.preprocessing import OneHotEncoder\n",
    "\n",
    "# Impute values\n",
    "#from sklearn.impute import SimpleImputer \n",
    "\n",
    "# Create pipelines\n",
    "from sklearn.pipeline import Pipeline \n",
    "#from sklearn.pipeline import make_pipeline\n",
    "\n",
    "# Transform columns\n",
    "from sklearn.compose import ColumnTransformer \n",
    "\n",
    "# Import the model class\n",
    "from sklearn.ensemble import RandomForestRegressor \n",
    "#from sklearn.ensemble import RandomForestClassifier \n",
    "\n",
    "# Import the metrics class\n",
    "from sklearn import metrics\n",
    "from sklearn.metrics import classification_report\n",
    "from sklearn.metrics import mean_absolute_error \n",
    "from sklearn.metrics import mean_absolute_percentage_error \n",
    "from sklearn.metrics import mean_squared_error \n",
    "\n",
    "# Configures sklearn to display pipeline diagrams\n",
    "from sklearn import set_config\n",
    "set_config(display=\"diagram\")\n",
    "\n",
    "# Import required xgboost modules --------\n",
    "#from xgboost import XGBRegressor"
   ]
  },
  {
   "attachments": {},
   "cell_type": "markdown",
   "id": "40d0f1c6",
   "metadata": {},
   "source": [
    "## Loading the Data"
   ]
  },
  {
   "cell_type": "code",
   "execution_count": 3,
   "id": "ce216f68",
   "metadata": {},
   "outputs": [],
   "source": [
    "#import pandas as pd # --> DONE UPFRONT (see top section \"Setting Up the Workspace\")\n",
    "#from sklearn.model_selection import train_test_split # --> DONE UPFRONT (see top section \"Setting Up the Workspace\")\n",
    "\n",
    "# Load data\n",
    "walmart_file_path = 'https://www.dropbox.com/s/ns7envvzoqyypui/Walmart_Store_sales.csv?dl=1'\n",
    "#data = pd.read_csv(walmart_file_path, dtype={'Store' : 'category'}) \n",
    "# read the data and store data in DataFrame titled walmart_data\n",
    "# Parse date column from day-month-year into Pandas \n",
    "walmart_data = pd.read_csv(walmart_file_path,parse_dates=['Date'], date_parser=lambda x: datetime.strptime(x, '%d-%m-%Y').date()) \n",
    "walmart_data = walmart_data.sort_values(['Date','Store'])\n",
    "walmart_data.Store = walmart_data.Store.astype('category')\n",
    "\n",
    "# Select target and predictors\n",
    "y = walmart_data.Weekly_Sales\n",
    "#walmart_features = ['Fuel_Price', 'Unemployment', 'CPI', 'Temperature', 'Holiday_Flag']\n",
    "#X = data[walmart_features]\n",
    "X = walmart_data.drop(['Weekly_Sales'], axis=1)\n",
    "\n",
    "# Split data into training and validation subsets, for both features and target\n",
    "# The split is based on a random number generator. \n",
    "# Supplying a numeric value to the random_state argument guarantees we get the same split every time we run this script.\n",
    "#X_train_full, X_valid_full, y_train, y_valid = train_test_split(X, y, train_size=0.8, test_size=0.2,\n",
    "#                                                                random_state=123)\n",
    "\n",
    "# Select categorical columns\n",
    "#categorical_cols = [cname for cname in X_train_full.select_dtypes('category')]\n",
    "categorical_cols = [cname for cname in X.select_dtypes('category')]\n",
    "\n",
    "# Select numerical columns\n",
    "#numerical_cols = [cname for cname in X_train_full.select_dtypes(['int64', 'float64'])]\n",
    "numerical_cols = [cname for cname in X.select_dtypes(['int64', 'float64'])]\n",
    "\n",
    "# Keep selected columns only\n",
    "#my_cols = categorical_cols + numerical_cols\n",
    "#X_train = X_train_full[my_cols].copy()\n",
    "#X_valid = X_valid_full[my_cols].copy()"
   ]
  },
  {
   "cell_type": "code",
   "execution_count": 4,
   "id": "8258df55",
   "metadata": {},
   "outputs": [
    {
     "data": {
      "text/plain": [
       "['Store']"
      ]
     },
     "execution_count": 4,
     "metadata": {},
     "output_type": "execute_result"
    }
   ],
   "source": [
    "categorical_cols"
   ]
  },
  {
   "cell_type": "code",
   "execution_count": 5,
   "id": "a85d972d",
   "metadata": {},
   "outputs": [
    {
     "data": {
      "text/plain": [
       "['Holiday_Flag', 'Temperature', 'Fuel_Price', 'CPI', 'Unemployment']"
      ]
     },
     "execution_count": 5,
     "metadata": {},
     "output_type": "execute_result"
    }
   ],
   "source": [
    "numerical_cols"
   ]
  },
  {
   "attachments": {},
   "cell_type": "markdown",
   "id": "1df7b98d",
   "metadata": {},
   "source": [
    "## RECAP: Fast Moving Consumer Goods Sales Forecast - Part III"
   ]
  },
  {
   "attachments": {},
   "cell_type": "markdown",
   "id": "5ad50d2d",
   "metadata": {
    "papermill": {
     "duration": 0.009481,
     "end_time": "2021-11-09T00:07:51.039733",
     "exception": false,
     "start_time": "2021-11-09T00:07:51.030252",
     "status": "completed"
    },
    "tags": []
   },
   "source": [
    "## 1. Data Handling: Categorical Variables\n",
    "\n",
    "### Approach 1: Drop Categorical Variables\n",
    "The easiest approach to dealing with categorical variables is to simply remove them from the dataset.  This approach will only work well if the columns did not contain useful information.\n",
    "\n",
    "### Approach 2: Ordinal Encoding\n",
    "This approach assumes an indisputable ordering of the categories.  \n",
    "\n",
    "### Approach 3: One-Hot Encoding\n",
    "This approach creates new columns indicating the presence (or absence) of each possible category in the original categorical variable. "
   ]
  },
  {
   "attachments": {},
   "cell_type": "markdown",
   "id": "df881d3a",
   "metadata": {},
   "source": [
    "### Take-away: Categorical Data\n",
    "\n",
    "*The world is filled with categorical data. You will be a much more effective data scientist if you know how to use this common data type!*"
   ]
  },
  {
   "attachments": {},
   "cell_type": "markdown",
   "id": "53338e45",
   "metadata": {
    "papermill": {
     "duration": 0.009576,
     "end_time": "2021-11-09T00:06:18.488649",
     "exception": false,
     "start_time": "2021-11-09T00:06:18.479073",
     "status": "completed"
    },
    "tags": []
   },
   "source": [
    "## 2. Pipelines\n",
    "\n",
    "**Pipelines** are a simple way to keep your data preprocessing and modeling code organized.  Specifically, a pipeline bundles preprocessing and modeling steps so you can use the whole bundle as if it were a single step.\n",
    "\n",
    "Many data scientists hack together models without pipelines, but pipelines have some important benefits. Those include:\n",
    "1. **Cleaner Code:** Accounting for data at each step of preprocessing can get messy.  With a pipeline, you won't need to manually keep track of your training and validation data at each step.\n",
    "2. **Fewer Bugs:** There are fewer opportunities to misapply a step or forget a preprocessing step.\n",
    "3. **Easier to Productionize:** It can be surprisingly hard to transition a model from a prototype to something deployable at scale.  We won't go into the many related concerns here, but pipelines can help.\n",
    "4. **More Options for Model Validation:** You will see an example in the next section, which covers cross-validation.\n"
   ]
  },
  {
   "attachments": {},
   "cell_type": "markdown",
   "id": "a7830b4f",
   "metadata": {
    "papermill": {
     "duration": 0.009022,
     "end_time": "2021-11-09T00:06:19.676872",
     "exception": false,
     "start_time": "2021-11-09T00:06:19.667850",
     "status": "completed"
    },
    "tags": []
   },
   "source": [
    "We construct the full pipeline in three steps.\n",
    "\n",
    "### Step 1: Define Preprocessing Steps\n",
    "\n",
    "Similar to how a pipeline bundles together preprocessing and modeling steps, we use the `ColumnTransformer` class to bundle together different preprocessing steps.  The code below:\n",
    "- imputes missing values and applies scaling to **_numerical_** data  \n",
    "- imputes missing values and applies a one-hot encoding to **_categorical_** data."
   ]
  },
  {
   "cell_type": "markdown",
   "id": "f23b596e",
   "metadata": {
    "papermill": {
     "duration": 0.008844,
     "end_time": "2021-11-09T00:06:19.874481",
     "exception": false,
     "start_time": "2021-11-09T00:06:19.865637",
     "status": "completed"
    },
    "tags": []
   },
   "source": [
    "### Step 2: Define the Model\n",
    "\n",
    "Next, we define a random forest model with the familiar [`RandomForestRegressor`](https://scikit-learn.org/stable/modules/generated/sklearn.ensemble.RandomForestRegressor.html) class."
   ]
  },
  {
   "cell_type": "markdown",
   "id": "40677330",
   "metadata": {
    "papermill": {
     "duration": 0.008975,
     "end_time": "2021-11-09T00:06:20.083525",
     "exception": false,
     "start_time": "2021-11-09T00:06:20.074550",
     "status": "completed"
    },
    "tags": []
   },
   "source": [
    "### Step 3: Create and Evaluate the Pipeline\n",
    "\n",
    "Finally, we use the [`Pipeline`](https://scikit-learn.org/stable/modules/generated/sklearn.pipeline.Pipeline.html) class to define a pipeline that bundles the preprocessing and modeling steps.  There are a few important things to notice:\n",
    "- With the pipeline, we preprocess the training data and fit the model in a single line of code.  (_In contrast, without a pipeline, we have to do imputation, one-hot encoding, and model training in separate steps.  This becomes especially messy if we have to deal with both numerical and categorical variables!_)\n",
    "- With the pipeline, we supply the unprocessed features in `X_valid` to the `predict()` command, and the pipeline automatically preprocesses the features before generating predictions.  (_However, without a pipeline, we have to remember to preprocess the validation data before making predictions._)"
   ]
  },
  {
   "attachments": {},
   "cell_type": "markdown",
   "id": "3e71e88a",
   "metadata": {
    "papermill": {
     "duration": 0.009528,
     "end_time": "2021-11-09T00:06:28.217993",
     "exception": false,
     "start_time": "2021-11-09T00:06:28.208465",
     "status": "completed"
    },
    "tags": []
   },
   "source": [
    "## Take-away: Pipelines\n",
    "\n",
    "*Pipelines are valuable for cleaning up machine learning code and avoiding errors, and are especially useful for workflows with sophisticated data preprocessing*"
   ]
  },
  {
   "attachments": {},
   "cell_type": "markdown",
   "id": "8b20d1a8",
   "metadata": {},
   "source": [
    "---\n",
    "# Fast Moving Consumer Goods Sales Forecast - Part IV"
   ]
  },
  {
   "attachments": {},
   "cell_type": "markdown",
   "id": "233af43d",
   "metadata": {
    "papermill": {
     "duration": 0.009787,
     "end_time": "2021-11-09T00:06:45.007017",
     "exception": false,
     "start_time": "2021-11-09T00:06:44.997230",
     "status": "completed"
    },
    "tags": []
   },
   "source": [
    "In this section, you will learn how to use **cross-validation** for better measures of model performance. Using a pipeline will make the code remarkably straightforward.\n",
    "\n",
    "# 3. Cross Validation\n",
    "\n",
    "Machine learning is an iterative process. \n",
    "\n",
    "You will face choices about what predictive variables to use, what types of models to use, what arguments to supply to those models, etc. So far, you have made these choices in a data-driven way by measuring model quality with a validation (or holdout) set.  \n",
    "\n",
    "But there are some drawbacks to this approach.  To see this, imagine you have a dataset with 5000 rows.  You will typically keep about 20% of the data as a validation dataset, or 1000 rows.  But this leaves some random chance in determining model scores.  That is, a model might do well on one set of 1000 rows, even if it would be inaccurate on a different 1000 rows.  \n",
    "\n",
    "At an extreme, you could imagine having only 1 row of data in the validation set. If you compare alternative models, which one makes the best predictions on a single data point will be mostly a matter of luck!\n",
    "\n",
    "In general, the larger the validation set, the less randomness (aka \"noise\") there is in our measure of model quality, and the more reliable it will be.  Unfortunately, we can only get a large validation set by removing rows from our training data, and smaller training datasets mean worse models!"
   ]
  },
  {
   "attachments": {},
   "cell_type": "markdown",
   "id": "9db73834",
   "metadata": {
    "papermill": {
     "duration": 0.007776,
     "end_time": "2021-11-09T00:06:45.023463",
     "exception": false,
     "start_time": "2021-11-09T00:06:45.015687",
     "status": "completed"
    },
    "tags": []
   },
   "source": [
    "## What is cross-validation?\n",
    "\n",
    "In **cross-validation**, we run our modeling process on different subsets of the data to get multiple measures of model quality. \n",
    "\n",
    "For example, we could begin by dividing the data into 5 pieces, each 20% of the full dataset.  In this case, we say that we have broken the data into 5 \"**folds**\".  \n",
    "\n",
    "![tut5_crossval](https://i.imgur.com/9k60cVA.png)\n",
    "\n",
    "Then, we run one experiment for each fold:\n",
    "- In **Experiment 1**, we use the first fold as a validation (or holdout) set and everything else as training data. This gives us a measure of model quality based on a 20% holdout set.  \n",
    "- In **Experiment 2**, we hold out data from the second fold (and use everything except the second fold for training the model). The holdout set is then used to get a second estimate of model quality.\n",
    "- We repeat this process, using every fold once as the holdout set.  Putting this together, 100% of the data is used as holdout at some point, and we end up with a measure of model quality that is based on all of the rows in the dataset (even if we don't use all rows simultaneously).\n",
    "\n",
    "## When should you use cross-validation?\n",
    "\n",
    "Cross-validation gives a more accurate measure of model quality, which is especially important if you are making a lot of modeling decisions.  However, it can take longer to run, because it estimates multiple models (one for each fold).  \n",
    "\n",
    "So, given these tradeoffs, when should you use each approach?\n",
    "- _For small datasets_, where extra computational burden isn't a big deal, you should run cross-validation.\n",
    "- _For larger datasets_, a single validation set is sufficient.  Your code will run faster, and you may have enough data that there's little need to re-use some of it for holdout.\n",
    "\n",
    "There's no simple threshold for what constitutes a large vs. small dataset.  But if your model takes a couple minutes or less to run, it's probably worth switching to cross-validation.  \n",
    "\n",
    "Alternatively, you can run cross-validation and see if the scores for each experiment seem close.  If each experiment yields the same results, a single validation set is probably sufficient."
   ]
  },
  {
   "attachments": {},
   "cell_type": "markdown",
   "id": "a6d2b8ee",
   "metadata": {
    "papermill": {
     "duration": 0.00759,
     "end_time": "2021-11-09T00:06:45.039029",
     "exception": false,
     "start_time": "2021-11-09T00:06:45.031439",
     "status": "completed"
    },
    "tags": []
   },
   "source": [
    "## Example\n",
    "\n",
    "As last class on Monday and last week, we will continue working with data about [weekly retail sales at Walmart stores](https://www.kaggle.com/datasets/rutuspatel/walmart-dataset-retail). \n",
    "\n",
    "We load the columns of feature data in the matrix `X` and the target variable to predict in the series `y` as above at the top of the notebook, and define preprocessing steps."
   ]
  },
  {
   "cell_type": "code",
   "execution_count": 6,
   "id": "882ec5fb",
   "metadata": {},
   "outputs": [
    {
     "data": {
      "text/html": [
       "<style>#sk-336f2484-76cb-4f3a-8166-1cc5a3f642a8 {color: black;background-color: white;}#sk-336f2484-76cb-4f3a-8166-1cc5a3f642a8 pre{padding: 0;}#sk-336f2484-76cb-4f3a-8166-1cc5a3f642a8 div.sk-toggleable {background-color: white;}#sk-336f2484-76cb-4f3a-8166-1cc5a3f642a8 label.sk-toggleable__label {cursor: pointer;display: block;width: 100%;margin-bottom: 0;padding: 0.3em;box-sizing: border-box;text-align: center;}#sk-336f2484-76cb-4f3a-8166-1cc5a3f642a8 label.sk-toggleable__label-arrow:before {content: \"▸\";float: left;margin-right: 0.25em;color: #696969;}#sk-336f2484-76cb-4f3a-8166-1cc5a3f642a8 label.sk-toggleable__label-arrow:hover:before {color: black;}#sk-336f2484-76cb-4f3a-8166-1cc5a3f642a8 div.sk-estimator:hover label.sk-toggleable__label-arrow:before {color: black;}#sk-336f2484-76cb-4f3a-8166-1cc5a3f642a8 div.sk-toggleable__content {max-height: 0;max-width: 0;overflow: hidden;text-align: left;background-color: #f0f8ff;}#sk-336f2484-76cb-4f3a-8166-1cc5a3f642a8 div.sk-toggleable__content pre {margin: 0.2em;color: black;border-radius: 0.25em;background-color: #f0f8ff;}#sk-336f2484-76cb-4f3a-8166-1cc5a3f642a8 input.sk-toggleable__control:checked~div.sk-toggleable__content {max-height: 200px;max-width: 100%;overflow: auto;}#sk-336f2484-76cb-4f3a-8166-1cc5a3f642a8 input.sk-toggleable__control:checked~label.sk-toggleable__label-arrow:before {content: \"▾\";}#sk-336f2484-76cb-4f3a-8166-1cc5a3f642a8 div.sk-estimator input.sk-toggleable__control:checked~label.sk-toggleable__label {background-color: #d4ebff;}#sk-336f2484-76cb-4f3a-8166-1cc5a3f642a8 div.sk-label input.sk-toggleable__control:checked~label.sk-toggleable__label {background-color: #d4ebff;}#sk-336f2484-76cb-4f3a-8166-1cc5a3f642a8 input.sk-hidden--visually {border: 0;clip: rect(1px 1px 1px 1px);clip: rect(1px, 1px, 1px, 1px);height: 1px;margin: -1px;overflow: hidden;padding: 0;position: absolute;width: 1px;}#sk-336f2484-76cb-4f3a-8166-1cc5a3f642a8 div.sk-estimator {font-family: monospace;background-color: #f0f8ff;border: 1px dotted black;border-radius: 0.25em;box-sizing: border-box;margin-bottom: 0.5em;}#sk-336f2484-76cb-4f3a-8166-1cc5a3f642a8 div.sk-estimator:hover {background-color: #d4ebff;}#sk-336f2484-76cb-4f3a-8166-1cc5a3f642a8 div.sk-parallel-item::after {content: \"\";width: 100%;border-bottom: 1px solid gray;flex-grow: 1;}#sk-336f2484-76cb-4f3a-8166-1cc5a3f642a8 div.sk-label:hover label.sk-toggleable__label {background-color: #d4ebff;}#sk-336f2484-76cb-4f3a-8166-1cc5a3f642a8 div.sk-serial::before {content: \"\";position: absolute;border-left: 1px solid gray;box-sizing: border-box;top: 2em;bottom: 0;left: 50%;}#sk-336f2484-76cb-4f3a-8166-1cc5a3f642a8 div.sk-serial {display: flex;flex-direction: column;align-items: center;background-color: white;padding-right: 0.2em;padding-left: 0.2em;}#sk-336f2484-76cb-4f3a-8166-1cc5a3f642a8 div.sk-item {z-index: 1;}#sk-336f2484-76cb-4f3a-8166-1cc5a3f642a8 div.sk-parallel {display: flex;align-items: stretch;justify-content: center;background-color: white;}#sk-336f2484-76cb-4f3a-8166-1cc5a3f642a8 div.sk-parallel::before {content: \"\";position: absolute;border-left: 1px solid gray;box-sizing: border-box;top: 2em;bottom: 0;left: 50%;}#sk-336f2484-76cb-4f3a-8166-1cc5a3f642a8 div.sk-parallel-item {display: flex;flex-direction: column;position: relative;background-color: white;}#sk-336f2484-76cb-4f3a-8166-1cc5a3f642a8 div.sk-parallel-item:first-child::after {align-self: flex-end;width: 50%;}#sk-336f2484-76cb-4f3a-8166-1cc5a3f642a8 div.sk-parallel-item:last-child::after {align-self: flex-start;width: 50%;}#sk-336f2484-76cb-4f3a-8166-1cc5a3f642a8 div.sk-parallel-item:only-child::after {width: 0;}#sk-336f2484-76cb-4f3a-8166-1cc5a3f642a8 div.sk-dashed-wrapped {border: 1px dashed gray;margin: 0 0.4em 0.5em 0.4em;box-sizing: border-box;padding-bottom: 0.4em;background-color: white;position: relative;}#sk-336f2484-76cb-4f3a-8166-1cc5a3f642a8 div.sk-label label {font-family: monospace;font-weight: bold;background-color: white;display: inline-block;line-height: 1.2em;}#sk-336f2484-76cb-4f3a-8166-1cc5a3f642a8 div.sk-label-container {position: relative;z-index: 2;text-align: center;}#sk-336f2484-76cb-4f3a-8166-1cc5a3f642a8 div.sk-container {/* jupyter's `normalize.less` sets `[hidden] { display: none; }` but bootstrap.min.css set `[hidden] { display: none !important; }` so we also need the `!important` here to be able to override the default hidden behavior on the sphinx rendered scikit-learn.org. See: https://github.com/scikit-learn/scikit-learn/issues/21755 */display: inline-block !important;position: relative;}#sk-336f2484-76cb-4f3a-8166-1cc5a3f642a8 div.sk-text-repr-fallback {display: none;}</style><div id=\"sk-336f2484-76cb-4f3a-8166-1cc5a3f642a8\" class=\"sk-top-container\"><div class=\"sk-text-repr-fallback\"><pre>Pipeline(steps=[(&#x27;onehot&#x27;, OneHotEncoder(sparse=False))])</pre><b>Please rerun this cell to show the HTML repr or trust the notebook.</b></div><div class=\"sk-container\" hidden><div class=\"sk-item sk-dashed-wrapped\"><div class=\"sk-label-container\"><div class=\"sk-label sk-toggleable\"><input class=\"sk-toggleable__control sk-hidden--visually\" id=\"daa3d85d-9715-4f20-a9a4-ea79a5f65cb2\" type=\"checkbox\" ><label for=\"daa3d85d-9715-4f20-a9a4-ea79a5f65cb2\" class=\"sk-toggleable__label sk-toggleable__label-arrow\">Pipeline</label><div class=\"sk-toggleable__content\"><pre>Pipeline(steps=[(&#x27;onehot&#x27;, OneHotEncoder(sparse=False))])</pre></div></div></div><div class=\"sk-serial\"><div class=\"sk-item\"><div class=\"sk-estimator sk-toggleable\"><input class=\"sk-toggleable__control sk-hidden--visually\" id=\"4633a0b0-2bd1-4e90-8f92-30505d648509\" type=\"checkbox\" ><label for=\"4633a0b0-2bd1-4e90-8f92-30505d648509\" class=\"sk-toggleable__label sk-toggleable__label-arrow\">OneHotEncoder</label><div class=\"sk-toggleable__content\"><pre>OneHotEncoder(sparse=False)</pre></div></div></div></div></div></div></div>"
      ],
      "text/plain": [
       "Pipeline(steps=[('onehot', OneHotEncoder(sparse=False))])"
      ]
     },
     "execution_count": 6,
     "metadata": {},
     "output_type": "execute_result"
    }
   ],
   "source": [
    "#from sklearn.pipeline import Pipeline # --> DONE UPFRONT (see top section \"Setting Up the Workspace\")\n",
    "#from sklearn.impute import SimpleImputer # --> DONE UPFRONT (see top section \"Setting Up the Workspace\")\n",
    "#from sklearn.preprocessing import StandardScaler # --> DONE UPFRONT (see top section \"Setting Up the Workspace\")\n",
    "#from sklearn.preprocessing import OneHotEncoder # --> DONE UPFRONT (see top section \"Setting Up the Workspace\")\n",
    "#from sklearn.compose import ColumnTransformer # --> DONE UPFRONT (see top section \"Setting Up the Workspace\")\n",
    "\n",
    "# Preprocessing for numerical data\n",
    "#numerical_transformer = Pipeline(steps=[\n",
    "#    ('imputer', SimpleImputer(strategy='constant')),\n",
    "#    ('scaler', StandardScaler())\n",
    "#])\n",
    "\n",
    "# Preprocessing for categorical data\n",
    "# Raise an error if validation data contains classes that aren't represented in the training data\n",
    "categorical_transformer = Pipeline(steps=[\n",
    "#    ('imputer', SimpleImputer(strategy='most_frequent')),\n",
    "    ('onehot', OneHotEncoder(handle_unknown='error', sparse=False))\n",
    "])\n",
    "    # The Pipeline() function is like a railway track with a list of different stations (steps)\n",
    "    # Each step is a tuple declaring the name of the step and then the function to apply\n",
    "\n",
    "categorical_transformer"
   ]
  },
  {
   "cell_type": "code",
   "execution_count": 7,
   "id": "a1b12e85",
   "metadata": {},
   "outputs": [
    {
     "data": {
      "text/html": [
       "<style>#sk-5f6663ce-7135-4243-b062-8f2edbdab7bd {color: black;background-color: white;}#sk-5f6663ce-7135-4243-b062-8f2edbdab7bd pre{padding: 0;}#sk-5f6663ce-7135-4243-b062-8f2edbdab7bd div.sk-toggleable {background-color: white;}#sk-5f6663ce-7135-4243-b062-8f2edbdab7bd label.sk-toggleable__label {cursor: pointer;display: block;width: 100%;margin-bottom: 0;padding: 0.3em;box-sizing: border-box;text-align: center;}#sk-5f6663ce-7135-4243-b062-8f2edbdab7bd label.sk-toggleable__label-arrow:before {content: \"▸\";float: left;margin-right: 0.25em;color: #696969;}#sk-5f6663ce-7135-4243-b062-8f2edbdab7bd label.sk-toggleable__label-arrow:hover:before {color: black;}#sk-5f6663ce-7135-4243-b062-8f2edbdab7bd div.sk-estimator:hover label.sk-toggleable__label-arrow:before {color: black;}#sk-5f6663ce-7135-4243-b062-8f2edbdab7bd div.sk-toggleable__content {max-height: 0;max-width: 0;overflow: hidden;text-align: left;background-color: #f0f8ff;}#sk-5f6663ce-7135-4243-b062-8f2edbdab7bd div.sk-toggleable__content pre {margin: 0.2em;color: black;border-radius: 0.25em;background-color: #f0f8ff;}#sk-5f6663ce-7135-4243-b062-8f2edbdab7bd input.sk-toggleable__control:checked~div.sk-toggleable__content {max-height: 200px;max-width: 100%;overflow: auto;}#sk-5f6663ce-7135-4243-b062-8f2edbdab7bd input.sk-toggleable__control:checked~label.sk-toggleable__label-arrow:before {content: \"▾\";}#sk-5f6663ce-7135-4243-b062-8f2edbdab7bd div.sk-estimator input.sk-toggleable__control:checked~label.sk-toggleable__label {background-color: #d4ebff;}#sk-5f6663ce-7135-4243-b062-8f2edbdab7bd div.sk-label input.sk-toggleable__control:checked~label.sk-toggleable__label {background-color: #d4ebff;}#sk-5f6663ce-7135-4243-b062-8f2edbdab7bd input.sk-hidden--visually {border: 0;clip: rect(1px 1px 1px 1px);clip: rect(1px, 1px, 1px, 1px);height: 1px;margin: -1px;overflow: hidden;padding: 0;position: absolute;width: 1px;}#sk-5f6663ce-7135-4243-b062-8f2edbdab7bd div.sk-estimator {font-family: monospace;background-color: #f0f8ff;border: 1px dotted black;border-radius: 0.25em;box-sizing: border-box;margin-bottom: 0.5em;}#sk-5f6663ce-7135-4243-b062-8f2edbdab7bd div.sk-estimator:hover {background-color: #d4ebff;}#sk-5f6663ce-7135-4243-b062-8f2edbdab7bd div.sk-parallel-item::after {content: \"\";width: 100%;border-bottom: 1px solid gray;flex-grow: 1;}#sk-5f6663ce-7135-4243-b062-8f2edbdab7bd div.sk-label:hover label.sk-toggleable__label {background-color: #d4ebff;}#sk-5f6663ce-7135-4243-b062-8f2edbdab7bd div.sk-serial::before {content: \"\";position: absolute;border-left: 1px solid gray;box-sizing: border-box;top: 2em;bottom: 0;left: 50%;}#sk-5f6663ce-7135-4243-b062-8f2edbdab7bd div.sk-serial {display: flex;flex-direction: column;align-items: center;background-color: white;padding-right: 0.2em;padding-left: 0.2em;}#sk-5f6663ce-7135-4243-b062-8f2edbdab7bd div.sk-item {z-index: 1;}#sk-5f6663ce-7135-4243-b062-8f2edbdab7bd div.sk-parallel {display: flex;align-items: stretch;justify-content: center;background-color: white;}#sk-5f6663ce-7135-4243-b062-8f2edbdab7bd div.sk-parallel::before {content: \"\";position: absolute;border-left: 1px solid gray;box-sizing: border-box;top: 2em;bottom: 0;left: 50%;}#sk-5f6663ce-7135-4243-b062-8f2edbdab7bd div.sk-parallel-item {display: flex;flex-direction: column;position: relative;background-color: white;}#sk-5f6663ce-7135-4243-b062-8f2edbdab7bd div.sk-parallel-item:first-child::after {align-self: flex-end;width: 50%;}#sk-5f6663ce-7135-4243-b062-8f2edbdab7bd div.sk-parallel-item:last-child::after {align-self: flex-start;width: 50%;}#sk-5f6663ce-7135-4243-b062-8f2edbdab7bd div.sk-parallel-item:only-child::after {width: 0;}#sk-5f6663ce-7135-4243-b062-8f2edbdab7bd div.sk-dashed-wrapped {border: 1px dashed gray;margin: 0 0.4em 0.5em 0.4em;box-sizing: border-box;padding-bottom: 0.4em;background-color: white;position: relative;}#sk-5f6663ce-7135-4243-b062-8f2edbdab7bd div.sk-label label {font-family: monospace;font-weight: bold;background-color: white;display: inline-block;line-height: 1.2em;}#sk-5f6663ce-7135-4243-b062-8f2edbdab7bd div.sk-label-container {position: relative;z-index: 2;text-align: center;}#sk-5f6663ce-7135-4243-b062-8f2edbdab7bd div.sk-container {/* jupyter's `normalize.less` sets `[hidden] { display: none; }` but bootstrap.min.css set `[hidden] { display: none !important; }` so we also need the `!important` here to be able to override the default hidden behavior on the sphinx rendered scikit-learn.org. See: https://github.com/scikit-learn/scikit-learn/issues/21755 */display: inline-block !important;position: relative;}#sk-5f6663ce-7135-4243-b062-8f2edbdab7bd div.sk-text-repr-fallback {display: none;}</style><div id=\"sk-5f6663ce-7135-4243-b062-8f2edbdab7bd\" class=\"sk-top-container\"><div class=\"sk-text-repr-fallback\"><pre>ColumnTransformer(remainder=&#x27;passthrough&#x27;,\n",
       "                  transformers=[(&#x27;cat&#x27;,\n",
       "                                 Pipeline(steps=[(&#x27;onehot&#x27;,\n",
       "                                                  OneHotEncoder(sparse=False))]),\n",
       "                                 [&#x27;Store&#x27;])])</pre><b>Please rerun this cell to show the HTML repr or trust the notebook.</b></div><div class=\"sk-container\" hidden><div class=\"sk-item sk-dashed-wrapped\"><div class=\"sk-label-container\"><div class=\"sk-label sk-toggleable\"><input class=\"sk-toggleable__control sk-hidden--visually\" id=\"9c29d1d1-d999-46c6-9b85-ecec3bb0efb4\" type=\"checkbox\" ><label for=\"9c29d1d1-d999-46c6-9b85-ecec3bb0efb4\" class=\"sk-toggleable__label sk-toggleable__label-arrow\">ColumnTransformer</label><div class=\"sk-toggleable__content\"><pre>ColumnTransformer(remainder=&#x27;passthrough&#x27;,\n",
       "                  transformers=[(&#x27;cat&#x27;,\n",
       "                                 Pipeline(steps=[(&#x27;onehot&#x27;,\n",
       "                                                  OneHotEncoder(sparse=False))]),\n",
       "                                 [&#x27;Store&#x27;])])</pre></div></div></div><div class=\"sk-parallel\"><div class=\"sk-parallel-item\"><div class=\"sk-item\"><div class=\"sk-label-container\"><div class=\"sk-label sk-toggleable\"><input class=\"sk-toggleable__control sk-hidden--visually\" id=\"f70a0112-8ebf-48fe-b820-84eada0e9974\" type=\"checkbox\" ><label for=\"f70a0112-8ebf-48fe-b820-84eada0e9974\" class=\"sk-toggleable__label sk-toggleable__label-arrow\">cat</label><div class=\"sk-toggleable__content\"><pre>[&#x27;Store&#x27;]</pre></div></div></div><div class=\"sk-serial\"><div class=\"sk-item\"><div class=\"sk-serial\"><div class=\"sk-item\"><div class=\"sk-estimator sk-toggleable\"><input class=\"sk-toggleable__control sk-hidden--visually\" id=\"4a3f356b-04eb-4296-914f-9e4edc269c6a\" type=\"checkbox\" ><label for=\"4a3f356b-04eb-4296-914f-9e4edc269c6a\" class=\"sk-toggleable__label sk-toggleable__label-arrow\">OneHotEncoder</label><div class=\"sk-toggleable__content\"><pre>OneHotEncoder(sparse=False)</pre></div></div></div></div></div></div></div></div><div class=\"sk-parallel-item\"><div class=\"sk-item\"><div class=\"sk-label-container\"><div class=\"sk-label sk-toggleable\"><input class=\"sk-toggleable__control sk-hidden--visually\" id=\"41470bf1-0bde-4f50-84c7-e10e0d0725f9\" type=\"checkbox\" ><label for=\"41470bf1-0bde-4f50-84c7-e10e0d0725f9\" class=\"sk-toggleable__label sk-toggleable__label-arrow\">remainder</label><div class=\"sk-toggleable__content\"><pre></pre></div></div></div><div class=\"sk-serial\"><div class=\"sk-item\"><div class=\"sk-estimator sk-toggleable\"><input class=\"sk-toggleable__control sk-hidden--visually\" id=\"f1ca3826-151f-4197-99a0-439e736273ce\" type=\"checkbox\" ><label for=\"f1ca3826-151f-4197-99a0-439e736273ce\" class=\"sk-toggleable__label sk-toggleable__label-arrow\">passthrough</label><div class=\"sk-toggleable__content\"><pre>passthrough</pre></div></div></div></div></div></div></div></div></div></div>"
      ],
      "text/plain": [
       "ColumnTransformer(remainder='passthrough',\n",
       "                  transformers=[('cat',\n",
       "                                 Pipeline(steps=[('onehot',\n",
       "                                                  OneHotEncoder(sparse=False))]),\n",
       "                                 ['Store'])])"
      ]
     },
     "execution_count": 7,
     "metadata": {},
     "output_type": "execute_result"
    }
   ],
   "source": [
    "# Bundle preprocessing for numerical and categorical data\n",
    "FMCG_preprocessor = ColumnTransformer(\n",
    "    transformers=[\n",
    "#        ('num', numerical_transformer, numerical_cols),\n",
    "        ('cat', categorical_transformer, categorical_cols)\n",
    "    ], remainder='passthrough') \n",
    "    # The ColumnTransformer() function is like a railway switch: it tells what to do with the specified trainwagons (data columns).\n",
    "    # The transformers list gives the different branches where columns  can go.\n",
    "    # Each transformer is a tuple declaring the name of the transformer, the transformer to apply (eg. Pipeline defined above), and which columns need to be transformed\n",
    "    # By default the ColumnTransformer() drops every column which is not explicitly specified in the list of transformers. \n",
    "    # With the parameter remainder='passthrough', the columns that you do not mention will not be dropped (and also will not transformed).\n",
    "\n",
    "FMCG_preprocessor"
   ]
  },
  {
   "attachments": {},
   "cell_type": "markdown",
   "id": "9a53815f",
   "metadata": {
    "papermill": {
     "duration": 0.008153,
     "end_time": "2021-11-09T00:06:45.189400",
     "exception": false,
     "start_time": "2021-11-09T00:06:45.181247",
     "status": "completed"
    },
    "tags": []
   },
   "source": [
    "Then, we define a pipeline that uses our preprocessor and a random forest model with the familiar [`RandomForestRegressor`](https://scikit-learn.org/stable/modules/generated/sklearn.ensemble.RandomForestRegressor.html) class to make predictions. \n",
    "\n",
    "While it's _possible_ to do cross-validation without pipelines, it is quite difficult!  Using a pipeline will make the code remarkably straightforward."
   ]
  },
  {
   "cell_type": "code",
   "execution_count": 8,
   "id": "b241356b",
   "metadata": {
    "execution": {
     "iopub.execute_input": "2021-11-09T00:06:45.209617Z",
     "iopub.status.busy": "2021-11-09T00:06:45.208654Z",
     "iopub.status.idle": "2021-11-09T00:06:46.396161Z",
     "shell.execute_reply": "2021-11-09T00:06:46.394879Z"
    },
    "papermill": {
     "duration": 1.198796,
     "end_time": "2021-11-09T00:06:46.396321",
     "exception": false,
     "start_time": "2021-11-09T00:06:45.197525",
     "status": "completed"
    },
    "tags": []
   },
   "outputs": [
    {
     "data": {
      "text/html": [
       "<style>#sk-b6491ba1-64a8-4515-9ffa-3915a2d7e9aa {color: black;background-color: white;}#sk-b6491ba1-64a8-4515-9ffa-3915a2d7e9aa pre{padding: 0;}#sk-b6491ba1-64a8-4515-9ffa-3915a2d7e9aa div.sk-toggleable {background-color: white;}#sk-b6491ba1-64a8-4515-9ffa-3915a2d7e9aa label.sk-toggleable__label {cursor: pointer;display: block;width: 100%;margin-bottom: 0;padding: 0.3em;box-sizing: border-box;text-align: center;}#sk-b6491ba1-64a8-4515-9ffa-3915a2d7e9aa label.sk-toggleable__label-arrow:before {content: \"▸\";float: left;margin-right: 0.25em;color: #696969;}#sk-b6491ba1-64a8-4515-9ffa-3915a2d7e9aa label.sk-toggleable__label-arrow:hover:before {color: black;}#sk-b6491ba1-64a8-4515-9ffa-3915a2d7e9aa div.sk-estimator:hover label.sk-toggleable__label-arrow:before {color: black;}#sk-b6491ba1-64a8-4515-9ffa-3915a2d7e9aa div.sk-toggleable__content {max-height: 0;max-width: 0;overflow: hidden;text-align: left;background-color: #f0f8ff;}#sk-b6491ba1-64a8-4515-9ffa-3915a2d7e9aa div.sk-toggleable__content pre {margin: 0.2em;color: black;border-radius: 0.25em;background-color: #f0f8ff;}#sk-b6491ba1-64a8-4515-9ffa-3915a2d7e9aa input.sk-toggleable__control:checked~div.sk-toggleable__content {max-height: 200px;max-width: 100%;overflow: auto;}#sk-b6491ba1-64a8-4515-9ffa-3915a2d7e9aa input.sk-toggleable__control:checked~label.sk-toggleable__label-arrow:before {content: \"▾\";}#sk-b6491ba1-64a8-4515-9ffa-3915a2d7e9aa div.sk-estimator input.sk-toggleable__control:checked~label.sk-toggleable__label {background-color: #d4ebff;}#sk-b6491ba1-64a8-4515-9ffa-3915a2d7e9aa div.sk-label input.sk-toggleable__control:checked~label.sk-toggleable__label {background-color: #d4ebff;}#sk-b6491ba1-64a8-4515-9ffa-3915a2d7e9aa input.sk-hidden--visually {border: 0;clip: rect(1px 1px 1px 1px);clip: rect(1px, 1px, 1px, 1px);height: 1px;margin: -1px;overflow: hidden;padding: 0;position: absolute;width: 1px;}#sk-b6491ba1-64a8-4515-9ffa-3915a2d7e9aa div.sk-estimator {font-family: monospace;background-color: #f0f8ff;border: 1px dotted black;border-radius: 0.25em;box-sizing: border-box;margin-bottom: 0.5em;}#sk-b6491ba1-64a8-4515-9ffa-3915a2d7e9aa div.sk-estimator:hover {background-color: #d4ebff;}#sk-b6491ba1-64a8-4515-9ffa-3915a2d7e9aa div.sk-parallel-item::after {content: \"\";width: 100%;border-bottom: 1px solid gray;flex-grow: 1;}#sk-b6491ba1-64a8-4515-9ffa-3915a2d7e9aa div.sk-label:hover label.sk-toggleable__label {background-color: #d4ebff;}#sk-b6491ba1-64a8-4515-9ffa-3915a2d7e9aa div.sk-serial::before {content: \"\";position: absolute;border-left: 1px solid gray;box-sizing: border-box;top: 2em;bottom: 0;left: 50%;}#sk-b6491ba1-64a8-4515-9ffa-3915a2d7e9aa div.sk-serial {display: flex;flex-direction: column;align-items: center;background-color: white;padding-right: 0.2em;padding-left: 0.2em;}#sk-b6491ba1-64a8-4515-9ffa-3915a2d7e9aa div.sk-item {z-index: 1;}#sk-b6491ba1-64a8-4515-9ffa-3915a2d7e9aa div.sk-parallel {display: flex;align-items: stretch;justify-content: center;background-color: white;}#sk-b6491ba1-64a8-4515-9ffa-3915a2d7e9aa div.sk-parallel::before {content: \"\";position: absolute;border-left: 1px solid gray;box-sizing: border-box;top: 2em;bottom: 0;left: 50%;}#sk-b6491ba1-64a8-4515-9ffa-3915a2d7e9aa div.sk-parallel-item {display: flex;flex-direction: column;position: relative;background-color: white;}#sk-b6491ba1-64a8-4515-9ffa-3915a2d7e9aa div.sk-parallel-item:first-child::after {align-self: flex-end;width: 50%;}#sk-b6491ba1-64a8-4515-9ffa-3915a2d7e9aa div.sk-parallel-item:last-child::after {align-self: flex-start;width: 50%;}#sk-b6491ba1-64a8-4515-9ffa-3915a2d7e9aa div.sk-parallel-item:only-child::after {width: 0;}#sk-b6491ba1-64a8-4515-9ffa-3915a2d7e9aa div.sk-dashed-wrapped {border: 1px dashed gray;margin: 0 0.4em 0.5em 0.4em;box-sizing: border-box;padding-bottom: 0.4em;background-color: white;position: relative;}#sk-b6491ba1-64a8-4515-9ffa-3915a2d7e9aa div.sk-label label {font-family: monospace;font-weight: bold;background-color: white;display: inline-block;line-height: 1.2em;}#sk-b6491ba1-64a8-4515-9ffa-3915a2d7e9aa div.sk-label-container {position: relative;z-index: 2;text-align: center;}#sk-b6491ba1-64a8-4515-9ffa-3915a2d7e9aa div.sk-container {/* jupyter's `normalize.less` sets `[hidden] { display: none; }` but bootstrap.min.css set `[hidden] { display: none !important; }` so we also need the `!important` here to be able to override the default hidden behavior on the sphinx rendered scikit-learn.org. See: https://github.com/scikit-learn/scikit-learn/issues/21755 */display: inline-block !important;position: relative;}#sk-b6491ba1-64a8-4515-9ffa-3915a2d7e9aa div.sk-text-repr-fallback {display: none;}</style><div id=\"sk-b6491ba1-64a8-4515-9ffa-3915a2d7e9aa\" class=\"sk-top-container\"><div class=\"sk-text-repr-fallback\"><pre>Pipeline(steps=[(&#x27;preprocessor&#x27;,\n",
       "                 ColumnTransformer(remainder=&#x27;passthrough&#x27;,\n",
       "                                   transformers=[(&#x27;cat&#x27;,\n",
       "                                                  Pipeline(steps=[(&#x27;onehot&#x27;,\n",
       "                                                                   OneHotEncoder(sparse=False))]),\n",
       "                                                  [&#x27;Store&#x27;])])),\n",
       "                (&#x27;model&#x27;, RandomForestRegressor(random_state=0))])</pre><b>Please rerun this cell to show the HTML repr or trust the notebook.</b></div><div class=\"sk-container\" hidden><div class=\"sk-item sk-dashed-wrapped\"><div class=\"sk-label-container\"><div class=\"sk-label sk-toggleable\"><input class=\"sk-toggleable__control sk-hidden--visually\" id=\"09e3a458-4bd7-4921-b8f3-9e51a34f5216\" type=\"checkbox\" ><label for=\"09e3a458-4bd7-4921-b8f3-9e51a34f5216\" class=\"sk-toggleable__label sk-toggleable__label-arrow\">Pipeline</label><div class=\"sk-toggleable__content\"><pre>Pipeline(steps=[(&#x27;preprocessor&#x27;,\n",
       "                 ColumnTransformer(remainder=&#x27;passthrough&#x27;,\n",
       "                                   transformers=[(&#x27;cat&#x27;,\n",
       "                                                  Pipeline(steps=[(&#x27;onehot&#x27;,\n",
       "                                                                   OneHotEncoder(sparse=False))]),\n",
       "                                                  [&#x27;Store&#x27;])])),\n",
       "                (&#x27;model&#x27;, RandomForestRegressor(random_state=0))])</pre></div></div></div><div class=\"sk-serial\"><div class=\"sk-item sk-dashed-wrapped\"><div class=\"sk-label-container\"><div class=\"sk-label sk-toggleable\"><input class=\"sk-toggleable__control sk-hidden--visually\" id=\"bc7e99ae-dc00-4c99-8cc2-2852b91b5e2e\" type=\"checkbox\" ><label for=\"bc7e99ae-dc00-4c99-8cc2-2852b91b5e2e\" class=\"sk-toggleable__label sk-toggleable__label-arrow\">preprocessor: ColumnTransformer</label><div class=\"sk-toggleable__content\"><pre>ColumnTransformer(remainder=&#x27;passthrough&#x27;,\n",
       "                  transformers=[(&#x27;cat&#x27;,\n",
       "                                 Pipeline(steps=[(&#x27;onehot&#x27;,\n",
       "                                                  OneHotEncoder(sparse=False))]),\n",
       "                                 [&#x27;Store&#x27;])])</pre></div></div></div><div class=\"sk-parallel\"><div class=\"sk-parallel-item\"><div class=\"sk-item\"><div class=\"sk-label-container\"><div class=\"sk-label sk-toggleable\"><input class=\"sk-toggleable__control sk-hidden--visually\" id=\"e34597d0-7e89-46b3-8f4d-94063f121f67\" type=\"checkbox\" ><label for=\"e34597d0-7e89-46b3-8f4d-94063f121f67\" class=\"sk-toggleable__label sk-toggleable__label-arrow\">cat</label><div class=\"sk-toggleable__content\"><pre>[&#x27;Store&#x27;]</pre></div></div></div><div class=\"sk-serial\"><div class=\"sk-item\"><div class=\"sk-serial\"><div class=\"sk-item\"><div class=\"sk-estimator sk-toggleable\"><input class=\"sk-toggleable__control sk-hidden--visually\" id=\"50dd376f-f593-4dc4-8374-799db7b078ba\" type=\"checkbox\" ><label for=\"50dd376f-f593-4dc4-8374-799db7b078ba\" class=\"sk-toggleable__label sk-toggleable__label-arrow\">OneHotEncoder</label><div class=\"sk-toggleable__content\"><pre>OneHotEncoder(sparse=False)</pre></div></div></div></div></div></div></div></div><div class=\"sk-parallel-item\"><div class=\"sk-item\"><div class=\"sk-label-container\"><div class=\"sk-label sk-toggleable\"><input class=\"sk-toggleable__control sk-hidden--visually\" id=\"c7409529-a62e-4b43-84d7-a0e4391b644f\" type=\"checkbox\" ><label for=\"c7409529-a62e-4b43-84d7-a0e4391b644f\" class=\"sk-toggleable__label sk-toggleable__label-arrow\">remainder</label><div class=\"sk-toggleable__content\"><pre></pre></div></div></div><div class=\"sk-serial\"><div class=\"sk-item\"><div class=\"sk-estimator sk-toggleable\"><input class=\"sk-toggleable__control sk-hidden--visually\" id=\"6d82ce21-df9e-45d4-a27e-d520d5770bbd\" type=\"checkbox\" ><label for=\"6d82ce21-df9e-45d4-a27e-d520d5770bbd\" class=\"sk-toggleable__label sk-toggleable__label-arrow\">passthrough</label><div class=\"sk-toggleable__content\"><pre>passthrough</pre></div></div></div></div></div></div></div></div><div class=\"sk-item\"><div class=\"sk-estimator sk-toggleable\"><input class=\"sk-toggleable__control sk-hidden--visually\" id=\"aaac4baf-a389-4415-9fcd-bacc9ebd633c\" type=\"checkbox\" ><label for=\"aaac4baf-a389-4415-9fcd-bacc9ebd633c\" class=\"sk-toggleable__label sk-toggleable__label-arrow\">RandomForestRegressor</label><div class=\"sk-toggleable__content\"><pre>RandomForestRegressor(random_state=0)</pre></div></div></div></div></div></div></div>"
      ],
      "text/plain": [
       "Pipeline(steps=[('preprocessor',\n",
       "                 ColumnTransformer(remainder='passthrough',\n",
       "                                   transformers=[('cat',\n",
       "                                                  Pipeline(steps=[('onehot',\n",
       "                                                                   OneHotEncoder(sparse=False))]),\n",
       "                                                  ['Store'])])),\n",
       "                ('model', RandomForestRegressor(random_state=0))])"
      ]
     },
     "execution_count": 8,
     "metadata": {},
     "output_type": "execute_result"
    }
   ],
   "source": [
    "#from sklearn.ensemble import RandomForestRegressor  # --> DONE UPFRONT (see top section \"Setting Up the Workspace\")\n",
    "#from sklearn.pipeline import Pipeline  # --> DONE UPFRONT (see top section \"Setting Up the Workspace\")\n",
    "#from sklearn.impute import SimpleImputer  # --> DONE UPFRONT (see top section \"Setting Up the Workspace\")\n",
    "\n",
    "FMCG_model = RandomForestRegressor(n_estimators=100, random_state=0)\n",
    "\n",
    "FMCG_pipeline = Pipeline(steps=[('preprocessor', FMCG_preprocessor),\n",
    "                              ('model', FMCG_model)\n",
    "                             ])\n",
    "                            # Here the Pipeline() function is again like a railway track, with a higer level list of different stations (steps)\n",
    "                            # Each step is a tuple declaring the name of the step and then the function to apply\n",
    "FMCG_pipeline"
   ]
  },
  {
   "cell_type": "markdown",
   "id": "55872ace",
   "metadata": {
    "papermill": {
     "duration": 0.00797,
     "end_time": "2021-11-09T00:06:46.412511",
     "exception": false,
     "start_time": "2021-11-09T00:06:46.404541",
     "status": "completed"
    },
    "tags": []
   },
   "source": [
    "We obtain the cross-validation scores with the [`cross_val_score()`](https://scikit-learn.org/stable/modules/generated/sklearn.model_selection.cross_val_score.html) function from scikit-learn.  We set the number of folds with the `cv` parameter."
   ]
  },
  {
   "cell_type": "code",
   "execution_count": 9,
   "id": "a112601b",
   "metadata": {
    "execution": {
     "iopub.execute_input": "2021-11-09T00:06:46.436420Z",
     "iopub.status.busy": "2021-11-09T00:06:46.435406Z",
     "iopub.status.idle": "2021-11-09T00:06:54.203934Z",
     "shell.execute_reply": "2021-11-09T00:06:54.204451Z"
    },
    "papermill": {
     "duration": 7.783857,
     "end_time": "2021-11-09T00:06:54.204620",
     "exception": false,
     "start_time": "2021-11-09T00:06:46.420763",
     "status": "completed"
    },
    "tags": []
   },
   "outputs": [
    {
     "name": "stderr",
     "output_type": "stream",
     "text": [
      "[Parallel(n_jobs=1)]: Using backend SequentialBackend with 1 concurrent workers.\n"
     ]
    },
    {
     "name": "stdout",
     "output_type": "stream",
     "text": [
      "[CV] START .....................................................................\n",
      "[CV] END .......................... score: (test=-190751.327) total time=   3.1s\n",
      "[CV] START .....................................................................\n"
     ]
    },
    {
     "name": "stderr",
     "output_type": "stream",
     "text": [
      "[Parallel(n_jobs=1)]: Done   1 out of   1 | elapsed:    3.1s remaining:    0.0s\n"
     ]
    },
    {
     "name": "stdout",
     "output_type": "stream",
     "text": [
      "[CV] END .......................... score: (test=-147265.532) total time=   2.9s\n",
      "[CV] START .....................................................................\n"
     ]
    },
    {
     "name": "stderr",
     "output_type": "stream",
     "text": [
      "[Parallel(n_jobs=1)]: Done   2 out of   2 | elapsed:    6.2s remaining:    0.0s\n"
     ]
    },
    {
     "name": "stdout",
     "output_type": "stream",
     "text": [
      "[CV] END ........................... score: (test=-59617.094) total time=   3.2s\n",
      "[CV] START .....................................................................\n"
     ]
    },
    {
     "name": "stderr",
     "output_type": "stream",
     "text": [
      "[Parallel(n_jobs=1)]: Done   3 out of   3 | elapsed:    9.5s remaining:    0.0s\n"
     ]
    },
    {
     "name": "stdout",
     "output_type": "stream",
     "text": [
      "[CV] END .......................... score: (test=-117766.673) total time=   3.1s\n",
      "[CV] START .....................................................................\n"
     ]
    },
    {
     "name": "stderr",
     "output_type": "stream",
     "text": [
      "[Parallel(n_jobs=1)]: Done   4 out of   4 | elapsed:   12.7s remaining:    0.0s\n"
     ]
    },
    {
     "name": "stdout",
     "output_type": "stream",
     "text": [
      "[CV] END ........................... score: (test=-90743.751) total time=   3.0s\n",
      "MAE scores:\n",
      " [190751.32742448 147265.53192168  59617.09441041 117766.67272898\n",
      "  90743.75075245]\n"
     ]
    },
    {
     "name": "stderr",
     "output_type": "stream",
     "text": [
      "[Parallel(n_jobs=1)]: Done   5 out of   5 | elapsed:   15.8s remaining:    0.0s\n",
      "[Parallel(n_jobs=1)]: Done   5 out of   5 | elapsed:   15.8s finished\n"
     ]
    }
   ],
   "source": [
    "#from sklearn.model_selection import cross_val_score  # --> DONE UPFRONT (see top section \"Setting Up the Workspace\")\n",
    "\n",
    "# Multiply by -1 since sklearn calculates *negative* MAE\n",
    "scores = -1 * cross_val_score(FMCG_pipeline, X.drop('Date',axis=1), y,\n",
    "                              cv=5, verbose = 10,\n",
    "                              scoring='neg_mean_absolute_error')\n",
    "\n",
    "print(\"MAE scores:\\n\", scores)"
   ]
  },
  {
   "attachments": {},
   "cell_type": "markdown",
   "id": "f47a01bc",
   "metadata": {
    "papermill": {
     "duration": 0.008285,
     "end_time": "2021-11-09T00:06:54.222174",
     "exception": false,
     "start_time": "2021-11-09T00:06:54.213889",
     "status": "completed"
    },
    "tags": []
   },
   "source": [
    "The `scoring` parameter chooses a measure of model quality to report: in this case, we chose negative mean absolute error (MAE).  The docs for scikit-learn show a [list of options](http://scikit-learn.org/stable/modules/model_evaluation.html).  \n",
    "\n",
    "It is a little surprising that we specify *negative* MAE. Scikit-learn cross_val_score() has a convention where all metrics are defined so a high number is better.  Using negatives here allows them to be consistent with that convention, though negative MAE is almost unheard of elsewhere. \n",
    "\n",
    "We typically want a single measure of model quality to compare alternative models.  So we take the average across experiments."
   ]
  },
  {
   "cell_type": "code",
   "execution_count": 10,
   "id": "375967d4",
   "metadata": {
    "execution": {
     "iopub.execute_input": "2021-11-09T00:06:54.242987Z",
     "iopub.status.busy": "2021-11-09T00:06:54.242058Z",
     "iopub.status.idle": "2021-11-09T00:06:54.247807Z",
     "shell.execute_reply": "2021-11-09T00:06:54.247285Z"
    },
    "papermill": {
     "duration": 0.017239,
     "end_time": "2021-11-09T00:06:54.247951",
     "exception": false,
     "start_time": "2021-11-09T00:06:54.230712",
     "status": "completed"
    },
    "tags": []
   },
   "outputs": [
    {
     "name": "stdout",
     "output_type": "stream",
     "text": [
      "Average MAE score (across experiments):\n",
      "121228.87544759906\n"
     ]
    }
   ],
   "source": [
    "print(\"Average MAE score (across experiments):\")\n",
    "print(scores.mean())"
   ]
  },
  {
   "attachments": {},
   "cell_type": "markdown",
   "id": "b00f94a4",
   "metadata": {
    "papermill": {
     "duration": 0.008655,
     "end_time": "2021-11-09T00:06:54.265743",
     "exception": false,
     "start_time": "2021-11-09T00:06:54.257088",
     "status": "completed"
    },
    "tags": []
   },
   "source": [
    "## Take-away: Cross Validation\n",
    "\n",
    "*Using cross-validation yields a much better measure of model quality, with the added benefit of cleaning up our code: note that we no longer need to keep track of separate training and validation sets.  So, especially for small datasets, it's a good improvement!*\n"
   ]
  }
 ],
 "metadata": {
  "kernelspec": {
   "display_name": "base",
   "language": "python",
   "name": "python3"
  },
  "language_info": {
   "codemirror_mode": {
    "name": "ipython",
    "version": 3
   },
   "file_extension": ".py",
   "mimetype": "text/x-python",
   "name": "python",
   "nbconvert_exporter": "python",
   "pygments_lexer": "ipython3",
   "version": "3.8.8"
  },
  "papermill": {
   "default_parameters": {},
   "duration": 9.112571,
   "end_time": "2021-11-09T00:07:27.332055",
   "environment_variables": {},
   "exception": null,
   "input_path": "__notebook__.ipynb",
   "output_path": "__notebook__.ipynb",
   "parameters": {},
   "start_time": "2021-11-09T00:07:18.219484",
   "version": "2.3.3"
  },
  "vscode": {
   "interpreter": {
    "hash": "dc5f856df681cf36bc5efddcb2a84a2cd35056a6cd8ebd45133cbd641251ee46"
   }
  }
 },
 "nbformat": 4,
 "nbformat_minor": 5
}
